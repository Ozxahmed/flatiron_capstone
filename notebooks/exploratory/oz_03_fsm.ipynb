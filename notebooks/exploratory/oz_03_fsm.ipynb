{
 "cells": [
  {
   "cell_type": "code",
   "execution_count": 152,
   "metadata": {},
   "outputs": [],
   "source": [
    "import pandas as pd\n",
    "import matplotlib.pyplot as plt\n",
    "import seaborn as sns\n",
    "sns.set_style('darkgrid')\n",
    "import numpy as np\n",
    "from sklearn.metrics import r2_score,mean_squared_error,mean_absolute_error\n",
    "\n",
    "from pmdarima.arima import auto_arima\n",
    "from statsmodels.tsa.stattools import adfuller\n",
    "from statsmodels.graphics.tsaplots import plot_acf, plot_pacf\n",
    "from pandas.tseries.offsets import DateOffset\n",
    "\n",
    "\n",
    "#functions:\n",
    "\n",
    "def i_n(series):\n",
    "    i = 0\n",
    "    dftest = adfuller(np.diff(series,i), autolag='AIC')\n",
    "    test_stat = dftest[0]\n",
    "    critical_val_5 = dftest[4]['5%']\n",
    "    while test_stat > critical_val_5:\n",
    "        i+=1\n",
    "        dftest = adfuller(np.diff(series,i), autolag='AIC')\n",
    "        test_stat = dftest[0]\n",
    "        critical_val_5 = dftest[4]['5%']\n",
    "    return(i)"
   ]
  },
  {
   "cell_type": "code",
   "execution_count": 153,
   "metadata": {},
   "outputs": [
    {
     "data": {
      "text/html": [
       "<div>\n",
       "<style scoped>\n",
       "    .dataframe tbody tr th:only-of-type {\n",
       "        vertical-align: middle;\n",
       "    }\n",
       "\n",
       "    .dataframe tbody tr th {\n",
       "        vertical-align: top;\n",
       "    }\n",
       "\n",
       "    .dataframe thead th {\n",
       "        text-align: right;\n",
       "    }\n",
       "</style>\n",
       "<table border=\"1\" class=\"dataframe\">\n",
       "  <thead>\n",
       "    <tr style=\"text-align: right;\">\n",
       "      <th></th>\n",
       "      <th>PLANT_ID</th>\n",
       "      <th>SOURCE_KEY</th>\n",
       "      <th>DC_POWER</th>\n",
       "      <th>AC_POWER</th>\n",
       "      <th>DAILY_YIELD</th>\n",
       "      <th>TOTAL_YIELD</th>\n",
       "    </tr>\n",
       "    <tr>\n",
       "      <th>DATE_TIME</th>\n",
       "      <th></th>\n",
       "      <th></th>\n",
       "      <th></th>\n",
       "      <th></th>\n",
       "      <th></th>\n",
       "      <th></th>\n",
       "    </tr>\n",
       "  </thead>\n",
       "  <tbody>\n",
       "    <tr>\n",
       "      <th>2020-05-15</th>\n",
       "      <td>4135001</td>\n",
       "      <td>1BY6WEcLGh8j5v7</td>\n",
       "      <td>0.0</td>\n",
       "      <td>0.0</td>\n",
       "      <td>0.0</td>\n",
       "      <td>6259559.0</td>\n",
       "    </tr>\n",
       "    <tr>\n",
       "      <th>2020-05-15</th>\n",
       "      <td>4135001</td>\n",
       "      <td>1IF53ai7Xc0U56Y</td>\n",
       "      <td>0.0</td>\n",
       "      <td>0.0</td>\n",
       "      <td>0.0</td>\n",
       "      <td>6183645.0</td>\n",
       "    </tr>\n",
       "    <tr>\n",
       "      <th>2020-05-15</th>\n",
       "      <td>4135001</td>\n",
       "      <td>3PZuoBAID5Wc2HD</td>\n",
       "      <td>0.0</td>\n",
       "      <td>0.0</td>\n",
       "      <td>0.0</td>\n",
       "      <td>6987759.0</td>\n",
       "    </tr>\n",
       "    <tr>\n",
       "      <th>2020-05-15</th>\n",
       "      <td>4135001</td>\n",
       "      <td>7JYdWkrLSPkdwr4</td>\n",
       "      <td>0.0</td>\n",
       "      <td>0.0</td>\n",
       "      <td>0.0</td>\n",
       "      <td>7602960.0</td>\n",
       "    </tr>\n",
       "    <tr>\n",
       "      <th>2020-05-15</th>\n",
       "      <td>4135001</td>\n",
       "      <td>McdE0feGgRqW7Ca</td>\n",
       "      <td>0.0</td>\n",
       "      <td>0.0</td>\n",
       "      <td>0.0</td>\n",
       "      <td>7158964.0</td>\n",
       "    </tr>\n",
       "  </tbody>\n",
       "</table>\n",
       "</div>"
      ],
      "text/plain": [
       "            PLANT_ID       SOURCE_KEY  DC_POWER  AC_POWER  DAILY_YIELD  \\\n",
       "DATE_TIME                                                                \n",
       "2020-05-15   4135001  1BY6WEcLGh8j5v7       0.0       0.0          0.0   \n",
       "2020-05-15   4135001  1IF53ai7Xc0U56Y       0.0       0.0          0.0   \n",
       "2020-05-15   4135001  3PZuoBAID5Wc2HD       0.0       0.0          0.0   \n",
       "2020-05-15   4135001  7JYdWkrLSPkdwr4       0.0       0.0          0.0   \n",
       "2020-05-15   4135001  McdE0feGgRqW7Ca       0.0       0.0          0.0   \n",
       "\n",
       "            TOTAL_YIELD  \n",
       "DATE_TIME                \n",
       "2020-05-15    6259559.0  \n",
       "2020-05-15    6183645.0  \n",
       "2020-05-15    6987759.0  \n",
       "2020-05-15    7602960.0  \n",
       "2020-05-15    7158964.0  "
      ]
     },
     "execution_count": 153,
     "metadata": {},
     "output_type": "execute_result"
    }
   ],
   "source": [
    "p1_gen = pd.read_csv('../../data/p1_gen_dtindex.csv', index_col=0, parse_dates=True)\n",
    "p1_gen.head()"
   ]
  },
  {
   "cell_type": "code",
   "execution_count": 154,
   "metadata": {},
   "outputs": [
    {
     "name": "stdout",
     "output_type": "stream",
     "text": [
      "<class 'pandas.core.indexes.datetimes.DatetimeIndex'>\n"
     ]
    },
    {
     "data": {
      "text/plain": [
       "DatetimeIndex(['2020-05-15 00:00:00', '2020-05-15 00:00:00',\n",
       "               '2020-05-15 00:00:00', '2020-05-15 00:00:00',\n",
       "               '2020-05-15 00:00:00', '2020-05-15 00:00:00',\n",
       "               '2020-05-15 00:00:00', '2020-05-15 00:00:00',\n",
       "               '2020-05-15 00:00:00', '2020-05-15 00:00:00',\n",
       "               ...\n",
       "               '2020-06-17 23:45:00', '2020-06-17 23:45:00',\n",
       "               '2020-06-17 23:45:00', '2020-06-17 23:45:00',\n",
       "               '2020-06-17 23:45:00', '2020-06-17 23:45:00',\n",
       "               '2020-06-17 23:45:00', '2020-06-17 23:45:00',\n",
       "               '2020-06-17 23:45:00', '2020-06-17 23:45:00'],\n",
       "              dtype='datetime64[ns]', name='DATE_TIME', length=68778, freq=None)"
      ]
     },
     "execution_count": 154,
     "metadata": {},
     "output_type": "execute_result"
    }
   ],
   "source": [
    "# the index has been preserved as a date time object, along with time stamps.\n",
    "\n",
    "print(type(p1_gen.index))\n",
    "p1_gen.index"
   ]
  },
  {
   "cell_type": "markdown",
   "metadata": {},
   "source": [
    "---\n",
    "\n",
    "# FSM"
   ]
  },
  {
   "cell_type": "markdown",
   "metadata": {},
   "source": [
    "For now, I'm taking the last 4 days of our data, per the notebook online.\n",
    "\n",
    "After the FSM, I'm going to explore the dates to get a better understanding of what is happening."
   ]
  },
  {
   "cell_type": "code",
   "execution_count": 155,
   "metadata": {},
   "outputs": [],
   "source": [
    "# making copy of og df\n",
    "\n",
    "pred_gen_og = p1_gen.copy()"
   ]
  },
  {
   "cell_type": "code",
   "execution_count": 156,
   "metadata": {},
   "outputs": [
    {
     "data": {
      "text/html": [
       "<div>\n",
       "<style scoped>\n",
       "    .dataframe tbody tr th:only-of-type {\n",
       "        vertical-align: middle;\n",
       "    }\n",
       "\n",
       "    .dataframe tbody tr th {\n",
       "        vertical-align: top;\n",
       "    }\n",
       "\n",
       "    .dataframe thead th {\n",
       "        text-align: right;\n",
       "    }\n",
       "</style>\n",
       "<table border=\"1\" class=\"dataframe\">\n",
       "  <thead>\n",
       "    <tr style=\"text-align: right;\">\n",
       "      <th></th>\n",
       "      <th>PLANT_ID</th>\n",
       "      <th>DC_POWER</th>\n",
       "      <th>AC_POWER</th>\n",
       "      <th>DAILY_YIELD</th>\n",
       "      <th>TOTAL_YIELD</th>\n",
       "    </tr>\n",
       "    <tr>\n",
       "      <th>DATE_TIME</th>\n",
       "      <th></th>\n",
       "      <th></th>\n",
       "      <th></th>\n",
       "      <th></th>\n",
       "      <th></th>\n",
       "    </tr>\n",
       "  </thead>\n",
       "  <tbody>\n",
       "    <tr>\n",
       "      <th>2020-06-01 00:00:00</th>\n",
       "      <td>90970022</td>\n",
       "      <td>0.0</td>\n",
       "      <td>0.0</td>\n",
       "      <td>5407.250000</td>\n",
       "      <td>153519480.0</td>\n",
       "    </tr>\n",
       "    <tr>\n",
       "      <th>2020-06-01 00:15:00</th>\n",
       "      <td>90970022</td>\n",
       "      <td>0.0</td>\n",
       "      <td>0.0</td>\n",
       "      <td>0.000000</td>\n",
       "      <td>153519480.0</td>\n",
       "    </tr>\n",
       "    <tr>\n",
       "      <th>2020-06-01 00:30:00</th>\n",
       "      <td>90970022</td>\n",
       "      <td>0.0</td>\n",
       "      <td>0.0</td>\n",
       "      <td>0.000000</td>\n",
       "      <td>153519480.0</td>\n",
       "    </tr>\n",
       "    <tr>\n",
       "      <th>2020-06-01 00:45:00</th>\n",
       "      <td>90970022</td>\n",
       "      <td>0.0</td>\n",
       "      <td>0.0</td>\n",
       "      <td>0.000000</td>\n",
       "      <td>153519480.0</td>\n",
       "    </tr>\n",
       "    <tr>\n",
       "      <th>2020-06-01 01:00:00</th>\n",
       "      <td>90970022</td>\n",
       "      <td>0.0</td>\n",
       "      <td>0.0</td>\n",
       "      <td>0.000000</td>\n",
       "      <td>153519480.0</td>\n",
       "    </tr>\n",
       "    <tr>\n",
       "      <th>...</th>\n",
       "      <td>...</td>\n",
       "      <td>...</td>\n",
       "      <td>...</td>\n",
       "      <td>...</td>\n",
       "      <td>...</td>\n",
       "    </tr>\n",
       "    <tr>\n",
       "      <th>2020-06-17 22:45:00</th>\n",
       "      <td>90970022</td>\n",
       "      <td>0.0</td>\n",
       "      <td>0.0</td>\n",
       "      <td>129571.000000</td>\n",
       "      <td>156142755.0</td>\n",
       "    </tr>\n",
       "    <tr>\n",
       "      <th>2020-06-17 23:00:00</th>\n",
       "      <td>90970022</td>\n",
       "      <td>0.0</td>\n",
       "      <td>0.0</td>\n",
       "      <td>129571.000000</td>\n",
       "      <td>156142755.0</td>\n",
       "    </tr>\n",
       "    <tr>\n",
       "      <th>2020-06-17 23:15:00</th>\n",
       "      <td>90970022</td>\n",
       "      <td>0.0</td>\n",
       "      <td>0.0</td>\n",
       "      <td>129571.000000</td>\n",
       "      <td>156142755.0</td>\n",
       "    </tr>\n",
       "    <tr>\n",
       "      <th>2020-06-17 23:30:00</th>\n",
       "      <td>90970022</td>\n",
       "      <td>0.0</td>\n",
       "      <td>0.0</td>\n",
       "      <td>129571.000000</td>\n",
       "      <td>156142755.0</td>\n",
       "    </tr>\n",
       "    <tr>\n",
       "      <th>2020-06-17 23:45:00</th>\n",
       "      <td>90970022</td>\n",
       "      <td>0.0</td>\n",
       "      <td>0.0</td>\n",
       "      <td>127962.767857</td>\n",
       "      <td>156142755.0</td>\n",
       "    </tr>\n",
       "  </tbody>\n",
       "</table>\n",
       "<p>1630 rows × 5 columns</p>\n",
       "</div>"
      ],
      "text/plain": [
       "                     PLANT_ID  DC_POWER  AC_POWER    DAILY_YIELD  TOTAL_YIELD\n",
       "DATE_TIME                                                                    \n",
       "2020-06-01 00:00:00  90970022       0.0       0.0    5407.250000  153519480.0\n",
       "2020-06-01 00:15:00  90970022       0.0       0.0       0.000000  153519480.0\n",
       "2020-06-01 00:30:00  90970022       0.0       0.0       0.000000  153519480.0\n",
       "2020-06-01 00:45:00  90970022       0.0       0.0       0.000000  153519480.0\n",
       "2020-06-01 01:00:00  90970022       0.0       0.0       0.000000  153519480.0\n",
       "...                       ...       ...       ...            ...          ...\n",
       "2020-06-17 22:45:00  90970022       0.0       0.0  129571.000000  156142755.0\n",
       "2020-06-17 23:00:00  90970022       0.0       0.0  129571.000000  156142755.0\n",
       "2020-06-17 23:15:00  90970022       0.0       0.0  129571.000000  156142755.0\n",
       "2020-06-17 23:30:00  90970022       0.0       0.0  129571.000000  156142755.0\n",
       "2020-06-17 23:45:00  90970022       0.0       0.0  127962.767857  156142755.0\n",
       "\n",
       "[1630 rows x 5 columns]"
      ]
     },
     "execution_count": 156,
     "metadata": {},
     "output_type": "execute_result"
    }
   ],
   "source": [
    "# Seeing the month of june here.\n",
    "\n",
    "pred_gen_jun = pred_gen_og[(pred_gen_og.index.month == 6)]\n",
    "pred_gen_jun = pred_gen_jun.groupby('DATE_TIME').sum()\n",
    "pred_gen_jun\n",
    "\n",
    "# per the plot below, there is a drop off in the beginning of the month."
   ]
  },
  {
   "cell_type": "code",
   "execution_count": 157,
   "metadata": {},
   "outputs": [
    {
     "data": {
      "image/png": "[encoded data removed]",
      "text/plain": [
       "<Figure size 864x288 with 1 Axes>"
      ]
     },
     "metadata": {},
     "output_type": "display_data"
    }
   ],
   "source": [
    "plt.subplots(figsize = (12,4))\n",
    "plt.plot(pred_gen.DAILY_YIELD)\n",
    "plt.title('jun 2020, cumulative');"
   ]
  },
  {
   "cell_type": "code",
   "execution_count": 158,
   "metadata": {},
   "outputs": [
    {
     "data": {
      "text/html": [
       "<div>\n",
       "<style scoped>\n",
       "    .dataframe tbody tr th:only-of-type {\n",
       "        vertical-align: middle;\n",
       "    }\n",
       "\n",
       "    .dataframe tbody tr th {\n",
       "        vertical-align: top;\n",
       "    }\n",
       "\n",
       "    .dataframe thead th {\n",
       "        text-align: right;\n",
       "    }\n",
       "</style>\n",
       "<table border=\"1\" class=\"dataframe\">\n",
       "  <thead>\n",
       "    <tr style=\"text-align: right;\">\n",
       "      <th></th>\n",
       "      <th>DAILY_YIELD</th>\n",
       "    </tr>\n",
       "    <tr>\n",
       "      <th>DATE_TIME</th>\n",
       "      <th></th>\n",
       "    </tr>\n",
       "  </thead>\n",
       "  <tbody>\n",
       "    <tr>\n",
       "      <th>2020-06-13 00:00:00</th>\n",
       "      <td>5683.214286</td>\n",
       "    </tr>\n",
       "    <tr>\n",
       "      <th>2020-06-13 00:15:00</th>\n",
       "      <td>0.000000</td>\n",
       "    </tr>\n",
       "    <tr>\n",
       "      <th>2020-06-13 00:30:00</th>\n",
       "      <td>0.000000</td>\n",
       "    </tr>\n",
       "    <tr>\n",
       "      <th>2020-06-13 00:45:00</th>\n",
       "      <td>0.000000</td>\n",
       "    </tr>\n",
       "    <tr>\n",
       "      <th>2020-06-13 01:00:00</th>\n",
       "      <td>0.000000</td>\n",
       "    </tr>\n",
       "    <tr>\n",
       "      <th>...</th>\n",
       "      <td>...</td>\n",
       "    </tr>\n",
       "    <tr>\n",
       "      <th>2020-06-17 22:45:00</th>\n",
       "      <td>129571.000000</td>\n",
       "    </tr>\n",
       "    <tr>\n",
       "      <th>2020-06-17 23:00:00</th>\n",
       "      <td>129571.000000</td>\n",
       "    </tr>\n",
       "    <tr>\n",
       "      <th>2020-06-17 23:15:00</th>\n",
       "      <td>129571.000000</td>\n",
       "    </tr>\n",
       "    <tr>\n",
       "      <th>2020-06-17 23:30:00</th>\n",
       "      <td>129571.000000</td>\n",
       "    </tr>\n",
       "    <tr>\n",
       "      <th>2020-06-17 23:45:00</th>\n",
       "      <td>127962.767857</td>\n",
       "    </tr>\n",
       "  </tbody>\n",
       "</table>\n",
       "<p>478 rows × 1 columns</p>\n",
       "</div>"
      ],
      "text/plain": [
       "                       DAILY_YIELD\n",
       "DATE_TIME                         \n",
       "2020-06-13 00:00:00    5683.214286\n",
       "2020-06-13 00:15:00       0.000000\n",
       "2020-06-13 00:30:00       0.000000\n",
       "2020-06-13 00:45:00       0.000000\n",
       "2020-06-13 01:00:00       0.000000\n",
       "...                            ...\n",
       "2020-06-17 22:45:00  129571.000000\n",
       "2020-06-17 23:00:00  129571.000000\n",
       "2020-06-17 23:15:00  129571.000000\n",
       "2020-06-17 23:30:00  129571.000000\n",
       "2020-06-17 23:45:00  127962.767857\n",
       "\n",
       "[478 rows x 1 columns]"
      ]
     },
     "execution_count": 158,
     "metadata": {},
     "output_type": "execute_result"
    }
   ],
   "source": [
    "# data from 6/13 and on\n",
    "\n",
    "pred_gen = pred_gen_jun[pred_gen_jun.index >= '2020-06-13 00:00:00'][['DAILY_YIELD']]\n",
    "# Note: df['col'] returns a series. And, you can use the to_frame method to convert that series into a dataframe. Or use the double brackets, [[]].\n",
    "\n",
    "pred_gen"
   ]
  },
  {
   "cell_type": "code",
   "execution_count": 66,
   "metadata": {},
   "outputs": [
    {
     "data": {
      "text/plain": [
       "(478, 1)"
      ]
     },
     "execution_count": 66,
     "metadata": {},
     "output_type": "execute_result"
    }
   ],
   "source": [
    "pred_gen.shape"
   ]
  },
  {
   "cell_type": "code",
   "execution_count": 67,
   "metadata": {},
   "outputs": [
    {
     "data": {
      "image/png": "[encoded data removed]",
      "text/plain": [
       "<Figure size 432x288 with 1 Axes>"
      ]
     },
     "metadata": {
      "needs_background": "light"
     },
     "output_type": "display_data"
    }
   ],
   "source": [
    "plt.plot(pred_gen)\n",
    "plt.title('DAILY YIELD \\n 6/13/2020 - 6/17/2020');"
   ]
  },
  {
   "cell_type": "code",
   "execution_count": 74,
   "metadata": {},
   "outputs": [
    {
     "name": "stdout",
     "output_type": "stream",
     "text": [
      "96\n",
      "96\n",
      "96\n",
      "96\n",
      "94\n"
     ]
    }
   ],
   "source": [
    "# checking number of records per day (for seasonality (m) within ARIMA):\n",
    "\n",
    "print(len(pred_gen[pred_gen.index.day == 13]))\n",
    "print(len(pred_gen[pred_gen.index.day == 14]))\n",
    "print(len(pred_gen[pred_gen.index.day == 15]))\n",
    "print(len(pred_gen[pred_gen.index.day == 16]))\n",
    "print(len(pred_gen[pred_gen.index.day == 17]))"
   ]
  },
  {
   "cell_type": "markdown",
   "metadata": {},
   "source": [
    "## Dickey-Fuller Test"
   ]
  },
  {
   "cell_type": "code",
   "execution_count": 70,
   "metadata": {},
   "outputs": [
    {
     "name": "stdout",
     "output_type": "stream",
     "text": [
      "Augmented Dickey-Fuller Test:\n",
      "ADF Test Statistic : -2.6038808334484527\n",
      "p-value : 0.09219782793309467\n",
      "#Lags Used : 1\n",
      "Number of Observations Used : 476\n",
      "weak evidence against null hypothesis, time series has a unit root, indicating it is non-stationary \n"
     ]
    }
   ],
   "source": [
    "result = adfuller(pred_gen['DAILY_YIELD'])\n",
    "print('Augmented Dickey-Fuller Test:')\n",
    "labels = ['ADF Test Statistic','p-value','#Lags Used','Number of Observations Used']\n",
    "\n",
    "for value,label in zip(result,labels):\n",
    "    print(label+' : '+str(value) )\n",
    "    \n",
    "if result[1] <= 0.05:\n",
    "    print(\"strong evidence against the null hypothesis, reject the null hypothesis. Data has no unit root and is stationary\")\n",
    "else:\n",
    "    print(\"weak evidence against null hypothesis, time series has a unit root, indicating it is non-stationary \")"
   ]
  },
  {
   "cell_type": "markdown",
   "metadata": {},
   "source": [
    "## Test-Train Split"
   ]
  },
  {
   "cell_type": "code",
   "execution_count": 150,
   "metadata": {},
   "outputs": [
    {
     "name": "stdout",
     "output_type": "stream",
     "text": [
      "(382, 1) (96, 1)\n"
     ]
    },
    {
     "data": {
      "image/png": "[encoded data removed]",
      "text/plain": [
       "<Figure size 1080x360 with 1 Axes>"
      ]
     },
     "metadata": {},
     "output_type": "display_data"
    }
   ],
   "source": [
    "df = pred_gen\n",
    "eotri_percent = .8\n",
    "\n",
    "eotri = round(df.shape[0] * eotri_percent)\n",
    "\n",
    "train = df[:eotri]\n",
    "test = df[eotri:]\n",
    "\n",
    "print(train.shape, test.shape)\n",
    "\n",
    "fig,ax = plt.subplots(figsize=(15,5))\n",
    "ax.plot(train, label='Train Daily_Yield', color='navy')\n",
    "ax.plot(test, label='Test Daily_Yield', color='darkorange')\n",
    "ax.set_title('Last 5 days of daily yield \\n train = 4 days \\n test = 1 day', fontsize=17)\n",
    "ax.legend(loc='upper left')\n",
    "plt.show()"
   ]
  },
  {
   "cell_type": "code",
   "execution_count": 89,
   "metadata": {},
   "outputs": [
    {
     "data": {
      "text/html": [
       "<div>\n",
       "<style scoped>\n",
       "    .dataframe tbody tr th:only-of-type {\n",
       "        vertical-align: middle;\n",
       "    }\n",
       "\n",
       "    .dataframe tbody tr th {\n",
       "        vertical-align: top;\n",
       "    }\n",
       "\n",
       "    .dataframe thead th {\n",
       "        text-align: right;\n",
       "    }\n",
       "</style>\n",
       "<table border=\"1\" class=\"dataframe\">\n",
       "  <thead>\n",
       "    <tr style=\"text-align: right;\">\n",
       "      <th></th>\n",
       "      <th>DAILY_YIELD</th>\n",
       "    </tr>\n",
       "    <tr>\n",
       "      <th>DATE_TIME</th>\n",
       "      <th></th>\n",
       "    </tr>\n",
       "  </thead>\n",
       "  <tbody>\n",
       "    <tr>\n",
       "      <th>2020-06-13 00:00:00</th>\n",
       "      <td>5683.214286</td>\n",
       "    </tr>\n",
       "    <tr>\n",
       "      <th>2020-06-13 00:15:00</th>\n",
       "      <td>0.000000</td>\n",
       "    </tr>\n",
       "    <tr>\n",
       "      <th>2020-06-13 00:30:00</th>\n",
       "      <td>0.000000</td>\n",
       "    </tr>\n",
       "    <tr>\n",
       "      <th>2020-06-13 00:45:00</th>\n",
       "      <td>0.000000</td>\n",
       "    </tr>\n",
       "    <tr>\n",
       "      <th>2020-06-13 01:00:00</th>\n",
       "      <td>0.000000</td>\n",
       "    </tr>\n",
       "  </tbody>\n",
       "</table>\n",
       "</div>"
      ],
      "text/plain": [
       "                     DAILY_YIELD\n",
       "DATE_TIME                       \n",
       "2020-06-13 00:00:00  5683.214286\n",
       "2020-06-13 00:15:00     0.000000\n",
       "2020-06-13 00:30:00     0.000000\n",
       "2020-06-13 00:45:00     0.000000\n",
       "2020-06-13 01:00:00     0.000000"
      ]
     },
     "execution_count": 89,
     "metadata": {},
     "output_type": "execute_result"
    }
   ],
   "source": [
    "train.head()"
   ]
  },
  {
   "cell_type": "code",
   "execution_count": 90,
   "metadata": {},
   "outputs": [
    {
     "data": {
      "text/html": [
       "<div>\n",
       "<style scoped>\n",
       "    .dataframe tbody tr th:only-of-type {\n",
       "        vertical-align: middle;\n",
       "    }\n",
       "\n",
       "    .dataframe tbody tr th {\n",
       "        vertical-align: top;\n",
       "    }\n",
       "\n",
       "    .dataframe thead th {\n",
       "        text-align: right;\n",
       "    }\n",
       "</style>\n",
       "<table border=\"1\" class=\"dataframe\">\n",
       "  <thead>\n",
       "    <tr style=\"text-align: right;\">\n",
       "      <th></th>\n",
       "      <th>DAILY_YIELD</th>\n",
       "    </tr>\n",
       "    <tr>\n",
       "      <th>DATE_TIME</th>\n",
       "      <th></th>\n",
       "    </tr>\n",
       "  </thead>\n",
       "  <tbody>\n",
       "    <tr>\n",
       "      <th>2020-06-16 23:30:00</th>\n",
       "      <td>136429.000000</td>\n",
       "    </tr>\n",
       "    <tr>\n",
       "      <th>2020-06-16 23:45:00</th>\n",
       "      <td>134079.375000</td>\n",
       "    </tr>\n",
       "    <tr>\n",
       "      <th>2020-06-17 00:00:00</th>\n",
       "      <td>6955.232143</td>\n",
       "    </tr>\n",
       "    <tr>\n",
       "      <th>2020-06-17 00:15:00</th>\n",
       "      <td>0.000000</td>\n",
       "    </tr>\n",
       "    <tr>\n",
       "      <th>2020-06-17 00:30:00</th>\n",
       "      <td>0.000000</td>\n",
       "    </tr>\n",
       "  </tbody>\n",
       "</table>\n",
       "</div>"
      ],
      "text/plain": [
       "                       DAILY_YIELD\n",
       "DATE_TIME                         \n",
       "2020-06-16 23:30:00  136429.000000\n",
       "2020-06-16 23:45:00  134079.375000\n",
       "2020-06-17 00:00:00    6955.232143\n",
       "2020-06-17 00:15:00       0.000000\n",
       "2020-06-17 00:30:00       0.000000"
      ]
     },
     "execution_count": 90,
     "metadata": {},
     "output_type": "execute_result"
    }
   ],
   "source": [
    "test.head()"
   ]
  },
  {
   "cell_type": "markdown",
   "metadata": {},
   "source": [
    "## auto_arima"
   ]
  },
  {
   "cell_type": "code",
   "execution_count": 76,
   "metadata": {},
   "outputs": [
    {
     "data": {
      "text/plain": [
       "1"
      ]
     },
     "execution_count": 76,
     "metadata": {},
     "output_type": "execute_result"
    }
   ],
   "source": [
    "# Number of differencing needed for stationarity:\n",
    "\n",
    "i = i_n(train.DAILY_YIELD)\n",
    "i"
   ]
  },
  {
   "cell_type": "code",
   "execution_count": 78,
   "metadata": {},
   "outputs": [
    {
     "data": {
      "image/png": "[encoded data removed]",
      "text/plain": [
       "<Figure size 432x288 with 1 Axes>"
      ]
     },
     "metadata": {
      "needs_background": "light"
     },
     "output_type": "display_data"
    },
    {
     "data": {
      "image/png": "[encoded data removed]",
      "text/plain": [
       "<Figure size 432x288 with 1 Axes>"
      ]
     },
     "metadata": {
      "needs_background": "light"
     },
     "output_type": "display_data"
    }
   ],
   "source": [
    "plot_pacf(np.diff(train.DAILY_YIELD,i)); #ar\n",
    "\n",
    "plot_acf(np.diff(train.DAILY_YIELD,i)); #ma"
   ]
  },
  {
   "cell_type": "markdown",
   "metadata": {},
   "source": [
    "#### Per above, the best ar,i,ma values = 1,1,1\n",
    "\n",
    "let's check with auto_arima below:"
   ]
  },
  {
   "cell_type": "code",
   "execution_count": 72,
   "metadata": {},
   "outputs": [
    {
     "name": "stdout",
     "output_type": "stream",
     "text": [
      "Performing stepwise search to minimize aic\n",
      " ARIMA(0,1,0)(0,1,0)[96]             : AIC=5059.795, Time=2.20 sec\n",
      " ARIMA(1,1,0)(1,1,0)[96]             : AIC=4760.696, Time=40.67 sec\n"
     ]
    },
    {
     "name": "stderr",
     "output_type": "stream",
     "text": [
      "/Users/oz/opt/anaconda3/lib/python3.8/site-packages/statsmodels/tsa/statespace/sarimax.py:866: UserWarning: Too few observations to estimate starting parameters for seasonal ARMA. All parameters except for variances will be set to zeros.\n",
      "  warn('Too few observations to estimate starting parameters%s.'\n"
     ]
    },
    {
     "name": "stdout",
     "output_type": "stream",
     "text": [
      " ARIMA(0,1,1)(0,1,1)[96]             : AIC=4729.300, Time=46.90 sec\n",
      " ARIMA(0,1,1)(0,1,0)[96]             : AIC=5030.109, Time=2.16 sec\n"
     ]
    },
    {
     "name": "stderr",
     "output_type": "stream",
     "text": [
      "/Users/oz/opt/anaconda3/lib/python3.8/site-packages/statsmodels/tsa/statespace/sarimax.py:866: UserWarning: Too few observations to estimate starting parameters for seasonal ARMA. All parameters except for variances will be set to zeros.\n",
      "  warn('Too few observations to estimate starting parameters%s.'\n"
     ]
    },
    {
     "name": "stdout",
     "output_type": "stream",
     "text": [
      " ARIMA(0,1,1)(1,1,1)[96]             : AIC=4729.189, Time=64.96 sec\n",
      " ARIMA(0,1,1)(1,1,0)[96]             : AIC=4747.323, Time=44.76 sec\n"
     ]
    },
    {
     "name": "stderr",
     "output_type": "stream",
     "text": [
      "/Users/oz/opt/anaconda3/lib/python3.8/site-packages/statsmodels/tsa/statespace/sarimax.py:866: UserWarning: Too few observations to estimate starting parameters for seasonal ARMA. All parameters except for variances will be set to zeros.\n",
      "  warn('Too few observations to estimate starting parameters%s.'\n"
     ]
    },
    {
     "name": "stdout",
     "output_type": "stream",
     "text": [
      " ARIMA(0,1,0)(1,1,1)[96]             : AIC=4883.187, Time=22.90 sec\n"
     ]
    },
    {
     "name": "stderr",
     "output_type": "stream",
     "text": [
      "/Users/oz/opt/anaconda3/lib/python3.8/site-packages/statsmodels/tsa/statespace/sarimax.py:866: UserWarning: Too few observations to estimate starting parameters for seasonal ARMA. All parameters except for variances will be set to zeros.\n",
      "  warn('Too few observations to estimate starting parameters%s.'\n"
     ]
    },
    {
     "name": "stdout",
     "output_type": "stream",
     "text": [
      " ARIMA(1,1,1)(1,1,1)[96]             : AIC=4727.699, Time=121.42 sec\n"
     ]
    },
    {
     "name": "stderr",
     "output_type": "stream",
     "text": [
      "/Users/oz/opt/anaconda3/lib/python3.8/site-packages/statsmodels/tsa/statespace/sarimax.py:866: UserWarning: Too few observations to estimate starting parameters for seasonal ARMA. All parameters except for variances will be set to zeros.\n",
      "  warn('Too few observations to estimate starting parameters%s.'\n"
     ]
    },
    {
     "name": "stdout",
     "output_type": "stream",
     "text": [
      " ARIMA(1,1,1)(0,1,1)[96]             : AIC=4728.472, Time=85.37 sec\n",
      " ARIMA(1,1,1)(1,1,0)[96]             : AIC=4742.032, Time=81.31 sec\n",
      " ARIMA(1,1,1)(0,1,0)[96]             : AIC=5022.163, Time=3.13 sec\n"
     ]
    },
    {
     "name": "stderr",
     "output_type": "stream",
     "text": [
      "/Users/oz/opt/anaconda3/lib/python3.8/site-packages/statsmodels/tsa/statespace/sarimax.py:866: UserWarning: Too few observations to estimate starting parameters for seasonal ARMA. All parameters except for variances will be set to zeros.\n",
      "  warn('Too few observations to estimate starting parameters%s.'\n"
     ]
    },
    {
     "name": "stdout",
     "output_type": "stream",
     "text": [
      " ARIMA(1,1,0)(1,1,1)[96]             : AIC=4742.506, Time=69.16 sec\n"
     ]
    },
    {
     "name": "stderr",
     "output_type": "stream",
     "text": [
      "/Users/oz/opt/anaconda3/lib/python3.8/site-packages/statsmodels/tsa/statespace/sarimax.py:963: UserWarning: Non-stationary starting autoregressive parameters found. Using zeros as starting parameters.\n",
      "  warn('Non-stationary starting autoregressive parameters'\n",
      "/Users/oz/opt/anaconda3/lib/python3.8/site-packages/statsmodels/tsa/statespace/sarimax.py:975: UserWarning: Non-invertible starting MA parameters found. Using zeros as starting parameters.\n",
      "  warn('Non-invertible starting MA parameters found.'\n",
      "/Users/oz/opt/anaconda3/lib/python3.8/site-packages/statsmodels/tsa/statespace/sarimax.py:866: UserWarning: Too few observations to estimate starting parameters for seasonal ARMA. All parameters except for variances will be set to zeros.\n",
      "  warn('Too few observations to estimate starting parameters%s.'\n",
      "/Users/oz/opt/anaconda3/lib/python3.8/site-packages/statsmodels/base/model.py:567: ConvergenceWarning: Maximum Likelihood optimization failed to converge. Check mle_retvals\n",
      "  warn(\"Maximum Likelihood optimization failed to converge. \"\n"
     ]
    },
    {
     "name": "stdout",
     "output_type": "stream",
     "text": [
      " ARIMA(2,1,1)(1,1,1)[96]             : AIC=4729.699, Time=141.54 sec\n"
     ]
    },
    {
     "name": "stderr",
     "output_type": "stream",
     "text": [
      "/Users/oz/opt/anaconda3/lib/python3.8/site-packages/statsmodels/tsa/statespace/sarimax.py:866: UserWarning: Too few observations to estimate starting parameters for seasonal ARMA. All parameters except for variances will be set to zeros.\n",
      "  warn('Too few observations to estimate starting parameters%s.'\n",
      "/Users/oz/opt/anaconda3/lib/python3.8/site-packages/statsmodels/base/model.py:567: ConvergenceWarning: Maximum Likelihood optimization failed to converge. Check mle_retvals\n",
      "  warn(\"Maximum Likelihood optimization failed to converge. \"\n"
     ]
    },
    {
     "name": "stdout",
     "output_type": "stream",
     "text": [
      " ARIMA(1,1,2)(1,1,1)[96]             : AIC=4850.318, Time=131.86 sec\n"
     ]
    },
    {
     "name": "stderr",
     "output_type": "stream",
     "text": [
      "/Users/oz/opt/anaconda3/lib/python3.8/site-packages/statsmodels/tsa/statespace/sarimax.py:866: UserWarning: Too few observations to estimate starting parameters for seasonal ARMA. All parameters except for variances will be set to zeros.\n",
      "  warn('Too few observations to estimate starting parameters%s.'\n"
     ]
    },
    {
     "name": "stdout",
     "output_type": "stream",
     "text": [
      " ARIMA(0,1,2)(1,1,1)[96]             : AIC=4852.669, Time=40.54 sec\n"
     ]
    },
    {
     "name": "stderr",
     "output_type": "stream",
     "text": [
      "/Users/oz/opt/anaconda3/lib/python3.8/site-packages/statsmodels/tsa/statespace/sarimax.py:866: UserWarning: Too few observations to estimate starting parameters for seasonal ARMA. All parameters except for variances will be set to zeros.\n",
      "  warn('Too few observations to estimate starting parameters%s.'\n"
     ]
    },
    {
     "name": "stdout",
     "output_type": "stream",
     "text": [
      " ARIMA(2,1,0)(1,1,1)[96]             : AIC=4730.361, Time=103.78 sec\n"
     ]
    },
    {
     "name": "stderr",
     "output_type": "stream",
     "text": [
      "/Users/oz/opt/anaconda3/lib/python3.8/site-packages/statsmodels/tsa/statespace/sarimax.py:866: UserWarning: Too few observations to estimate starting parameters for seasonal ARMA. All parameters except for variances will be set to zeros.\n",
      "  warn('Too few observations to estimate starting parameters%s.'\n",
      "/Users/oz/opt/anaconda3/lib/python3.8/site-packages/statsmodels/base/model.py:567: ConvergenceWarning: Maximum Likelihood optimization failed to converge. Check mle_retvals\n",
      "  warn(\"Maximum Likelihood optimization failed to converge. \"\n"
     ]
    },
    {
     "name": "stdout",
     "output_type": "stream",
     "text": [
      " ARIMA(2,1,2)(1,1,1)[96]             : AIC=4843.155, Time=164.26 sec\n"
     ]
    },
    {
     "name": "stderr",
     "output_type": "stream",
     "text": [
      "/Users/oz/opt/anaconda3/lib/python3.8/site-packages/statsmodels/tsa/statespace/sarimax.py:866: UserWarning: Too few observations to estimate starting parameters for seasonal ARMA. All parameters except for variances will be set to zeros.\n",
      "  warn('Too few observations to estimate starting parameters%s.'\n"
     ]
    },
    {
     "name": "stdout",
     "output_type": "stream",
     "text": [
      " ARIMA(1,1,1)(1,1,1)[96] intercept   : AIC=4729.256, Time=119.97 sec\n",
      "\n",
      "Best model:  ARIMA(1,1,1)(1,1,1)[96]          \n",
      "Total fit time: 1287.158 seconds\n"
     ]
    }
   ],
   "source": [
    "arima_model = auto_arima(train,\n",
    "                         start_p=0,d=i,start_q=0,\n",
    "                         max_p=4,max_d=4,max_q=4,\n",
    "                         start_P=0,D=1,start_Q=0,\n",
    "                         max_P=1,max_D=1,max_Q=1,m=96,\n",
    "                         seasonal=True,\n",
    "                         error_action='warn',trace=True,\n",
    "                         supress_warning=True,stepwise=True,\n",
    "                         random_state=20,n_fits=1)"
   ]
  },
  {
   "cell_type": "markdown",
   "metadata": {},
   "source": [
    "## Predicting"
   ]
  },
  {
   "cell_type": "code",
   "execution_count": 159,
   "metadata": {},
   "outputs": [
    {
     "data": {
      "text/html": [
       "<div>\n",
       "<style scoped>\n",
       "    .dataframe tbody tr th:only-of-type {\n",
       "        vertical-align: middle;\n",
       "    }\n",
       "\n",
       "    .dataframe tbody tr th {\n",
       "        vertical-align: top;\n",
       "    }\n",
       "\n",
       "    .dataframe thead th {\n",
       "        text-align: right;\n",
       "    }\n",
       "</style>\n",
       "<table border=\"1\" class=\"dataframe\">\n",
       "  <thead>\n",
       "    <tr style=\"text-align: right;\">\n",
       "      <th></th>\n",
       "      <th>0</th>\n",
       "    </tr>\n",
       "    <tr>\n",
       "      <th>DATE_TIME</th>\n",
       "      <th></th>\n",
       "    </tr>\n",
       "  </thead>\n",
       "  <tbody>\n",
       "    <tr>\n",
       "      <th>2020-06-16 23:30:00</th>\n",
       "      <td>132158.159163</td>\n",
       "    </tr>\n",
       "    <tr>\n",
       "      <th>2020-06-16 23:45:00</th>\n",
       "      <td>-6416.239443</td>\n",
       "    </tr>\n",
       "    <tr>\n",
       "      <th>2020-06-17 00:00:00</th>\n",
       "      <td>-13815.392282</td>\n",
       "    </tr>\n",
       "    <tr>\n",
       "      <th>2020-06-17 00:15:00</th>\n",
       "      <td>-13815.939811</td>\n",
       "    </tr>\n",
       "    <tr>\n",
       "      <th>2020-06-17 00:30:00</th>\n",
       "      <td>-13815.908646</td>\n",
       "    </tr>\n",
       "  </tbody>\n",
       "</table>\n",
       "</div>"
      ],
      "text/plain": [
       "                                 0\n",
       "DATE_TIME                         \n",
       "2020-06-16 23:30:00  132158.159163\n",
       "2020-06-16 23:45:00   -6416.239443\n",
       "2020-06-17 00:00:00  -13815.392282\n",
       "2020-06-17 00:15:00  -13815.939811\n",
       "2020-06-17 00:30:00  -13815.908646"
      ]
     },
     "execution_count": 159,
     "metadata": {},
     "output_type": "execute_result"
    }
   ],
   "source": [
    "prediction = pd.DataFrame(arima_model.predict(n_periods=96),index=test.index)\n",
    "prediction.head()"
   ]
  },
  {
   "cell_type": "code",
   "execution_count": 160,
   "metadata": {},
   "outputs": [
    {
     "data": {
      "text/html": [
       "<div>\n",
       "<style scoped>\n",
       "    .dataframe tbody tr th:only-of-type {\n",
       "        vertical-align: middle;\n",
       "    }\n",
       "\n",
       "    .dataframe tbody tr th {\n",
       "        vertical-align: top;\n",
       "    }\n",
       "\n",
       "    .dataframe thead th {\n",
       "        text-align: right;\n",
       "    }\n",
       "</style>\n",
       "<table border=\"1\" class=\"dataframe\">\n",
       "  <thead>\n",
       "    <tr style=\"text-align: right;\">\n",
       "      <th></th>\n",
       "      <th>predicted_daily_yield</th>\n",
       "    </tr>\n",
       "    <tr>\n",
       "      <th>DATE_TIME</th>\n",
       "      <th></th>\n",
       "    </tr>\n",
       "  </thead>\n",
       "  <tbody>\n",
       "    <tr>\n",
       "      <th>2020-06-16 23:30:00</th>\n",
       "      <td>132158.159163</td>\n",
       "    </tr>\n",
       "    <tr>\n",
       "      <th>2020-06-16 23:45:00</th>\n",
       "      <td>-6416.239443</td>\n",
       "    </tr>\n",
       "    <tr>\n",
       "      <th>2020-06-17 00:00:00</th>\n",
       "      <td>-13815.392282</td>\n",
       "    </tr>\n",
       "    <tr>\n",
       "      <th>2020-06-17 00:15:00</th>\n",
       "      <td>-13815.939811</td>\n",
       "    </tr>\n",
       "    <tr>\n",
       "      <th>2020-06-17 00:30:00</th>\n",
       "      <td>-13815.908646</td>\n",
       "    </tr>\n",
       "  </tbody>\n",
       "</table>\n",
       "</div>"
      ],
      "text/plain": [
       "                     predicted_daily_yield\n",
       "DATE_TIME                                 \n",
       "2020-06-16 23:30:00          132158.159163\n",
       "2020-06-16 23:45:00           -6416.239443\n",
       "2020-06-17 00:00:00          -13815.392282\n",
       "2020-06-17 00:15:00          -13815.939811\n",
       "2020-06-17 00:30:00          -13815.908646"
      ]
     },
     "execution_count": 160,
     "metadata": {},
     "output_type": "execute_result"
    }
   ],
   "source": [
    "prediction.columns = ['predicted_daily_yield']\n",
    "prediction.head()"
   ]
  },
  {
   "cell_type": "code",
   "execution_count": 168,
   "metadata": {},
   "outputs": [
    {
     "data": {
      "text/html": [
       "<div>\n",
       "<style scoped>\n",
       "    .dataframe tbody tr th:only-of-type {\n",
       "        vertical-align: middle;\n",
       "    }\n",
       "\n",
       "    .dataframe tbody tr th {\n",
       "        vertical-align: top;\n",
       "    }\n",
       "\n",
       "    .dataframe thead th {\n",
       "        text-align: right;\n",
       "    }\n",
       "</style>\n",
       "<table border=\"1\" class=\"dataframe\">\n",
       "  <thead>\n",
       "    <tr style=\"text-align: right;\">\n",
       "      <th></th>\n",
       "      <th>predicted_daily_yield</th>\n",
       "      <th>actual_daily_yield</th>\n",
       "    </tr>\n",
       "    <tr>\n",
       "      <th>DATE_TIME</th>\n",
       "      <th></th>\n",
       "      <th></th>\n",
       "    </tr>\n",
       "  </thead>\n",
       "  <tbody>\n",
       "    <tr>\n",
       "      <th>2020-06-16 23:30:00</th>\n",
       "      <td>132158.159163</td>\n",
       "      <td>136429.000000</td>\n",
       "    </tr>\n",
       "    <tr>\n",
       "      <th>2020-06-16 23:45:00</th>\n",
       "      <td>0.000000</td>\n",
       "      <td>134079.375000</td>\n",
       "    </tr>\n",
       "    <tr>\n",
       "      <th>2020-06-17 00:00:00</th>\n",
       "      <td>0.000000</td>\n",
       "      <td>6955.232143</td>\n",
       "    </tr>\n",
       "    <tr>\n",
       "      <th>2020-06-17 00:15:00</th>\n",
       "      <td>0.000000</td>\n",
       "      <td>0.000000</td>\n",
       "    </tr>\n",
       "    <tr>\n",
       "      <th>2020-06-17 00:30:00</th>\n",
       "      <td>0.000000</td>\n",
       "      <td>0.000000</td>\n",
       "    </tr>\n",
       "    <tr>\n",
       "      <th>...</th>\n",
       "      <td>...</td>\n",
       "      <td>...</td>\n",
       "    </tr>\n",
       "    <tr>\n",
       "      <th>2020-06-17 22:45:00</th>\n",
       "      <td>126583.301951</td>\n",
       "      <td>129571.000000</td>\n",
       "    </tr>\n",
       "    <tr>\n",
       "      <th>2020-06-17 23:00:00</th>\n",
       "      <td>126583.301677</td>\n",
       "      <td>129571.000000</td>\n",
       "    </tr>\n",
       "    <tr>\n",
       "      <th>2020-06-17 23:15:00</th>\n",
       "      <td>126583.306387</td>\n",
       "      <td>129571.000000</td>\n",
       "    </tr>\n",
       "    <tr>\n",
       "      <th>2020-06-17 23:30:00</th>\n",
       "      <td>126583.223888</td>\n",
       "      <td>129571.000000</td>\n",
       "    </tr>\n",
       "    <tr>\n",
       "      <th>2020-06-17 23:45:00</th>\n",
       "      <td>126584.652841</td>\n",
       "      <td>127962.767857</td>\n",
       "    </tr>\n",
       "  </tbody>\n",
       "</table>\n",
       "<p>96 rows × 2 columns</p>\n",
       "</div>"
      ],
      "text/plain": [
       "                     predicted_daily_yield  actual_daily_yield\n",
       "DATE_TIME                                                     \n",
       "2020-06-16 23:30:00          132158.159163       136429.000000\n",
       "2020-06-16 23:45:00               0.000000       134079.375000\n",
       "2020-06-17 00:00:00               0.000000         6955.232143\n",
       "2020-06-17 00:15:00               0.000000            0.000000\n",
       "2020-06-17 00:30:00               0.000000            0.000000\n",
       "...                                    ...                 ...\n",
       "2020-06-17 22:45:00          126583.301951       129571.000000\n",
       "2020-06-17 23:00:00          126583.301677       129571.000000\n",
       "2020-06-17 23:15:00          126583.306387       129571.000000\n",
       "2020-06-17 23:30:00          126583.223888       129571.000000\n",
       "2020-06-17 23:45:00          126584.652841       127962.767857\n",
       "\n",
       "[96 rows x 2 columns]"
      ]
     },
     "execution_count": 168,
     "metadata": {},
     "output_type": "execute_result"
    }
   ],
   "source": [
    "prediction[prediction < 0] = 0\n",
    "prediction"
   ]
  },
  {
   "cell_type": "code",
   "execution_count": 169,
   "metadata": {},
   "outputs": [
    {
     "data": {
      "text/html": [
       "<div>\n",
       "<style scoped>\n",
       "    .dataframe tbody tr th:only-of-type {\n",
       "        vertical-align: middle;\n",
       "    }\n",
       "\n",
       "    .dataframe tbody tr th {\n",
       "        vertical-align: top;\n",
       "    }\n",
       "\n",
       "    .dataframe thead th {\n",
       "        text-align: right;\n",
       "    }\n",
       "</style>\n",
       "<table border=\"1\" class=\"dataframe\">\n",
       "  <thead>\n",
       "    <tr style=\"text-align: right;\">\n",
       "      <th></th>\n",
       "      <th>predicted_daily_yield</th>\n",
       "      <th>actual_daily_yield</th>\n",
       "    </tr>\n",
       "    <tr>\n",
       "      <th>DATE_TIME</th>\n",
       "      <th></th>\n",
       "      <th></th>\n",
       "    </tr>\n",
       "  </thead>\n",
       "  <tbody>\n",
       "    <tr>\n",
       "      <th>2020-06-16 23:30:00</th>\n",
       "      <td>132158.159163</td>\n",
       "      <td>136429.000000</td>\n",
       "    </tr>\n",
       "    <tr>\n",
       "      <th>2020-06-16 23:45:00</th>\n",
       "      <td>0.000000</td>\n",
       "      <td>134079.375000</td>\n",
       "    </tr>\n",
       "    <tr>\n",
       "      <th>2020-06-17 00:00:00</th>\n",
       "      <td>0.000000</td>\n",
       "      <td>6955.232143</td>\n",
       "    </tr>\n",
       "    <tr>\n",
       "      <th>2020-06-17 00:15:00</th>\n",
       "      <td>0.000000</td>\n",
       "      <td>0.000000</td>\n",
       "    </tr>\n",
       "    <tr>\n",
       "      <th>2020-06-17 00:30:00</th>\n",
       "      <td>0.000000</td>\n",
       "      <td>0.000000</td>\n",
       "    </tr>\n",
       "  </tbody>\n",
       "</table>\n",
       "</div>"
      ],
      "text/plain": [
       "                     predicted_daily_yield  actual_daily_yield\n",
       "DATE_TIME                                                     \n",
       "2020-06-16 23:30:00          132158.159163       136429.000000\n",
       "2020-06-16 23:45:00               0.000000       134079.375000\n",
       "2020-06-17 00:00:00               0.000000         6955.232143\n",
       "2020-06-17 00:15:00               0.000000            0.000000\n",
       "2020-06-17 00:30:00               0.000000            0.000000"
      ]
     },
     "execution_count": 169,
     "metadata": {},
     "output_type": "execute_result"
    }
   ],
   "source": [
    "prediction['actual_daily_yield'] = test.DAILY_YIELD\n",
    "prediction.head()"
   ]
  },
  {
   "cell_type": "code",
   "execution_count": 170,
   "metadata": {},
   "outputs": [
    {
     "data": {
      "image/png": "[encoded data removed]",
      "text/plain": [
       "<Figure size 1296x360 with 1 Axes>"
      ]
     },
     "metadata": {},
     "output_type": "display_data"
    }
   ],
   "source": [
    "fig,ax = plt.subplots(figsize = (18,5))\n",
    "\n",
    "ax.plot(train.DAILY_YIELD, label = 'train daily_yield', color = 'navy')\n",
    "ax.plot(test.DAILY_YIELD, label = 'test daily_yield', color = 'orange')\n",
    "ax.plot(prediction.predicted_daily_yield, label = 'predicted daily_yield', color = 'green')\n",
    "ax.legend(loc = 'upper left')\n",
    "plt.show()"
   ]
  },
  {
   "cell_type": "code",
   "execution_count": 171,
   "metadata": {},
   "outputs": [
    {
     "name": "stdout",
     "output_type": "stream",
     "text": [
      "                                     SARIMAX Results                                      \n",
      "==========================================================================================\n",
      "Dep. Variable:                                  y   No. Observations:                  382\n",
      "Model:             SARIMAX(1, 1, 1)x(1, 1, 1, 96)   Log Likelihood               -2358.850\n",
      "Date:                            Tue, 17 Nov 2020   AIC                           4727.699\n",
      "Time:                                    17:01:52   BIC                           4745.962\n",
      "Sample:                                         0   HQIC                          4735.020\n",
      "                                            - 382                                         \n",
      "Covariance Type:                              opg                                         \n",
      "==============================================================================\n",
      "                 coef    std err          z      P>|z|      [0.025      0.975]\n",
      "------------------------------------------------------------------------------\n",
      "ar.L1          0.0974      0.119      0.822      0.411      -0.135       0.330\n",
      "ma.L1          0.2436      0.131      1.866      0.062      -0.012       0.499\n",
      "ar.S.L96      -0.0767      0.020     -3.772      0.000      -0.117      -0.037\n",
      "ma.S.L96      -0.2256      0.049     -4.636      0.000      -0.321      -0.130\n",
      "sigma2       8.49e+05   2.51e+04     33.818      0.000       8e+05    8.98e+05\n",
      "===================================================================================\n",
      "Ljung-Box (Q):                       35.83   Jarque-Bera (JB):             64747.79\n",
      "Prob(Q):                              0.66   Prob(JB):                         0.00\n",
      "Heteroskedasticity (H):               1.21   Skew:                             5.52\n",
      "Prob(H) (two-sided):                  0.34   Kurtosis:                        76.01\n",
      "===================================================================================\n",
      "\n",
      "Warnings:\n",
      "[1] Covariance matrix calculated using the outer product of gradients (complex-step).\n"
     ]
    }
   ],
   "source": [
    "print(arima_model.summary())"
   ]
  },
  {
   "cell_type": "code",
   "execution_count": 172,
   "metadata": {},
   "outputs": [
    {
     "name": "stdout",
     "output_type": "stream",
     "text": [
      "SARIMAX R2 Score: 0.924322\n",
      "---------------\n",
      "SARIMAX MAE Score: 6103.335073\n",
      "---------------\n",
      "SARIMAX RMSE Score: 15295.662211\n"
     ]
    }
   ],
   "source": [
    "print('SARIMAX R2 Score: %f' % (r2_score(prediction['predicted_daily_yield'],test['DAILY_YIELD'])))\n",
    "print('-'*15)\n",
    "\n",
    "print('SARIMAX MAE Score: %f' % (mean_absolute_error(prediction['predicted_daily_yield'],test['DAILY_YIELD'])))\n",
    "print('-'*15)\n",
    "\n",
    "print('SARIMAX RMSE Score: %f' % (mean_squared_error(prediction['predicted_daily_yield'],test['DAILY_YIELD'],squared=False)))"
   ]
  },
  {
   "cell_type": "markdown",
   "metadata": {},
   "source": [
    "## Forecasting \n",
    "2 days ahead"
   ]
  },
  {
   "cell_type": "code",
   "execution_count": 130,
   "metadata": {},
   "outputs": [
    {
     "name": "stdout",
     "output_type": "stream",
     "text": [
      "1440 2880 96.0 192.0\n"
     ]
    }
   ],
   "source": [
    "# doing calculations for how many 'n's we need (n = periods). \n",
    "# We're going to use 2 more n's than what we have here to complete 2 days forward\n",
    "\n",
    "print(24*60, 24*60*2, 24*60/15, 24*60/15*2)"
   ]
  },
  {
   "cell_type": "code",
   "execution_count": 143,
   "metadata": {},
   "outputs": [
    {
     "data": {
      "text/plain": [
       "Timestamp('2020-06-17 23:45:00')"
      ]
     },
     "execution_count": 143,
     "metadata": {},
     "output_type": "execute_result"
    }
   ],
   "source": [
    "# checking last index in test\n",
    "\n",
    "test.index[-1]"
   ]
  },
  {
   "cell_type": "code",
   "execution_count": 129,
   "metadata": {},
   "outputs": [],
   "source": [
    "# make a list of future dates with time stamps, to use as index when forecasting below\n",
    "\n",
    "future_dates = [test.index[-1] + DateOffset(minutes=x) for x in range(0,2910,15)]\n",
    "# 2880 doesn't go all the way to the end of 2 days, bc we're starting earlier\n",
    "# so use 2910"
   ]
  },
  {
   "cell_type": "code",
   "execution_count": 128,
   "metadata": {
    "collapsed": true,
    "jupyter": {
     "outputs_hidden": true
    }
   },
   "outputs": [
    {
     "data": {
      "text/plain": [
       "[Timestamp('2020-06-17 23:45:00'),\n",
       " Timestamp('2020-06-18 00:00:00'),\n",
       " Timestamp('2020-06-18 00:15:00'),\n",
       " Timestamp('2020-06-18 00:30:00'),\n",
       " Timestamp('2020-06-18 00:45:00'),\n",
       " Timestamp('2020-06-18 01:00:00'),\n",
       " Timestamp('2020-06-18 01:15:00'),\n",
       " Timestamp('2020-06-18 01:30:00'),\n",
       " Timestamp('2020-06-18 01:45:00'),\n",
       " Timestamp('2020-06-18 02:00:00'),\n",
       " Timestamp('2020-06-18 02:15:00'),\n",
       " Timestamp('2020-06-18 02:30:00'),\n",
       " Timestamp('2020-06-18 02:45:00'),\n",
       " Timestamp('2020-06-18 03:00:00'),\n",
       " Timestamp('2020-06-18 03:15:00'),\n",
       " Timestamp('2020-06-18 03:30:00'),\n",
       " Timestamp('2020-06-18 03:45:00'),\n",
       " Timestamp('2020-06-18 04:00:00'),\n",
       " Timestamp('2020-06-18 04:15:00'),\n",
       " Timestamp('2020-06-18 04:30:00'),\n",
       " Timestamp('2020-06-18 04:45:00'),\n",
       " Timestamp('2020-06-18 05:00:00'),\n",
       " Timestamp('2020-06-18 05:15:00'),\n",
       " Timestamp('2020-06-18 05:30:00'),\n",
       " Timestamp('2020-06-18 05:45:00'),\n",
       " Timestamp('2020-06-18 06:00:00'),\n",
       " Timestamp('2020-06-18 06:15:00'),\n",
       " Timestamp('2020-06-18 06:30:00'),\n",
       " Timestamp('2020-06-18 06:45:00'),\n",
       " Timestamp('2020-06-18 07:00:00'),\n",
       " Timestamp('2020-06-18 07:15:00'),\n",
       " Timestamp('2020-06-18 07:30:00'),\n",
       " Timestamp('2020-06-18 07:45:00'),\n",
       " Timestamp('2020-06-18 08:00:00'),\n",
       " Timestamp('2020-06-18 08:15:00'),\n",
       " Timestamp('2020-06-18 08:30:00'),\n",
       " Timestamp('2020-06-18 08:45:00'),\n",
       " Timestamp('2020-06-18 09:00:00'),\n",
       " Timestamp('2020-06-18 09:15:00'),\n",
       " Timestamp('2020-06-18 09:30:00'),\n",
       " Timestamp('2020-06-18 09:45:00'),\n",
       " Timestamp('2020-06-18 10:00:00'),\n",
       " Timestamp('2020-06-18 10:15:00'),\n",
       " Timestamp('2020-06-18 10:30:00'),\n",
       " Timestamp('2020-06-18 10:45:00'),\n",
       " Timestamp('2020-06-18 11:00:00'),\n",
       " Timestamp('2020-06-18 11:15:00'),\n",
       " Timestamp('2020-06-18 11:30:00'),\n",
       " Timestamp('2020-06-18 11:45:00'),\n",
       " Timestamp('2020-06-18 12:00:00'),\n",
       " Timestamp('2020-06-18 12:15:00'),\n",
       " Timestamp('2020-06-18 12:30:00'),\n",
       " Timestamp('2020-06-18 12:45:00'),\n",
       " Timestamp('2020-06-18 13:00:00'),\n",
       " Timestamp('2020-06-18 13:15:00'),\n",
       " Timestamp('2020-06-18 13:30:00'),\n",
       " Timestamp('2020-06-18 13:45:00'),\n",
       " Timestamp('2020-06-18 14:00:00'),\n",
       " Timestamp('2020-06-18 14:15:00'),\n",
       " Timestamp('2020-06-18 14:30:00'),\n",
       " Timestamp('2020-06-18 14:45:00'),\n",
       " Timestamp('2020-06-18 15:00:00'),\n",
       " Timestamp('2020-06-18 15:15:00'),\n",
       " Timestamp('2020-06-18 15:30:00'),\n",
       " Timestamp('2020-06-18 15:45:00'),\n",
       " Timestamp('2020-06-18 16:00:00'),\n",
       " Timestamp('2020-06-18 16:15:00'),\n",
       " Timestamp('2020-06-18 16:30:00'),\n",
       " Timestamp('2020-06-18 16:45:00'),\n",
       " Timestamp('2020-06-18 17:00:00'),\n",
       " Timestamp('2020-06-18 17:15:00'),\n",
       " Timestamp('2020-06-18 17:30:00'),\n",
       " Timestamp('2020-06-18 17:45:00'),\n",
       " Timestamp('2020-06-18 18:00:00'),\n",
       " Timestamp('2020-06-18 18:15:00'),\n",
       " Timestamp('2020-06-18 18:30:00'),\n",
       " Timestamp('2020-06-18 18:45:00'),\n",
       " Timestamp('2020-06-18 19:00:00'),\n",
       " Timestamp('2020-06-18 19:15:00'),\n",
       " Timestamp('2020-06-18 19:30:00'),\n",
       " Timestamp('2020-06-18 19:45:00'),\n",
       " Timestamp('2020-06-18 20:00:00'),\n",
       " Timestamp('2020-06-18 20:15:00'),\n",
       " Timestamp('2020-06-18 20:30:00'),\n",
       " Timestamp('2020-06-18 20:45:00'),\n",
       " Timestamp('2020-06-18 21:00:00'),\n",
       " Timestamp('2020-06-18 21:15:00'),\n",
       " Timestamp('2020-06-18 21:30:00'),\n",
       " Timestamp('2020-06-18 21:45:00'),\n",
       " Timestamp('2020-06-18 22:00:00'),\n",
       " Timestamp('2020-06-18 22:15:00'),\n",
       " Timestamp('2020-06-18 22:30:00'),\n",
       " Timestamp('2020-06-18 22:45:00'),\n",
       " Timestamp('2020-06-18 23:00:00'),\n",
       " Timestamp('2020-06-18 23:15:00'),\n",
       " Timestamp('2020-06-18 23:30:00'),\n",
       " Timestamp('2020-06-18 23:45:00'),\n",
       " Timestamp('2020-06-19 00:00:00'),\n",
       " Timestamp('2020-06-19 00:15:00'),\n",
       " Timestamp('2020-06-19 00:30:00'),\n",
       " Timestamp('2020-06-19 00:45:00'),\n",
       " Timestamp('2020-06-19 01:00:00'),\n",
       " Timestamp('2020-06-19 01:15:00'),\n",
       " Timestamp('2020-06-19 01:30:00'),\n",
       " Timestamp('2020-06-19 01:45:00'),\n",
       " Timestamp('2020-06-19 02:00:00'),\n",
       " Timestamp('2020-06-19 02:15:00'),\n",
       " Timestamp('2020-06-19 02:30:00'),\n",
       " Timestamp('2020-06-19 02:45:00'),\n",
       " Timestamp('2020-06-19 03:00:00'),\n",
       " Timestamp('2020-06-19 03:15:00'),\n",
       " Timestamp('2020-06-19 03:30:00'),\n",
       " Timestamp('2020-06-19 03:45:00'),\n",
       " Timestamp('2020-06-19 04:00:00'),\n",
       " Timestamp('2020-06-19 04:15:00'),\n",
       " Timestamp('2020-06-19 04:30:00'),\n",
       " Timestamp('2020-06-19 04:45:00'),\n",
       " Timestamp('2020-06-19 05:00:00'),\n",
       " Timestamp('2020-06-19 05:15:00'),\n",
       " Timestamp('2020-06-19 05:30:00'),\n",
       " Timestamp('2020-06-19 05:45:00'),\n",
       " Timestamp('2020-06-19 06:00:00'),\n",
       " Timestamp('2020-06-19 06:15:00'),\n",
       " Timestamp('2020-06-19 06:30:00'),\n",
       " Timestamp('2020-06-19 06:45:00'),\n",
       " Timestamp('2020-06-19 07:00:00'),\n",
       " Timestamp('2020-06-19 07:15:00'),\n",
       " Timestamp('2020-06-19 07:30:00'),\n",
       " Timestamp('2020-06-19 07:45:00'),\n",
       " Timestamp('2020-06-19 08:00:00'),\n",
       " Timestamp('2020-06-19 08:15:00'),\n",
       " Timestamp('2020-06-19 08:30:00'),\n",
       " Timestamp('2020-06-19 08:45:00'),\n",
       " Timestamp('2020-06-19 09:00:00'),\n",
       " Timestamp('2020-06-19 09:15:00'),\n",
       " Timestamp('2020-06-19 09:30:00'),\n",
       " Timestamp('2020-06-19 09:45:00'),\n",
       " Timestamp('2020-06-19 10:00:00'),\n",
       " Timestamp('2020-06-19 10:15:00'),\n",
       " Timestamp('2020-06-19 10:30:00'),\n",
       " Timestamp('2020-06-19 10:45:00'),\n",
       " Timestamp('2020-06-19 11:00:00'),\n",
       " Timestamp('2020-06-19 11:15:00'),\n",
       " Timestamp('2020-06-19 11:30:00'),\n",
       " Timestamp('2020-06-19 11:45:00'),\n",
       " Timestamp('2020-06-19 12:00:00'),\n",
       " Timestamp('2020-06-19 12:15:00'),\n",
       " Timestamp('2020-06-19 12:30:00'),\n",
       " Timestamp('2020-06-19 12:45:00'),\n",
       " Timestamp('2020-06-19 13:00:00'),\n",
       " Timestamp('2020-06-19 13:15:00'),\n",
       " Timestamp('2020-06-19 13:30:00'),\n",
       " Timestamp('2020-06-19 13:45:00'),\n",
       " Timestamp('2020-06-19 14:00:00'),\n",
       " Timestamp('2020-06-19 14:15:00'),\n",
       " Timestamp('2020-06-19 14:30:00'),\n",
       " Timestamp('2020-06-19 14:45:00'),\n",
       " Timestamp('2020-06-19 15:00:00'),\n",
       " Timestamp('2020-06-19 15:15:00'),\n",
       " Timestamp('2020-06-19 15:30:00'),\n",
       " Timestamp('2020-06-19 15:45:00'),\n",
       " Timestamp('2020-06-19 16:00:00'),\n",
       " Timestamp('2020-06-19 16:15:00'),\n",
       " Timestamp('2020-06-19 16:30:00'),\n",
       " Timestamp('2020-06-19 16:45:00'),\n",
       " Timestamp('2020-06-19 17:00:00'),\n",
       " Timestamp('2020-06-19 17:15:00'),\n",
       " Timestamp('2020-06-19 17:30:00'),\n",
       " Timestamp('2020-06-19 17:45:00'),\n",
       " Timestamp('2020-06-19 18:00:00'),\n",
       " Timestamp('2020-06-19 18:15:00'),\n",
       " Timestamp('2020-06-19 18:30:00'),\n",
       " Timestamp('2020-06-19 18:45:00'),\n",
       " Timestamp('2020-06-19 19:00:00'),\n",
       " Timestamp('2020-06-19 19:15:00'),\n",
       " Timestamp('2020-06-19 19:30:00'),\n",
       " Timestamp('2020-06-19 19:45:00'),\n",
       " Timestamp('2020-06-19 20:00:00'),\n",
       " Timestamp('2020-06-19 20:15:00'),\n",
       " Timestamp('2020-06-19 20:30:00'),\n",
       " Timestamp('2020-06-19 20:45:00'),\n",
       " Timestamp('2020-06-19 21:00:00'),\n",
       " Timestamp('2020-06-19 21:15:00'),\n",
       " Timestamp('2020-06-19 21:30:00'),\n",
       " Timestamp('2020-06-19 21:45:00'),\n",
       " Timestamp('2020-06-19 22:00:00'),\n",
       " Timestamp('2020-06-19 22:15:00'),\n",
       " Timestamp('2020-06-19 22:30:00'),\n",
       " Timestamp('2020-06-19 22:45:00'),\n",
       " Timestamp('2020-06-19 23:00:00'),\n",
       " Timestamp('2020-06-19 23:15:00'),\n",
       " Timestamp('2020-06-19 23:30:00')]"
      ]
     },
     "execution_count": 128,
     "metadata": {},
     "output_type": "execute_result"
    }
   ],
   "source": [
    "future_dates"
   ]
  },
  {
   "cell_type": "code",
   "execution_count": 141,
   "metadata": {},
   "outputs": [
    {
     "data": {
      "text/html": [
       "<div>\n",
       "<style scoped>\n",
       "    .dataframe tbody tr th:only-of-type {\n",
       "        vertical-align: middle;\n",
       "    }\n",
       "\n",
       "    .dataframe tbody tr th {\n",
       "        vertical-align: top;\n",
       "    }\n",
       "\n",
       "    .dataframe thead th {\n",
       "        text-align: right;\n",
       "    }\n",
       "</style>\n",
       "<table border=\"1\" class=\"dataframe\">\n",
       "  <thead>\n",
       "    <tr style=\"text-align: right;\">\n",
       "      <th></th>\n",
       "      <th>forecasted_daily_yield</th>\n",
       "    </tr>\n",
       "  </thead>\n",
       "  <tbody>\n",
       "    <tr>\n",
       "      <th>2020-06-17 23:45:00</th>\n",
       "      <td>132158.159163</td>\n",
       "    </tr>\n",
       "    <tr>\n",
       "      <th>2020-06-18 00:00:00</th>\n",
       "      <td>0.000000</td>\n",
       "    </tr>\n",
       "    <tr>\n",
       "      <th>2020-06-18 00:15:00</th>\n",
       "      <td>0.000000</td>\n",
       "    </tr>\n",
       "    <tr>\n",
       "      <th>2020-06-18 00:30:00</th>\n",
       "      <td>0.000000</td>\n",
       "    </tr>\n",
       "    <tr>\n",
       "      <th>2020-06-18 00:45:00</th>\n",
       "      <td>0.000000</td>\n",
       "    </tr>\n",
       "    <tr>\n",
       "      <th>...</th>\n",
       "      <td>...</td>\n",
       "    </tr>\n",
       "    <tr>\n",
       "      <th>2020-06-19 23:00:00</th>\n",
       "      <td>116636.739143</td>\n",
       "    </tr>\n",
       "    <tr>\n",
       "      <th>2020-06-19 23:15:00</th>\n",
       "      <td>116636.662970</td>\n",
       "    </tr>\n",
       "    <tr>\n",
       "      <th>2020-06-19 23:30:00</th>\n",
       "      <td>116637.982359</td>\n",
       "    </tr>\n",
       "    <tr>\n",
       "      <th>2020-06-19 23:45:00</th>\n",
       "      <td>112610.389590</td>\n",
       "    </tr>\n",
       "    <tr>\n",
       "      <th>2020-06-20 00:00:00</th>\n",
       "      <td>0.000000</td>\n",
       "    </tr>\n",
       "  </tbody>\n",
       "</table>\n",
       "<p>194 rows × 1 columns</p>\n",
       "</div>"
      ],
      "text/plain": [
       "                     forecasted_daily_yield\n",
       "2020-06-17 23:45:00           132158.159163\n",
       "2020-06-18 00:00:00                0.000000\n",
       "2020-06-18 00:15:00                0.000000\n",
       "2020-06-18 00:30:00                0.000000\n",
       "2020-06-18 00:45:00                0.000000\n",
       "...                                     ...\n",
       "2020-06-19 23:00:00           116636.739143\n",
       "2020-06-19 23:15:00           116636.662970\n",
       "2020-06-19 23:30:00           116637.982359\n",
       "2020-06-19 23:45:00           112610.389590\n",
       "2020-06-20 00:00:00                0.000000\n",
       "\n",
       "[194 rows x 1 columns]"
      ]
     },
     "execution_count": 141,
     "metadata": {},
     "output_type": "execute_result"
    }
   ],
   "source": [
    "f_prediction = pd.DataFrame(arima_model.predict(n_periods=194),index=future_dates)\n",
    "f_prediction.columns = ['forecasted_daily_yield']\n",
    "\n",
    "# zero out neg numbers. I can do the following bc my column is datatype numeric. so it'll zero out all neg values in the df\n",
    "f_prediction[f_prediction < 0] = 0\n",
    "f_prediction"
   ]
  },
  {
   "cell_type": "code",
   "execution_count": 142,
   "metadata": {},
   "outputs": [
    {
     "data": {
      "image/png": "[encoded data removed]",
      "text/plain": [
       "<Figure size 1296x360 with 1 Axes>"
      ]
     },
     "metadata": {},
     "output_type": "display_data"
    }
   ],
   "source": [
    "fig, ax = plt.subplots(figsize=(18,5))\n",
    "ax.plot(pred_gen.DAILY_YIELD, label = 'Original data', color = 'navy')\n",
    "ax.plot(f_prediction.forecasted_daily_yield, label='18th & 19th June', color = 'green')\n",
    "ax.legend()\n",
    "ax.set_title('Next 2 days forecast', size=17)\n",
    "plt.show()"
   ]
  }
 ],
 "metadata": {
  "kernelspec": {
   "display_name": "Python 3",
   "language": "python",
   "name": "python3"
  },
  "language_info": {
   "codemirror_mode": {
    "name": "ipython",
    "version": 3
   },
   "file_extension": ".py",
   "mimetype": "text/x-python",
   "name": "python",
   "nbconvert_exporter": "python",
   "pygments_lexer": "ipython3",
   "version": "3.8.3"
  }
 },
 "nbformat": 4,
 "nbformat_minor": 4
}
