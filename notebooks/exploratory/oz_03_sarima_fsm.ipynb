{
 "cells": [
  {
   "cell_type": "code",
   "execution_count": 121,
   "metadata": {},
   "outputs": [],
   "source": [
    "import pandas as pd\n",
    "import matplotlib.pyplot as plt\n",
    "import seaborn as sns\n",
    "sns.set_style('darkgrid')\n",
    "import numpy as np\n",
    "from sklearn.metrics import r2_score,mean_squared_error,mean_absolute_error\n",
    "\n",
    "from pmdarima.arima import auto_arima\n",
    "from statsmodels.tsa.statespace.sarimax import SARIMAX\n",
    "from statsmodels.tsa.stattools import adfuller\n",
    "from statsmodels.graphics.tsaplots import plot_acf, plot_pacf\n",
    "from pandas.tseries.offsets import DateOffset"
   ]
  },
  {
   "cell_type": "code",
   "execution_count": 48,
   "metadata": {},
   "outputs": [],
   "source": [
    "#functions:\n",
    "\n",
    "def i_n(series):\n",
    "    i = 0\n",
    "    dftest = adfuller(np.diff(series,i), autolag='AIC')\n",
    "    test_stat = dftest[0]\n",
    "    critical_val_5 = dftest[4]['5%']\n",
    "    while test_stat > critical_val_5:\n",
    "        i+=1\n",
    "        dftest = adfuller(np.diff(series,i), autolag='AIC')\n",
    "        test_stat = dftest[0]\n",
    "        critical_val_5 = dftest[4]['5%']\n",
    "    return(i)"
   ]
  },
  {
   "cell_type": "code",
   "execution_count": 49,
   "metadata": {},
   "outputs": [
    {
     "data": {
      "text/html": [
       "<div>\n",
       "<style scoped>\n",
       "    .dataframe tbody tr th:only-of-type {\n",
       "        vertical-align: middle;\n",
       "    }\n",
       "\n",
       "    .dataframe tbody tr th {\n",
       "        vertical-align: top;\n",
       "    }\n",
       "\n",
       "    .dataframe thead th {\n",
       "        text-align: right;\n",
       "    }\n",
       "</style>\n",
       "<table border=\"1\" class=\"dataframe\">\n",
       "  <thead>\n",
       "    <tr style=\"text-align: right;\">\n",
       "      <th></th>\n",
       "      <th>PLANT_ID</th>\n",
       "      <th>SOURCE_KEY</th>\n",
       "      <th>DC_POWER</th>\n",
       "      <th>AC_POWER</th>\n",
       "      <th>DAILY_YIELD</th>\n",
       "      <th>TOTAL_YIELD</th>\n",
       "    </tr>\n",
       "    <tr>\n",
       "      <th>DATE_TIME</th>\n",
       "      <th></th>\n",
       "      <th></th>\n",
       "      <th></th>\n",
       "      <th></th>\n",
       "      <th></th>\n",
       "      <th></th>\n",
       "    </tr>\n",
       "  </thead>\n",
       "  <tbody>\n",
       "    <tr>\n",
       "      <th>2020-05-15</th>\n",
       "      <td>4135001</td>\n",
       "      <td>1BY6WEcLGh8j5v7</td>\n",
       "      <td>0.0</td>\n",
       "      <td>0.0</td>\n",
       "      <td>0.0</td>\n",
       "      <td>6259559.0</td>\n",
       "    </tr>\n",
       "    <tr>\n",
       "      <th>2020-05-15</th>\n",
       "      <td>4135001</td>\n",
       "      <td>1IF53ai7Xc0U56Y</td>\n",
       "      <td>0.0</td>\n",
       "      <td>0.0</td>\n",
       "      <td>0.0</td>\n",
       "      <td>6183645.0</td>\n",
       "    </tr>\n",
       "    <tr>\n",
       "      <th>2020-05-15</th>\n",
       "      <td>4135001</td>\n",
       "      <td>3PZuoBAID5Wc2HD</td>\n",
       "      <td>0.0</td>\n",
       "      <td>0.0</td>\n",
       "      <td>0.0</td>\n",
       "      <td>6987759.0</td>\n",
       "    </tr>\n",
       "    <tr>\n",
       "      <th>2020-05-15</th>\n",
       "      <td>4135001</td>\n",
       "      <td>7JYdWkrLSPkdwr4</td>\n",
       "      <td>0.0</td>\n",
       "      <td>0.0</td>\n",
       "      <td>0.0</td>\n",
       "      <td>7602960.0</td>\n",
       "    </tr>\n",
       "    <tr>\n",
       "      <th>2020-05-15</th>\n",
       "      <td>4135001</td>\n",
       "      <td>McdE0feGgRqW7Ca</td>\n",
       "      <td>0.0</td>\n",
       "      <td>0.0</td>\n",
       "      <td>0.0</td>\n",
       "      <td>7158964.0</td>\n",
       "    </tr>\n",
       "  </tbody>\n",
       "</table>\n",
       "</div>"
      ],
      "text/plain": [
       "            PLANT_ID       SOURCE_KEY  DC_POWER  AC_POWER  DAILY_YIELD  \\\n",
       "DATE_TIME                                                                \n",
       "2020-05-15   4135001  1BY6WEcLGh8j5v7       0.0       0.0          0.0   \n",
       "2020-05-15   4135001  1IF53ai7Xc0U56Y       0.0       0.0          0.0   \n",
       "2020-05-15   4135001  3PZuoBAID5Wc2HD       0.0       0.0          0.0   \n",
       "2020-05-15   4135001  7JYdWkrLSPkdwr4       0.0       0.0          0.0   \n",
       "2020-05-15   4135001  McdE0feGgRqW7Ca       0.0       0.0          0.0   \n",
       "\n",
       "            TOTAL_YIELD  \n",
       "DATE_TIME                \n",
       "2020-05-15    6259559.0  \n",
       "2020-05-15    6183645.0  \n",
       "2020-05-15    6987759.0  \n",
       "2020-05-15    7602960.0  \n",
       "2020-05-15    7158964.0  "
      ]
     },
     "execution_count": 49,
     "metadata": {},
     "output_type": "execute_result"
    }
   ],
   "source": [
    "p1_gen = pd.read_csv('../../data/p1_gen_dtindex.csv', index_col=0, parse_dates=True)\n",
    "p1_gen.head()"
   ]
  },
  {
   "cell_type": "code",
   "execution_count": 50,
   "metadata": {},
   "outputs": [
    {
     "name": "stdout",
     "output_type": "stream",
     "text": [
      "<class 'pandas.core.indexes.datetimes.DatetimeIndex'>\n"
     ]
    },
    {
     "data": {
      "text/plain": [
       "DatetimeIndex(['2020-05-15 00:00:00', '2020-05-15 00:00:00',\n",
       "               '2020-05-15 00:00:00', '2020-05-15 00:00:00',\n",
       "               '2020-05-15 00:00:00', '2020-05-15 00:00:00',\n",
       "               '2020-05-15 00:00:00', '2020-05-15 00:00:00',\n",
       "               '2020-05-15 00:00:00', '2020-05-15 00:00:00',\n",
       "               ...\n",
       "               '2020-06-17 23:45:00', '2020-06-17 23:45:00',\n",
       "               '2020-06-17 23:45:00', '2020-06-17 23:45:00',\n",
       "               '2020-06-17 23:45:00', '2020-06-17 23:45:00',\n",
       "               '2020-06-17 23:45:00', '2020-06-17 23:45:00',\n",
       "               '2020-06-17 23:45:00', '2020-06-17 23:45:00'],\n",
       "              dtype='datetime64[ns]', name='DATE_TIME', length=68778, freq=None)"
      ]
     },
     "execution_count": 50,
     "metadata": {},
     "output_type": "execute_result"
    }
   ],
   "source": [
    "# the index has been preserved as a date time object, along with time stamps.\n",
    "\n",
    "print(type(p1_gen.index))\n",
    "p1_gen.index"
   ]
  },
  {
   "cell_type": "code",
   "execution_count": 51,
   "metadata": {},
   "outputs": [],
   "source": [
    "# making copy of og df\n",
    "\n",
    "pred_gen_og = p1_gen.copy()"
   ]
  },
  {
   "cell_type": "markdown",
   "metadata": {},
   "source": [
    "---\n",
    "\n",
    "# SARIMAX FSM\n",
    "\n",
    "5 days starting 6/13\n",
    "\n",
    "- 4 days train\n",
    "- 1 day test\n",
    "- 2 days forecasted forward"
   ]
  },
  {
   "cell_type": "code",
   "execution_count": 52,
   "metadata": {},
   "outputs": [
    {
     "data": {
      "text/html": [
       "<div>\n",
       "<style scoped>\n",
       "    .dataframe tbody tr th:only-of-type {\n",
       "        vertical-align: middle;\n",
       "    }\n",
       "\n",
       "    .dataframe tbody tr th {\n",
       "        vertical-align: top;\n",
       "    }\n",
       "\n",
       "    .dataframe thead th {\n",
       "        text-align: right;\n",
       "    }\n",
       "</style>\n",
       "<table border=\"1\" class=\"dataframe\">\n",
       "  <thead>\n",
       "    <tr style=\"text-align: right;\">\n",
       "      <th></th>\n",
       "      <th>PLANT_ID</th>\n",
       "      <th>DC_POWER</th>\n",
       "      <th>AC_POWER</th>\n",
       "      <th>DAILY_YIELD</th>\n",
       "      <th>TOTAL_YIELD</th>\n",
       "    </tr>\n",
       "    <tr>\n",
       "      <th>DATE_TIME</th>\n",
       "      <th></th>\n",
       "      <th></th>\n",
       "      <th></th>\n",
       "      <th></th>\n",
       "      <th></th>\n",
       "    </tr>\n",
       "  </thead>\n",
       "  <tbody>\n",
       "    <tr>\n",
       "      <th>2020-06-01 00:00:00</th>\n",
       "      <td>90970022</td>\n",
       "      <td>0.0</td>\n",
       "      <td>0.0</td>\n",
       "      <td>5407.250000</td>\n",
       "      <td>153519480.0</td>\n",
       "    </tr>\n",
       "    <tr>\n",
       "      <th>2020-06-01 00:15:00</th>\n",
       "      <td>90970022</td>\n",
       "      <td>0.0</td>\n",
       "      <td>0.0</td>\n",
       "      <td>0.000000</td>\n",
       "      <td>153519480.0</td>\n",
       "    </tr>\n",
       "    <tr>\n",
       "      <th>2020-06-01 00:30:00</th>\n",
       "      <td>90970022</td>\n",
       "      <td>0.0</td>\n",
       "      <td>0.0</td>\n",
       "      <td>0.000000</td>\n",
       "      <td>153519480.0</td>\n",
       "    </tr>\n",
       "    <tr>\n",
       "      <th>2020-06-01 00:45:00</th>\n",
       "      <td>90970022</td>\n",
       "      <td>0.0</td>\n",
       "      <td>0.0</td>\n",
       "      <td>0.000000</td>\n",
       "      <td>153519480.0</td>\n",
       "    </tr>\n",
       "    <tr>\n",
       "      <th>2020-06-01 01:00:00</th>\n",
       "      <td>90970022</td>\n",
       "      <td>0.0</td>\n",
       "      <td>0.0</td>\n",
       "      <td>0.000000</td>\n",
       "      <td>153519480.0</td>\n",
       "    </tr>\n",
       "    <tr>\n",
       "      <th>...</th>\n",
       "      <td>...</td>\n",
       "      <td>...</td>\n",
       "      <td>...</td>\n",
       "      <td>...</td>\n",
       "      <td>...</td>\n",
       "    </tr>\n",
       "    <tr>\n",
       "      <th>2020-06-17 22:45:00</th>\n",
       "      <td>90970022</td>\n",
       "      <td>0.0</td>\n",
       "      <td>0.0</td>\n",
       "      <td>129571.000000</td>\n",
       "      <td>156142755.0</td>\n",
       "    </tr>\n",
       "    <tr>\n",
       "      <th>2020-06-17 23:00:00</th>\n",
       "      <td>90970022</td>\n",
       "      <td>0.0</td>\n",
       "      <td>0.0</td>\n",
       "      <td>129571.000000</td>\n",
       "      <td>156142755.0</td>\n",
       "    </tr>\n",
       "    <tr>\n",
       "      <th>2020-06-17 23:15:00</th>\n",
       "      <td>90970022</td>\n",
       "      <td>0.0</td>\n",
       "      <td>0.0</td>\n",
       "      <td>129571.000000</td>\n",
       "      <td>156142755.0</td>\n",
       "    </tr>\n",
       "    <tr>\n",
       "      <th>2020-06-17 23:30:00</th>\n",
       "      <td>90970022</td>\n",
       "      <td>0.0</td>\n",
       "      <td>0.0</td>\n",
       "      <td>129571.000000</td>\n",
       "      <td>156142755.0</td>\n",
       "    </tr>\n",
       "    <tr>\n",
       "      <th>2020-06-17 23:45:00</th>\n",
       "      <td>90970022</td>\n",
       "      <td>0.0</td>\n",
       "      <td>0.0</td>\n",
       "      <td>127962.767857</td>\n",
       "      <td>156142755.0</td>\n",
       "    </tr>\n",
       "  </tbody>\n",
       "</table>\n",
       "<p>1630 rows × 5 columns</p>\n",
       "</div>"
      ],
      "text/plain": [
       "                     PLANT_ID  DC_POWER  AC_POWER    DAILY_YIELD  TOTAL_YIELD\n",
       "DATE_TIME                                                                    \n",
       "2020-06-01 00:00:00  90970022       0.0       0.0    5407.250000  153519480.0\n",
       "2020-06-01 00:15:00  90970022       0.0       0.0       0.000000  153519480.0\n",
       "2020-06-01 00:30:00  90970022       0.0       0.0       0.000000  153519480.0\n",
       "2020-06-01 00:45:00  90970022       0.0       0.0       0.000000  153519480.0\n",
       "2020-06-01 01:00:00  90970022       0.0       0.0       0.000000  153519480.0\n",
       "...                       ...       ...       ...            ...          ...\n",
       "2020-06-17 22:45:00  90970022       0.0       0.0  129571.000000  156142755.0\n",
       "2020-06-17 23:00:00  90970022       0.0       0.0  129571.000000  156142755.0\n",
       "2020-06-17 23:15:00  90970022       0.0       0.0  129571.000000  156142755.0\n",
       "2020-06-17 23:30:00  90970022       0.0       0.0  129571.000000  156142755.0\n",
       "2020-06-17 23:45:00  90970022       0.0       0.0  127962.767857  156142755.0\n",
       "\n",
       "[1630 rows x 5 columns]"
      ]
     },
     "execution_count": 52,
     "metadata": {},
     "output_type": "execute_result"
    }
   ],
   "source": [
    "# Seeing the month of june here.\n",
    "\n",
    "pred_gen_jun = pred_gen_og[(pred_gen_og.index.month == 6)]\n",
    "pred_gen_jun = pred_gen_jun.groupby('DATE_TIME').sum()\n",
    "pred_gen_jun\n",
    "\n",
    "# per the plot below, there is a drop off in the beginning of the month."
   ]
  },
  {
   "cell_type": "code",
   "execution_count": 53,
   "metadata": {},
   "outputs": [
    {
     "data": {
      "image/png": "[encoded data removed]",
      "text/plain": [
       "<Figure size 864x288 with 1 Axes>"
      ]
     },
     "metadata": {},
     "output_type": "display_data"
    }
   ],
   "source": [
    "plt.subplots(figsize = (12,4))\n",
    "plt.plot(pred_gen_jun.DAILY_YIELD)\n",
    "plt.title('jun 2020, cumulative');"
   ]
  },
  {
   "cell_type": "code",
   "execution_count": 85,
   "metadata": {},
   "outputs": [
    {
     "data": {
      "text/html": [
       "<div>\n",
       "<style scoped>\n",
       "    .dataframe tbody tr th:only-of-type {\n",
       "        vertical-align: middle;\n",
       "    }\n",
       "\n",
       "    .dataframe tbody tr th {\n",
       "        vertical-align: top;\n",
       "    }\n",
       "\n",
       "    .dataframe thead th {\n",
       "        text-align: right;\n",
       "    }\n",
       "</style>\n",
       "<table border=\"1\" class=\"dataframe\">\n",
       "  <thead>\n",
       "    <tr style=\"text-align: right;\">\n",
       "      <th></th>\n",
       "      <th>DAILY_YIELD</th>\n",
       "    </tr>\n",
       "    <tr>\n",
       "      <th>DATE_TIME</th>\n",
       "      <th></th>\n",
       "    </tr>\n",
       "  </thead>\n",
       "  <tbody>\n",
       "    <tr>\n",
       "      <th>2020-06-13 00:00:00</th>\n",
       "      <td>5683.214286</td>\n",
       "    </tr>\n",
       "    <tr>\n",
       "      <th>2020-06-13 00:15:00</th>\n",
       "      <td>0.000000</td>\n",
       "    </tr>\n",
       "    <tr>\n",
       "      <th>2020-06-13 00:30:00</th>\n",
       "      <td>0.000000</td>\n",
       "    </tr>\n",
       "    <tr>\n",
       "      <th>2020-06-13 00:45:00</th>\n",
       "      <td>0.000000</td>\n",
       "    </tr>\n",
       "    <tr>\n",
       "      <th>2020-06-13 01:00:00</th>\n",
       "      <td>0.000000</td>\n",
       "    </tr>\n",
       "    <tr>\n",
       "      <th>...</th>\n",
       "      <td>...</td>\n",
       "    </tr>\n",
       "    <tr>\n",
       "      <th>2020-06-17 22:45:00</th>\n",
       "      <td>129571.000000</td>\n",
       "    </tr>\n",
       "    <tr>\n",
       "      <th>2020-06-17 23:00:00</th>\n",
       "      <td>129571.000000</td>\n",
       "    </tr>\n",
       "    <tr>\n",
       "      <th>2020-06-17 23:15:00</th>\n",
       "      <td>129571.000000</td>\n",
       "    </tr>\n",
       "    <tr>\n",
       "      <th>2020-06-17 23:30:00</th>\n",
       "      <td>129571.000000</td>\n",
       "    </tr>\n",
       "    <tr>\n",
       "      <th>2020-06-17 23:45:00</th>\n",
       "      <td>127962.767857</td>\n",
       "    </tr>\n",
       "  </tbody>\n",
       "</table>\n",
       "<p>478 rows × 1 columns</p>\n",
       "</div>"
      ],
      "text/plain": [
       "                       DAILY_YIELD\n",
       "DATE_TIME                         \n",
       "2020-06-13 00:00:00    5683.214286\n",
       "2020-06-13 00:15:00       0.000000\n",
       "2020-06-13 00:30:00       0.000000\n",
       "2020-06-13 00:45:00       0.000000\n",
       "2020-06-13 01:00:00       0.000000\n",
       "...                            ...\n",
       "2020-06-17 22:45:00  129571.000000\n",
       "2020-06-17 23:00:00  129571.000000\n",
       "2020-06-17 23:15:00  129571.000000\n",
       "2020-06-17 23:30:00  129571.000000\n",
       "2020-06-17 23:45:00  127962.767857\n",
       "\n",
       "[478 rows x 1 columns]"
      ]
     },
     "execution_count": 85,
     "metadata": {},
     "output_type": "execute_result"
    }
   ],
   "source": [
    "# pred_gen: data from 6/13 and on\n",
    "\n",
    "pred_gen = pred_gen_jun[pred_gen_jun.index >= '2020-06-13 00:00:00'][['DAILY_YIELD']]\n",
    "# Note: df['col'] returns a series. And, you can use the to_frame method to convert that series into a dataframe. Or use the double brackets, [[]].\n",
    "\n",
    "pred_gen"
   ]
  },
  {
   "cell_type": "code",
   "execution_count": 86,
   "metadata": {},
   "outputs": [
    {
     "data": {
      "image/png": "[encoded data removed]",
      "text/plain": [
       "<Figure size 432x288 with 1 Axes>"
      ]
     },
     "metadata": {},
     "output_type": "display_data"
    }
   ],
   "source": [
    "# trying to see what the daily_yield at 00:00:00 time stamp means. There is no dc output then...\n",
    "\n",
    "pred_gen_5_31 = pred_gen_og[(pred_gen_og.index.month == 5) \n",
    "                            & (pred_gen_og.index.day == 31)].groupby('DATE_TIME').sum()\n",
    "plt.plot(pred_gen_5_31.DAILY_YIELD, label='daily_yield')\n",
    "plt.plot(pred_gen_5_31.DC_POWER, label='dc_power')\n",
    "plt.plot(pred_gen_5_31.AC_POWER, label='ac_power')\n",
    "plt.legend()\n",
    "plt.show()\n",
    "\n",
    "# Don't know what is happenig here..\n",
    "# Going to leave this for now, and continue with my models"
   ]
  },
  {
   "cell_type": "code",
   "execution_count": 87,
   "metadata": {},
   "outputs": [
    {
     "data": {
      "text/plain": [
       "(478, 1)"
      ]
     },
     "execution_count": 87,
     "metadata": {},
     "output_type": "execute_result"
    }
   ],
   "source": [
    "pred_gen.shape"
   ]
  },
  {
   "cell_type": "code",
   "execution_count": 88,
   "metadata": {},
   "outputs": [
    {
     "data": {
      "image/png": "[encoded data removed]",
      "text/plain": [
       "<Figure size 432x288 with 1 Axes>"
      ]
     },
     "metadata": {},
     "output_type": "display_data"
    }
   ],
   "source": [
    "plt.plot(pred_gen)\n",
    "plt.title('DAILY YIELD \\n 6/13/2020 - 6/17/2020');"
   ]
  },
  {
   "cell_type": "code",
   "execution_count": 89,
   "metadata": {},
   "outputs": [
    {
     "name": "stdout",
     "output_type": "stream",
     "text": [
      "96\n",
      "96\n",
      "96\n",
      "96\n",
      "94\n"
     ]
    }
   ],
   "source": [
    "# checking number of records per day (for seasonality (m) within ARIMA):\n",
    "\n",
    "print(len(pred_gen[pred_gen.index.day == 13]))\n",
    "print(len(pred_gen[pred_gen.index.day == 14]))\n",
    "print(len(pred_gen[pred_gen.index.day == 15]))\n",
    "print(len(pred_gen[pred_gen.index.day == 16]))\n",
    "print(len(pred_gen[pred_gen.index.day == 17]))"
   ]
  },
  {
   "cell_type": "markdown",
   "metadata": {},
   "source": [
    "## Dickey-Fuller Test"
   ]
  },
  {
   "cell_type": "code",
   "execution_count": 90,
   "metadata": {},
   "outputs": [
    {
     "name": "stdout",
     "output_type": "stream",
     "text": [
      "Augmented Dickey-Fuller Test:\n",
      "ADF Test Statistic : -2.6038808334484527\n",
      "p-value : 0.09219782793309467\n",
      "#Lags Used : 1\n",
      "Number of Observations Used : 476\n",
      "weak evidence against null hypothesis, time series has a unit root, indicating it is non-stationary \n"
     ]
    }
   ],
   "source": [
    "result = adfuller(pred_gen['DAILY_YIELD'])\n",
    "print('Augmented Dickey-Fuller Test:')\n",
    "labels = ['ADF Test Statistic','p-value','#Lags Used','Number of Observations Used']\n",
    "\n",
    "for value,label in zip(result,labels):\n",
    "    print(label+' : '+str(value) )\n",
    "    \n",
    "if result[1] <= 0.05:\n",
    "    print(\"strong evidence against the null hypothesis, reject the null hypothesis. Data has no unit root and is stationary\")\n",
    "else:\n",
    "    print(\"weak evidence against null hypothesis, time series has a unit root, indicating it is non-stationary \")"
   ]
  },
  {
   "cell_type": "code",
   "execution_count": 118,
   "metadata": {},
   "outputs": [
    {
     "data": {
      "text/plain": [
       "(-2.6038808334484527,\n",
       " 0.09219782793309467,\n",
       " 1,\n",
       " 476,\n",
       " {'1%': -3.444162847239118,\n",
       "  '5%': -2.8676311169658177,\n",
       "  '10%': -2.5700143303792107},\n",
       " 10020.044319459144)"
      ]
     },
     "execution_count": 118,
     "metadata": {},
     "output_type": "execute_result"
    }
   ],
   "source": [
    "result"
   ]
  },
  {
   "cell_type": "markdown",
   "metadata": {},
   "source": [
    "## Test-Train Split"
   ]
  },
  {
   "cell_type": "code",
   "execution_count": 106,
   "metadata": {},
   "outputs": [
    {
     "name": "stdout",
     "output_type": "stream",
     "text": [
      "(382, 1) (96, 1)\n"
     ]
    },
    {
     "data": {
      "image/png": "[encoded data removed]",
      "text/plain": [
       "<Figure size 1080x360 with 1 Axes>"
      ]
     },
     "metadata": {},
     "output_type": "display_data"
    }
   ],
   "source": [
    "df = pred_gen\n",
    "eotri_percent = .8\n",
    "\n",
    "eotri = round(df.shape[0] * eotri_percent)\n",
    "\n",
    "train = df[:eotri]\n",
    "test = df[eotri:]\n",
    "\n",
    "print(train.shape, test.shape)\n",
    "\n",
    "fig,ax = plt.subplots(figsize=(15,5))\n",
    "ax.plot(train, label='Train Daily_Yield', color='navy')\n",
    "ax.plot(test, label='Test Daily_Yield', color='green')\n",
    "ax.set_title('Last 5 days of daily yield \\n train = 4 days \\n test = 1 day', fontsize=17)\n",
    "ax.legend(loc='upper left')\n",
    "plt.show()"
   ]
  },
  {
   "cell_type": "code",
   "execution_count": 92,
   "metadata": {},
   "outputs": [
    {
     "data": {
      "text/html": [
       "<div>\n",
       "<style scoped>\n",
       "    .dataframe tbody tr th:only-of-type {\n",
       "        vertical-align: middle;\n",
       "    }\n",
       "\n",
       "    .dataframe tbody tr th {\n",
       "        vertical-align: top;\n",
       "    }\n",
       "\n",
       "    .dataframe thead th {\n",
       "        text-align: right;\n",
       "    }\n",
       "</style>\n",
       "<table border=\"1\" class=\"dataframe\">\n",
       "  <thead>\n",
       "    <tr style=\"text-align: right;\">\n",
       "      <th></th>\n",
       "      <th>DAILY_YIELD</th>\n",
       "    </tr>\n",
       "    <tr>\n",
       "      <th>DATE_TIME</th>\n",
       "      <th></th>\n",
       "    </tr>\n",
       "  </thead>\n",
       "  <tbody>\n",
       "    <tr>\n",
       "      <th>2020-06-13 00:00:00</th>\n",
       "      <td>5683.214286</td>\n",
       "    </tr>\n",
       "    <tr>\n",
       "      <th>2020-06-13 00:15:00</th>\n",
       "      <td>0.000000</td>\n",
       "    </tr>\n",
       "    <tr>\n",
       "      <th>2020-06-13 00:30:00</th>\n",
       "      <td>0.000000</td>\n",
       "    </tr>\n",
       "    <tr>\n",
       "      <th>2020-06-13 00:45:00</th>\n",
       "      <td>0.000000</td>\n",
       "    </tr>\n",
       "    <tr>\n",
       "      <th>2020-06-13 01:00:00</th>\n",
       "      <td>0.000000</td>\n",
       "    </tr>\n",
       "  </tbody>\n",
       "</table>\n",
       "</div>"
      ],
      "text/plain": [
       "                     DAILY_YIELD\n",
       "DATE_TIME                       \n",
       "2020-06-13 00:00:00  5683.214286\n",
       "2020-06-13 00:15:00     0.000000\n",
       "2020-06-13 00:30:00     0.000000\n",
       "2020-06-13 00:45:00     0.000000\n",
       "2020-06-13 01:00:00     0.000000"
      ]
     },
     "execution_count": 92,
     "metadata": {},
     "output_type": "execute_result"
    }
   ],
   "source": [
    "train.head()"
   ]
  },
  {
   "cell_type": "code",
   "execution_count": 93,
   "metadata": {},
   "outputs": [
    {
     "data": {
      "text/html": [
       "<div>\n",
       "<style scoped>\n",
       "    .dataframe tbody tr th:only-of-type {\n",
       "        vertical-align: middle;\n",
       "    }\n",
       "\n",
       "    .dataframe tbody tr th {\n",
       "        vertical-align: top;\n",
       "    }\n",
       "\n",
       "    .dataframe thead th {\n",
       "        text-align: right;\n",
       "    }\n",
       "</style>\n",
       "<table border=\"1\" class=\"dataframe\">\n",
       "  <thead>\n",
       "    <tr style=\"text-align: right;\">\n",
       "      <th></th>\n",
       "      <th>DAILY_YIELD</th>\n",
       "    </tr>\n",
       "    <tr>\n",
       "      <th>DATE_TIME</th>\n",
       "      <th></th>\n",
       "    </tr>\n",
       "  </thead>\n",
       "  <tbody>\n",
       "    <tr>\n",
       "      <th>2020-06-16 23:30:00</th>\n",
       "      <td>136429.000000</td>\n",
       "    </tr>\n",
       "    <tr>\n",
       "      <th>2020-06-16 23:45:00</th>\n",
       "      <td>134079.375000</td>\n",
       "    </tr>\n",
       "    <tr>\n",
       "      <th>2020-06-17 00:00:00</th>\n",
       "      <td>6955.232143</td>\n",
       "    </tr>\n",
       "    <tr>\n",
       "      <th>2020-06-17 00:15:00</th>\n",
       "      <td>0.000000</td>\n",
       "    </tr>\n",
       "    <tr>\n",
       "      <th>2020-06-17 00:30:00</th>\n",
       "      <td>0.000000</td>\n",
       "    </tr>\n",
       "  </tbody>\n",
       "</table>\n",
       "</div>"
      ],
      "text/plain": [
       "                       DAILY_YIELD\n",
       "DATE_TIME                         \n",
       "2020-06-16 23:30:00  136429.000000\n",
       "2020-06-16 23:45:00  134079.375000\n",
       "2020-06-17 00:00:00    6955.232143\n",
       "2020-06-17 00:15:00       0.000000\n",
       "2020-06-17 00:30:00       0.000000"
      ]
     },
     "execution_count": 93,
     "metadata": {},
     "output_type": "execute_result"
    }
   ],
   "source": [
    "test.head()"
   ]
  },
  {
   "cell_type": "markdown",
   "metadata": {},
   "source": [
    "## auto_arima"
   ]
  },
  {
   "cell_type": "code",
   "execution_count": 120,
   "metadata": {},
   "outputs": [
    {
     "name": "stdout",
     "output_type": "stream",
     "text": [
      "i =  1 \n",
      "\n"
     ]
    },
    {
     "data": {
      "image/png": "[encoded data removed]",
      "text/plain": [
       "<Figure size 432x288 with 1 Axes>"
      ]
     },
     "metadata": {},
     "output_type": "display_data"
    },
    {
     "data": {
      "image/png": "[encoded data removed]",
      "text/plain": [
       "<Figure size 432x288 with 1 Axes>"
      ]
     },
     "metadata": {},
     "output_type": "display_data"
    }
   ],
   "source": [
    "# Number of differencing needed for stationarity:\n",
    "\n",
    "i = i_n(train.DAILY_YIELD)\n",
    "print('i = ', i, '\\n')\n",
    "\n",
    "plot_pacf(np.diff(train.DAILY_YIELD,i)); #ar\n",
    "\n",
    "plot_acf(np.diff(train.DAILY_YIELD,i)); #ma"
   ]
  },
  {
   "cell_type": "markdown",
   "metadata": {},
   "source": [
    "#### Per above, the best ar,i,ma values = 1,1,1\n",
    "\n",
    "let's check with auto_arima below:"
   ]
  },
  {
   "cell_type": "code",
   "execution_count": 127,
   "metadata": {},
   "outputs": [
    {
     "name": "stdout",
     "output_type": "stream",
     "text": [
      "Performing stepwise search to minimize aic\n",
      " ARIMA(0,1,0)(0,1,0)[96]             : AIC=5067.919, Time=2.16 sec\n",
      " ARIMA(1,1,0)(1,1,0)[96]             : AIC=4789.601, Time=40.43 sec\n"
     ]
    },
    {
     "name": "stderr",
     "output_type": "stream",
     "text": [
      "/Users/oz/opt/anaconda3/lib/python3.8/site-packages/statsmodels/tsa/statespace/sarimax.py:866: UserWarning: Too few observations to estimate starting parameters for seasonal ARMA. All parameters except for variances will be set to zeros.\n",
      "  warn('Too few observations to estimate starting parameters%s.'\n"
     ]
    },
    {
     "name": "stdout",
     "output_type": "stream",
     "text": [
      " ARIMA(0,1,1)(0,1,1)[96]             : AIC=4862.931, Time=13.61 sec\n",
      " ARIMA(1,1,0)(0,1,0)[96]             : AIC=5053.868, Time=2.15 sec\n"
     ]
    },
    {
     "name": "stderr",
     "output_type": "stream",
     "text": [
      "/Users/oz/opt/anaconda3/lib/python3.8/site-packages/statsmodels/tsa/statespace/sarimax.py:866: UserWarning: Too few observations to estimate starting parameters for seasonal ARMA. All parameters except for variances will be set to zeros.\n",
      "  warn('Too few observations to estimate starting parameters%s.'\n"
     ]
    },
    {
     "name": "stdout",
     "output_type": "stream",
     "text": [
      " ARIMA(1,1,0)(1,1,1)[96]             : AIC=4778.731, Time=64.79 sec\n"
     ]
    },
    {
     "name": "stderr",
     "output_type": "stream",
     "text": [
      "/Users/oz/opt/anaconda3/lib/python3.8/site-packages/statsmodels/tsa/statespace/sarimax.py:866: UserWarning: Too few observations to estimate starting parameters for seasonal ARMA. All parameters except for variances will be set to zeros.\n",
      "  warn('Too few observations to estimate starting parameters%s.'\n"
     ]
    },
    {
     "name": "stdout",
     "output_type": "stream",
     "text": [
      " ARIMA(1,1,0)(0,1,1)[96]             : AIC=4861.848, Time=13.43 sec\n"
     ]
    },
    {
     "name": "stderr",
     "output_type": "stream",
     "text": [
      "/Users/oz/opt/anaconda3/lib/python3.8/site-packages/statsmodels/tsa/statespace/sarimax.py:866: UserWarning: Too few observations to estimate starting parameters for seasonal ARMA. All parameters except for variances will be set to zeros.\n",
      "  warn('Too few observations to estimate starting parameters%s.'\n"
     ]
    },
    {
     "name": "stdout",
     "output_type": "stream",
     "text": [
      " ARIMA(0,1,0)(1,1,1)[96]             : AIC=4902.160, Time=21.76 sec\n"
     ]
    },
    {
     "name": "stderr",
     "output_type": "stream",
     "text": [
      "/Users/oz/opt/anaconda3/lib/python3.8/site-packages/statsmodels/tsa/statespace/sarimax.py:866: UserWarning: Too few observations to estimate starting parameters for seasonal ARMA. All parameters except for variances will be set to zeros.\n",
      "  warn('Too few observations to estimate starting parameters%s.'\n"
     ]
    },
    {
     "name": "stdout",
     "output_type": "stream",
     "text": [
      " ARIMA(2,1,0)(1,1,1)[96]             : AIC=4864.875, Time=37.31 sec\n"
     ]
    },
    {
     "name": "stderr",
     "output_type": "stream",
     "text": [
      "/Users/oz/opt/anaconda3/lib/python3.8/site-packages/statsmodels/tsa/statespace/sarimax.py:866: UserWarning: Too few observations to estimate starting parameters for seasonal ARMA. All parameters except for variances will be set to zeros.\n",
      "  warn('Too few observations to estimate starting parameters%s.'\n"
     ]
    },
    {
     "name": "stdout",
     "output_type": "stream",
     "text": [
      " ARIMA(1,1,1)(1,1,1)[96]             : AIC=4865.791, Time=40.28 sec\n"
     ]
    },
    {
     "name": "stderr",
     "output_type": "stream",
     "text": [
      "/Users/oz/opt/anaconda3/lib/python3.8/site-packages/statsmodels/tsa/statespace/sarimax.py:866: UserWarning: Too few observations to estimate starting parameters for seasonal ARMA. All parameters except for variances will be set to zeros.\n",
      "  warn('Too few observations to estimate starting parameters%s.'\n"
     ]
    },
    {
     "name": "stdout",
     "output_type": "stream",
     "text": [
      " ARIMA(0,1,1)(1,1,1)[96]             : AIC=4864.721, Time=64.37 sec\n"
     ]
    },
    {
     "name": "stderr",
     "output_type": "stream",
     "text": [
      "/Users/oz/opt/anaconda3/lib/python3.8/site-packages/statsmodels/tsa/statespace/sarimax.py:963: UserWarning: Non-stationary starting autoregressive parameters found. Using zeros as starting parameters.\n",
      "  warn('Non-stationary starting autoregressive parameters'\n",
      "/Users/oz/opt/anaconda3/lib/python3.8/site-packages/statsmodels/tsa/statespace/sarimax.py:975: UserWarning: Non-invertible starting MA parameters found. Using zeros as starting parameters.\n",
      "  warn('Non-invertible starting MA parameters found.'\n",
      "/Users/oz/opt/anaconda3/lib/python3.8/site-packages/statsmodels/tsa/statespace/sarimax.py:866: UserWarning: Too few observations to estimate starting parameters for seasonal ARMA. All parameters except for variances will be set to zeros.\n",
      "  warn('Too few observations to estimate starting parameters%s.'\n"
     ]
    },
    {
     "name": "stdout",
     "output_type": "stream",
     "text": [
      " ARIMA(2,1,1)(1,1,1)[96]             : AIC=4867.256, Time=48.07 sec\n"
     ]
    },
    {
     "name": "stderr",
     "output_type": "stream",
     "text": [
      "/Users/oz/opt/anaconda3/lib/python3.8/site-packages/statsmodels/tsa/statespace/sarimax.py:866: UserWarning: Too few observations to estimate starting parameters for seasonal ARMA. All parameters except for variances will be set to zeros.\n",
      "  warn('Too few observations to estimate starting parameters%s.'\n"
     ]
    },
    {
     "name": "stdout",
     "output_type": "stream",
     "text": [
      " ARIMA(1,1,0)(1,1,1)[96] intercept   : AIC=4779.901, Time=95.62 sec\n",
      "\n",
      "Best model:  ARIMA(1,1,0)(1,1,1)[96]          \n",
      "Total fit time: 444.290 seconds\n"
     ]
    }
   ],
   "source": [
    "arima_model = auto_arima(train,\n",
    "                         start_p=0,d=i,start_q=0,\n",
    "                         max_p=4,max_d=4,max_q=4,\n",
    "                         start_P=0,D=1,start_Q=0,\n",
    "                         max_P=1,max_D=1,max_Q=1,m=96,\n",
    "                         seasonal=True,\n",
    "                         error_action='warn',trace=True,\n",
    "                         supress_warning=True,stepwise=True,\n",
    "                         random_state=20,n_fits=1)"
   ]
  },
  {
   "cell_type": "markdown",
   "metadata": {},
   "source": [
    "## Predicting"
   ]
  },
  {
   "cell_type": "code",
   "execution_count": 149,
   "metadata": {
    "collapsed": true,
    "jupyter": {
     "outputs_hidden": true
    }
   },
   "outputs": [
    {
     "data": {
      "text/plain": [
       "(array([136431.01577139, 133115.00253376,  -5393.55561408, -13084.3058679 ,\n",
       "        -13084.16942113, -13084.16524444, -13084.16511659, -13084.16511268,\n",
       "        -13084.16511256, -13084.16511255, -13084.16511255, -13084.16511255,\n",
       "        -13084.16511255, -13084.16511255, -13084.16511255, -13084.16511255,\n",
       "        -13084.16511255, -13084.16511255, -13084.16511255, -13084.16511255,\n",
       "        -13084.16511255, -13084.16511255, -13084.16511256, -13084.16511277,\n",
       "        -13084.16511951, -13084.16533997, -13082.011127  , -13029.7375261 ,\n",
       "        -12777.87472952, -12288.5431987 , -11592.12662303, -10548.21373107,\n",
       "         -9168.33868685,  -7577.90097469,  -5195.63285383,  -2365.16368973,\n",
       "           493.24391388,   3896.33967458,   7157.05030265,  10731.77300959,\n",
       "         14641.79265031,  19250.02806501,  24366.60228858,  30183.39143947,\n",
       "         35328.30751867,  39924.28052993,  45861.50058212,  50988.04114663,\n",
       "         54989.52683727,  58963.11025552,  62135.59377823,  64833.51025712,\n",
       "         68673.56671855,  72239.49053172,  75441.95899377,  79091.3635094 ,\n",
       "         83253.41456147,  86327.47554071,  89949.92143001,  92751.13471088,\n",
       "         96572.51801333, 101645.95141135, 104697.8718676 , 107327.20956667,\n",
       "        110314.34196829, 113593.97860358, 116161.02812094, 118290.078099  ,\n",
       "        119914.44492419, 121345.07462249, 122598.34004612, 123646.94522356,\n",
       "        124536.54881832, 125206.05405607, 125661.27990893, 125923.25113836,\n",
       "        126026.19707009, 126034.36148742, 126034.36129447, 126034.36128856,\n",
       "        126034.36128838, 126034.36128837, 126034.36128837, 126034.36128837,\n",
       "        126034.36128837, 126034.36128837, 126034.36128837, 126034.36128837,\n",
       "        126034.36128837, 126034.36128837, 126034.36128837, 126034.36128841,\n",
       "        126034.3612891 , 126034.36130465, 126034.361703  , 126034.37297564]),\n",
       " array([[134413.93000458, 138448.10153821],\n",
       "        [130171.04789856, 136058.95716897],\n",
       "        [ -9040.41498016,  -1746.69624799],\n",
       "        [-17319.21156799,  -8849.40016781],\n",
       "        [-17834.89643762,  -8333.44240465],\n",
       "        [-18299.94867282,  -7868.38181606],\n",
       "        [-18726.80518188,  -7441.5250513 ],\n",
       "        [-19123.56715887,  -7044.76306648],\n",
       "        [-19495.82380957,  -6672.50641554],\n",
       "        [-19847.6226173 ,  -6320.70760781],\n",
       "        [-20182.00616389,  -5986.32406122],\n",
       "        [-20501.33018835,  -5667.00003676],\n",
       "        [-20807.46284947,  -5360.86737563],\n",
       "        [-21101.91530227,  -5066.41492284],\n",
       "        [-21385.93048362,  -4782.39974149],\n",
       "        [-21660.54537743,  -4507.78484768],\n",
       "        [-21926.63584303,  -4241.69438208],\n",
       "        [-22184.94962768,  -3983.38059742],\n",
       "        [-22436.13116052,  -3732.19906458],\n",
       "        [-22680.74049828,  -3487.58972683],\n",
       "        [-22919.26802536,  -3249.06219975],\n",
       "        [-23152.14601624,  -3016.18420887],\n",
       "        [-23379.75784191,  -2788.57238321],\n",
       "        [-23602.4453819 ,  -2565.88484363],\n",
       "        [-23820.51505753,  -2347.81518149],\n",
       "        [-24034.24297272,  -2134.08770722],\n",
       "        [-24241.72395192,  -1922.29830208],\n",
       "        [-24395.21950032,  -1664.25555188],\n",
       "        [-24345.46612435,  -1210.28333469],\n",
       "        [-24054.77287729,   -522.31352011],\n",
       "        [-23553.69637875,    369.44313268],\n",
       "        [-22701.98438846,   1605.55692632],\n",
       "        [-21511.31771802,   3174.64034432],\n",
       "        [-20107.2314251 ,   4951.42947572],\n",
       "        [-17908.58340463,   7517.31769696],\n",
       "        [-15259.11971101,  10528.79233154],\n",
       "        [-12579.21155746,  13565.69938522],\n",
       "        [ -9352.21051862,  17144.88986778],\n",
       "        [ -6265.28453124,  20579.38513655],\n",
       "        [ -2862.12498049,  24325.67099968],\n",
       "        [   878.46991428,  28405.11538635],\n",
       "        [  5319.34097113,  33180.7151589 ],\n",
       "        [ 10270.53783501,  38462.66674216],\n",
       "        [ 15923.86749051,  44442.91538843],\n",
       "        [ 20907.17672312,  49749.43831423],\n",
       "        [ 25343.33393535,  54505.22712451],\n",
       "        [ 31122.4709748 ,  60600.53018944],\n",
       "        [ 36092.60614335,  65883.47614992],\n",
       "        [ 39939.31175214,  70039.7419224 ],\n",
       "        [ 43759.69076252,  74166.52974852],\n",
       "        [ 46780.49838772,  77490.68916874],\n",
       "        [ 49328.22262279,  80338.79789145],\n",
       "        [ 53019.52778942,  84327.60564768],\n",
       "        [ 56438.10056228,  88040.88050116],\n",
       "        [ 59494.57942414,  91389.3385634 ],\n",
       "        [ 62999.31872604,  95183.40829275],\n",
       "        [ 67017.99354811,  99488.83557483],\n",
       "        [ 69949.93342803, 102705.01765338],\n",
       "        [ 73431.48095205, 106468.36190797],\n",
       "        [ 76092.98757515, 109409.28184661],\n",
       "        [ 79775.82619121, 113369.20983544],\n",
       "        [ 84711.84835454, 118580.05446816],\n",
       "        [ 87627.46365601, 121768.28007918],\n",
       "        [ 90121.5759927 , 124532.84314064],\n",
       "        [ 92974.53756186, 127654.14637472],\n",
       "        [ 96121.0336021 , 131066.92360506],\n",
       "        [ 98555.94938791, 133766.10685397],\n",
       "        [100553.84999469, 136026.3062033 ],\n",
       "        [102048.03013164, 137780.85971674],\n",
       "        [103349.41493158, 139340.73431339],\n",
       "        [104474.35709859, 140722.32299366],\n",
       "        [105395.54122129, 141898.34922583],\n",
       "        [106158.6071973 , 142914.49043934],\n",
       "        [106702.44012805, 143709.66798409],\n",
       "        [107032.8414728 , 144289.71834506],\n",
       "        [107170.81906302, 144675.6832137 ],\n",
       "        [107150.58585053, 144901.80828964],\n",
       "        [107036.36977557, 145032.35319926],\n",
       "        [106914.77240624, 145153.95018269],\n",
       "        [106793.94368846, 145274.77888866],\n",
       "        [106673.86905295, 145394.8535238 ],\n",
       "        [106554.53454968, 145514.18802706],\n",
       "        [106435.92665851, 145632.79591823],\n",
       "        [106318.03226615, 145750.69031059],\n",
       "        [106200.83864906, 145867.88392768],\n",
       "        [106084.33345742, 145984.38911932],\n",
       "        [105968.50469995, 146100.2178768 ],\n",
       "        [105853.34072947, 146215.38184727],\n",
       "        [105738.83022929, 146329.89234746],\n",
       "        [105624.96220016, 146443.76037658],\n",
       "        [105511.72594802, 146556.99662873],\n",
       "        [105399.11107222, 146669.6115046 ],\n",
       "        [105287.107455  , 146781.61512319],\n",
       "        [105175.70526388, 146893.01734542],\n",
       "        [105064.89528217, 147003.82812383],\n",
       "        [104954.67868575, 147114.06726552]]))"
      ]
     },
     "execution_count": 149,
     "metadata": {},
     "output_type": "execute_result"
    }
   ],
   "source": [
    "prediction = arima_model.predict(n_periods=96, return_conf_int=True)\n",
    "prediction"
   ]
  },
  {
   "cell_type": "code",
   "execution_count": 187,
   "metadata": {},
   "outputs": [
    {
     "data": {
      "text/html": [
       "<div>\n",
       "<style scoped>\n",
       "    .dataframe tbody tr th:only-of-type {\n",
       "        vertical-align: middle;\n",
       "    }\n",
       "\n",
       "    .dataframe tbody tr th {\n",
       "        vertical-align: top;\n",
       "    }\n",
       "\n",
       "    .dataframe thead th {\n",
       "        text-align: right;\n",
       "    }\n",
       "</style>\n",
       "<table border=\"1\" class=\"dataframe\">\n",
       "  <thead>\n",
       "    <tr style=\"text-align: right;\">\n",
       "      <th></th>\n",
       "      <th>pred_daily_yld</th>\n",
       "      <th>conf_lower</th>\n",
       "      <th>conf_upper</th>\n",
       "    </tr>\n",
       "    <tr>\n",
       "      <th>DATE_TIME</th>\n",
       "      <th></th>\n",
       "      <th></th>\n",
       "      <th></th>\n",
       "    </tr>\n",
       "  </thead>\n",
       "  <tbody>\n",
       "    <tr>\n",
       "      <th>2020-06-16 23:30:00</th>\n",
       "      <td>136431.015771</td>\n",
       "      <td>134413.930005</td>\n",
       "      <td>138448.101538</td>\n",
       "    </tr>\n",
       "    <tr>\n",
       "      <th>2020-06-16 23:45:00</th>\n",
       "      <td>133115.002534</td>\n",
       "      <td>130171.047899</td>\n",
       "      <td>136058.957169</td>\n",
       "    </tr>\n",
       "    <tr>\n",
       "      <th>2020-06-17 00:00:00</th>\n",
       "      <td>0.000000</td>\n",
       "      <td>0.000000</td>\n",
       "      <td>0.000000</td>\n",
       "    </tr>\n",
       "    <tr>\n",
       "      <th>2020-06-17 00:15:00</th>\n",
       "      <td>0.000000</td>\n",
       "      <td>0.000000</td>\n",
       "      <td>0.000000</td>\n",
       "    </tr>\n",
       "    <tr>\n",
       "      <th>2020-06-17 00:30:00</th>\n",
       "      <td>0.000000</td>\n",
       "      <td>0.000000</td>\n",
       "      <td>0.000000</td>\n",
       "    </tr>\n",
       "    <tr>\n",
       "      <th>...</th>\n",
       "      <td>...</td>\n",
       "      <td>...</td>\n",
       "      <td>...</td>\n",
       "    </tr>\n",
       "    <tr>\n",
       "      <th>2020-06-17 22:45:00</th>\n",
       "      <td>126034.361288</td>\n",
       "      <td>105399.111072</td>\n",
       "      <td>146669.611505</td>\n",
       "    </tr>\n",
       "    <tr>\n",
       "      <th>2020-06-17 23:00:00</th>\n",
       "      <td>126034.361289</td>\n",
       "      <td>105287.107455</td>\n",
       "      <td>146781.615123</td>\n",
       "    </tr>\n",
       "    <tr>\n",
       "      <th>2020-06-17 23:15:00</th>\n",
       "      <td>126034.361305</td>\n",
       "      <td>105175.705264</td>\n",
       "      <td>146893.017345</td>\n",
       "    </tr>\n",
       "    <tr>\n",
       "      <th>2020-06-17 23:30:00</th>\n",
       "      <td>126034.361703</td>\n",
       "      <td>105064.895282</td>\n",
       "      <td>147003.828124</td>\n",
       "    </tr>\n",
       "    <tr>\n",
       "      <th>2020-06-17 23:45:00</th>\n",
       "      <td>126034.372976</td>\n",
       "      <td>104954.678686</td>\n",
       "      <td>147114.067266</td>\n",
       "    </tr>\n",
       "  </tbody>\n",
       "</table>\n",
       "<p>96 rows × 3 columns</p>\n",
       "</div>"
      ],
      "text/plain": [
       "                     pred_daily_yld     conf_lower     conf_upper\n",
       "DATE_TIME                                                        \n",
       "2020-06-16 23:30:00   136431.015771  134413.930005  138448.101538\n",
       "2020-06-16 23:45:00   133115.002534  130171.047899  136058.957169\n",
       "2020-06-17 00:00:00        0.000000       0.000000       0.000000\n",
       "2020-06-17 00:15:00        0.000000       0.000000       0.000000\n",
       "2020-06-17 00:30:00        0.000000       0.000000       0.000000\n",
       "...                             ...            ...            ...\n",
       "2020-06-17 22:45:00   126034.361288  105399.111072  146669.611505\n",
       "2020-06-17 23:00:00   126034.361289  105287.107455  146781.615123\n",
       "2020-06-17 23:15:00   126034.361305  105175.705264  146893.017345\n",
       "2020-06-17 23:30:00   126034.361703  105064.895282  147003.828124\n",
       "2020-06-17 23:45:00   126034.372976  104954.678686  147114.067266\n",
       "\n",
       "[96 rows x 3 columns]"
      ]
     },
     "execution_count": 187,
     "metadata": {},
     "output_type": "execute_result"
    }
   ],
   "source": [
    "# I need to convert prediction into a dataframe with cols: pred_daily_yld, conf_lower, conf_upper\n",
    "\n",
    "prediction_yhat_df = pd.DataFrame(prediction[0],index=test.index,columns=['pred_daily_yld'])\n",
    "prediction_yhat_df\n",
    "\n",
    "prediction_conf_df = pd.DataFrame(prediction[1], \n",
    "                                  index=test.index, \n",
    "                                  columns=['conf_lower', 'conf_upper'])\n",
    "\n",
    "# join the two \n",
    "prediction_df = prediction_yhat_df.join(prediction_conf_df)\n",
    "\n",
    "# zero out neg values in pred_daily_yld col only\n",
    "# prediction_df['pred_daily_yld'][prediction_df.pred_daily_yld < 0] = 0\n",
    "prediction_df[prediction_df < 0] = 0\n",
    "prediction_df"
   ]
  },
  {
   "cell_type": "code",
   "execution_count": 188,
   "metadata": {},
   "outputs": [
    {
     "data": {
      "text/html": [
       "<div>\n",
       "<style scoped>\n",
       "    .dataframe tbody tr th:only-of-type {\n",
       "        vertical-align: middle;\n",
       "    }\n",
       "\n",
       "    .dataframe tbody tr th {\n",
       "        vertical-align: top;\n",
       "    }\n",
       "\n",
       "    .dataframe thead th {\n",
       "        text-align: right;\n",
       "    }\n",
       "</style>\n",
       "<table border=\"1\" class=\"dataframe\">\n",
       "  <thead>\n",
       "    <tr style=\"text-align: right;\">\n",
       "      <th></th>\n",
       "      <th>pred_daily_yld</th>\n",
       "      <th>conf_lower</th>\n",
       "      <th>conf_upper</th>\n",
       "      <th>actual_daily_yld</th>\n",
       "    </tr>\n",
       "    <tr>\n",
       "      <th>DATE_TIME</th>\n",
       "      <th></th>\n",
       "      <th></th>\n",
       "      <th></th>\n",
       "      <th></th>\n",
       "    </tr>\n",
       "  </thead>\n",
       "  <tbody>\n",
       "    <tr>\n",
       "      <th>2020-06-16 23:30:00</th>\n",
       "      <td>136431.015771</td>\n",
       "      <td>134413.930005</td>\n",
       "      <td>138448.101538</td>\n",
       "      <td>136429.000000</td>\n",
       "    </tr>\n",
       "    <tr>\n",
       "      <th>2020-06-16 23:45:00</th>\n",
       "      <td>133115.002534</td>\n",
       "      <td>130171.047899</td>\n",
       "      <td>136058.957169</td>\n",
       "      <td>134079.375000</td>\n",
       "    </tr>\n",
       "    <tr>\n",
       "      <th>2020-06-17 00:00:00</th>\n",
       "      <td>0.000000</td>\n",
       "      <td>0.000000</td>\n",
       "      <td>0.000000</td>\n",
       "      <td>6955.232143</td>\n",
       "    </tr>\n",
       "    <tr>\n",
       "      <th>2020-06-17 00:15:00</th>\n",
       "      <td>0.000000</td>\n",
       "      <td>0.000000</td>\n",
       "      <td>0.000000</td>\n",
       "      <td>0.000000</td>\n",
       "    </tr>\n",
       "    <tr>\n",
       "      <th>2020-06-17 00:30:00</th>\n",
       "      <td>0.000000</td>\n",
       "      <td>0.000000</td>\n",
       "      <td>0.000000</td>\n",
       "      <td>0.000000</td>\n",
       "    </tr>\n",
       "  </tbody>\n",
       "</table>\n",
       "</div>"
      ],
      "text/plain": [
       "                     pred_daily_yld     conf_lower     conf_upper  \\\n",
       "DATE_TIME                                                           \n",
       "2020-06-16 23:30:00   136431.015771  134413.930005  138448.101538   \n",
       "2020-06-16 23:45:00   133115.002534  130171.047899  136058.957169   \n",
       "2020-06-17 00:00:00        0.000000       0.000000       0.000000   \n",
       "2020-06-17 00:15:00        0.000000       0.000000       0.000000   \n",
       "2020-06-17 00:30:00        0.000000       0.000000       0.000000   \n",
       "\n",
       "                     actual_daily_yld  \n",
       "DATE_TIME                              \n",
       "2020-06-16 23:30:00     136429.000000  \n",
       "2020-06-16 23:45:00     134079.375000  \n",
       "2020-06-17 00:00:00       6955.232143  \n",
       "2020-06-17 00:15:00          0.000000  \n",
       "2020-06-17 00:30:00          0.000000  "
      ]
     },
     "execution_count": 188,
     "metadata": {},
     "output_type": "execute_result"
    }
   ],
   "source": [
    "prediction_df['actual_daily_yld'] = test.DAILY_YIELD\n",
    "prediction_df.head()"
   ]
  },
  {
   "cell_type": "code",
   "execution_count": 215,
   "metadata": {},
   "outputs": [
    {
     "data": {
      "image/png": "[encoded data removed]",
      "text/plain": [
       "<Figure size 1296x360 with 1 Axes>"
      ]
     },
     "metadata": {},
     "output_type": "display_data"
    }
   ],
   "source": [
    "fig,ax = plt.subplots(figsize = (18,5))\n",
    "\n",
    "ax.plot(train.DAILY_YIELD, label = 'train daily_yield', color = 'navy')\n",
    "ax.plot(test.DAILY_YIELD, label = 'test daily_yield', color = 'green')\n",
    "ax.plot(prediction_df.pred_daily_yld, label = 'predicted daily_yield', color = 'darkorange')\n",
    "ax.fill_between(prediction_df.index, prediction_df.conf_lower, prediction_df.conf_upper, alpha=0.1)\n",
    "ax.legend(loc = 'upper left')\n",
    "ax.set_title('Train, Test, & Prediction \\n Jun 13th - Jun 17th ', size=15)\n",
    "ax.set_ylabel('Daily Yld (kW)', size=12)\n",
    "ax.set_xlabel('Dates', size=12)\n",
    "plt.show()"
   ]
  },
  {
   "cell_type": "code",
   "execution_count": 190,
   "metadata": {},
   "outputs": [
    {
     "name": "stdout",
     "output_type": "stream",
     "text": [
      "                                      SARIMAX Results                                       \n",
      "============================================================================================\n",
      "Dep. Variable:                                    y   No. Observations:                  382\n",
      "Model:             SARIMAX(1, 1, 0)x(1, 1, [1], 96)   Log Likelihood               -2385.366\n",
      "Date:                              Fri, 20 Nov 2020   AIC                           4778.731\n",
      "Time:                                      14:06:05   BIC                           4793.341\n",
      "Sample:                                           0   HQIC                          4784.588\n",
      "                                              - 382                                         \n",
      "Covariance Type:                                opg                                         \n",
      "==============================================================================\n",
      "                 coef    std err          z      P>|z|      [0.025      0.975]\n",
      "------------------------------------------------------------------------------\n",
      "ar.L1          0.0631      0.010      6.403      0.000       0.044       0.082\n",
      "ar.S.L96      -0.0412      0.035     -1.178      0.239      -0.110       0.027\n",
      "ma.S.L96      -0.1687      0.033     -5.059      0.000      -0.234      -0.103\n",
      "sigma2      1.059e+06   2.11e+04     50.303      0.000    1.02e+06     1.1e+06\n",
      "===================================================================================\n",
      "Ljung-Box (Q):                       55.24   Jarque-Bera (JB):             45424.18\n",
      "Prob(Q):                              0.05   Prob(JB):                         0.00\n",
      "Heteroskedasticity (H):               3.89   Skew:                             4.86\n",
      "Prob(H) (two-sided):                  0.00   Kurtosis:                        64.08\n",
      "===================================================================================\n",
      "\n",
      "Warnings:\n",
      "[1] Covariance matrix calculated using the outer product of gradients (complex-step).\n"
     ]
    }
   ],
   "source": [
    "print(arima_model.summary())"
   ]
  },
  {
   "cell_type": "code",
   "execution_count": 196,
   "metadata": {},
   "outputs": [
    {
     "name": "stdout",
     "output_type": "stream",
     "text": [
      "SARIMA R2 Score: 0.976500\n",
      "---------------\n",
      "SARIMA MAE Score: 6148.568241\n",
      "---------------\n",
      "SARIMA RMSE Score: 8743.150754\n"
     ]
    }
   ],
   "source": [
    "print('SARIMA R2 Score: %f' % (r2_score(prediction_df['actual_daily_yld'],\n",
    "                                        prediction_df['pred_daily_yld'])))\n",
    "print('-'*15)\n",
    "\n",
    "print('SARIMA MAE Score: %f' % (mean_absolute_error(prediction_df['actual_daily_yld'],\n",
    "                                        prediction_df['pred_daily_yld'])))\n",
    "print('-'*15)\n",
    "\n",
    "print('SARIMA RMSE Score: %f' % (mean_squared_error(prediction_df['actual_daily_yld'],\n",
    "                                                    prediction_df['pred_daily_yld']\n",
    "                                                    ,squared=False)))"
   ]
  },
  {
   "cell_type": "markdown",
   "metadata": {},
   "source": [
    "## Forecasting \n",
    "2 days ahead"
   ]
  },
  {
   "cell_type": "code",
   "execution_count": 130,
   "metadata": {},
   "outputs": [
    {
     "name": "stdout",
     "output_type": "stream",
     "text": [
      "1440 2880 96.0 192.0\n"
     ]
    }
   ],
   "source": [
    "# doing calculations for how many 'n's we need (n = periods). \n",
    "# We're going to use 2 more n's than what we have here to complete 2 days forward\n",
    "\n",
    "print(24*60, 24*60*2, 24*60/15, 24*60/15*2)"
   ]
  },
  {
   "cell_type": "code",
   "execution_count": 114,
   "metadata": {},
   "outputs": [],
   "source": [
    "# make a list of future dates with time stamps, to use as index when forecasting below\n",
    "\n",
    "future_dates = [test.index[-1] + DateOffset(minutes=x) for x in range(0,2910,15)]\n",
    "# 2880 doesn't go all the way to the end of 2 days, bc we're starting earlier\n",
    "# so use 2910"
   ]
  },
  {
   "cell_type": "code",
   "execution_count": 63,
   "metadata": {},
   "outputs": [
    {
     "name": "stdout",
     "output_type": "stream",
     "text": [
      "194\n"
     ]
    },
    {
     "data": {
      "text/plain": [
       "[Timestamp('2020-06-17 23:45:00'),\n",
       " Timestamp('2020-06-18 00:00:00'),\n",
       " Timestamp('2020-06-18 00:15:00'),\n",
       " Timestamp('2020-06-18 00:30:00'),\n",
       " Timestamp('2020-06-18 00:45:00'),\n",
       " Timestamp('2020-06-18 01:00:00'),\n",
       " Timestamp('2020-06-18 01:15:00'),\n",
       " Timestamp('2020-06-18 01:30:00'),\n",
       " Timestamp('2020-06-18 01:45:00'),\n",
       " Timestamp('2020-06-18 02:00:00'),\n",
       " Timestamp('2020-06-18 02:15:00'),\n",
       " Timestamp('2020-06-18 02:30:00'),\n",
       " Timestamp('2020-06-18 02:45:00'),\n",
       " Timestamp('2020-06-18 03:00:00'),\n",
       " Timestamp('2020-06-18 03:15:00'),\n",
       " Timestamp('2020-06-18 03:30:00'),\n",
       " Timestamp('2020-06-18 03:45:00'),\n",
       " Timestamp('2020-06-18 04:00:00'),\n",
       " Timestamp('2020-06-18 04:15:00'),\n",
       " Timestamp('2020-06-18 04:30:00'),\n",
       " Timestamp('2020-06-18 04:45:00'),\n",
       " Timestamp('2020-06-18 05:00:00'),\n",
       " Timestamp('2020-06-18 05:15:00'),\n",
       " Timestamp('2020-06-18 05:30:00'),\n",
       " Timestamp('2020-06-18 05:45:00'),\n",
       " Timestamp('2020-06-18 06:00:00'),\n",
       " Timestamp('2020-06-18 06:15:00'),\n",
       " Timestamp('2020-06-18 06:30:00'),\n",
       " Timestamp('2020-06-18 06:45:00'),\n",
       " Timestamp('2020-06-18 07:00:00'),\n",
       " Timestamp('2020-06-18 07:15:00'),\n",
       " Timestamp('2020-06-18 07:30:00'),\n",
       " Timestamp('2020-06-18 07:45:00'),\n",
       " Timestamp('2020-06-18 08:00:00'),\n",
       " Timestamp('2020-06-18 08:15:00'),\n",
       " Timestamp('2020-06-18 08:30:00'),\n",
       " Timestamp('2020-06-18 08:45:00'),\n",
       " Timestamp('2020-06-18 09:00:00'),\n",
       " Timestamp('2020-06-18 09:15:00'),\n",
       " Timestamp('2020-06-18 09:30:00'),\n",
       " Timestamp('2020-06-18 09:45:00'),\n",
       " Timestamp('2020-06-18 10:00:00'),\n",
       " Timestamp('2020-06-18 10:15:00'),\n",
       " Timestamp('2020-06-18 10:30:00'),\n",
       " Timestamp('2020-06-18 10:45:00'),\n",
       " Timestamp('2020-06-18 11:00:00'),\n",
       " Timestamp('2020-06-18 11:15:00'),\n",
       " Timestamp('2020-06-18 11:30:00'),\n",
       " Timestamp('2020-06-18 11:45:00'),\n",
       " Timestamp('2020-06-18 12:00:00'),\n",
       " Timestamp('2020-06-18 12:15:00'),\n",
       " Timestamp('2020-06-18 12:30:00'),\n",
       " Timestamp('2020-06-18 12:45:00'),\n",
       " Timestamp('2020-06-18 13:00:00'),\n",
       " Timestamp('2020-06-18 13:15:00'),\n",
       " Timestamp('2020-06-18 13:30:00'),\n",
       " Timestamp('2020-06-18 13:45:00'),\n",
       " Timestamp('2020-06-18 14:00:00'),\n",
       " Timestamp('2020-06-18 14:15:00'),\n",
       " Timestamp('2020-06-18 14:30:00'),\n",
       " Timestamp('2020-06-18 14:45:00'),\n",
       " Timestamp('2020-06-18 15:00:00'),\n",
       " Timestamp('2020-06-18 15:15:00'),\n",
       " Timestamp('2020-06-18 15:30:00'),\n",
       " Timestamp('2020-06-18 15:45:00'),\n",
       " Timestamp('2020-06-18 16:00:00'),\n",
       " Timestamp('2020-06-18 16:15:00'),\n",
       " Timestamp('2020-06-18 16:30:00'),\n",
       " Timestamp('2020-06-18 16:45:00'),\n",
       " Timestamp('2020-06-18 17:00:00'),\n",
       " Timestamp('2020-06-18 17:15:00'),\n",
       " Timestamp('2020-06-18 17:30:00'),\n",
       " Timestamp('2020-06-18 17:45:00'),\n",
       " Timestamp('2020-06-18 18:00:00'),\n",
       " Timestamp('2020-06-18 18:15:00'),\n",
       " Timestamp('2020-06-18 18:30:00'),\n",
       " Timestamp('2020-06-18 18:45:00'),\n",
       " Timestamp('2020-06-18 19:00:00'),\n",
       " Timestamp('2020-06-18 19:15:00'),\n",
       " Timestamp('2020-06-18 19:30:00'),\n",
       " Timestamp('2020-06-18 19:45:00'),\n",
       " Timestamp('2020-06-18 20:00:00'),\n",
       " Timestamp('2020-06-18 20:15:00'),\n",
       " Timestamp('2020-06-18 20:30:00'),\n",
       " Timestamp('2020-06-18 20:45:00'),\n",
       " Timestamp('2020-06-18 21:00:00'),\n",
       " Timestamp('2020-06-18 21:15:00'),\n",
       " Timestamp('2020-06-18 21:30:00'),\n",
       " Timestamp('2020-06-18 21:45:00'),\n",
       " Timestamp('2020-06-18 22:00:00'),\n",
       " Timestamp('2020-06-18 22:15:00'),\n",
       " Timestamp('2020-06-18 22:30:00'),\n",
       " Timestamp('2020-06-18 22:45:00'),\n",
       " Timestamp('2020-06-18 23:00:00'),\n",
       " Timestamp('2020-06-18 23:15:00'),\n",
       " Timestamp('2020-06-18 23:30:00'),\n",
       " Timestamp('2020-06-18 23:45:00'),\n",
       " Timestamp('2020-06-19 00:00:00'),\n",
       " Timestamp('2020-06-19 00:15:00'),\n",
       " Timestamp('2020-06-19 00:30:00'),\n",
       " Timestamp('2020-06-19 00:45:00'),\n",
       " Timestamp('2020-06-19 01:00:00'),\n",
       " Timestamp('2020-06-19 01:15:00'),\n",
       " Timestamp('2020-06-19 01:30:00'),\n",
       " Timestamp('2020-06-19 01:45:00'),\n",
       " Timestamp('2020-06-19 02:00:00'),\n",
       " Timestamp('2020-06-19 02:15:00'),\n",
       " Timestamp('2020-06-19 02:30:00'),\n",
       " Timestamp('2020-06-19 02:45:00'),\n",
       " Timestamp('2020-06-19 03:00:00'),\n",
       " Timestamp('2020-06-19 03:15:00'),\n",
       " Timestamp('2020-06-19 03:30:00'),\n",
       " Timestamp('2020-06-19 03:45:00'),\n",
       " Timestamp('2020-06-19 04:00:00'),\n",
       " Timestamp('2020-06-19 04:15:00'),\n",
       " Timestamp('2020-06-19 04:30:00'),\n",
       " Timestamp('2020-06-19 04:45:00'),\n",
       " Timestamp('2020-06-19 05:00:00'),\n",
       " Timestamp('2020-06-19 05:15:00'),\n",
       " Timestamp('2020-06-19 05:30:00'),\n",
       " Timestamp('2020-06-19 05:45:00'),\n",
       " Timestamp('2020-06-19 06:00:00'),\n",
       " Timestamp('2020-06-19 06:15:00'),\n",
       " Timestamp('2020-06-19 06:30:00'),\n",
       " Timestamp('2020-06-19 06:45:00'),\n",
       " Timestamp('2020-06-19 07:00:00'),\n",
       " Timestamp('2020-06-19 07:15:00'),\n",
       " Timestamp('2020-06-19 07:30:00'),\n",
       " Timestamp('2020-06-19 07:45:00'),\n",
       " Timestamp('2020-06-19 08:00:00'),\n",
       " Timestamp('2020-06-19 08:15:00'),\n",
       " Timestamp('2020-06-19 08:30:00'),\n",
       " Timestamp('2020-06-19 08:45:00'),\n",
       " Timestamp('2020-06-19 09:00:00'),\n",
       " Timestamp('2020-06-19 09:15:00'),\n",
       " Timestamp('2020-06-19 09:30:00'),\n",
       " Timestamp('2020-06-19 09:45:00'),\n",
       " Timestamp('2020-06-19 10:00:00'),\n",
       " Timestamp('2020-06-19 10:15:00'),\n",
       " Timestamp('2020-06-19 10:30:00'),\n",
       " Timestamp('2020-06-19 10:45:00'),\n",
       " Timestamp('2020-06-19 11:00:00'),\n",
       " Timestamp('2020-06-19 11:15:00'),\n",
       " Timestamp('2020-06-19 11:30:00'),\n",
       " Timestamp('2020-06-19 11:45:00'),\n",
       " Timestamp('2020-06-19 12:00:00'),\n",
       " Timestamp('2020-06-19 12:15:00'),\n",
       " Timestamp('2020-06-19 12:30:00'),\n",
       " Timestamp('2020-06-19 12:45:00'),\n",
       " Timestamp('2020-06-19 13:00:00'),\n",
       " Timestamp('2020-06-19 13:15:00'),\n",
       " Timestamp('2020-06-19 13:30:00'),\n",
       " Timestamp('2020-06-19 13:45:00'),\n",
       " Timestamp('2020-06-19 14:00:00'),\n",
       " Timestamp('2020-06-19 14:15:00'),\n",
       " Timestamp('2020-06-19 14:30:00'),\n",
       " Timestamp('2020-06-19 14:45:00'),\n",
       " Timestamp('2020-06-19 15:00:00'),\n",
       " Timestamp('2020-06-19 15:15:00'),\n",
       " Timestamp('2020-06-19 15:30:00'),\n",
       " Timestamp('2020-06-19 15:45:00'),\n",
       " Timestamp('2020-06-19 16:00:00'),\n",
       " Timestamp('2020-06-19 16:15:00'),\n",
       " Timestamp('2020-06-19 16:30:00'),\n",
       " Timestamp('2020-06-19 16:45:00'),\n",
       " Timestamp('2020-06-19 17:00:00'),\n",
       " Timestamp('2020-06-19 17:15:00'),\n",
       " Timestamp('2020-06-19 17:30:00'),\n",
       " Timestamp('2020-06-19 17:45:00'),\n",
       " Timestamp('2020-06-19 18:00:00'),\n",
       " Timestamp('2020-06-19 18:15:00'),\n",
       " Timestamp('2020-06-19 18:30:00'),\n",
       " Timestamp('2020-06-19 18:45:00'),\n",
       " Timestamp('2020-06-19 19:00:00'),\n",
       " Timestamp('2020-06-19 19:15:00'),\n",
       " Timestamp('2020-06-19 19:30:00'),\n",
       " Timestamp('2020-06-19 19:45:00'),\n",
       " Timestamp('2020-06-19 20:00:00'),\n",
       " Timestamp('2020-06-19 20:15:00'),\n",
       " Timestamp('2020-06-19 20:30:00'),\n",
       " Timestamp('2020-06-19 20:45:00'),\n",
       " Timestamp('2020-06-19 21:00:00'),\n",
       " Timestamp('2020-06-19 21:15:00'),\n",
       " Timestamp('2020-06-19 21:30:00'),\n",
       " Timestamp('2020-06-19 21:45:00'),\n",
       " Timestamp('2020-06-19 22:00:00'),\n",
       " Timestamp('2020-06-19 22:15:00'),\n",
       " Timestamp('2020-06-19 22:30:00'),\n",
       " Timestamp('2020-06-19 22:45:00'),\n",
       " Timestamp('2020-06-19 23:00:00'),\n",
       " Timestamp('2020-06-19 23:15:00'),\n",
       " Timestamp('2020-06-19 23:30:00'),\n",
       " Timestamp('2020-06-19 23:45:00'),\n",
       " Timestamp('2020-06-20 00:00:00')]"
      ]
     },
     "execution_count": 63,
     "metadata": {},
     "output_type": "execute_result"
    }
   ],
   "source": [
    "print(len(future_dates))\n",
    "future_dates"
   ]
  },
  {
   "cell_type": "code",
   "execution_count": 197,
   "metadata": {},
   "outputs": [],
   "source": [
    "f_prediction = arima_model.predict(n_periods=194,return_conf_int=True)"
   ]
  },
  {
   "cell_type": "code",
   "execution_count": 198,
   "metadata": {},
   "outputs": [
    {
     "data": {
      "text/html": [
       "<div>\n",
       "<style scoped>\n",
       "    .dataframe tbody tr th:only-of-type {\n",
       "        vertical-align: middle;\n",
       "    }\n",
       "\n",
       "    .dataframe tbody tr th {\n",
       "        vertical-align: top;\n",
       "    }\n",
       "\n",
       "    .dataframe thead th {\n",
       "        text-align: right;\n",
       "    }\n",
       "</style>\n",
       "<table border=\"1\" class=\"dataframe\">\n",
       "  <thead>\n",
       "    <tr style=\"text-align: right;\">\n",
       "      <th></th>\n",
       "      <th>forecast_daily_yld</th>\n",
       "      <th>conf_lower</th>\n",
       "      <th>conf_upper</th>\n",
       "    </tr>\n",
       "  </thead>\n",
       "  <tbody>\n",
       "    <tr>\n",
       "      <th>2020-06-17 23:45:00</th>\n",
       "      <td>136431.015771</td>\n",
       "      <td>134413.930005</td>\n",
       "      <td>138448.101538</td>\n",
       "    </tr>\n",
       "    <tr>\n",
       "      <th>2020-06-18 00:00:00</th>\n",
       "      <td>133115.002534</td>\n",
       "      <td>130171.047899</td>\n",
       "      <td>136058.957169</td>\n",
       "    </tr>\n",
       "    <tr>\n",
       "      <th>2020-06-18 00:15:00</th>\n",
       "      <td>0.000000</td>\n",
       "      <td>0.000000</td>\n",
       "      <td>0.000000</td>\n",
       "    </tr>\n",
       "    <tr>\n",
       "      <th>2020-06-18 00:30:00</th>\n",
       "      <td>0.000000</td>\n",
       "      <td>0.000000</td>\n",
       "      <td>0.000000</td>\n",
       "    </tr>\n",
       "    <tr>\n",
       "      <th>2020-06-18 00:45:00</th>\n",
       "      <td>0.000000</td>\n",
       "      <td>0.000000</td>\n",
       "      <td>0.000000</td>\n",
       "    </tr>\n",
       "    <tr>\n",
       "      <th>...</th>\n",
       "      <td>...</td>\n",
       "      <td>...</td>\n",
       "      <td>...</td>\n",
       "    </tr>\n",
       "    <tr>\n",
       "      <th>2020-06-19 23:00:00</th>\n",
       "      <td>115607.145882</td>\n",
       "      <td>72715.080647</td>\n",
       "      <td>158499.211118</td>\n",
       "    </tr>\n",
       "    <tr>\n",
       "      <th>2020-06-19 23:15:00</th>\n",
       "      <td>115607.146264</td>\n",
       "      <td>72542.277193</td>\n",
       "      <td>158672.015335</td>\n",
       "    </tr>\n",
       "    <tr>\n",
       "      <th>2020-06-19 23:30:00</th>\n",
       "      <td>115607.157073</td>\n",
       "      <td>72370.174815</td>\n",
       "      <td>158844.139330</td>\n",
       "    </tr>\n",
       "    <tr>\n",
       "      <th>2020-06-19 23:45:00</th>\n",
       "      <td>115609.093933</td>\n",
       "      <td>72028.061545</td>\n",
       "      <td>159190.126321</td>\n",
       "    </tr>\n",
       "    <tr>\n",
       "      <th>2020-06-20 00:00:00</th>\n",
       "      <td>112390.792447</td>\n",
       "      <td>68455.639465</td>\n",
       "      <td>156325.945429</td>\n",
       "    </tr>\n",
       "  </tbody>\n",
       "</table>\n",
       "<p>194 rows × 3 columns</p>\n",
       "</div>"
      ],
      "text/plain": [
       "                     forecast_daily_yld     conf_lower     conf_upper\n",
       "2020-06-17 23:45:00       136431.015771  134413.930005  138448.101538\n",
       "2020-06-18 00:00:00       133115.002534  130171.047899  136058.957169\n",
       "2020-06-18 00:15:00            0.000000       0.000000       0.000000\n",
       "2020-06-18 00:30:00            0.000000       0.000000       0.000000\n",
       "2020-06-18 00:45:00            0.000000       0.000000       0.000000\n",
       "...                                 ...            ...            ...\n",
       "2020-06-19 23:00:00       115607.145882   72715.080647  158499.211118\n",
       "2020-06-19 23:15:00       115607.146264   72542.277193  158672.015335\n",
       "2020-06-19 23:30:00       115607.157073   72370.174815  158844.139330\n",
       "2020-06-19 23:45:00       115609.093933   72028.061545  159190.126321\n",
       "2020-06-20 00:00:00       112390.792447   68455.639465  156325.945429\n",
       "\n",
       "[194 rows x 3 columns]"
      ]
     },
     "execution_count": 198,
     "metadata": {},
     "output_type": "execute_result"
    }
   ],
   "source": [
    "# I need to convert prediction into a dataframe with cols: pred_daily_yld, conf_lower, conf_upper\n",
    "\n",
    "f_prediction_yhat_df = pd.DataFrame(f_prediction[0],index=future_dates,columns=['forecast_daily_yld'])\n",
    "f_prediction_yhat_df\n",
    "\n",
    "f_prediction_conf_df = pd.DataFrame(f_prediction[1], \n",
    "                                  index=future_dates, \n",
    "                                  columns=['conf_lower', 'conf_upper'])\n",
    "\n",
    "# join the two \n",
    "f_prediction_df = f_prediction_yhat_df.join(f_prediction_conf_df)\n",
    "\n",
    "# zero out neg values in pred_daily_yld col only\n",
    "# prediction_df['pred_daily_yld'][prediction_df.pred_daily_yld < 0] = 0\n",
    "f_prediction_df[f_prediction_df < 0] = 0\n",
    "f_prediction_df"
   ]
  },
  {
   "cell_type": "code",
   "execution_count": 212,
   "metadata": {},
   "outputs": [
    {
     "data": {
      "image/png": "[encoded data removed]",
      "text/plain": [
       "<Figure size 1296x360 with 1 Axes>"
      ]
     },
     "metadata": {},
     "output_type": "display_data"
    }
   ],
   "source": [
    "fig, ax = plt.subplots(figsize=(18,5))\n",
    "ax.plot(pred_gen.DAILY_YIELD, label = 'Original Daily Yld', color = 'navy')\n",
    "ax.plot(f_prediction_df.forecast_daily_yld, label='18th & 19th June', color = 'darkorange')\n",
    "ax.fill_between(f_prediction_df.index, f_prediction_df.conf_lower, f_prediction_df.conf_upper, alpha=0.2)\n",
    "ax.legend(loc='upper left')\n",
    "ax.set_title('Forecast for 18th and 19th June', size=19)\n",
    "ax.set_ylabel('Daily Yld (kW)', size=13)\n",
    "ax.set_xlabel('Dates', size=13)\n",
    "plt.show()"
   ]
  },
  {
   "cell_type": "markdown",
   "metadata": {},
   "source": [
    "---\n",
    "\n",
    "# SARIMA Model (using Max's function to determine order)\n",
    "\n",
    "Above I used auto_arima as my model, both for my prediction and forecasting...\n",
    "\n",
    "In project 4, I used auto_arima separately, then ARIMA model to predict, and SARIMAX model to forecast.\n",
    "\n",
    "So, I'm going to try SARIMAX here real quick, bc I want to get the confidence level"
   ]
  },
  {
   "cell_type": "markdown",
   "metadata": {},
   "source": [
    "I'm going to train/test first to get some metrics, and then forecast"
   ]
  },
  {
   "cell_type": "code",
   "execution_count": 122,
   "metadata": {},
   "outputs": [
    {
     "data": {
      "text/html": [
       "<div>\n",
       "<style scoped>\n",
       "    .dataframe tbody tr th:only-of-type {\n",
       "        vertical-align: middle;\n",
       "    }\n",
       "\n",
       "    .dataframe tbody tr th {\n",
       "        vertical-align: top;\n",
       "    }\n",
       "\n",
       "    .dataframe thead th {\n",
       "        text-align: right;\n",
       "    }\n",
       "</style>\n",
       "<table border=\"1\" class=\"dataframe\">\n",
       "  <thead>\n",
       "    <tr style=\"text-align: right;\">\n",
       "      <th></th>\n",
       "      <th>DAILY_YIELD</th>\n",
       "    </tr>\n",
       "    <tr>\n",
       "      <th>DATE_TIME</th>\n",
       "      <th></th>\n",
       "    </tr>\n",
       "  </thead>\n",
       "  <tbody>\n",
       "    <tr>\n",
       "      <th>2020-06-13 00:00:00</th>\n",
       "      <td>5683.214286</td>\n",
       "    </tr>\n",
       "    <tr>\n",
       "      <th>2020-06-13 00:15:00</th>\n",
       "      <td>0.000000</td>\n",
       "    </tr>\n",
       "    <tr>\n",
       "      <th>2020-06-13 00:30:00</th>\n",
       "      <td>0.000000</td>\n",
       "    </tr>\n",
       "    <tr>\n",
       "      <th>2020-06-13 00:45:00</th>\n",
       "      <td>0.000000</td>\n",
       "    </tr>\n",
       "    <tr>\n",
       "      <th>2020-06-13 01:00:00</th>\n",
       "      <td>0.000000</td>\n",
       "    </tr>\n",
       "    <tr>\n",
       "      <th>...</th>\n",
       "      <td>...</td>\n",
       "    </tr>\n",
       "    <tr>\n",
       "      <th>2020-06-16 22:15:00</th>\n",
       "      <td>136429.000000</td>\n",
       "    </tr>\n",
       "    <tr>\n",
       "      <th>2020-06-16 22:30:00</th>\n",
       "      <td>136429.000000</td>\n",
       "    </tr>\n",
       "    <tr>\n",
       "      <th>2020-06-16 22:45:00</th>\n",
       "      <td>136429.000000</td>\n",
       "    </tr>\n",
       "    <tr>\n",
       "      <th>2020-06-16 23:00:00</th>\n",
       "      <td>136429.000000</td>\n",
       "    </tr>\n",
       "    <tr>\n",
       "      <th>2020-06-16 23:15:00</th>\n",
       "      <td>136429.000000</td>\n",
       "    </tr>\n",
       "  </tbody>\n",
       "</table>\n",
       "<p>382 rows × 1 columns</p>\n",
       "</div>"
      ],
      "text/plain": [
       "                       DAILY_YIELD\n",
       "DATE_TIME                         \n",
       "2020-06-13 00:00:00    5683.214286\n",
       "2020-06-13 00:15:00       0.000000\n",
       "2020-06-13 00:30:00       0.000000\n",
       "2020-06-13 00:45:00       0.000000\n",
       "2020-06-13 01:00:00       0.000000\n",
       "...                            ...\n",
       "2020-06-16 22:15:00  136429.000000\n",
       "2020-06-16 22:30:00  136429.000000\n",
       "2020-06-16 22:45:00  136429.000000\n",
       "2020-06-16 23:00:00  136429.000000\n",
       "2020-06-16 23:15:00  136429.000000\n",
       "\n",
       "[382 rows x 1 columns]"
      ]
     },
     "execution_count": 122,
     "metadata": {},
     "output_type": "execute_result"
    }
   ],
   "source": [
    "train"
   ]
  },
  {
   "cell_type": "code",
   "execution_count": 123,
   "metadata": {},
   "outputs": [
    {
     "data": {
      "text/html": [
       "<div>\n",
       "<style scoped>\n",
       "    .dataframe tbody tr th:only-of-type {\n",
       "        vertical-align: middle;\n",
       "    }\n",
       "\n",
       "    .dataframe tbody tr th {\n",
       "        vertical-align: top;\n",
       "    }\n",
       "\n",
       "    .dataframe thead th {\n",
       "        text-align: right;\n",
       "    }\n",
       "</style>\n",
       "<table border=\"1\" class=\"dataframe\">\n",
       "  <thead>\n",
       "    <tr style=\"text-align: right;\">\n",
       "      <th></th>\n",
       "      <th>DAILY_YIELD</th>\n",
       "    </tr>\n",
       "    <tr>\n",
       "      <th>DATE_TIME</th>\n",
       "      <th></th>\n",
       "    </tr>\n",
       "  </thead>\n",
       "  <tbody>\n",
       "    <tr>\n",
       "      <th>2020-06-16 23:30:00</th>\n",
       "      <td>136429.000000</td>\n",
       "    </tr>\n",
       "    <tr>\n",
       "      <th>2020-06-16 23:45:00</th>\n",
       "      <td>134079.375000</td>\n",
       "    </tr>\n",
       "    <tr>\n",
       "      <th>2020-06-17 00:00:00</th>\n",
       "      <td>6955.232143</td>\n",
       "    </tr>\n",
       "    <tr>\n",
       "      <th>2020-06-17 00:15:00</th>\n",
       "      <td>0.000000</td>\n",
       "    </tr>\n",
       "    <tr>\n",
       "      <th>2020-06-17 00:30:00</th>\n",
       "      <td>0.000000</td>\n",
       "    </tr>\n",
       "    <tr>\n",
       "      <th>...</th>\n",
       "      <td>...</td>\n",
       "    </tr>\n",
       "    <tr>\n",
       "      <th>2020-06-17 22:45:00</th>\n",
       "      <td>129571.000000</td>\n",
       "    </tr>\n",
       "    <tr>\n",
       "      <th>2020-06-17 23:00:00</th>\n",
       "      <td>129571.000000</td>\n",
       "    </tr>\n",
       "    <tr>\n",
       "      <th>2020-06-17 23:15:00</th>\n",
       "      <td>129571.000000</td>\n",
       "    </tr>\n",
       "    <tr>\n",
       "      <th>2020-06-17 23:30:00</th>\n",
       "      <td>129571.000000</td>\n",
       "    </tr>\n",
       "    <tr>\n",
       "      <th>2020-06-17 23:45:00</th>\n",
       "      <td>127962.767857</td>\n",
       "    </tr>\n",
       "  </tbody>\n",
       "</table>\n",
       "<p>96 rows × 1 columns</p>\n",
       "</div>"
      ],
      "text/plain": [
       "                       DAILY_YIELD\n",
       "DATE_TIME                         \n",
       "2020-06-16 23:30:00  136429.000000\n",
       "2020-06-16 23:45:00  134079.375000\n",
       "2020-06-17 00:00:00    6955.232143\n",
       "2020-06-17 00:15:00       0.000000\n",
       "2020-06-17 00:30:00       0.000000\n",
       "...                            ...\n",
       "2020-06-17 22:45:00  129571.000000\n",
       "2020-06-17 23:00:00  129571.000000\n",
       "2020-06-17 23:15:00  129571.000000\n",
       "2020-06-17 23:30:00  129571.000000\n",
       "2020-06-17 23:45:00  127962.767857\n",
       "\n",
       "[96 rows x 1 columns]"
      ]
     },
     "execution_count": 123,
     "metadata": {},
     "output_type": "execute_result"
    }
   ],
   "source": [
    "test"
   ]
  },
  {
   "cell_type": "markdown",
   "metadata": {},
   "source": [
    "## USING AUTO_ARIMA ORDER FROM ABOVE"
   ]
  },
  {
   "cell_type": "code",
   "execution_count": null,
   "metadata": {},
   "outputs": [],
   "source": [
    "(train,\n",
    "                         start_p=0,d=i,start_q=0,\n",
    "                         max_p=4,max_d=4,max_q=4,\n",
    "                         start_P=0,D=1,start_Q=0,\n",
    "                         max_P=1,max_D=1,max_Q=1,m=96,\n",
    "                         seasonal=True,\n",
    "                         error_action='warn',trace=True,\n",
    "                         supress_warning=True,stepwise=True,\n",
    "                         random_state=20,n_fits=1)"
   ]
  },
  {
   "cell_type": "code",
   "execution_count": null,
   "metadata": {},
   "outputs": [],
   "source": [
    "sarima_model = SARIMAX(train, )"
   ]
  },
  {
   "cell_type": "markdown",
   "metadata": {},
   "source": [
    "## RUNNING CODE FROM PROJECT 4 (to get order)\n",
    "\n",
    "Below: Emulating the workflow from project 4 SARIMAX"
   ]
  },
  {
   "cell_type": "code",
   "execution_count": 125,
   "metadata": {
    "collapsed": true,
    "jupyter": {
     "outputs_hidden": true
    }
   },
   "outputs": [
    {
     "name": "stdout",
     "output_type": "stream",
     "text": [
      "Examples of parameter for SARIMA...\n",
      "SARIMAX: (0, 2, 0) x (0, 1, 0, 12)\n",
      "SARIMAX: (0, 2, 0) x (0, 1, 1, 12)\n",
      "SARIMAX: (0, 2, 0) x (0, 1, 2, 12)\n",
      "SARIMAX: (0, 2, 0) x (1, 1, 0, 12)\n",
      "SARIMAX: (0, 2, 0) x (1, 1, 1, 12)\n",
      "SARIMAX: (0, 2, 0) x (1, 1, 2, 12)\n",
      "SARIMAX: (0, 2, 0) x (2, 1, 0, 12)\n",
      "SARIMAX: (0, 2, 0) x (2, 1, 1, 12)\n",
      "SARIMAX: (0, 2, 0) x (2, 1, 2, 12)\n",
      "SARIMAX: (0, 2, 1) x (0, 1, 0, 12)\n",
      "SARIMAX: (0, 2, 1) x (0, 1, 1, 12)\n",
      "SARIMAX: (0, 2, 1) x (0, 1, 2, 12)\n",
      "SARIMAX: (0, 2, 1) x (1, 1, 0, 12)\n",
      "SARIMAX: (0, 2, 1) x (1, 1, 1, 12)\n",
      "SARIMAX: (0, 2, 1) x (1, 1, 2, 12)\n",
      "SARIMAX: (0, 2, 1) x (2, 1, 0, 12)\n",
      "SARIMAX: (0, 2, 1) x (2, 1, 1, 12)\n",
      "SARIMAX: (0, 2, 1) x (2, 1, 2, 12)\n",
      "SARIMAX: (0, 2, 2) x (0, 1, 0, 12)\n",
      "SARIMAX: (0, 2, 2) x (0, 1, 1, 12)\n",
      "SARIMAX: (0, 2, 2) x (0, 1, 2, 12)\n",
      "SARIMAX: (0, 2, 2) x (1, 1, 0, 12)\n",
      "SARIMAX: (0, 2, 2) x (1, 1, 1, 12)\n",
      "SARIMAX: (0, 2, 2) x (1, 1, 2, 12)\n",
      "SARIMAX: (0, 2, 2) x (2, 1, 0, 12)\n",
      "SARIMAX: (0, 2, 2) x (2, 1, 1, 12)\n",
      "SARIMAX: (0, 2, 2) x (2, 1, 2, 12)\n",
      "SARIMAX: (1, 2, 0) x (0, 1, 0, 12)\n",
      "SARIMAX: (1, 2, 0) x (0, 1, 1, 12)\n",
      "SARIMAX: (1, 2, 0) x (0, 1, 2, 12)\n",
      "SARIMAX: (1, 2, 0) x (1, 1, 0, 12)\n",
      "SARIMAX: (1, 2, 0) x (1, 1, 1, 12)\n",
      "SARIMAX: (1, 2, 0) x (1, 1, 2, 12)\n",
      "SARIMAX: (1, 2, 0) x (2, 1, 0, 12)\n",
      "SARIMAX: (1, 2, 0) x (2, 1, 1, 12)\n",
      "SARIMAX: (1, 2, 0) x (2, 1, 2, 12)\n",
      "SARIMAX: (1, 2, 1) x (0, 1, 0, 12)\n",
      "SARIMAX: (1, 2, 1) x (0, 1, 1, 12)\n",
      "SARIMAX: (1, 2, 1) x (0, 1, 2, 12)\n",
      "SARIMAX: (1, 2, 1) x (1, 1, 0, 12)\n",
      "SARIMAX: (1, 2, 1) x (1, 1, 1, 12)\n",
      "SARIMAX: (1, 2, 1) x (1, 1, 2, 12)\n",
      "SARIMAX: (1, 2, 1) x (2, 1, 0, 12)\n",
      "SARIMAX: (1, 2, 1) x (2, 1, 1, 12)\n",
      "SARIMAX: (1, 2, 1) x (2, 1, 2, 12)\n",
      "SARIMAX: (1, 2, 2) x (0, 1, 0, 12)\n",
      "SARIMAX: (1, 2, 2) x (0, 1, 1, 12)\n",
      "SARIMAX: (1, 2, 2) x (0, 1, 2, 12)\n",
      "SARIMAX: (1, 2, 2) x (1, 1, 0, 12)\n",
      "SARIMAX: (1, 2, 2) x (1, 1, 1, 12)\n",
      "SARIMAX: (1, 2, 2) x (1, 1, 2, 12)\n",
      "SARIMAX: (1, 2, 2) x (2, 1, 0, 12)\n",
      "SARIMAX: (1, 2, 2) x (2, 1, 1, 12)\n",
      "SARIMAX: (1, 2, 2) x (2, 1, 2, 12)\n",
      "SARIMAX: (2, 2, 0) x (0, 1, 0, 12)\n",
      "SARIMAX: (2, 2, 0) x (0, 1, 1, 12)\n",
      "SARIMAX: (2, 2, 0) x (0, 1, 2, 12)\n",
      "SARIMAX: (2, 2, 0) x (1, 1, 0, 12)\n",
      "SARIMAX: (2, 2, 0) x (1, 1, 1, 12)\n",
      "SARIMAX: (2, 2, 0) x (1, 1, 2, 12)\n",
      "SARIMAX: (2, 2, 0) x (2, 1, 0, 12)\n",
      "SARIMAX: (2, 2, 0) x (2, 1, 1, 12)\n",
      "SARIMAX: (2, 2, 0) x (2, 1, 2, 12)\n",
      "SARIMAX: (2, 2, 1) x (0, 1, 0, 12)\n",
      "SARIMAX: (2, 2, 1) x (0, 1, 1, 12)\n",
      "SARIMAX: (2, 2, 1) x (0, 1, 2, 12)\n",
      "SARIMAX: (2, 2, 1) x (1, 1, 0, 12)\n",
      "SARIMAX: (2, 2, 1) x (1, 1, 1, 12)\n",
      "SARIMAX: (2, 2, 1) x (1, 1, 2, 12)\n",
      "SARIMAX: (2, 2, 1) x (2, 1, 0, 12)\n",
      "SARIMAX: (2, 2, 1) x (2, 1, 1, 12)\n",
      "SARIMAX: (2, 2, 1) x (2, 1, 2, 12)\n",
      "SARIMAX: (2, 2, 2) x (0, 1, 0, 12)\n",
      "SARIMAX: (2, 2, 2) x (0, 1, 1, 12)\n",
      "SARIMAX: (2, 2, 2) x (0, 1, 2, 12)\n",
      "SARIMAX: (2, 2, 2) x (1, 1, 0, 12)\n",
      "SARIMAX: (2, 2, 2) x (1, 1, 1, 12)\n",
      "SARIMAX: (2, 2, 2) x (1, 1, 2, 12)\n",
      "SARIMAX: (2, 2, 2) x (2, 1, 0, 12)\n",
      "SARIMAX: (2, 2, 2) x (2, 1, 1, 12)\n",
      "SARIMAX: (2, 2, 2) x (2, 1, 2, 12)\n"
     ]
    }
   ],
   "source": [
    "import itertools\n",
    "\n",
    "i = dicky_fuller(df_zip_code_train)\n",
    "\n",
    "p = q = range(0, 3)\n",
    "pdq = list(itertools.product(p, [i], q))\n",
    "seasonal_pdq = [(x[0], x[1], x[2], 12) for x in list(itertools.product(p, [1], q))]\n",
    "print('Examples of parameter for SARIMA...')\n",
    "for i in pdq:\n",
    "    for s in seasonal_pdq:\n",
    "        print('SARIMAX: {} x {}'.format(i, s))"
   ]
  },
  {
   "cell_type": "code",
   "execution_count": 126,
   "metadata": {
    "collapsed": true,
    "jupyter": {
     "outputs_hidden": true
    }
   },
   "outputs": [
    {
     "name": "stderr",
     "output_type": "stream",
     "text": [
      "/Users/oz/opt/anaconda3/lib/python3.8/site-packages/statsmodels/tsa/base/tsa_model.py:159: ValueWarning: No frequency information was provided, so inferred frequency MS will be used.\n",
      "  warnings.warn('No frequency information was'\n",
      "/Users/oz/opt/anaconda3/lib/python3.8/site-packages/statsmodels/tsa/base/tsa_model.py:159: ValueWarning: No frequency information was provided, so inferred frequency MS will be used.\n",
      "  warnings.warn('No frequency information was'\n"
     ]
    },
    {
     "name": "stdout",
     "output_type": "stream",
     "text": [
      "ARIMA(0, 2, 0)x(0, 1, 0, 12) - AIC:739.507127257072\n"
     ]
    },
    {
     "name": "stderr",
     "output_type": "stream",
     "text": [
      "/Users/oz/opt/anaconda3/lib/python3.8/site-packages/statsmodels/base/model.py:567: ConvergenceWarning: Maximum Likelihood optimization failed to converge. Check mle_retvals\n",
      "  warn(\"Maximum Likelihood optimization failed to converge. \"\n",
      "/Users/oz/opt/anaconda3/lib/python3.8/site-packages/statsmodels/tsa/base/tsa_model.py:159: ValueWarning: No frequency information was provided, so inferred frequency MS will be used.\n",
      "  warnings.warn('No frequency information was'\n",
      "/Users/oz/opt/anaconda3/lib/python3.8/site-packages/statsmodels/tsa/statespace/sarimax.py:866: UserWarning: Too few observations to estimate starting parameters for seasonal ARMA. All parameters except for variances will be set to zeros.\n",
      "  warn('Too few observations to estimate starting parameters%s.'\n"
     ]
    },
    {
     "name": "stdout",
     "output_type": "stream",
     "text": [
      "ARIMA(0, 2, 0)x(0, 1, 1, 12) - AIC:921.5640974953036\n",
      "ARIMA(0, 2, 0)x(0, 1, 2, 12) - AIC:348.5377340585172\n",
      "ARIMA(0, 2, 0)x(1, 1, 0, 12) - AIC:538.1015920183934\n"
     ]
    },
    {
     "name": "stderr",
     "output_type": "stream",
     "text": [
      "/Users/oz/opt/anaconda3/lib/python3.8/site-packages/statsmodels/tsa/base/tsa_model.py:159: ValueWarning: No frequency information was provided, so inferred frequency MS will be used.\n",
      "  warnings.warn('No frequency information was'\n",
      "/Users/oz/opt/anaconda3/lib/python3.8/site-packages/statsmodels/tsa/base/tsa_model.py:159: ValueWarning: No frequency information was provided, so inferred frequency MS will be used.\n",
      "  warnings.warn('No frequency information was'\n",
      "/Users/oz/opt/anaconda3/lib/python3.8/site-packages/statsmodels/base/model.py:567: ConvergenceWarning: Maximum Likelihood optimization failed to converge. Check mle_retvals\n",
      "  warn(\"Maximum Likelihood optimization failed to converge. \"\n",
      "/Users/oz/opt/anaconda3/lib/python3.8/site-packages/statsmodels/tsa/base/tsa_model.py:159: ValueWarning: No frequency information was provided, so inferred frequency MS will be used.\n",
      "  warnings.warn('No frequency information was'\n"
     ]
    },
    {
     "name": "stdout",
     "output_type": "stream",
     "text": [
      "ARIMA(0, 2, 0)x(1, 1, 1, 12) - AIC:1574.995979790494\n",
      "ARIMA(0, 2, 0)x(1, 1, 2, 12) - AIC:347.1913111955339\n",
      "ARIMA(0, 2, 0)x(2, 1, 0, 12) - AIC:359.71708511187205\n"
     ]
    },
    {
     "name": "stderr",
     "output_type": "stream",
     "text": [
      "/Users/oz/opt/anaconda3/lib/python3.8/site-packages/statsmodels/tsa/base/tsa_model.py:159: ValueWarning: No frequency information was provided, so inferred frequency MS will be used.\n",
      "  warnings.warn('No frequency information was'\n",
      "/Users/oz/opt/anaconda3/lib/python3.8/site-packages/statsmodels/tsa/base/tsa_model.py:159: ValueWarning: No frequency information was provided, so inferred frequency MS will be used.\n",
      "  warnings.warn('No frequency information was'\n",
      "/Users/oz/opt/anaconda3/lib/python3.8/site-packages/statsmodels/base/model.py:567: ConvergenceWarning: Maximum Likelihood optimization failed to converge. Check mle_retvals\n",
      "  warn(\"Maximum Likelihood optimization failed to converge. \"\n",
      "/Users/oz/opt/anaconda3/lib/python3.8/site-packages/statsmodels/tsa/base/tsa_model.py:159: ValueWarning: No frequency information was provided, so inferred frequency MS will be used.\n",
      "  warnings.warn('No frequency information was'\n"
     ]
    },
    {
     "name": "stdout",
     "output_type": "stream",
     "text": [
      "ARIMA(0, 2, 0)x(2, 1, 1, 12) - AIC:604.1074280396389\n"
     ]
    },
    {
     "name": "stderr",
     "output_type": "stream",
     "text": [
      "/Users/oz/opt/anaconda3/lib/python3.8/site-packages/statsmodels/base/model.py:567: ConvergenceWarning: Maximum Likelihood optimization failed to converge. Check mle_retvals\n",
      "  warn(\"Maximum Likelihood optimization failed to converge. \"\n",
      "/Users/oz/opt/anaconda3/lib/python3.8/site-packages/statsmodels/tsa/base/tsa_model.py:159: ValueWarning: No frequency information was provided, so inferred frequency MS will be used.\n",
      "  warnings.warn('No frequency information was'\n",
      "/Users/oz/opt/anaconda3/lib/python3.8/site-packages/statsmodels/tsa/base/tsa_model.py:159: ValueWarning: No frequency information was provided, so inferred frequency MS will be used.\n",
      "  warnings.warn('No frequency information was'\n"
     ]
    },
    {
     "name": "stdout",
     "output_type": "stream",
     "text": [
      "ARIMA(0, 2, 0)x(2, 1, 2, 12) - AIC:349.04431705054054\n",
      "ARIMA(0, 2, 1)x(0, 1, 0, 12) - AIC:707.0846958853389\n"
     ]
    },
    {
     "name": "stderr",
     "output_type": "stream",
     "text": [
      "/Users/oz/opt/anaconda3/lib/python3.8/site-packages/statsmodels/base/model.py:567: ConvergenceWarning: Maximum Likelihood optimization failed to converge. Check mle_retvals\n",
      "  warn(\"Maximum Likelihood optimization failed to converge. \"\n",
      "/Users/oz/opt/anaconda3/lib/python3.8/site-packages/statsmodels/tsa/base/tsa_model.py:159: ValueWarning: No frequency information was provided, so inferred frequency MS will be used.\n",
      "  warnings.warn('No frequency information was'\n"
     ]
    },
    {
     "name": "stdout",
     "output_type": "stream",
     "text": [
      "ARIMA(0, 2, 1)x(0, 1, 1, 12) - AIC:523.4583313396505\n",
      "ARIMA(0, 2, 1)x(0, 1, 2, 12) - AIC:324.30090870138895\n",
      "ARIMA(0, 2, 1)x(1, 1, 0, 12) - AIC:539.7958617012677\n"
     ]
    },
    {
     "name": "stderr",
     "output_type": "stream",
     "text": [
      "/Users/oz/opt/anaconda3/lib/python3.8/site-packages/statsmodels/tsa/base/tsa_model.py:159: ValueWarning: No frequency information was provided, so inferred frequency MS will be used.\n",
      "  warnings.warn('No frequency information was'\n",
      "/Users/oz/opt/anaconda3/lib/python3.8/site-packages/statsmodels/tsa/base/tsa_model.py:159: ValueWarning: No frequency information was provided, so inferred frequency MS will be used.\n",
      "  warnings.warn('No frequency information was'\n",
      "/Users/oz/opt/anaconda3/lib/python3.8/site-packages/statsmodels/base/model.py:567: ConvergenceWarning: Maximum Likelihood optimization failed to converge. Check mle_retvals\n",
      "  warn(\"Maximum Likelihood optimization failed to converge. \"\n",
      "/Users/oz/opt/anaconda3/lib/python3.8/site-packages/statsmodels/tsa/base/tsa_model.py:159: ValueWarning: No frequency information was provided, so inferred frequency MS will be used.\n",
      "  warnings.warn('No frequency information was'\n"
     ]
    },
    {
     "name": "stdout",
     "output_type": "stream",
     "text": [
      "ARIMA(0, 2, 1)x(1, 1, 1, 12) - AIC:1162.9212110702067\n",
      "ARIMA(0, 2, 1)x(1, 1, 2, 12) - AIC:325.06968966207324\n"
     ]
    },
    {
     "name": "stderr",
     "output_type": "stream",
     "text": [
      "/Users/oz/opt/anaconda3/lib/python3.8/site-packages/statsmodels/tsa/base/tsa_model.py:159: ValueWarning: No frequency information was provided, so inferred frequency MS will be used.\n",
      "  warnings.warn('No frequency information was'\n"
     ]
    },
    {
     "name": "stdout",
     "output_type": "stream",
     "text": [
      "ARIMA(0, 2, 1)x(2, 1, 0, 12) - AIC:361.7105022887313\n"
     ]
    },
    {
     "name": "stderr",
     "output_type": "stream",
     "text": [
      "/Users/oz/opt/anaconda3/lib/python3.8/site-packages/statsmodels/tsa/base/tsa_model.py:159: ValueWarning: No frequency information was provided, so inferred frequency MS will be used.\n",
      "  warnings.warn('No frequency information was'\n",
      "/Users/oz/opt/anaconda3/lib/python3.8/site-packages/statsmodels/base/model.py:567: ConvergenceWarning: Maximum Likelihood optimization failed to converge. Check mle_retvals\n",
      "  warn(\"Maximum Likelihood optimization failed to converge. \"\n",
      "/Users/oz/opt/anaconda3/lib/python3.8/site-packages/statsmodels/tsa/base/tsa_model.py:159: ValueWarning: No frequency information was provided, so inferred frequency MS will be used.\n",
      "  warnings.warn('No frequency information was'\n"
     ]
    },
    {
     "name": "stdout",
     "output_type": "stream",
     "text": [
      "ARIMA(0, 2, 1)x(2, 1, 1, 12) - AIC:575.2383177183277\n",
      "ARIMA(0, 2, 1)x(2, 1, 2, 12) - AIC:329.22271246909776\n",
      "ARIMA(0, 2, 2)x(0, 1, 0, 12) - AIC:680.3676100851715\n"
     ]
    },
    {
     "name": "stderr",
     "output_type": "stream",
     "text": [
      "/Users/oz/opt/anaconda3/lib/python3.8/site-packages/statsmodels/tsa/base/tsa_model.py:159: ValueWarning: No frequency information was provided, so inferred frequency MS will be used.\n",
      "  warnings.warn('No frequency information was'\n",
      "/Users/oz/opt/anaconda3/lib/python3.8/site-packages/statsmodels/tsa/base/tsa_model.py:159: ValueWarning: No frequency information was provided, so inferred frequency MS will be used.\n",
      "  warnings.warn('No frequency information was'\n"
     ]
    },
    {
     "name": "stdout",
     "output_type": "stream",
     "text": [
      "ARIMA(0, 2, 2)x(0, 1, 1, 12) - AIC:2018.9644419026026\n"
     ]
    },
    {
     "name": "stderr",
     "output_type": "stream",
     "text": [
      "/Users/oz/opt/anaconda3/lib/python3.8/site-packages/statsmodels/tsa/base/tsa_model.py:159: ValueWarning: No frequency information was provided, so inferred frequency MS will be used.\n",
      "  warnings.warn('No frequency information was'\n",
      "/Users/oz/opt/anaconda3/lib/python3.8/site-packages/statsmodels/base/model.py:567: ConvergenceWarning: Maximum Likelihood optimization failed to converge. Check mle_retvals\n",
      "  warn(\"Maximum Likelihood optimization failed to converge. \"\n",
      "/Users/oz/opt/anaconda3/lib/python3.8/site-packages/statsmodels/tsa/base/tsa_model.py:159: ValueWarning: No frequency information was provided, so inferred frequency MS will be used.\n",
      "  warnings.warn('No frequency information was'\n"
     ]
    },
    {
     "name": "stdout",
     "output_type": "stream",
     "text": [
      "ARIMA(0, 2, 2)x(0, 1, 2, 12) - AIC:301.24129351440416\n"
     ]
    },
    {
     "name": "stderr",
     "output_type": "stream",
     "text": [
      "/Users/oz/opt/anaconda3/lib/python3.8/site-packages/statsmodels/base/model.py:567: ConvergenceWarning: Maximum Likelihood optimization failed to converge. Check mle_retvals\n",
      "  warn(\"Maximum Likelihood optimization failed to converge. \"\n",
      "/Users/oz/opt/anaconda3/lib/python3.8/site-packages/statsmodels/tsa/base/tsa_model.py:159: ValueWarning: No frequency information was provided, so inferred frequency MS will be used.\n",
      "  warnings.warn('No frequency information was'\n"
     ]
    },
    {
     "name": "stdout",
     "output_type": "stream",
     "text": [
      "ARIMA(0, 2, 2)x(1, 1, 0, 12) - AIC:539.4428566274089\n"
     ]
    },
    {
     "name": "stderr",
     "output_type": "stream",
     "text": [
      "/Users/oz/opt/anaconda3/lib/python3.8/site-packages/scipy/optimize/_numdiff.py:390: RuntimeWarning: invalid value encountered in less\n",
      "  if np.any((x0 < lb) | (x0 > ub)):\n",
      "/Users/oz/opt/anaconda3/lib/python3.8/site-packages/scipy/optimize/_numdiff.py:390: RuntimeWarning: invalid value encountered in greater\n",
      "  if np.any((x0 < lb) | (x0 > ub)):\n",
      "/Users/oz/opt/anaconda3/lib/python3.8/site-packages/scipy/optimize/_numdiff.py:405: RuntimeWarning: invalid value encountered in greater_equal\n",
      "  sign_x0 = (x0 >= 0).astype(float) * 2 - 1\n",
      "/Users/oz/opt/anaconda3/lib/python3.8/site-packages/statsmodels/base/model.py:567: ConvergenceWarning: Maximum Likelihood optimization failed to converge. Check mle_retvals\n",
      "  warn(\"Maximum Likelihood optimization failed to converge. \"\n",
      "/Users/oz/opt/anaconda3/lib/python3.8/site-packages/statsmodels/tsa/base/tsa_model.py:159: ValueWarning: No frequency information was provided, so inferred frequency MS will be used.\n",
      "  warnings.warn('No frequency information was'\n"
     ]
    },
    {
     "name": "stdout",
     "output_type": "stream",
     "text": [
      "ARIMA(0, 2, 2)x(1, 1, 1, 12) - AIC:nan\n"
     ]
    },
    {
     "name": "stderr",
     "output_type": "stream",
     "text": [
      "/Users/oz/opt/anaconda3/lib/python3.8/site-packages/statsmodels/base/model.py:567: ConvergenceWarning: Maximum Likelihood optimization failed to converge. Check mle_retvals\n",
      "  warn(\"Maximum Likelihood optimization failed to converge. \"\n",
      "/Users/oz/opt/anaconda3/lib/python3.8/site-packages/statsmodels/tsa/base/tsa_model.py:159: ValueWarning: No frequency information was provided, so inferred frequency MS will be used.\n",
      "  warnings.warn('No frequency information was'\n"
     ]
    },
    {
     "name": "stdout",
     "output_type": "stream",
     "text": [
      "ARIMA(0, 2, 2)x(1, 1, 2, 12) - AIC:307.4100710773852\n",
      "ARIMA(0, 2, 2)x(2, 1, 0, 12) - AIC:358.4828267791329\n"
     ]
    },
    {
     "name": "stderr",
     "output_type": "stream",
     "text": [
      "/Users/oz/opt/anaconda3/lib/python3.8/site-packages/statsmodels/tsa/base/tsa_model.py:159: ValueWarning: No frequency information was provided, so inferred frequency MS will be used.\n",
      "  warnings.warn('No frequency information was'\n",
      "/Users/oz/opt/anaconda3/lib/python3.8/site-packages/statsmodels/base/model.py:567: ConvergenceWarning: Maximum Likelihood optimization failed to converge. Check mle_retvals\n",
      "  warn(\"Maximum Likelihood optimization failed to converge. \"\n",
      "/Users/oz/opt/anaconda3/lib/python3.8/site-packages/statsmodels/tsa/base/tsa_model.py:159: ValueWarning: No frequency information was provided, so inferred frequency MS will be used.\n",
      "  warnings.warn('No frequency information was'\n"
     ]
    },
    {
     "name": "stdout",
     "output_type": "stream",
     "text": [
      "ARIMA(0, 2, 2)x(2, 1, 1, 12) - AIC:nan\n"
     ]
    },
    {
     "name": "stderr",
     "output_type": "stream",
     "text": [
      "/Users/oz/opt/anaconda3/lib/python3.8/site-packages/statsmodels/base/model.py:567: ConvergenceWarning: Maximum Likelihood optimization failed to converge. Check mle_retvals\n",
      "  warn(\"Maximum Likelihood optimization failed to converge. \"\n",
      "/Users/oz/opt/anaconda3/lib/python3.8/site-packages/statsmodels/tsa/base/tsa_model.py:159: ValueWarning: No frequency information was provided, so inferred frequency MS will be used.\n",
      "  warnings.warn('No frequency information was'\n",
      "/Users/oz/opt/anaconda3/lib/python3.8/site-packages/statsmodels/tsa/base/tsa_model.py:159: ValueWarning: No frequency information was provided, so inferred frequency MS will be used.\n",
      "  warnings.warn('No frequency information was'\n"
     ]
    },
    {
     "name": "stdout",
     "output_type": "stream",
     "text": [
      "ARIMA(0, 2, 2)x(2, 1, 2, 12) - AIC:311.74387990944433\n",
      "ARIMA(1, 2, 0)x(0, 1, 0, 12) - AIC:738.8577429258805\n"
     ]
    },
    {
     "name": "stderr",
     "output_type": "stream",
     "text": [
      "/Users/oz/opt/anaconda3/lib/python3.8/site-packages/statsmodels/base/model.py:567: ConvergenceWarning: Maximum Likelihood optimization failed to converge. Check mle_retvals\n",
      "  warn(\"Maximum Likelihood optimization failed to converge. \"\n",
      "/Users/oz/opt/anaconda3/lib/python3.8/site-packages/statsmodels/tsa/base/tsa_model.py:159: ValueWarning: No frequency information was provided, so inferred frequency MS will be used.\n",
      "  warnings.warn('No frequency information was'\n"
     ]
    },
    {
     "name": "stdout",
     "output_type": "stream",
     "text": [
      "ARIMA(1, 2, 0)x(0, 1, 1, 12) - AIC:838.4444439089245\n",
      "ARIMA(1, 2, 0)x(0, 1, 2, 12) - AIC:346.0959172589715\n",
      "ARIMA(1, 2, 0)x(1, 1, 0, 12) - AIC:520.1690870527591\n"
     ]
    },
    {
     "name": "stderr",
     "output_type": "stream",
     "text": [
      "/Users/oz/opt/anaconda3/lib/python3.8/site-packages/statsmodels/tsa/base/tsa_model.py:159: ValueWarning: No frequency information was provided, so inferred frequency MS will be used.\n",
      "  warnings.warn('No frequency information was'\n",
      "/Users/oz/opt/anaconda3/lib/python3.8/site-packages/statsmodels/tsa/base/tsa_model.py:159: ValueWarning: No frequency information was provided, so inferred frequency MS will be used.\n",
      "  warnings.warn('No frequency information was'\n",
      "/Users/oz/opt/anaconda3/lib/python3.8/site-packages/statsmodels/base/model.py:567: ConvergenceWarning: Maximum Likelihood optimization failed to converge. Check mle_retvals\n",
      "  warn(\"Maximum Likelihood optimization failed to converge. \"\n",
      "/Users/oz/opt/anaconda3/lib/python3.8/site-packages/statsmodels/tsa/base/tsa_model.py:159: ValueWarning: No frequency information was provided, so inferred frequency MS will be used.\n",
      "  warnings.warn('No frequency information was'\n"
     ]
    },
    {
     "name": "stdout",
     "output_type": "stream",
     "text": [
      "ARIMA(1, 2, 0)x(1, 1, 1, 12) - AIC:1661.799406916834\n",
      "ARIMA(1, 2, 0)x(1, 1, 2, 12) - AIC:345.0793670559997\n"
     ]
    },
    {
     "name": "stderr",
     "output_type": "stream",
     "text": [
      "/Users/oz/opt/anaconda3/lib/python3.8/site-packages/statsmodels/tsa/base/tsa_model.py:159: ValueWarning: No frequency information was provided, so inferred frequency MS will be used.\n",
      "  warnings.warn('No frequency information was'\n"
     ]
    },
    {
     "name": "stdout",
     "output_type": "stream",
     "text": [
      "ARIMA(1, 2, 0)x(2, 1, 0, 12) - AIC:342.9475688595281\n"
     ]
    },
    {
     "name": "stderr",
     "output_type": "stream",
     "text": [
      "/Users/oz/opt/anaconda3/lib/python3.8/site-packages/statsmodels/tsa/base/tsa_model.py:159: ValueWarning: No frequency information was provided, so inferred frequency MS will be used.\n",
      "  warnings.warn('No frequency information was'\n",
      "/Users/oz/opt/anaconda3/lib/python3.8/site-packages/statsmodels/base/model.py:567: ConvergenceWarning: Maximum Likelihood optimization failed to converge. Check mle_retvals\n",
      "  warn(\"Maximum Likelihood optimization failed to converge. \"\n",
      "/Users/oz/opt/anaconda3/lib/python3.8/site-packages/statsmodels/tsa/base/tsa_model.py:159: ValueWarning: No frequency information was provided, so inferred frequency MS will be used.\n",
      "  warnings.warn('No frequency information was'\n"
     ]
    },
    {
     "name": "stdout",
     "output_type": "stream",
     "text": [
      "ARIMA(1, 2, 0)x(2, 1, 1, 12) - AIC:988.2906255885656\n"
     ]
    },
    {
     "name": "stderr",
     "output_type": "stream",
     "text": [
      "/Users/oz/opt/anaconda3/lib/python3.8/site-packages/statsmodels/base/model.py:567: ConvergenceWarning: Maximum Likelihood optimization failed to converge. Check mle_retvals\n",
      "  warn(\"Maximum Likelihood optimization failed to converge. \"\n",
      "/Users/oz/opt/anaconda3/lib/python3.8/site-packages/statsmodels/tsa/base/tsa_model.py:159: ValueWarning: No frequency information was provided, so inferred frequency MS will be used.\n",
      "  warnings.warn('No frequency information was'\n",
      "/Users/oz/opt/anaconda3/lib/python3.8/site-packages/statsmodels/tsa/base/tsa_model.py:159: ValueWarning: No frequency information was provided, so inferred frequency MS will be used.\n",
      "  warnings.warn('No frequency information was'\n"
     ]
    },
    {
     "name": "stdout",
     "output_type": "stream",
     "text": [
      "ARIMA(1, 2, 0)x(2, 1, 2, 12) - AIC:347.11973889454936\n",
      "ARIMA(1, 2, 1)x(0, 1, 0, 12) - AIC:709.1538483819398\n"
     ]
    },
    {
     "name": "stderr",
     "output_type": "stream",
     "text": [
      "/Users/oz/opt/anaconda3/lib/python3.8/site-packages/statsmodels/base/model.py:567: ConvergenceWarning: Maximum Likelihood optimization failed to converge. Check mle_retvals\n",
      "  warn(\"Maximum Likelihood optimization failed to converge. \"\n",
      "/Users/oz/opt/anaconda3/lib/python3.8/site-packages/statsmodels/tsa/base/tsa_model.py:159: ValueWarning: No frequency information was provided, so inferred frequency MS will be used.\n",
      "  warnings.warn('No frequency information was'\n"
     ]
    },
    {
     "name": "stdout",
     "output_type": "stream",
     "text": [
      "ARIMA(1, 2, 1)x(0, 1, 1, 12) - AIC:1235.6650634964042\n",
      "ARIMA(1, 2, 1)x(0, 1, 2, 12) - AIC:326.2768482625869\n",
      "ARIMA(1, 2, 1)x(1, 1, 0, 12) - AIC:521.524833041476\n"
     ]
    },
    {
     "name": "stderr",
     "output_type": "stream",
     "text": [
      "/Users/oz/opt/anaconda3/lib/python3.8/site-packages/statsmodels/tsa/base/tsa_model.py:159: ValueWarning: No frequency information was provided, so inferred frequency MS will be used.\n",
      "  warnings.warn('No frequency information was'\n",
      "/Users/oz/opt/anaconda3/lib/python3.8/site-packages/statsmodels/tsa/base/tsa_model.py:159: ValueWarning: No frequency information was provided, so inferred frequency MS will be used.\n",
      "  warnings.warn('No frequency information was'\n",
      "/Users/oz/opt/anaconda3/lib/python3.8/site-packages/statsmodels/base/model.py:567: ConvergenceWarning: Maximum Likelihood optimization failed to converge. Check mle_retvals\n",
      "  warn(\"Maximum Likelihood optimization failed to converge. \"\n",
      "/Users/oz/opt/anaconda3/lib/python3.8/site-packages/statsmodels/tsa/base/tsa_model.py:159: ValueWarning: No frequency information was provided, so inferred frequency MS will be used.\n",
      "  warnings.warn('No frequency information was'\n"
     ]
    },
    {
     "name": "stdout",
     "output_type": "stream",
     "text": [
      "ARIMA(1, 2, 1)x(1, 1, 1, 12) - AIC:1413.3268816101788\n",
      "ARIMA(1, 2, 1)x(1, 1, 2, 12) - AIC:326.26039486235413\n"
     ]
    },
    {
     "name": "stderr",
     "output_type": "stream",
     "text": [
      "/Users/oz/opt/anaconda3/lib/python3.8/site-packages/statsmodels/tsa/base/tsa_model.py:159: ValueWarning: No frequency information was provided, so inferred frequency MS will be used.\n",
      "  warnings.warn('No frequency information was'\n"
     ]
    },
    {
     "name": "stdout",
     "output_type": "stream",
     "text": [
      "ARIMA(1, 2, 1)x(2, 1, 0, 12) - AIC:342.942326405817\n"
     ]
    },
    {
     "name": "stderr",
     "output_type": "stream",
     "text": [
      "/Users/oz/opt/anaconda3/lib/python3.8/site-packages/statsmodels/tsa/base/tsa_model.py:159: ValueWarning: No frequency information was provided, so inferred frequency MS will be used.\n",
      "  warnings.warn('No frequency information was'\n",
      "/Users/oz/opt/anaconda3/lib/python3.8/site-packages/statsmodels/base/model.py:567: ConvergenceWarning: Maximum Likelihood optimization failed to converge. Check mle_retvals\n",
      "  warn(\"Maximum Likelihood optimization failed to converge. \"\n",
      "/Users/oz/opt/anaconda3/lib/python3.8/site-packages/statsmodels/tsa/base/tsa_model.py:159: ValueWarning: No frequency information was provided, so inferred frequency MS will be used.\n",
      "  warnings.warn('No frequency information was'\n"
     ]
    },
    {
     "name": "stdout",
     "output_type": "stream",
     "text": [
      "ARIMA(1, 2, 1)x(2, 1, 1, 12) - AIC:708.0317725452902\n"
     ]
    },
    {
     "name": "stderr",
     "output_type": "stream",
     "text": [
      "/Users/oz/opt/anaconda3/lib/python3.8/site-packages/statsmodels/base/model.py:567: ConvergenceWarning: Maximum Likelihood optimization failed to converge. Check mle_retvals\n",
      "  warn(\"Maximum Likelihood optimization failed to converge. \"\n",
      "/Users/oz/opt/anaconda3/lib/python3.8/site-packages/statsmodels/tsa/base/tsa_model.py:159: ValueWarning: No frequency information was provided, so inferred frequency MS will be used.\n",
      "  warnings.warn('No frequency information was'\n",
      "/Users/oz/opt/anaconda3/lib/python3.8/site-packages/statsmodels/tsa/base/tsa_model.py:159: ValueWarning: No frequency information was provided, so inferred frequency MS will be used.\n",
      "  warnings.warn('No frequency information was'\n"
     ]
    },
    {
     "name": "stdout",
     "output_type": "stream",
     "text": [
      "ARIMA(1, 2, 1)x(2, 1, 2, 12) - AIC:330.9271884443519\n",
      "ARIMA(1, 2, 2)x(0, 1, 0, 12) - AIC:683.0841471651444\n"
     ]
    },
    {
     "name": "stderr",
     "output_type": "stream",
     "text": [
      "/Users/oz/opt/anaconda3/lib/python3.8/site-packages/statsmodels/base/model.py:567: ConvergenceWarning: Maximum Likelihood optimization failed to converge. Check mle_retvals\n",
      "  warn(\"Maximum Likelihood optimization failed to converge. \"\n",
      "/Users/oz/opt/anaconda3/lib/python3.8/site-packages/statsmodels/tsa/base/tsa_model.py:159: ValueWarning: No frequency information was provided, so inferred frequency MS will be used.\n",
      "  warnings.warn('No frequency information was'\n"
     ]
    },
    {
     "name": "stdout",
     "output_type": "stream",
     "text": [
      "ARIMA(1, 2, 2)x(0, 1, 1, 12) - AIC:1244.0845346823585\n",
      "ARIMA(1, 2, 2)x(0, 1, 2, 12) - AIC:310.75206935993884\n"
     ]
    },
    {
     "name": "stderr",
     "output_type": "stream",
     "text": [
      "/Users/oz/opt/anaconda3/lib/python3.8/site-packages/statsmodels/tsa/base/tsa_model.py:159: ValueWarning: No frequency information was provided, so inferred frequency MS will be used.\n",
      "  warnings.warn('No frequency information was'\n"
     ]
    },
    {
     "name": "stdout",
     "output_type": "stream",
     "text": [
      "ARIMA(1, 2, 2)x(1, 1, 0, 12) - AIC:521.2969434628892\n"
     ]
    },
    {
     "name": "stderr",
     "output_type": "stream",
     "text": [
      "/Users/oz/opt/anaconda3/lib/python3.8/site-packages/statsmodels/tsa/base/tsa_model.py:159: ValueWarning: No frequency information was provided, so inferred frequency MS will be used.\n",
      "  warnings.warn('No frequency information was'\n",
      "/Users/oz/opt/anaconda3/lib/python3.8/site-packages/statsmodels/base/model.py:567: ConvergenceWarning: Maximum Likelihood optimization failed to converge. Check mle_retvals\n",
      "  warn(\"Maximum Likelihood optimization failed to converge. \"\n",
      "/Users/oz/opt/anaconda3/lib/python3.8/site-packages/statsmodels/tsa/base/tsa_model.py:159: ValueWarning: No frequency information was provided, so inferred frequency MS will be used.\n",
      "  warnings.warn('No frequency information was'\n"
     ]
    },
    {
     "name": "stdout",
     "output_type": "stream",
     "text": [
      "ARIMA(1, 2, 2)x(1, 1, 1, 12) - AIC:1063.8766274902962\n",
      "ARIMA(1, 2, 2)x(1, 1, 2, 12) - AIC:312.3099409110797\n"
     ]
    },
    {
     "name": "stderr",
     "output_type": "stream",
     "text": [
      "/Users/oz/opt/anaconda3/lib/python3.8/site-packages/statsmodels/tsa/base/tsa_model.py:159: ValueWarning: No frequency information was provided, so inferred frequency MS will be used.\n",
      "  warnings.warn('No frequency information was'\n",
      "/Users/oz/opt/anaconda3/lib/python3.8/site-packages/statsmodels/base/model.py:567: ConvergenceWarning: Maximum Likelihood optimization failed to converge. Check mle_retvals\n",
      "  warn(\"Maximum Likelihood optimization failed to converge. \"\n",
      "/Users/oz/opt/anaconda3/lib/python3.8/site-packages/statsmodels/tsa/base/tsa_model.py:159: ValueWarning: No frequency information was provided, so inferred frequency MS will be used.\n",
      "  warnings.warn('No frequency information was'\n"
     ]
    },
    {
     "name": "stdout",
     "output_type": "stream",
     "text": [
      "ARIMA(1, 2, 2)x(2, 1, 0, 12) - AIC:341.44553765405743\n"
     ]
    },
    {
     "name": "stderr",
     "output_type": "stream",
     "text": [
      "/Users/oz/opt/anaconda3/lib/python3.8/site-packages/statsmodels/base/model.py:567: ConvergenceWarning: Maximum Likelihood optimization failed to converge. Check mle_retvals\n",
      "  warn(\"Maximum Likelihood optimization failed to converge. \"\n",
      "/Users/oz/opt/anaconda3/lib/python3.8/site-packages/statsmodels/tsa/base/tsa_model.py:159: ValueWarning: No frequency information was provided, so inferred frequency MS will be used.\n",
      "  warnings.warn('No frequency information was'\n"
     ]
    },
    {
     "name": "stdout",
     "output_type": "stream",
     "text": [
      "ARIMA(1, 2, 2)x(2, 1, 1, 12) - AIC:1011.1954754258315\n",
      "ARIMA(1, 2, 2)x(2, 1, 2, 12) - AIC:312.63227532815944\n",
      "ARIMA(2, 2, 0)x(0, 1, 0, 12) - AIC:696.8318080430075\n"
     ]
    },
    {
     "name": "stderr",
     "output_type": "stream",
     "text": [
      "/Users/oz/opt/anaconda3/lib/python3.8/site-packages/statsmodels/tsa/base/tsa_model.py:159: ValueWarning: No frequency information was provided, so inferred frequency MS will be used.\n",
      "  warnings.warn('No frequency information was'\n",
      "/Users/oz/opt/anaconda3/lib/python3.8/site-packages/statsmodels/tsa/base/tsa_model.py:159: ValueWarning: No frequency information was provided, so inferred frequency MS will be used.\n",
      "  warnings.warn('No frequency information was'\n",
      "/Users/oz/opt/anaconda3/lib/python3.8/site-packages/statsmodels/base/model.py:567: ConvergenceWarning: Maximum Likelihood optimization failed to converge. Check mle_retvals\n",
      "  warn(\"Maximum Likelihood optimization failed to converge. \"\n",
      "/Users/oz/opt/anaconda3/lib/python3.8/site-packages/statsmodels/tsa/base/tsa_model.py:159: ValueWarning: No frequency information was provided, so inferred frequency MS will be used.\n",
      "  warnings.warn('No frequency information was'\n"
     ]
    },
    {
     "name": "stdout",
     "output_type": "stream",
     "text": [
      "ARIMA(2, 2, 0)x(0, 1, 1, 12) - AIC:671.7765448371955\n",
      "ARIMA(2, 2, 0)x(0, 1, 2, 12) - AIC:333.9753643834554\n"
     ]
    },
    {
     "name": "stderr",
     "output_type": "stream",
     "text": [
      "/Users/oz/opt/anaconda3/lib/python3.8/site-packages/statsmodels/tsa/base/tsa_model.py:159: ValueWarning: No frequency information was provided, so inferred frequency MS will be used.\n",
      "  warnings.warn('No frequency information was'\n"
     ]
    },
    {
     "name": "stdout",
     "output_type": "stream",
     "text": [
      "ARIMA(2, 2, 0)x(1, 1, 0, 12) - AIC:490.35052113818693\n"
     ]
    },
    {
     "name": "stderr",
     "output_type": "stream",
     "text": [
      "/Users/oz/opt/anaconda3/lib/python3.8/site-packages/statsmodels/tsa/base/tsa_model.py:159: ValueWarning: No frequency information was provided, so inferred frequency MS will be used.\n",
      "  warnings.warn('No frequency information was'\n",
      "/Users/oz/opt/anaconda3/lib/python3.8/site-packages/statsmodels/base/model.py:567: ConvergenceWarning: Maximum Likelihood optimization failed to converge. Check mle_retvals\n",
      "  warn(\"Maximum Likelihood optimization failed to converge. \"\n",
      "/Users/oz/opt/anaconda3/lib/python3.8/site-packages/statsmodels/tsa/base/tsa_model.py:159: ValueWarning: No frequency information was provided, so inferred frequency MS will be used.\n",
      "  warnings.warn('No frequency information was'\n"
     ]
    },
    {
     "name": "stdout",
     "output_type": "stream",
     "text": [
      "ARIMA(2, 2, 0)x(1, 1, 1, 12) - AIC:963.0383463693454\n",
      "ARIMA(2, 2, 0)x(1, 1, 2, 12) - AIC:334.9071467192183\n"
     ]
    },
    {
     "name": "stderr",
     "output_type": "stream",
     "text": [
      "/Users/oz/opt/anaconda3/lib/python3.8/site-packages/statsmodels/tsa/base/tsa_model.py:159: ValueWarning: No frequency information was provided, so inferred frequency MS will be used.\n",
      "  warnings.warn('No frequency information was'\n"
     ]
    },
    {
     "name": "stdout",
     "output_type": "stream",
     "text": [
      "ARIMA(2, 2, 0)x(2, 1, 0, 12) - AIC:313.4529344695118\n"
     ]
    },
    {
     "name": "stderr",
     "output_type": "stream",
     "text": [
      "/Users/oz/opt/anaconda3/lib/python3.8/site-packages/statsmodels/tsa/base/tsa_model.py:159: ValueWarning: No frequency information was provided, so inferred frequency MS will be used.\n",
      "  warnings.warn('No frequency information was'\n",
      "/Users/oz/opt/anaconda3/lib/python3.8/site-packages/statsmodels/base/model.py:567: ConvergenceWarning: Maximum Likelihood optimization failed to converge. Check mle_retvals\n",
      "  warn(\"Maximum Likelihood optimization failed to converge. \"\n",
      "/Users/oz/opt/anaconda3/lib/python3.8/site-packages/statsmodels/tsa/base/tsa_model.py:159: ValueWarning: No frequency information was provided, so inferred frequency MS will be used.\n",
      "  warnings.warn('No frequency information was'\n"
     ]
    },
    {
     "name": "stdout",
     "output_type": "stream",
     "text": [
      "ARIMA(2, 2, 0)x(2, 1, 1, 12) - AIC:443.47015234790257\n",
      "ARIMA(2, 2, 0)x(2, 1, 2, 12) - AIC:317.35704791510966\n",
      "ARIMA(2, 2, 1)x(0, 1, 0, 12) - AIC:698.5269874194867\n"
     ]
    },
    {
     "name": "stderr",
     "output_type": "stream",
     "text": [
      "/Users/oz/opt/anaconda3/lib/python3.8/site-packages/statsmodels/tsa/base/tsa_model.py:159: ValueWarning: No frequency information was provided, so inferred frequency MS will be used.\n",
      "  warnings.warn('No frequency information was'\n",
      "/Users/oz/opt/anaconda3/lib/python3.8/site-packages/statsmodels/tsa/base/tsa_model.py:159: ValueWarning: No frequency information was provided, so inferred frequency MS will be used.\n",
      "  warnings.warn('No frequency information was'\n",
      "/Users/oz/opt/anaconda3/lib/python3.8/site-packages/statsmodels/base/model.py:567: ConvergenceWarning: Maximum Likelihood optimization failed to converge. Check mle_retvals\n",
      "  warn(\"Maximum Likelihood optimization failed to converge. \"\n",
      "/Users/oz/opt/anaconda3/lib/python3.8/site-packages/statsmodels/tsa/base/tsa_model.py:159: ValueWarning: No frequency information was provided, so inferred frequency MS will be used.\n",
      "  warnings.warn('No frequency information was'\n"
     ]
    },
    {
     "name": "stdout",
     "output_type": "stream",
     "text": [
      "ARIMA(2, 2, 1)x(0, 1, 1, 12) - AIC:1587.43583994057\n",
      "ARIMA(2, 2, 1)x(0, 1, 2, 12) - AIC:319.7423359914868\n"
     ]
    },
    {
     "name": "stderr",
     "output_type": "stream",
     "text": [
      "/Users/oz/opt/anaconda3/lib/python3.8/site-packages/statsmodels/tsa/base/tsa_model.py:159: ValueWarning: No frequency information was provided, so inferred frequency MS will be used.\n",
      "  warnings.warn('No frequency information was'\n"
     ]
    },
    {
     "name": "stdout",
     "output_type": "stream",
     "text": [
      "ARIMA(2, 2, 1)x(1, 1, 0, 12) - AIC:492.0538788068469\n"
     ]
    },
    {
     "name": "stderr",
     "output_type": "stream",
     "text": [
      "/Users/oz/opt/anaconda3/lib/python3.8/site-packages/statsmodels/tsa/base/tsa_model.py:159: ValueWarning: No frequency information was provided, so inferred frequency MS will be used.\n",
      "  warnings.warn('No frequency information was'\n",
      "/Users/oz/opt/anaconda3/lib/python3.8/site-packages/statsmodels/base/model.py:567: ConvergenceWarning: Maximum Likelihood optimization failed to converge. Check mle_retvals\n",
      "  warn(\"Maximum Likelihood optimization failed to converge. \"\n",
      "/Users/oz/opt/anaconda3/lib/python3.8/site-packages/statsmodels/tsa/base/tsa_model.py:159: ValueWarning: No frequency information was provided, so inferred frequency MS will be used.\n",
      "  warnings.warn('No frequency information was'\n"
     ]
    },
    {
     "name": "stdout",
     "output_type": "stream",
     "text": [
      "ARIMA(2, 2, 1)x(1, 1, 1, 12) - AIC:1649.2275201537475\n",
      "ARIMA(2, 2, 1)x(1, 1, 2, 12) - AIC:320.56006111987216\n"
     ]
    },
    {
     "name": "stderr",
     "output_type": "stream",
     "text": [
      "/Users/oz/opt/anaconda3/lib/python3.8/site-packages/statsmodels/tsa/base/tsa_model.py:159: ValueWarning: No frequency information was provided, so inferred frequency MS will be used.\n",
      "  warnings.warn('No frequency information was'\n"
     ]
    },
    {
     "name": "stdout",
     "output_type": "stream",
     "text": [
      "ARIMA(2, 2, 1)x(2, 1, 0, 12) - AIC:315.17596359897686\n"
     ]
    },
    {
     "name": "stderr",
     "output_type": "stream",
     "text": [
      "/Users/oz/opt/anaconda3/lib/python3.8/site-packages/statsmodels/tsa/base/tsa_model.py:159: ValueWarning: No frequency information was provided, so inferred frequency MS will be used.\n",
      "  warnings.warn('No frequency information was'\n",
      "/Users/oz/opt/anaconda3/lib/python3.8/site-packages/statsmodels/base/model.py:567: ConvergenceWarning: Maximum Likelihood optimization failed to converge. Check mle_retvals\n",
      "  warn(\"Maximum Likelihood optimization failed to converge. \"\n",
      "/Users/oz/opt/anaconda3/lib/python3.8/site-packages/statsmodels/tsa/base/tsa_model.py:159: ValueWarning: No frequency information was provided, so inferred frequency MS will be used.\n",
      "  warnings.warn('No frequency information was'\n"
     ]
    },
    {
     "name": "stdout",
     "output_type": "stream",
     "text": [
      "ARIMA(2, 2, 1)x(2, 1, 1, 12) - AIC:910.8085748432043\n",
      "ARIMA(2, 2, 1)x(2, 1, 2, 12) - AIC:322.5482304581907\n",
      "ARIMA(2, 2, 2)x(0, 1, 0, 12) - AIC:674.5812861041143\n"
     ]
    },
    {
     "name": "stderr",
     "output_type": "stream",
     "text": [
      "/Users/oz/opt/anaconda3/lib/python3.8/site-packages/statsmodels/tsa/base/tsa_model.py:159: ValueWarning: No frequency information was provided, so inferred frequency MS will be used.\n",
      "  warnings.warn('No frequency information was'\n",
      "/Users/oz/opt/anaconda3/lib/python3.8/site-packages/statsmodels/tsa/base/tsa_model.py:159: ValueWarning: No frequency information was provided, so inferred frequency MS will be used.\n",
      "  warnings.warn('No frequency information was'\n",
      "/Users/oz/opt/anaconda3/lib/python3.8/site-packages/statsmodels/base/model.py:567: ConvergenceWarning: Maximum Likelihood optimization failed to converge. Check mle_retvals\n",
      "  warn(\"Maximum Likelihood optimization failed to converge. \"\n",
      "/Users/oz/opt/anaconda3/lib/python3.8/site-packages/statsmodels/tsa/base/tsa_model.py:159: ValueWarning: No frequency information was provided, so inferred frequency MS will be used.\n",
      "  warnings.warn('No frequency information was'\n"
     ]
    },
    {
     "name": "stdout",
     "output_type": "stream",
     "text": [
      "ARIMA(2, 2, 2)x(0, 1, 1, 12) - AIC:1586.1973093281947\n"
     ]
    },
    {
     "name": "stderr",
     "output_type": "stream",
     "text": [
      "/Users/oz/opt/anaconda3/lib/python3.8/site-packages/statsmodels/base/model.py:567: ConvergenceWarning: Maximum Likelihood optimization failed to converge. Check mle_retvals\n",
      "  warn(\"Maximum Likelihood optimization failed to converge. \"\n",
      "/Users/oz/opt/anaconda3/lib/python3.8/site-packages/statsmodels/tsa/base/tsa_model.py:159: ValueWarning: No frequency information was provided, so inferred frequency MS will be used.\n",
      "  warnings.warn('No frequency information was'\n"
     ]
    },
    {
     "name": "stdout",
     "output_type": "stream",
     "text": [
      "ARIMA(2, 2, 2)x(0, 1, 2, 12) - AIC:300.98116449958405\n",
      "ARIMA(2, 2, 2)x(1, 1, 0, 12) - AIC:493.0033525209441\n"
     ]
    },
    {
     "name": "stderr",
     "output_type": "stream",
     "text": [
      "/Users/oz/opt/anaconda3/lib/python3.8/site-packages/statsmodels/tsa/base/tsa_model.py:159: ValueWarning: No frequency information was provided, so inferred frequency MS will be used.\n",
      "  warnings.warn('No frequency information was'\n",
      "/Users/oz/opt/anaconda3/lib/python3.8/site-packages/statsmodels/base/model.py:567: ConvergenceWarning: Maximum Likelihood optimization failed to converge. Check mle_retvals\n",
      "  warn(\"Maximum Likelihood optimization failed to converge. \"\n",
      "/Users/oz/opt/anaconda3/lib/python3.8/site-packages/statsmodels/tsa/base/tsa_model.py:159: ValueWarning: No frequency information was provided, so inferred frequency MS will be used.\n",
      "  warnings.warn('No frequency information was'\n"
     ]
    },
    {
     "name": "stdout",
     "output_type": "stream",
     "text": [
      "ARIMA(2, 2, 2)x(1, 1, 1, 12) - AIC:1573.4317684201537\n"
     ]
    },
    {
     "name": "stderr",
     "output_type": "stream",
     "text": [
      "/Users/oz/opt/anaconda3/lib/python3.8/site-packages/statsmodels/base/model.py:567: ConvergenceWarning: Maximum Likelihood optimization failed to converge. Check mle_retvals\n",
      "  warn(\"Maximum Likelihood optimization failed to converge. \"\n",
      "/Users/oz/opt/anaconda3/lib/python3.8/site-packages/statsmodels/tsa/base/tsa_model.py:159: ValueWarning: No frequency information was provided, so inferred frequency MS will be used.\n",
      "  warnings.warn('No frequency information was'\n"
     ]
    },
    {
     "name": "stdout",
     "output_type": "stream",
     "text": [
      "ARIMA(2, 2, 2)x(1, 1, 2, 12) - AIC:305.2459447596299\n",
      "ARIMA(2, 2, 2)x(2, 1, 0, 12) - AIC:317.17130228202575\n"
     ]
    },
    {
     "name": "stderr",
     "output_type": "stream",
     "text": [
      "/Users/oz/opt/anaconda3/lib/python3.8/site-packages/statsmodels/tsa/base/tsa_model.py:159: ValueWarning: No frequency information was provided, so inferred frequency MS will be used.\n",
      "  warnings.warn('No frequency information was'\n",
      "/Users/oz/opt/anaconda3/lib/python3.8/site-packages/statsmodels/base/model.py:567: ConvergenceWarning: Maximum Likelihood optimization failed to converge. Check mle_retvals\n",
      "  warn(\"Maximum Likelihood optimization failed to converge. \"\n",
      "/Users/oz/opt/anaconda3/lib/python3.8/site-packages/statsmodels/tsa/base/tsa_model.py:159: ValueWarning: No frequency information was provided, so inferred frequency MS will be used.\n",
      "  warnings.warn('No frequency information was'\n"
     ]
    },
    {
     "name": "stdout",
     "output_type": "stream",
     "text": [
      "ARIMA(2, 2, 2)x(2, 1, 1, 12) - AIC:501.96376651614804\n",
      "ARIMA(2, 2, 2)x(2, 1, 2, 12) - AIC:304.9152275566815\n"
     ]
    },
    {
     "name": "stderr",
     "output_type": "stream",
     "text": [
      "/Users/oz/opt/anaconda3/lib/python3.8/site-packages/statsmodels/base/model.py:567: ConvergenceWarning: Maximum Likelihood optimization failed to converge. Check mle_retvals\n",
      "  warn(\"Maximum Likelihood optimization failed to converge. \"\n"
     ]
    }
   ],
   "source": [
    "for param in pdq:\n",
    "    for param_seasonal in seasonal_pdq:\n",
    "        try:\n",
    "            mod =SARIMAX(df_zip_code_train,\n",
    "                         order=param,\n",
    "                         seasonal_order=param_seasonal,\n",
    "                         enforce_stationarity=False,\n",
    "                         enforce_invertibility=False, \n",
    "                         freq='MS')\n",
    "            results = mod.fit()\n",
    "            print('ARIMA{}x{} - AIC:{}'.format(param,param_seasonal,results.aic))\n",
    "        except: \n",
    "            print('hello')\n",
    "            continue"
   ]
  }
 ],
 "metadata": {
  "kernelspec": {
   "display_name": "Python 3",
   "language": "python",
   "name": "python3"
  },
  "language_info": {
   "codemirror_mode": {
    "name": "ipython",
    "version": 3
   },
   "file_extension": ".py",
   "mimetype": "text/x-python",
   "name": "python",
   "nbconvert_exporter": "python",
   "pygments_lexer": "ipython3",
   "version": "3.8.3"
  }
 },
 "nbformat": 4,
 "nbformat_minor": 4
}
