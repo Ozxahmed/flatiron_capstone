{
 "cells": [
  {
   "cell_type": "markdown",
   "metadata": {},
   "source": [
    "# Libraries"
   ]
  },
  {
   "cell_type": "code",
   "execution_count": 1,
   "metadata": {},
   "outputs": [],
   "source": [
    "import pandas as pd\n",
    "import matplotlib.pyplot as plt"
   ]
  },
  {
   "cell_type": "markdown",
   "metadata": {},
   "source": [
    "# Dataframes"
   ]
  },
  {
   "cell_type": "markdown",
   "metadata": {},
   "source": [
    "Plant 1 is near Gandikota, Andhra Pradesh, India \n",
    "\n",
    "Plant 2 is near Nashik, Maharashtra, India"
   ]
  },
  {
   "cell_type": "code",
   "execution_count": 116,
   "metadata": {},
   "outputs": [],
   "source": [
    "# dataframe\n",
    "# p1_gen\n",
    "# p1_wthr\n",
    "\n",
    "p1_gen = pd.read_csv('../../data/Plant_1_Generation_Data.csv')\n",
    "p1_wthr = pd.read_csv('../../data/Plant_1_Weather_Sensor_Data.csv')"
   ]
  },
  {
   "cell_type": "code",
   "execution_count": 117,
   "metadata": {},
   "outputs": [
    {
     "name": "stdout",
     "output_type": "stream",
     "text": [
      "(68778, 7)\n"
     ]
    },
    {
     "data": {
      "text/html": [
       "<div>\n",
       "<style scoped>\n",
       "    .dataframe tbody tr th:only-of-type {\n",
       "        vertical-align: middle;\n",
       "    }\n",
       "\n",
       "    .dataframe tbody tr th {\n",
       "        vertical-align: top;\n",
       "    }\n",
       "\n",
       "    .dataframe thead th {\n",
       "        text-align: right;\n",
       "    }\n",
       "</style>\n",
       "<table border=\"1\" class=\"dataframe\">\n",
       "  <thead>\n",
       "    <tr style=\"text-align: right;\">\n",
       "      <th></th>\n",
       "      <th>DATE_TIME</th>\n",
       "      <th>PLANT_ID</th>\n",
       "      <th>SOURCE_KEY</th>\n",
       "      <th>DC_POWER</th>\n",
       "      <th>AC_POWER</th>\n",
       "      <th>DAILY_YIELD</th>\n",
       "      <th>TOTAL_YIELD</th>\n",
       "    </tr>\n",
       "  </thead>\n",
       "  <tbody>\n",
       "    <tr>\n",
       "      <th>0</th>\n",
       "      <td>15-05-2020 00:00</td>\n",
       "      <td>4135001</td>\n",
       "      <td>1BY6WEcLGh8j5v7</td>\n",
       "      <td>0.0</td>\n",
       "      <td>0.0</td>\n",
       "      <td>0.0</td>\n",
       "      <td>6259559.0</td>\n",
       "    </tr>\n",
       "    <tr>\n",
       "      <th>1</th>\n",
       "      <td>15-05-2020 00:00</td>\n",
       "      <td>4135001</td>\n",
       "      <td>1IF53ai7Xc0U56Y</td>\n",
       "      <td>0.0</td>\n",
       "      <td>0.0</td>\n",
       "      <td>0.0</td>\n",
       "      <td>6183645.0</td>\n",
       "    </tr>\n",
       "    <tr>\n",
       "      <th>2</th>\n",
       "      <td>15-05-2020 00:00</td>\n",
       "      <td>4135001</td>\n",
       "      <td>3PZuoBAID5Wc2HD</td>\n",
       "      <td>0.0</td>\n",
       "      <td>0.0</td>\n",
       "      <td>0.0</td>\n",
       "      <td>6987759.0</td>\n",
       "    </tr>\n",
       "    <tr>\n",
       "      <th>3</th>\n",
       "      <td>15-05-2020 00:00</td>\n",
       "      <td>4135001</td>\n",
       "      <td>7JYdWkrLSPkdwr4</td>\n",
       "      <td>0.0</td>\n",
       "      <td>0.0</td>\n",
       "      <td>0.0</td>\n",
       "      <td>7602960.0</td>\n",
       "    </tr>\n",
       "    <tr>\n",
       "      <th>4</th>\n",
       "      <td>15-05-2020 00:00</td>\n",
       "      <td>4135001</td>\n",
       "      <td>McdE0feGgRqW7Ca</td>\n",
       "      <td>0.0</td>\n",
       "      <td>0.0</td>\n",
       "      <td>0.0</td>\n",
       "      <td>7158964.0</td>\n",
       "    </tr>\n",
       "  </tbody>\n",
       "</table>\n",
       "</div>"
      ],
      "text/plain": [
       "          DATE_TIME  PLANT_ID       SOURCE_KEY  DC_POWER  AC_POWER  \\\n",
       "0  15-05-2020 00:00   4135001  1BY6WEcLGh8j5v7       0.0       0.0   \n",
       "1  15-05-2020 00:00   4135001  1IF53ai7Xc0U56Y       0.0       0.0   \n",
       "2  15-05-2020 00:00   4135001  3PZuoBAID5Wc2HD       0.0       0.0   \n",
       "3  15-05-2020 00:00   4135001  7JYdWkrLSPkdwr4       0.0       0.0   \n",
       "4  15-05-2020 00:00   4135001  McdE0feGgRqW7Ca       0.0       0.0   \n",
       "\n",
       "   DAILY_YIELD  TOTAL_YIELD  \n",
       "0          0.0    6259559.0  \n",
       "1          0.0    6183645.0  \n",
       "2          0.0    6987759.0  \n",
       "3          0.0    7602960.0  \n",
       "4          0.0    7158964.0  "
      ]
     },
     "execution_count": 117,
     "metadata": {},
     "output_type": "execute_result"
    }
   ],
   "source": [
    "print(p1_gen.shape)\n",
    "p1_gen.head()"
   ]
  },
  {
   "cell_type": "code",
   "execution_count": 118,
   "metadata": {},
   "outputs": [
    {
     "name": "stdout",
     "output_type": "stream",
     "text": [
      "(3182, 6)\n"
     ]
    },
    {
     "data": {
      "text/html": [
       "<div>\n",
       "<style scoped>\n",
       "    .dataframe tbody tr th:only-of-type {\n",
       "        vertical-align: middle;\n",
       "    }\n",
       "\n",
       "    .dataframe tbody tr th {\n",
       "        vertical-align: top;\n",
       "    }\n",
       "\n",
       "    .dataframe thead th {\n",
       "        text-align: right;\n",
       "    }\n",
       "</style>\n",
       "<table border=\"1\" class=\"dataframe\">\n",
       "  <thead>\n",
       "    <tr style=\"text-align: right;\">\n",
       "      <th></th>\n",
       "      <th>DATE_TIME</th>\n",
       "      <th>PLANT_ID</th>\n",
       "      <th>SOURCE_KEY</th>\n",
       "      <th>AMBIENT_TEMPERATURE</th>\n",
       "      <th>MODULE_TEMPERATURE</th>\n",
       "      <th>IRRADIATION</th>\n",
       "    </tr>\n",
       "  </thead>\n",
       "  <tbody>\n",
       "    <tr>\n",
       "      <th>0</th>\n",
       "      <td>2020-05-15 00:00:00</td>\n",
       "      <td>4135001</td>\n",
       "      <td>HmiyD2TTLFNqkNe</td>\n",
       "      <td>25.184316</td>\n",
       "      <td>22.857507</td>\n",
       "      <td>0.0</td>\n",
       "    </tr>\n",
       "    <tr>\n",
       "      <th>1</th>\n",
       "      <td>2020-05-15 00:15:00</td>\n",
       "      <td>4135001</td>\n",
       "      <td>HmiyD2TTLFNqkNe</td>\n",
       "      <td>25.084589</td>\n",
       "      <td>22.761668</td>\n",
       "      <td>0.0</td>\n",
       "    </tr>\n",
       "    <tr>\n",
       "      <th>2</th>\n",
       "      <td>2020-05-15 00:30:00</td>\n",
       "      <td>4135001</td>\n",
       "      <td>HmiyD2TTLFNqkNe</td>\n",
       "      <td>24.935753</td>\n",
       "      <td>22.592306</td>\n",
       "      <td>0.0</td>\n",
       "    </tr>\n",
       "    <tr>\n",
       "      <th>3</th>\n",
       "      <td>2020-05-15 00:45:00</td>\n",
       "      <td>4135001</td>\n",
       "      <td>HmiyD2TTLFNqkNe</td>\n",
       "      <td>24.846130</td>\n",
       "      <td>22.360852</td>\n",
       "      <td>0.0</td>\n",
       "    </tr>\n",
       "    <tr>\n",
       "      <th>4</th>\n",
       "      <td>2020-05-15 01:00:00</td>\n",
       "      <td>4135001</td>\n",
       "      <td>HmiyD2TTLFNqkNe</td>\n",
       "      <td>24.621525</td>\n",
       "      <td>22.165423</td>\n",
       "      <td>0.0</td>\n",
       "    </tr>\n",
       "  </tbody>\n",
       "</table>\n",
       "</div>"
      ],
      "text/plain": [
       "             DATE_TIME  PLANT_ID       SOURCE_KEY  AMBIENT_TEMPERATURE  \\\n",
       "0  2020-05-15 00:00:00   4135001  HmiyD2TTLFNqkNe            25.184316   \n",
       "1  2020-05-15 00:15:00   4135001  HmiyD2TTLFNqkNe            25.084589   \n",
       "2  2020-05-15 00:30:00   4135001  HmiyD2TTLFNqkNe            24.935753   \n",
       "3  2020-05-15 00:45:00   4135001  HmiyD2TTLFNqkNe            24.846130   \n",
       "4  2020-05-15 01:00:00   4135001  HmiyD2TTLFNqkNe            24.621525   \n",
       "\n",
       "   MODULE_TEMPERATURE  IRRADIATION  \n",
       "0           22.857507          0.0  \n",
       "1           22.761668          0.0  \n",
       "2           22.592306          0.0  \n",
       "3           22.360852          0.0  \n",
       "4           22.165423          0.0  "
      ]
     },
     "execution_count": 118,
     "metadata": {},
     "output_type": "execute_result"
    }
   ],
   "source": [
    "print(p1_wthr.shape)\n",
    "p1_wthr.head()"
   ]
  },
  {
   "cell_type": "code",
   "execution_count": 119,
   "metadata": {},
   "outputs": [
    {
     "name": "stdout",
     "output_type": "stream",
     "text": [
      "<class 'pandas.core.frame.DataFrame'>\n",
      "RangeIndex: 68778 entries, 0 to 68777\n",
      "Data columns (total 7 columns):\n",
      " #   Column       Non-Null Count  Dtype  \n",
      "---  ------       --------------  -----  \n",
      " 0   DATE_TIME    68778 non-null  object \n",
      " 1   PLANT_ID     68778 non-null  int64  \n",
      " 2   SOURCE_KEY   68778 non-null  object \n",
      " 3   DC_POWER     68778 non-null  float64\n",
      " 4   AC_POWER     68778 non-null  float64\n",
      " 5   DAILY_YIELD  68778 non-null  float64\n",
      " 6   TOTAL_YIELD  68778 non-null  float64\n",
      "dtypes: float64(4), int64(1), object(2)\n",
      "memory usage: 3.7+ MB\n"
     ]
    }
   ],
   "source": [
    "# checking datatypes and nans within both dfs\n",
    "\n",
    "p1_gen.info()\n",
    "\n",
    "# looks like the date_tme columns isn't the correct datatype on both dfs"
   ]
  },
  {
   "cell_type": "code",
   "execution_count": 120,
   "metadata": {},
   "outputs": [
    {
     "name": "stdout",
     "output_type": "stream",
     "text": [
      "<class 'pandas.core.frame.DataFrame'>\n",
      "RangeIndex: 3182 entries, 0 to 3181\n",
      "Data columns (total 6 columns):\n",
      " #   Column               Non-Null Count  Dtype  \n",
      "---  ------               --------------  -----  \n",
      " 0   DATE_TIME            3182 non-null   object \n",
      " 1   PLANT_ID             3182 non-null   int64  \n",
      " 2   SOURCE_KEY           3182 non-null   object \n",
      " 3   AMBIENT_TEMPERATURE  3182 non-null   float64\n",
      " 4   MODULE_TEMPERATURE   3182 non-null   float64\n",
      " 5   IRRADIATION          3182 non-null   float64\n",
      "dtypes: float64(3), int64(1), object(2)\n",
      "memory usage: 149.3+ KB\n"
     ]
    }
   ],
   "source": [
    "p1_wthr.info()"
   ]
  },
  {
   "cell_type": "code",
   "execution_count": 121,
   "metadata": {},
   "outputs": [
    {
     "name": "stdout",
     "output_type": "stream",
     "text": [
      "0\n",
      "0\n"
     ]
    }
   ],
   "source": [
    "# there shouldn't be any duplicates, but double checking none the less\n",
    "\n",
    "print(p1_gen.duplicated().sum())\n",
    "print(p1_wthr.duplicated().sum())\n",
    "\n",
    "# as suspected, there are no duplicated values"
   ]
  },
  {
   "cell_type": "code",
   "execution_count": 126,
   "metadata": {},
   "outputs": [
    {
     "name": "stdout",
     "output_type": "stream",
     "text": [
      "<class 'pandas.core.frame.DataFrame'>\n",
      "RangeIndex: 68778 entries, 0 to 68777\n",
      "Data columns (total 7 columns):\n",
      " #   Column       Non-Null Count  Dtype         \n",
      "---  ------       --------------  -----         \n",
      " 0   DATE_TIME    68778 non-null  datetime64[ns]\n",
      " 1   PLANT_ID     68778 non-null  int64         \n",
      " 2   SOURCE_KEY   68778 non-null  object        \n",
      " 3   DC_POWER     68778 non-null  float64       \n",
      " 4   AC_POWER     68778 non-null  float64       \n",
      " 5   DAILY_YIELD  68778 non-null  float64       \n",
      " 6   TOTAL_YIELD  68778 non-null  float64       \n",
      "dtypes: datetime64[ns](1), float64(4), int64(1), object(1)\n",
      "memory usage: 3.7+ MB\n"
     ]
    }
   ],
   "source": [
    "# p1_gen: \n",
    "\n",
    "# converting date_time column to date_time object\n",
    "p1_gen.DATE_TIME = pd.to_datetime(p1_gen.DATE_TIME, infer_datetime_format=True)\n",
    "p1_gen.info()\n",
    "\n",
    "# setting the date_time column as the index\n",
    "p1_gen.set_index('DATE_TIME', inplace=True)\n",
    "p1_gen.head()\n",
    "\n",
    "p1_gen.to_csv('../../data/p1_gen_dtindex.csv')"
   ]
  },
  {
   "cell_type": "code",
   "execution_count": 127,
   "metadata": {},
   "outputs": [
    {
     "name": "stdout",
     "output_type": "stream",
     "text": [
      "<class 'pandas.core.frame.DataFrame'>\n",
      "RangeIndex: 3182 entries, 0 to 3181\n",
      "Data columns (total 6 columns):\n",
      " #   Column               Non-Null Count  Dtype         \n",
      "---  ------               --------------  -----         \n",
      " 0   DATE_TIME            3182 non-null   datetime64[ns]\n",
      " 1   PLANT_ID             3182 non-null   int64         \n",
      " 2   SOURCE_KEY           3182 non-null   object        \n",
      " 3   AMBIENT_TEMPERATURE  3182 non-null   float64       \n",
      " 4   MODULE_TEMPERATURE   3182 non-null   float64       \n",
      " 5   IRRADIATION          3182 non-null   float64       \n",
      "dtypes: datetime64[ns](1), float64(3), int64(1), object(1)\n",
      "memory usage: 149.3+ KB\n"
     ]
    }
   ],
   "source": [
    "# p1_wthr: \n",
    "\n",
    "# converting date_time column to date_time object\n",
    "p1_wthr.DATE_TIME = pd.to_datetime(p1_wthr.DATE_TIME, infer_datetime_format=True)\n",
    "p1_wthr.info()\n",
    "\n",
    "# setting the date_time column as the index\n",
    "p1_wthr.set_index('DATE_TIME', inplace=True)\n",
    "p1_wthr.head()\n",
    "\n",
    "p1_wthr.to_csv('../../data/p1_wthr_dtindex.csv')"
   ]
  },
  {
   "cell_type": "markdown",
   "metadata": {},
   "source": [
    "# p1_gen df"
   ]
  },
  {
   "cell_type": "code",
   "execution_count": 23,
   "metadata": {},
   "outputs": [
    {
     "data": {
      "text/plain": [
       "22"
      ]
     },
     "execution_count": 23,
     "metadata": {},
     "output_type": "execute_result"
    }
   ],
   "source": [
    "# 22 inverters, therefore ea specific timestamp has 22 records for ea inverter.\n",
    "\n",
    "len(p1_gen.SOURCE_KEY.value_counts())"
   ]
  },
  {
   "cell_type": "code",
   "execution_count": 129,
   "metadata": {},
   "outputs": [
    {
     "name": "stdout",
     "output_type": "stream",
     "text": [
      "21\n"
     ]
    },
    {
     "data": {
      "text/html": [
       "<div>\n",
       "<style scoped>\n",
       "    .dataframe tbody tr th:only-of-type {\n",
       "        vertical-align: middle;\n",
       "    }\n",
       "\n",
       "    .dataframe tbody tr th {\n",
       "        vertical-align: top;\n",
       "    }\n",
       "\n",
       "    .dataframe thead th {\n",
       "        text-align: right;\n",
       "    }\n",
       "</style>\n",
       "<table border=\"1\" class=\"dataframe\">\n",
       "  <thead>\n",
       "    <tr style=\"text-align: right;\">\n",
       "      <th></th>\n",
       "      <th>PLANT_ID</th>\n",
       "      <th>SOURCE_KEY</th>\n",
       "      <th>DC_POWER</th>\n",
       "      <th>AC_POWER</th>\n",
       "      <th>DAILY_YIELD</th>\n",
       "      <th>TOTAL_YIELD</th>\n",
       "    </tr>\n",
       "    <tr>\n",
       "      <th>DATE_TIME</th>\n",
       "      <th></th>\n",
       "      <th></th>\n",
       "      <th></th>\n",
       "      <th></th>\n",
       "      <th></th>\n",
       "      <th></th>\n",
       "    </tr>\n",
       "  </thead>\n",
       "  <tbody>\n",
       "    <tr>\n",
       "      <th>2020-05-15</th>\n",
       "      <td>4135001</td>\n",
       "      <td>1BY6WEcLGh8j5v7</td>\n",
       "      <td>0.0</td>\n",
       "      <td>0.0</td>\n",
       "      <td>0.0</td>\n",
       "      <td>6259559.0</td>\n",
       "    </tr>\n",
       "    <tr>\n",
       "      <th>2020-05-15</th>\n",
       "      <td>4135001</td>\n",
       "      <td>1IF53ai7Xc0U56Y</td>\n",
       "      <td>0.0</td>\n",
       "      <td>0.0</td>\n",
       "      <td>0.0</td>\n",
       "      <td>6183645.0</td>\n",
       "    </tr>\n",
       "    <tr>\n",
       "      <th>2020-05-15</th>\n",
       "      <td>4135001</td>\n",
       "      <td>3PZuoBAID5Wc2HD</td>\n",
       "      <td>0.0</td>\n",
       "      <td>0.0</td>\n",
       "      <td>0.0</td>\n",
       "      <td>6987759.0</td>\n",
       "    </tr>\n",
       "    <tr>\n",
       "      <th>2020-05-15</th>\n",
       "      <td>4135001</td>\n",
       "      <td>7JYdWkrLSPkdwr4</td>\n",
       "      <td>0.0</td>\n",
       "      <td>0.0</td>\n",
       "      <td>0.0</td>\n",
       "      <td>7602960.0</td>\n",
       "    </tr>\n",
       "    <tr>\n",
       "      <th>2020-05-15</th>\n",
       "      <td>4135001</td>\n",
       "      <td>McdE0feGgRqW7Ca</td>\n",
       "      <td>0.0</td>\n",
       "      <td>0.0</td>\n",
       "      <td>0.0</td>\n",
       "      <td>7158964.0</td>\n",
       "    </tr>\n",
       "    <tr>\n",
       "      <th>2020-05-15</th>\n",
       "      <td>4135001</td>\n",
       "      <td>VHMLBKoKgIrUVDU</td>\n",
       "      <td>0.0</td>\n",
       "      <td>0.0</td>\n",
       "      <td>0.0</td>\n",
       "      <td>7206408.0</td>\n",
       "    </tr>\n",
       "    <tr>\n",
       "      <th>2020-05-15</th>\n",
       "      <td>4135001</td>\n",
       "      <td>WRmjgnKYAwPKWDb</td>\n",
       "      <td>0.0</td>\n",
       "      <td>0.0</td>\n",
       "      <td>0.0</td>\n",
       "      <td>7028673.0</td>\n",
       "    </tr>\n",
       "    <tr>\n",
       "      <th>2020-05-15</th>\n",
       "      <td>4135001</td>\n",
       "      <td>ZnxXDlPa8U1GXgE</td>\n",
       "      <td>0.0</td>\n",
       "      <td>0.0</td>\n",
       "      <td>0.0</td>\n",
       "      <td>6522172.0</td>\n",
       "    </tr>\n",
       "    <tr>\n",
       "      <th>2020-05-15</th>\n",
       "      <td>4135001</td>\n",
       "      <td>ZoEaEvLYb1n2sOq</td>\n",
       "      <td>0.0</td>\n",
       "      <td>0.0</td>\n",
       "      <td>0.0</td>\n",
       "      <td>7098099.0</td>\n",
       "    </tr>\n",
       "    <tr>\n",
       "      <th>2020-05-15</th>\n",
       "      <td>4135001</td>\n",
       "      <td>adLQvlD726eNBSB</td>\n",
       "      <td>0.0</td>\n",
       "      <td>0.0</td>\n",
       "      <td>0.0</td>\n",
       "      <td>6271355.0</td>\n",
       "    </tr>\n",
       "    <tr>\n",
       "      <th>2020-05-15</th>\n",
       "      <td>4135001</td>\n",
       "      <td>bvBOhCH3iADSZry</td>\n",
       "      <td>0.0</td>\n",
       "      <td>0.0</td>\n",
       "      <td>0.0</td>\n",
       "      <td>6316803.0</td>\n",
       "    </tr>\n",
       "    <tr>\n",
       "      <th>2020-05-15</th>\n",
       "      <td>4135001</td>\n",
       "      <td>iCRJl6heRkivqQ3</td>\n",
       "      <td>0.0</td>\n",
       "      <td>0.0</td>\n",
       "      <td>0.0</td>\n",
       "      <td>7177992.0</td>\n",
       "    </tr>\n",
       "    <tr>\n",
       "      <th>2020-05-15</th>\n",
       "      <td>4135001</td>\n",
       "      <td>ih0vzX44oOqAx2f</td>\n",
       "      <td>0.0</td>\n",
       "      <td>0.0</td>\n",
       "      <td>0.0</td>\n",
       "      <td>6185184.0</td>\n",
       "    </tr>\n",
       "    <tr>\n",
       "      <th>2020-05-15</th>\n",
       "      <td>4135001</td>\n",
       "      <td>pkci93gMrogZuBj</td>\n",
       "      <td>0.0</td>\n",
       "      <td>0.0</td>\n",
       "      <td>0.0</td>\n",
       "      <td>7169102.0</td>\n",
       "    </tr>\n",
       "    <tr>\n",
       "      <th>2020-05-15</th>\n",
       "      <td>4135001</td>\n",
       "      <td>rGa61gmuvPhdLxV</td>\n",
       "      <td>0.0</td>\n",
       "      <td>0.0</td>\n",
       "      <td>0.0</td>\n",
       "      <td>7111493.0</td>\n",
       "    </tr>\n",
       "    <tr>\n",
       "      <th>2020-05-15</th>\n",
       "      <td>4135001</td>\n",
       "      <td>sjndEbLyjtCKgGv</td>\n",
       "      <td>0.0</td>\n",
       "      <td>0.0</td>\n",
       "      <td>0.0</td>\n",
       "      <td>7016832.0</td>\n",
       "    </tr>\n",
       "    <tr>\n",
       "      <th>2020-05-15</th>\n",
       "      <td>4135001</td>\n",
       "      <td>uHbuxQJl8lW7ozc</td>\n",
       "      <td>0.0</td>\n",
       "      <td>0.0</td>\n",
       "      <td>0.0</td>\n",
       "      <td>7038681.0</td>\n",
       "    </tr>\n",
       "    <tr>\n",
       "      <th>2020-05-15</th>\n",
       "      <td>4135001</td>\n",
       "      <td>wCURE6d3bPkepu2</td>\n",
       "      <td>0.0</td>\n",
       "      <td>0.0</td>\n",
       "      <td>0.0</td>\n",
       "      <td>6782598.0</td>\n",
       "    </tr>\n",
       "    <tr>\n",
       "      <th>2020-05-15</th>\n",
       "      <td>4135001</td>\n",
       "      <td>z9Y9gH1T5YWrNuG</td>\n",
       "      <td>0.0</td>\n",
       "      <td>0.0</td>\n",
       "      <td>0.0</td>\n",
       "      <td>7007866.0</td>\n",
       "    </tr>\n",
       "    <tr>\n",
       "      <th>2020-05-15</th>\n",
       "      <td>4135001</td>\n",
       "      <td>zBIq5rxdHJRwDNY</td>\n",
       "      <td>0.0</td>\n",
       "      <td>0.0</td>\n",
       "      <td>0.0</td>\n",
       "      <td>6339380.0</td>\n",
       "    </tr>\n",
       "    <tr>\n",
       "      <th>2020-05-15</th>\n",
       "      <td>4135001</td>\n",
       "      <td>zVJPv84UY57bAof</td>\n",
       "      <td>0.0</td>\n",
       "      <td>0.0</td>\n",
       "      <td>0.0</td>\n",
       "      <td>7116151.0</td>\n",
       "    </tr>\n",
       "  </tbody>\n",
       "</table>\n",
       "</div>"
      ],
      "text/plain": [
       "            PLANT_ID       SOURCE_KEY  DC_POWER  AC_POWER  DAILY_YIELD  \\\n",
       "DATE_TIME                                                                \n",
       "2020-05-15   4135001  1BY6WEcLGh8j5v7       0.0       0.0          0.0   \n",
       "2020-05-15   4135001  1IF53ai7Xc0U56Y       0.0       0.0          0.0   \n",
       "2020-05-15   4135001  3PZuoBAID5Wc2HD       0.0       0.0          0.0   \n",
       "2020-05-15   4135001  7JYdWkrLSPkdwr4       0.0       0.0          0.0   \n",
       "2020-05-15   4135001  McdE0feGgRqW7Ca       0.0       0.0          0.0   \n",
       "2020-05-15   4135001  VHMLBKoKgIrUVDU       0.0       0.0          0.0   \n",
       "2020-05-15   4135001  WRmjgnKYAwPKWDb       0.0       0.0          0.0   \n",
       "2020-05-15   4135001  ZnxXDlPa8U1GXgE       0.0       0.0          0.0   \n",
       "2020-05-15   4135001  ZoEaEvLYb1n2sOq       0.0       0.0          0.0   \n",
       "2020-05-15   4135001  adLQvlD726eNBSB       0.0       0.0          0.0   \n",
       "2020-05-15   4135001  bvBOhCH3iADSZry       0.0       0.0          0.0   \n",
       "2020-05-15   4135001  iCRJl6heRkivqQ3       0.0       0.0          0.0   \n",
       "2020-05-15   4135001  ih0vzX44oOqAx2f       0.0       0.0          0.0   \n",
       "2020-05-15   4135001  pkci93gMrogZuBj       0.0       0.0          0.0   \n",
       "2020-05-15   4135001  rGa61gmuvPhdLxV       0.0       0.0          0.0   \n",
       "2020-05-15   4135001  sjndEbLyjtCKgGv       0.0       0.0          0.0   \n",
       "2020-05-15   4135001  uHbuxQJl8lW7ozc       0.0       0.0          0.0   \n",
       "2020-05-15   4135001  wCURE6d3bPkepu2       0.0       0.0          0.0   \n",
       "2020-05-15   4135001  z9Y9gH1T5YWrNuG       0.0       0.0          0.0   \n",
       "2020-05-15   4135001  zBIq5rxdHJRwDNY       0.0       0.0          0.0   \n",
       "2020-05-15   4135001  zVJPv84UY57bAof       0.0       0.0          0.0   \n",
       "\n",
       "            TOTAL_YIELD  \n",
       "DATE_TIME                \n",
       "2020-05-15    6259559.0  \n",
       "2020-05-15    6183645.0  \n",
       "2020-05-15    6987759.0  \n",
       "2020-05-15    7602960.0  \n",
       "2020-05-15    7158964.0  \n",
       "2020-05-15    7206408.0  \n",
       "2020-05-15    7028673.0  \n",
       "2020-05-15    6522172.0  \n",
       "2020-05-15    7098099.0  \n",
       "2020-05-15    6271355.0  \n",
       "2020-05-15    6316803.0  \n",
       "2020-05-15    7177992.0  \n",
       "2020-05-15    6185184.0  \n",
       "2020-05-15    7169102.0  \n",
       "2020-05-15    7111493.0  \n",
       "2020-05-15    7016832.0  \n",
       "2020-05-15    7038681.0  \n",
       "2020-05-15    6782598.0  \n",
       "2020-05-15    7007866.0  \n",
       "2020-05-15    6339380.0  \n",
       "2020-05-15    7116151.0  "
      ]
     },
     "execution_count": 129,
     "metadata": {},
     "output_type": "execute_result"
    }
   ],
   "source": [
    "print(len(p1_gen[p1_gen.index == '2020-05-15']))\n",
    "p1_gen[p1_gen.index == '2020-05-15']\n",
    "\n",
    "# 5/15 00:00:00 has 21 records"
   ]
  },
  {
   "cell_type": "code",
   "execution_count": 136,
   "metadata": {},
   "outputs": [
    {
     "name": "stdout",
     "output_type": "stream",
     "text": [
      "1934\n"
     ]
    },
    {
     "data": {
      "text/html": [
       "<div>\n",
       "<style scoped>\n",
       "    .dataframe tbody tr th:only-of-type {\n",
       "        vertical-align: middle;\n",
       "    }\n",
       "\n",
       "    .dataframe tbody tr th {\n",
       "        vertical-align: top;\n",
       "    }\n",
       "\n",
       "    .dataframe thead th {\n",
       "        text-align: right;\n",
       "    }\n",
       "</style>\n",
       "<table border=\"1\" class=\"dataframe\">\n",
       "  <thead>\n",
       "    <tr style=\"text-align: right;\">\n",
       "      <th></th>\n",
       "      <th>PLANT_ID</th>\n",
       "      <th>SOURCE_KEY</th>\n",
       "      <th>DC_POWER</th>\n",
       "      <th>AC_POWER</th>\n",
       "      <th>DAILY_YIELD</th>\n",
       "      <th>TOTAL_YIELD</th>\n",
       "    </tr>\n",
       "    <tr>\n",
       "      <th>DATE_TIME</th>\n",
       "      <th></th>\n",
       "      <th></th>\n",
       "      <th></th>\n",
       "      <th></th>\n",
       "      <th></th>\n",
       "      <th></th>\n",
       "    </tr>\n",
       "  </thead>\n",
       "  <tbody>\n",
       "    <tr>\n",
       "      <th>2020-05-16 02:00:00</th>\n",
       "      <td>4135001</td>\n",
       "      <td>1BY6WEcLGh8j5v7</td>\n",
       "      <td>0.0</td>\n",
       "      <td>0.0</td>\n",
       "      <td>0.000000</td>\n",
       "      <td>6265313.0</td>\n",
       "    </tr>\n",
       "    <tr>\n",
       "      <th>2020-05-16 02:00:00</th>\n",
       "      <td>4135001</td>\n",
       "      <td>3PZuoBAID5Wc2HD</td>\n",
       "      <td>0.0</td>\n",
       "      <td>0.0</td>\n",
       "      <td>0.000000</td>\n",
       "      <td>6994033.0</td>\n",
       "    </tr>\n",
       "    <tr>\n",
       "      <th>2020-05-16 02:00:00</th>\n",
       "      <td>4135001</td>\n",
       "      <td>7JYdWkrLSPkdwr4</td>\n",
       "      <td>0.0</td>\n",
       "      <td>0.0</td>\n",
       "      <td>0.000000</td>\n",
       "      <td>7609076.0</td>\n",
       "    </tr>\n",
       "    <tr>\n",
       "      <th>2020-05-16 02:00:00</th>\n",
       "      <td>4135001</td>\n",
       "      <td>McdE0feGgRqW7Ca</td>\n",
       "      <td>0.0</td>\n",
       "      <td>0.0</td>\n",
       "      <td>0.000000</td>\n",
       "      <td>7165435.0</td>\n",
       "    </tr>\n",
       "    <tr>\n",
       "      <th>2020-05-16 02:00:00</th>\n",
       "      <td>4135001</td>\n",
       "      <td>VHMLBKoKgIrUVDU</td>\n",
       "      <td>0.0</td>\n",
       "      <td>0.0</td>\n",
       "      <td>0.000000</td>\n",
       "      <td>7212666.0</td>\n",
       "    </tr>\n",
       "    <tr>\n",
       "      <th>...</th>\n",
       "      <td>...</td>\n",
       "      <td>...</td>\n",
       "      <td>...</td>\n",
       "      <td>...</td>\n",
       "      <td>...</td>\n",
       "      <td>...</td>\n",
       "    </tr>\n",
       "    <tr>\n",
       "      <th>2020-05-16 23:45:00</th>\n",
       "      <td>4135001</td>\n",
       "      <td>uHbuxQJl8lW7ozc</td>\n",
       "      <td>0.0</td>\n",
       "      <td>0.0</td>\n",
       "      <td>6271.000000</td>\n",
       "      <td>7051339.0</td>\n",
       "    </tr>\n",
       "    <tr>\n",
       "      <th>2020-05-16 23:45:00</th>\n",
       "      <td>4135001</td>\n",
       "      <td>wCURE6d3bPkepu2</td>\n",
       "      <td>0.0</td>\n",
       "      <td>0.0</td>\n",
       "      <td>3738.857143</td>\n",
       "      <td>6795470.0</td>\n",
       "    </tr>\n",
       "    <tr>\n",
       "      <th>2020-05-16 23:45:00</th>\n",
       "      <td>4135001</td>\n",
       "      <td>z9Y9gH1T5YWrNuG</td>\n",
       "      <td>0.0</td>\n",
       "      <td>0.0</td>\n",
       "      <td>6488.000000</td>\n",
       "      <td>7020740.0</td>\n",
       "    </tr>\n",
       "    <tr>\n",
       "      <th>2020-05-16 23:45:00</th>\n",
       "      <td>4135001</td>\n",
       "      <td>zBIq5rxdHJRwDNY</td>\n",
       "      <td>0.0</td>\n",
       "      <td>0.0</td>\n",
       "      <td>6374.000000</td>\n",
       "      <td>6352150.0</td>\n",
       "    </tr>\n",
       "    <tr>\n",
       "      <th>2020-05-16 23:45:00</th>\n",
       "      <td>4135001</td>\n",
       "      <td>zVJPv84UY57bAof</td>\n",
       "      <td>0.0</td>\n",
       "      <td>0.0</td>\n",
       "      <td>6419.000000</td>\n",
       "      <td>7128535.0</td>\n",
       "    </tr>\n",
       "  </tbody>\n",
       "</table>\n",
       "<p>1934 rows × 6 columns</p>\n",
       "</div>"
      ],
      "text/plain": [
       "                     PLANT_ID       SOURCE_KEY  DC_POWER  AC_POWER  \\\n",
       "DATE_TIME                                                            \n",
       "2020-05-16 02:00:00   4135001  1BY6WEcLGh8j5v7       0.0       0.0   \n",
       "2020-05-16 02:00:00   4135001  3PZuoBAID5Wc2HD       0.0       0.0   \n",
       "2020-05-16 02:00:00   4135001  7JYdWkrLSPkdwr4       0.0       0.0   \n",
       "2020-05-16 02:00:00   4135001  McdE0feGgRqW7Ca       0.0       0.0   \n",
       "2020-05-16 02:00:00   4135001  VHMLBKoKgIrUVDU       0.0       0.0   \n",
       "...                       ...              ...       ...       ...   \n",
       "2020-05-16 23:45:00   4135001  uHbuxQJl8lW7ozc       0.0       0.0   \n",
       "2020-05-16 23:45:00   4135001  wCURE6d3bPkepu2       0.0       0.0   \n",
       "2020-05-16 23:45:00   4135001  z9Y9gH1T5YWrNuG       0.0       0.0   \n",
       "2020-05-16 23:45:00   4135001  zBIq5rxdHJRwDNY       0.0       0.0   \n",
       "2020-05-16 23:45:00   4135001  zVJPv84UY57bAof       0.0       0.0   \n",
       "\n",
       "                     DAILY_YIELD  TOTAL_YIELD  \n",
       "DATE_TIME                                      \n",
       "2020-05-16 02:00:00     0.000000    6265313.0  \n",
       "2020-05-16 02:00:00     0.000000    6994033.0  \n",
       "2020-05-16 02:00:00     0.000000    7609076.0  \n",
       "2020-05-16 02:00:00     0.000000    7165435.0  \n",
       "2020-05-16 02:00:00     0.000000    7212666.0  \n",
       "...                          ...          ...  \n",
       "2020-05-16 23:45:00  6271.000000    7051339.0  \n",
       "2020-05-16 23:45:00  3738.857143    6795470.0  \n",
       "2020-05-16 23:45:00  6488.000000    7020740.0  \n",
       "2020-05-16 23:45:00  6374.000000    6352150.0  \n",
       "2020-05-16 23:45:00  6419.000000    7128535.0  \n",
       "\n",
       "[1934 rows x 6 columns]"
      ]
     },
     "execution_count": 136,
     "metadata": {},
     "output_type": "execute_result"
    }
   ],
   "source": [
    "# 5/16 00:00:00 has no records.\n",
    "# Look into this.\n",
    "\n",
    "print(len(p1_gen[(p1_gen.index.month == 5) & (p1_gen.index.day == 16)]))\n",
    "p1_gen[(p1_gen.index.month == 5) & (p1_gen.index.day == 16)]"
   ]
  },
  {
   "cell_type": "code",
   "execution_count": 138,
   "metadata": {},
   "outputs": [
    {
     "data": {
      "image/png": "[encoded data removed]",
      "text/plain": [
       "<Figure size 864x288 with 1 Axes>"
      ]
     },
     "metadata": {
      "needs_background": "light"
     },
     "output_type": "display_data"
    }
   ],
   "source": [
    "# isolating and plotting one inverter's dc ouput: \n",
    "# 1BY6WEcLGh8j5v7\n",
    "# 5/15\n",
    "\n",
    "sk1 = p1_gen[(p1_gen.index.month == 5) & (p1_gen.index.day == 15)\n",
    "               & (p1_gen.SOURCE_KEY == '1BY6WEcLGh8j5v7')]\n",
    "\n",
    "plt.subplots(figsize=(12,4))\n",
    "plt.plot(sk1.DC_POWER);"
   ]
  },
  {
   "cell_type": "code",
   "execution_count": null,
   "metadata": {},
   "outputs": [],
   "source": [
    "sk1.head(50)"
   ]
  },
  {
   "cell_type": "code",
   "execution_count": 139,
   "metadata": {},
   "outputs": [
    {
     "data": {
      "image/png": "[encoded data removed]",
      "text/plain": [
       "<Figure size 864x288 with 1 Axes>"
      ]
     },
     "metadata": {
      "needs_background": "light"
     },
     "output_type": "display_data"
    }
   ],
   "source": [
    "# isolating and plotting one inverter's dc ouput: \n",
    "# 1BY6WEcLGh8j5v7\n",
    "# 5/16\n",
    "\n",
    "sk1 = p1_gen[(p1_gen.index.month == 5) & (p1_gen.index.day == 16)\n",
    "               & (p1_gen.SOURCE_KEY == '1BY6WEcLGh8j5v7')]\n",
    "\n",
    "plt.subplots(figsize=(12,4))\n",
    "plt.plot(sk1.DC_POWER);"
   ]
  },
  {
   "cell_type": "markdown",
   "metadata": {},
   "source": [
    "---"
   ]
  },
  {
   "cell_type": "code",
   "execution_count": 140,
   "metadata": {},
   "outputs": [
    {
     "name": "stdout",
     "output_type": "stream",
     "text": [
      "min date:  2020-05-15 00:00:00\n",
      "max date:  2020-06-17 23:45:00\n"
     ]
    }
   ],
   "source": [
    "# checking to see the dates, how many days are there. There should be 34\n",
    "\n",
    "print('min date: ', p1_gen.index.min())\n",
    "print('max date: ', p1_gen.index.max())\n",
    "\n",
    "# umm wat? I have dates in Jan and December. Let's isolate one inverter with records in both months"
   ]
  },
  {
   "cell_type": "markdown",
   "metadata": {},
   "source": [
    "---\n",
    "\n",
    "Checking records/day for one inverter: 1BY6WEcLGh8j5v7\n",
    "Seems like it varies"
   ]
  },
  {
   "cell_type": "code",
   "execution_count": 60,
   "metadata": {},
   "outputs": [
    {
     "data": {
      "text/plain": [
       "93"
      ]
     },
     "execution_count": 60,
     "metadata": {},
     "output_type": "execute_result"
    }
   ],
   "source": [
    "len(sk1[(sk1.index.day == 25) & (sk1.index.month == 5)])"
   ]
  },
  {
   "cell_type": "code",
   "execution_count": 61,
   "metadata": {},
   "outputs": [
    {
     "data": {
      "text/plain": [
       "95"
      ]
     },
     "execution_count": 61,
     "metadata": {},
     "output_type": "execute_result"
    }
   ],
   "source": [
    "len(sk1[(sk1.index.day == 26) & (sk1.index.month == 5)])"
   ]
  },
  {
   "cell_type": "code",
   "execution_count": 62,
   "metadata": {},
   "outputs": [
    {
     "data": {
      "text/plain": [
       "96"
      ]
     },
     "execution_count": 62,
     "metadata": {},
     "output_type": "execute_result"
    }
   ],
   "source": [
    "len(sk1[(sk1.index.day == 27) & (sk1.index.month == 5)])"
   ]
  },
  {
   "cell_type": "code",
   "execution_count": 63,
   "metadata": {},
   "outputs": [
    {
     "data": {
      "text/plain": [
       "90"
      ]
     },
     "execution_count": 63,
     "metadata": {},
     "output_type": "execute_result"
    }
   ],
   "source": [
    "len(sk1[(sk1.index.day == 28) & (sk1.index.month == 5)])"
   ]
  },
  {
   "cell_type": "markdown",
   "metadata": {},
   "source": [
    "---"
   ]
  }
 ],
 "metadata": {
  "kernelspec": {
   "display_name": "Python 3",
   "language": "python",
   "name": "python3"
  },
  "language_info": {
   "codemirror_mode": {
    "name": "ipython",
    "version": 3
   },
   "file_extension": ".py",
   "mimetype": "text/x-python",
   "name": "python",
   "nbconvert_exporter": "python",
   "pygments_lexer": "ipython3",
   "version": "3.8.3"
  }
 },
 "nbformat": 4,
 "nbformat_minor": 4
}
