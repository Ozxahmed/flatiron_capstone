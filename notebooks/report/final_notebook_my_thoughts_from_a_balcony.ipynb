{
 "cells": [
  {
   "cell_type": "markdown",
   "metadata": {},
   "source": [
    "---\n",
    "\n",
    "# Importing Libraries"
   ]
  },
  {
   "cell_type": "code",
   "execution_count": 219,
   "metadata": {},
   "outputs": [],
   "source": [
    "import pandas as pd\n",
    "import matplotlib.pyplot as plt\n",
    "import seaborn as sns\n",
    "sns.set_style('darkgrid')\n",
    "import numpy as np\n",
    "from sklearn.metrics import r2_score,mean_squared_error,mean_absolute_error\n",
    "\n",
    "from pmdarima.arima import auto_arima\n",
    "from statsmodels.tsa.statespace.sarimax import SARIMAX\n",
    "from statsmodels.tsa.stattools import adfuller\n",
    "from statsmodels.graphics.tsaplots import plot_acf, plot_pacf\n",
    "from pandas.tseries.offsets import DateOffset\n",
    "\n",
    "# api\n",
    "import json\n",
    "import requests"
   ]
  },
  {
   "cell_type": "markdown",
   "metadata": {},
   "source": [
    "---\n",
    "\n",
    "# Importing Data & Data Understanding"
   ]
  },
  {
   "cell_type": "markdown",
   "metadata": {},
   "source": [
    "#### **POWER OUTPUT DATA:**"
   ]
  },
  {
   "cell_type": "code",
   "execution_count": 33,
   "metadata": {},
   "outputs": [],
   "source": [
    "# power output data for plant 1\n",
    "p1_gen = pd.read_csv('../../data/Plant_1_Generation_Data.csv')"
   ]
  },
  {
   "cell_type": "code",
   "execution_count": 34,
   "metadata": {},
   "outputs": [
    {
     "data": {
      "text/html": [
       "<div>\n",
       "<style scoped>\n",
       "    .dataframe tbody tr th:only-of-type {\n",
       "        vertical-align: middle;\n",
       "    }\n",
       "\n",
       "    .dataframe tbody tr th {\n",
       "        vertical-align: top;\n",
       "    }\n",
       "\n",
       "    .dataframe thead th {\n",
       "        text-align: right;\n",
       "    }\n",
       "</style>\n",
       "<table border=\"1\" class=\"dataframe\">\n",
       "  <thead>\n",
       "    <tr style=\"text-align: right;\">\n",
       "      <th></th>\n",
       "      <th>DATE_TIME</th>\n",
       "      <th>PLANT_ID</th>\n",
       "      <th>SOURCE_KEY</th>\n",
       "      <th>DC_POWER</th>\n",
       "      <th>AC_POWER</th>\n",
       "      <th>DAILY_YIELD</th>\n",
       "      <th>TOTAL_YIELD</th>\n",
       "    </tr>\n",
       "  </thead>\n",
       "  <tbody>\n",
       "    <tr>\n",
       "      <th>0</th>\n",
       "      <td>15-05-2020 00:00</td>\n",
       "      <td>4135001</td>\n",
       "      <td>1BY6WEcLGh8j5v7</td>\n",
       "      <td>0.0</td>\n",
       "      <td>0.0</td>\n",
       "      <td>0.0</td>\n",
       "      <td>6259559.0</td>\n",
       "    </tr>\n",
       "    <tr>\n",
       "      <th>1</th>\n",
       "      <td>15-05-2020 00:00</td>\n",
       "      <td>4135001</td>\n",
       "      <td>1IF53ai7Xc0U56Y</td>\n",
       "      <td>0.0</td>\n",
       "      <td>0.0</td>\n",
       "      <td>0.0</td>\n",
       "      <td>6183645.0</td>\n",
       "    </tr>\n",
       "    <tr>\n",
       "      <th>2</th>\n",
       "      <td>15-05-2020 00:00</td>\n",
       "      <td>4135001</td>\n",
       "      <td>3PZuoBAID5Wc2HD</td>\n",
       "      <td>0.0</td>\n",
       "      <td>0.0</td>\n",
       "      <td>0.0</td>\n",
       "      <td>6987759.0</td>\n",
       "    </tr>\n",
       "    <tr>\n",
       "      <th>3</th>\n",
       "      <td>15-05-2020 00:00</td>\n",
       "      <td>4135001</td>\n",
       "      <td>7JYdWkrLSPkdwr4</td>\n",
       "      <td>0.0</td>\n",
       "      <td>0.0</td>\n",
       "      <td>0.0</td>\n",
       "      <td>7602960.0</td>\n",
       "    </tr>\n",
       "    <tr>\n",
       "      <th>4</th>\n",
       "      <td>15-05-2020 00:00</td>\n",
       "      <td>4135001</td>\n",
       "      <td>McdE0feGgRqW7Ca</td>\n",
       "      <td>0.0</td>\n",
       "      <td>0.0</td>\n",
       "      <td>0.0</td>\n",
       "      <td>7158964.0</td>\n",
       "    </tr>\n",
       "  </tbody>\n",
       "</table>\n",
       "</div>"
      ],
      "text/plain": [
       "          DATE_TIME  PLANT_ID       SOURCE_KEY  DC_POWER  AC_POWER  \\\n",
       "0  15-05-2020 00:00   4135001  1BY6WEcLGh8j5v7       0.0       0.0   \n",
       "1  15-05-2020 00:00   4135001  1IF53ai7Xc0U56Y       0.0       0.0   \n",
       "2  15-05-2020 00:00   4135001  3PZuoBAID5Wc2HD       0.0       0.0   \n",
       "3  15-05-2020 00:00   4135001  7JYdWkrLSPkdwr4       0.0       0.0   \n",
       "4  15-05-2020 00:00   4135001  McdE0feGgRqW7Ca       0.0       0.0   \n",
       "\n",
       "   DAILY_YIELD  TOTAL_YIELD  \n",
       "0          0.0    6259559.0  \n",
       "1          0.0    6183645.0  \n",
       "2          0.0    6987759.0  \n",
       "3          0.0    7602960.0  \n",
       "4          0.0    7158964.0  "
      ]
     },
     "execution_count": 34,
     "metadata": {},
     "output_type": "execute_result"
    }
   ],
   "source": [
    "# looking at the first 5 records:\n",
    "\n",
    "p1_gen.head()"
   ]
  },
  {
   "cell_type": "markdown",
   "metadata": {},
   "source": [
    "**Columns:**\n",
    "\n",
    "DATE_TIME: Date and timestamp of datapoint- taken every 15 minute\n",
    "\n",
    "PLANT_ID: ID of Plant 1\n",
    "\n",
    "SOURCE_KEY: Inverter ID\n",
    "\n",
    "DC_POWER: DC power produced by inverter in that 15 minute interval (in kW)\n",
    "\n",
    "AC_POWER: AC power produced by inverter in that 15 minute interval (in kW)\n",
    "\n",
    "DAILY_YIELD: Total power produced till that point in time\n",
    "\n",
    "TOTAL_YIELD: Total yield for the inverter till that point in time"
   ]
  },
  {
   "cell_type": "markdown",
   "metadata": {},
   "source": [
    "Looking at the info below, we can see there are no missing nor duplicated values."
   ]
  },
  {
   "cell_type": "code",
   "execution_count": 35,
   "metadata": {},
   "outputs": [
    {
     "name": "stdout",
     "output_type": "stream",
     "text": [
      "<class 'pandas.core.frame.DataFrame'>\n",
      "RangeIndex: 68778 entries, 0 to 68777\n",
      "Data columns (total 7 columns):\n",
      " #   Column       Non-Null Count  Dtype  \n",
      "---  ------       --------------  -----  \n",
      " 0   DATE_TIME    68778 non-null  object \n",
      " 1   PLANT_ID     68778 non-null  int64  \n",
      " 2   SOURCE_KEY   68778 non-null  object \n",
      " 3   DC_POWER     68778 non-null  float64\n",
      " 4   AC_POWER     68778 non-null  float64\n",
      " 5   DAILY_YIELD  68778 non-null  float64\n",
      " 6   TOTAL_YIELD  68778 non-null  float64\n",
      "dtypes: float64(4), int64(1), object(2)\n",
      "memory usage: 3.7+ MB\n",
      "\n",
      "\n",
      "Number of duplicate values:  0\n"
     ]
    }
   ],
   "source": [
    "p1_gen.info()\n",
    "print('\\n')\n",
    "print (\"Number of duplicate values: \", p1_gen.duplicated().sum())"
   ]
  },
  {
   "cell_type": "markdown",
   "metadata": {},
   "source": [
    "#### **INVERTERS:**"
   ]
  },
  {
   "cell_type": "markdown",
   "metadata": {},
   "source": [
    "There are 22 inverters, each with a unique ID. So each specific timestamp has 22 records for each inverter."
   ]
  },
  {
   "cell_type": "code",
   "execution_count": 36,
   "metadata": {},
   "outputs": [
    {
     "name": "stdout",
     "output_type": "stream",
     "text": [
      "Number of unique Inverter IDs:  22\n"
     ]
    },
    {
     "data": {
      "text/plain": [
       "array(['1BY6WEcLGh8j5v7', '1IF53ai7Xc0U56Y', '3PZuoBAID5Wc2HD',\n",
       "       '7JYdWkrLSPkdwr4', 'McdE0feGgRqW7Ca', 'VHMLBKoKgIrUVDU',\n",
       "       'WRmjgnKYAwPKWDb', 'ZnxXDlPa8U1GXgE', 'ZoEaEvLYb1n2sOq',\n",
       "       'adLQvlD726eNBSB', 'bvBOhCH3iADSZry', 'iCRJl6heRkivqQ3',\n",
       "       'ih0vzX44oOqAx2f', 'pkci93gMrogZuBj', 'rGa61gmuvPhdLxV',\n",
       "       'sjndEbLyjtCKgGv', 'uHbuxQJl8lW7ozc', 'wCURE6d3bPkepu2',\n",
       "       'z9Y9gH1T5YWrNuG', 'zBIq5rxdHJRwDNY', 'zVJPv84UY57bAof',\n",
       "       'YxYtjZvoooNbGkE'], dtype=object)"
      ]
     },
     "execution_count": 36,
     "metadata": {},
     "output_type": "execute_result"
    }
   ],
   "source": [
    "print(\"Number of unique Inverter IDs: \", len(p1_gen.SOURCE_KEY.unique()))\n",
    "p1_gen.SOURCE_KEY.unique()"
   ]
  },
  {
   "cell_type": "markdown",
   "metadata": {},
   "source": [
    "#### **WEATHER DATA:**"
   ]
  },
  {
   "cell_type": "code",
   "execution_count": 37,
   "metadata": {},
   "outputs": [],
   "source": [
    "# weather data for plant 1\n",
    "p1_wthr = pd.read_csv('../../data/Plant_1_Weather_Sensor_Data.csv')"
   ]
  },
  {
   "cell_type": "code",
   "execution_count": 38,
   "metadata": {},
   "outputs": [
    {
     "data": {
      "text/html": [
       "<div>\n",
       "<style scoped>\n",
       "    .dataframe tbody tr th:only-of-type {\n",
       "        vertical-align: middle;\n",
       "    }\n",
       "\n",
       "    .dataframe tbody tr th {\n",
       "        vertical-align: top;\n",
       "    }\n",
       "\n",
       "    .dataframe thead th {\n",
       "        text-align: right;\n",
       "    }\n",
       "</style>\n",
       "<table border=\"1\" class=\"dataframe\">\n",
       "  <thead>\n",
       "    <tr style=\"text-align: right;\">\n",
       "      <th></th>\n",
       "      <th>DATE_TIME</th>\n",
       "      <th>PLANT_ID</th>\n",
       "      <th>SOURCE_KEY</th>\n",
       "      <th>AMBIENT_TEMPERATURE</th>\n",
       "      <th>MODULE_TEMPERATURE</th>\n",
       "      <th>IRRADIATION</th>\n",
       "    </tr>\n",
       "  </thead>\n",
       "  <tbody>\n",
       "    <tr>\n",
       "      <th>0</th>\n",
       "      <td>2020-05-15 00:00:00</td>\n",
       "      <td>4135001</td>\n",
       "      <td>HmiyD2TTLFNqkNe</td>\n",
       "      <td>25.184316</td>\n",
       "      <td>22.857507</td>\n",
       "      <td>0.0</td>\n",
       "    </tr>\n",
       "    <tr>\n",
       "      <th>1</th>\n",
       "      <td>2020-05-15 00:15:00</td>\n",
       "      <td>4135001</td>\n",
       "      <td>HmiyD2TTLFNqkNe</td>\n",
       "      <td>25.084589</td>\n",
       "      <td>22.761668</td>\n",
       "      <td>0.0</td>\n",
       "    </tr>\n",
       "    <tr>\n",
       "      <th>2</th>\n",
       "      <td>2020-05-15 00:30:00</td>\n",
       "      <td>4135001</td>\n",
       "      <td>HmiyD2TTLFNqkNe</td>\n",
       "      <td>24.935753</td>\n",
       "      <td>22.592306</td>\n",
       "      <td>0.0</td>\n",
       "    </tr>\n",
       "    <tr>\n",
       "      <th>3</th>\n",
       "      <td>2020-05-15 00:45:00</td>\n",
       "      <td>4135001</td>\n",
       "      <td>HmiyD2TTLFNqkNe</td>\n",
       "      <td>24.846130</td>\n",
       "      <td>22.360852</td>\n",
       "      <td>0.0</td>\n",
       "    </tr>\n",
       "    <tr>\n",
       "      <th>4</th>\n",
       "      <td>2020-05-15 01:00:00</td>\n",
       "      <td>4135001</td>\n",
       "      <td>HmiyD2TTLFNqkNe</td>\n",
       "      <td>24.621525</td>\n",
       "      <td>22.165423</td>\n",
       "      <td>0.0</td>\n",
       "    </tr>\n",
       "  </tbody>\n",
       "</table>\n",
       "</div>"
      ],
      "text/plain": [
       "             DATE_TIME  PLANT_ID       SOURCE_KEY  AMBIENT_TEMPERATURE  \\\n",
       "0  2020-05-15 00:00:00   4135001  HmiyD2TTLFNqkNe            25.184316   \n",
       "1  2020-05-15 00:15:00   4135001  HmiyD2TTLFNqkNe            25.084589   \n",
       "2  2020-05-15 00:30:00   4135001  HmiyD2TTLFNqkNe            24.935753   \n",
       "3  2020-05-15 00:45:00   4135001  HmiyD2TTLFNqkNe            24.846130   \n",
       "4  2020-05-15 01:00:00   4135001  HmiyD2TTLFNqkNe            24.621525   \n",
       "\n",
       "   MODULE_TEMPERATURE  IRRADIATION  \n",
       "0           22.857507          0.0  \n",
       "1           22.761668          0.0  \n",
       "2           22.592306          0.0  \n",
       "3           22.360852          0.0  \n",
       "4           22.165423          0.0  "
      ]
     },
     "execution_count": 38,
     "metadata": {},
     "output_type": "execute_result"
    }
   ],
   "source": [
    "# looking at the first 5 records:\n",
    "\n",
    "p1_wthr.head()"
   ]
  },
  {
   "cell_type": "markdown",
   "metadata": {},
   "source": [
    "**Columns:**\n",
    "\n",
    "DATE_TIME: Date and timestamp of the datapoint- taken every 15 minutes. Same as above\n",
    "\n",
    "SOURCE_KEY: Module ID of the weather sensor\n",
    "\n",
    "AMBIENT_TEMPERATURE: Weather temperature\n",
    "\n",
    "MODULE_TEMPERATURE: Solar panel temperature\n",
    "\n",
    "IRRADIATION: Amount of irradiation for the 15 minute interval.\n"
   ]
  },
  {
   "cell_type": "markdown",
   "metadata": {},
   "source": [
    "Confirming the SOURCE_KEY here is different from the inverter IDs above:"
   ]
  },
  {
   "cell_type": "code",
   "execution_count": 39,
   "metadata": {},
   "outputs": [
    {
     "data": {
      "text/plain": [
       "False"
      ]
     },
     "execution_count": 39,
     "metadata": {},
     "output_type": "execute_result"
    }
   ],
   "source": [
    "# confiming weather sensor SOURCE_KEY is different from the ones in the gen df\n",
    "\n",
    "p1_wthr.SOURCE_KEY.unique() in p1_gen.SOURCE_KEY.unique()"
   ]
  },
  {
   "cell_type": "markdown",
   "metadata": {},
   "source": [
    "Looking at the info below, we can see there are no missing nor duplicated values."
   ]
  },
  {
   "cell_type": "code",
   "execution_count": 40,
   "metadata": {},
   "outputs": [
    {
     "name": "stdout",
     "output_type": "stream",
     "text": [
      "<class 'pandas.core.frame.DataFrame'>\n",
      "RangeIndex: 3182 entries, 0 to 3181\n",
      "Data columns (total 6 columns):\n",
      " #   Column               Non-Null Count  Dtype  \n",
      "---  ------               --------------  -----  \n",
      " 0   DATE_TIME            3182 non-null   object \n",
      " 1   PLANT_ID             3182 non-null   int64  \n",
      " 2   SOURCE_KEY           3182 non-null   object \n",
      " 3   AMBIENT_TEMPERATURE  3182 non-null   float64\n",
      " 4   MODULE_TEMPERATURE   3182 non-null   float64\n",
      " 5   IRRADIATION          3182 non-null   float64\n",
      "dtypes: float64(3), int64(1), object(2)\n",
      "memory usage: 149.3+ KB\n",
      "Number of duplicate values:  0\n"
     ]
    }
   ],
   "source": [
    "p1_wthr.info()\n",
    "print (\"Number of duplicate values: \", p1_wthr.duplicated().sum())"
   ]
  },
  {
   "cell_type": "markdown",
   "metadata": {},
   "source": [
    "---\n",
    "\n",
    "# Data Preparation For Modeling"
   ]
  },
  {
   "cell_type": "markdown",
   "metadata": {},
   "source": [
    "We need to first set the date_time column as the index for both dataframes:"
   ]
  },
  {
   "cell_type": "code",
   "execution_count": 41,
   "metadata": {},
   "outputs": [],
   "source": [
    "# power output data for plant 1:\n",
    "\n",
    "# converting date_time column to date_time object\n",
    "p1_gen.DATE_TIME = pd.to_datetime(p1_gen.DATE_TIME, infer_datetime_format=True)\n",
    "p1_wthr.DATE_TIME = pd.to_datetime(p1_wthr.DATE_TIME, infer_datetime_format=True)\n",
    "\n",
    "# setting the date_time column as the index\n",
    "p1_gen.set_index('DATE_TIME', inplace=True)\n",
    "p1_wthr.set_index('DATE_TIME', inplace=True)"
   ]
  },
  {
   "cell_type": "code",
   "execution_count": 42,
   "metadata": {},
   "outputs": [
    {
     "data": {
      "text/html": [
       "<div>\n",
       "<style scoped>\n",
       "    .dataframe tbody tr th:only-of-type {\n",
       "        vertical-align: middle;\n",
       "    }\n",
       "\n",
       "    .dataframe tbody tr th {\n",
       "        vertical-align: top;\n",
       "    }\n",
       "\n",
       "    .dataframe thead th {\n",
       "        text-align: right;\n",
       "    }\n",
       "</style>\n",
       "<table border=\"1\" class=\"dataframe\">\n",
       "  <thead>\n",
       "    <tr style=\"text-align: right;\">\n",
       "      <th></th>\n",
       "      <th>PLANT_ID</th>\n",
       "      <th>SOURCE_KEY</th>\n",
       "      <th>DC_POWER</th>\n",
       "      <th>AC_POWER</th>\n",
       "      <th>DAILY_YIELD</th>\n",
       "      <th>TOTAL_YIELD</th>\n",
       "    </tr>\n",
       "    <tr>\n",
       "      <th>DATE_TIME</th>\n",
       "      <th></th>\n",
       "      <th></th>\n",
       "      <th></th>\n",
       "      <th></th>\n",
       "      <th></th>\n",
       "      <th></th>\n",
       "    </tr>\n",
       "  </thead>\n",
       "  <tbody>\n",
       "    <tr>\n",
       "      <th>2020-05-15</th>\n",
       "      <td>4135001</td>\n",
       "      <td>1BY6WEcLGh8j5v7</td>\n",
       "      <td>0.0</td>\n",
       "      <td>0.0</td>\n",
       "      <td>0.0</td>\n",
       "      <td>6259559.0</td>\n",
       "    </tr>\n",
       "    <tr>\n",
       "      <th>2020-05-15</th>\n",
       "      <td>4135001</td>\n",
       "      <td>1IF53ai7Xc0U56Y</td>\n",
       "      <td>0.0</td>\n",
       "      <td>0.0</td>\n",
       "      <td>0.0</td>\n",
       "      <td>6183645.0</td>\n",
       "    </tr>\n",
       "    <tr>\n",
       "      <th>2020-05-15</th>\n",
       "      <td>4135001</td>\n",
       "      <td>3PZuoBAID5Wc2HD</td>\n",
       "      <td>0.0</td>\n",
       "      <td>0.0</td>\n",
       "      <td>0.0</td>\n",
       "      <td>6987759.0</td>\n",
       "    </tr>\n",
       "    <tr>\n",
       "      <th>2020-05-15</th>\n",
       "      <td>4135001</td>\n",
       "      <td>7JYdWkrLSPkdwr4</td>\n",
       "      <td>0.0</td>\n",
       "      <td>0.0</td>\n",
       "      <td>0.0</td>\n",
       "      <td>7602960.0</td>\n",
       "    </tr>\n",
       "    <tr>\n",
       "      <th>2020-05-15</th>\n",
       "      <td>4135001</td>\n",
       "      <td>McdE0feGgRqW7Ca</td>\n",
       "      <td>0.0</td>\n",
       "      <td>0.0</td>\n",
       "      <td>0.0</td>\n",
       "      <td>7158964.0</td>\n",
       "    </tr>\n",
       "  </tbody>\n",
       "</table>\n",
       "</div>"
      ],
      "text/plain": [
       "            PLANT_ID       SOURCE_KEY  DC_POWER  AC_POWER  DAILY_YIELD  \\\n",
       "DATE_TIME                                                                \n",
       "2020-05-15   4135001  1BY6WEcLGh8j5v7       0.0       0.0          0.0   \n",
       "2020-05-15   4135001  1IF53ai7Xc0U56Y       0.0       0.0          0.0   \n",
       "2020-05-15   4135001  3PZuoBAID5Wc2HD       0.0       0.0          0.0   \n",
       "2020-05-15   4135001  7JYdWkrLSPkdwr4       0.0       0.0          0.0   \n",
       "2020-05-15   4135001  McdE0feGgRqW7Ca       0.0       0.0          0.0   \n",
       "\n",
       "            TOTAL_YIELD  \n",
       "DATE_TIME                \n",
       "2020-05-15    6259559.0  \n",
       "2020-05-15    6183645.0  \n",
       "2020-05-15    6987759.0  \n",
       "2020-05-15    7602960.0  \n",
       "2020-05-15    7158964.0  "
      ]
     },
     "execution_count": 42,
     "metadata": {},
     "output_type": "execute_result"
    }
   ],
   "source": [
    "p1_gen.head()"
   ]
  },
  {
   "cell_type": "code",
   "execution_count": 43,
   "metadata": {},
   "outputs": [
    {
     "data": {
      "text/html": [
       "<div>\n",
       "<style scoped>\n",
       "    .dataframe tbody tr th:only-of-type {\n",
       "        vertical-align: middle;\n",
       "    }\n",
       "\n",
       "    .dataframe tbody tr th {\n",
       "        vertical-align: top;\n",
       "    }\n",
       "\n",
       "    .dataframe thead th {\n",
       "        text-align: right;\n",
       "    }\n",
       "</style>\n",
       "<table border=\"1\" class=\"dataframe\">\n",
       "  <thead>\n",
       "    <tr style=\"text-align: right;\">\n",
       "      <th></th>\n",
       "      <th>PLANT_ID</th>\n",
       "      <th>SOURCE_KEY</th>\n",
       "      <th>AMBIENT_TEMPERATURE</th>\n",
       "      <th>MODULE_TEMPERATURE</th>\n",
       "      <th>IRRADIATION</th>\n",
       "    </tr>\n",
       "    <tr>\n",
       "      <th>DATE_TIME</th>\n",
       "      <th></th>\n",
       "      <th></th>\n",
       "      <th></th>\n",
       "      <th></th>\n",
       "      <th></th>\n",
       "    </tr>\n",
       "  </thead>\n",
       "  <tbody>\n",
       "    <tr>\n",
       "      <th>2020-05-15 00:00:00</th>\n",
       "      <td>4135001</td>\n",
       "      <td>HmiyD2TTLFNqkNe</td>\n",
       "      <td>25.184316</td>\n",
       "      <td>22.857507</td>\n",
       "      <td>0.0</td>\n",
       "    </tr>\n",
       "    <tr>\n",
       "      <th>2020-05-15 00:15:00</th>\n",
       "      <td>4135001</td>\n",
       "      <td>HmiyD2TTLFNqkNe</td>\n",
       "      <td>25.084589</td>\n",
       "      <td>22.761668</td>\n",
       "      <td>0.0</td>\n",
       "    </tr>\n",
       "    <tr>\n",
       "      <th>2020-05-15 00:30:00</th>\n",
       "      <td>4135001</td>\n",
       "      <td>HmiyD2TTLFNqkNe</td>\n",
       "      <td>24.935753</td>\n",
       "      <td>22.592306</td>\n",
       "      <td>0.0</td>\n",
       "    </tr>\n",
       "    <tr>\n",
       "      <th>2020-05-15 00:45:00</th>\n",
       "      <td>4135001</td>\n",
       "      <td>HmiyD2TTLFNqkNe</td>\n",
       "      <td>24.846130</td>\n",
       "      <td>22.360852</td>\n",
       "      <td>0.0</td>\n",
       "    </tr>\n",
       "    <tr>\n",
       "      <th>2020-05-15 01:00:00</th>\n",
       "      <td>4135001</td>\n",
       "      <td>HmiyD2TTLFNqkNe</td>\n",
       "      <td>24.621525</td>\n",
       "      <td>22.165423</td>\n",
       "      <td>0.0</td>\n",
       "    </tr>\n",
       "  </tbody>\n",
       "</table>\n",
       "</div>"
      ],
      "text/plain": [
       "                     PLANT_ID       SOURCE_KEY  AMBIENT_TEMPERATURE  \\\n",
       "DATE_TIME                                                             \n",
       "2020-05-15 00:00:00   4135001  HmiyD2TTLFNqkNe            25.184316   \n",
       "2020-05-15 00:15:00   4135001  HmiyD2TTLFNqkNe            25.084589   \n",
       "2020-05-15 00:30:00   4135001  HmiyD2TTLFNqkNe            24.935753   \n",
       "2020-05-15 00:45:00   4135001  HmiyD2TTLFNqkNe            24.846130   \n",
       "2020-05-15 01:00:00   4135001  HmiyD2TTLFNqkNe            24.621525   \n",
       "\n",
       "                     MODULE_TEMPERATURE  IRRADIATION  \n",
       "DATE_TIME                                             \n",
       "2020-05-15 00:00:00           22.857507          0.0  \n",
       "2020-05-15 00:15:00           22.761668          0.0  \n",
       "2020-05-15 00:30:00           22.592306          0.0  \n",
       "2020-05-15 00:45:00           22.360852          0.0  \n",
       "2020-05-15 01:00:00           22.165423          0.0  "
      ]
     },
     "execution_count": 43,
     "metadata": {},
     "output_type": "execute_result"
    }
   ],
   "source": [
    "p1_wthr.head()"
   ]
  },
  {
   "cell_type": "markdown",
   "metadata": {},
   "source": [
    "Isolating the last 5 days of power output data (6/13 to 6/17), and grouping daily_yield by date_time:"
   ]
  },
  {
   "cell_type": "code",
   "execution_count": 46,
   "metadata": {},
   "outputs": [
    {
     "data": {
      "text/html": [
       "<div>\n",
       "<style scoped>\n",
       "    .dataframe tbody tr th:only-of-type {\n",
       "        vertical-align: middle;\n",
       "    }\n",
       "\n",
       "    .dataframe tbody tr th {\n",
       "        vertical-align: top;\n",
       "    }\n",
       "\n",
       "    .dataframe thead th {\n",
       "        text-align: right;\n",
       "    }\n",
       "</style>\n",
       "<table border=\"1\" class=\"dataframe\">\n",
       "  <thead>\n",
       "    <tr style=\"text-align: right;\">\n",
       "      <th></th>\n",
       "      <th>DAILY_YIELD</th>\n",
       "    </tr>\n",
       "    <tr>\n",
       "      <th>DATE_TIME</th>\n",
       "      <th></th>\n",
       "    </tr>\n",
       "  </thead>\n",
       "  <tbody>\n",
       "    <tr>\n",
       "      <th>2020-06-13 00:00:00</th>\n",
       "      <td>5683.214286</td>\n",
       "    </tr>\n",
       "    <tr>\n",
       "      <th>2020-06-13 00:15:00</th>\n",
       "      <td>0.000000</td>\n",
       "    </tr>\n",
       "    <tr>\n",
       "      <th>2020-06-13 00:30:00</th>\n",
       "      <td>0.000000</td>\n",
       "    </tr>\n",
       "    <tr>\n",
       "      <th>2020-06-13 00:45:00</th>\n",
       "      <td>0.000000</td>\n",
       "    </tr>\n",
       "    <tr>\n",
       "      <th>2020-06-13 01:00:00</th>\n",
       "      <td>0.000000</td>\n",
       "    </tr>\n",
       "    <tr>\n",
       "      <th>...</th>\n",
       "      <td>...</td>\n",
       "    </tr>\n",
       "    <tr>\n",
       "      <th>2020-06-17 22:45:00</th>\n",
       "      <td>129571.000000</td>\n",
       "    </tr>\n",
       "    <tr>\n",
       "      <th>2020-06-17 23:00:00</th>\n",
       "      <td>129571.000000</td>\n",
       "    </tr>\n",
       "    <tr>\n",
       "      <th>2020-06-17 23:15:00</th>\n",
       "      <td>129571.000000</td>\n",
       "    </tr>\n",
       "    <tr>\n",
       "      <th>2020-06-17 23:30:00</th>\n",
       "      <td>129571.000000</td>\n",
       "    </tr>\n",
       "    <tr>\n",
       "      <th>2020-06-17 23:45:00</th>\n",
       "      <td>127962.767857</td>\n",
       "    </tr>\n",
       "  </tbody>\n",
       "</table>\n",
       "<p>478 rows × 1 columns</p>\n",
       "</div>"
      ],
      "text/plain": [
       "                       DAILY_YIELD\n",
       "DATE_TIME                         \n",
       "2020-06-13 00:00:00    5683.214286\n",
       "2020-06-13 00:15:00       0.000000\n",
       "2020-06-13 00:30:00       0.000000\n",
       "2020-06-13 00:45:00       0.000000\n",
       "2020-06-13 01:00:00       0.000000\n",
       "...                            ...\n",
       "2020-06-17 22:45:00  129571.000000\n",
       "2020-06-17 23:00:00  129571.000000\n",
       "2020-06-17 23:15:00  129571.000000\n",
       "2020-06-17 23:30:00  129571.000000\n",
       "2020-06-17 23:45:00  127962.767857\n",
       "\n",
       "[478 rows x 1 columns]"
      ]
     },
     "execution_count": 46,
     "metadata": {},
     "output_type": "execute_result"
    }
   ],
   "source": [
    "pred_gen = p1_gen[(p1_gen.index.month == 6) & \n",
    "                 (p1_gen.index.day >= 13) &\n",
    "                 (p1_gen.index.day <= 17)].groupby('DATE_TIME').sum()[['DAILY_YIELD']]\n",
    "pred_gen"
   ]
  },
  {
   "cell_type": "markdown",
   "metadata": {},
   "source": [
    "Isolating the last 5 days of weather sensor data:"
   ]
  },
  {
   "cell_type": "code",
   "execution_count": 48,
   "metadata": {},
   "outputs": [
    {
     "data": {
      "text/html": [
       "<div>\n",
       "<style scoped>\n",
       "    .dataframe tbody tr th:only-of-type {\n",
       "        vertical-align: middle;\n",
       "    }\n",
       "\n",
       "    .dataframe tbody tr th {\n",
       "        vertical-align: top;\n",
       "    }\n",
       "\n",
       "    .dataframe thead th {\n",
       "        text-align: right;\n",
       "    }\n",
       "</style>\n",
       "<table border=\"1\" class=\"dataframe\">\n",
       "  <thead>\n",
       "    <tr style=\"text-align: right;\">\n",
       "      <th></th>\n",
       "      <th>PLANT_ID</th>\n",
       "      <th>SOURCE_KEY</th>\n",
       "      <th>AMBIENT_TEMPERATURE</th>\n",
       "      <th>MODULE_TEMPERATURE</th>\n",
       "      <th>IRRADIATION</th>\n",
       "    </tr>\n",
       "    <tr>\n",
       "      <th>DATE_TIME</th>\n",
       "      <th></th>\n",
       "      <th></th>\n",
       "      <th></th>\n",
       "      <th></th>\n",
       "      <th></th>\n",
       "    </tr>\n",
       "  </thead>\n",
       "  <tbody>\n",
       "    <tr>\n",
       "      <th>2020-06-13 00:00:00</th>\n",
       "      <td>4135001</td>\n",
       "      <td>HmiyD2TTLFNqkNe</td>\n",
       "      <td>21.771613</td>\n",
       "      <td>19.357530</td>\n",
       "      <td>0.0</td>\n",
       "    </tr>\n",
       "    <tr>\n",
       "      <th>2020-06-13 00:15:00</th>\n",
       "      <td>4135001</td>\n",
       "      <td>HmiyD2TTLFNqkNe</td>\n",
       "      <td>21.730046</td>\n",
       "      <td>19.504081</td>\n",
       "      <td>0.0</td>\n",
       "    </tr>\n",
       "    <tr>\n",
       "      <th>2020-06-13 00:30:00</th>\n",
       "      <td>4135001</td>\n",
       "      <td>HmiyD2TTLFNqkNe</td>\n",
       "      <td>21.687068</td>\n",
       "      <td>19.562803</td>\n",
       "      <td>0.0</td>\n",
       "    </tr>\n",
       "    <tr>\n",
       "      <th>2020-06-13 00:45:00</th>\n",
       "      <td>4135001</td>\n",
       "      <td>HmiyD2TTLFNqkNe</td>\n",
       "      <td>21.619232</td>\n",
       "      <td>19.559182</td>\n",
       "      <td>0.0</td>\n",
       "    </tr>\n",
       "    <tr>\n",
       "      <th>2020-06-13 01:00:00</th>\n",
       "      <td>4135001</td>\n",
       "      <td>HmiyD2TTLFNqkNe</td>\n",
       "      <td>21.625968</td>\n",
       "      <td>19.787058</td>\n",
       "      <td>0.0</td>\n",
       "    </tr>\n",
       "    <tr>\n",
       "      <th>...</th>\n",
       "      <td>...</td>\n",
       "      <td>...</td>\n",
       "      <td>...</td>\n",
       "      <td>...</td>\n",
       "      <td>...</td>\n",
       "    </tr>\n",
       "    <tr>\n",
       "      <th>2020-06-17 22:45:00</th>\n",
       "      <td>4135001</td>\n",
       "      <td>HmiyD2TTLFNqkNe</td>\n",
       "      <td>22.150570</td>\n",
       "      <td>21.480377</td>\n",
       "      <td>0.0</td>\n",
       "    </tr>\n",
       "    <tr>\n",
       "      <th>2020-06-17 23:00:00</th>\n",
       "      <td>4135001</td>\n",
       "      <td>HmiyD2TTLFNqkNe</td>\n",
       "      <td>22.129816</td>\n",
       "      <td>21.389024</td>\n",
       "      <td>0.0</td>\n",
       "    </tr>\n",
       "    <tr>\n",
       "      <th>2020-06-17 23:15:00</th>\n",
       "      <td>4135001</td>\n",
       "      <td>HmiyD2TTLFNqkNe</td>\n",
       "      <td>22.008275</td>\n",
       "      <td>20.709211</td>\n",
       "      <td>0.0</td>\n",
       "    </tr>\n",
       "    <tr>\n",
       "      <th>2020-06-17 23:30:00</th>\n",
       "      <td>4135001</td>\n",
       "      <td>HmiyD2TTLFNqkNe</td>\n",
       "      <td>21.969495</td>\n",
       "      <td>20.734963</td>\n",
       "      <td>0.0</td>\n",
       "    </tr>\n",
       "    <tr>\n",
       "      <th>2020-06-17 23:45:00</th>\n",
       "      <td>4135001</td>\n",
       "      <td>HmiyD2TTLFNqkNe</td>\n",
       "      <td>21.909288</td>\n",
       "      <td>20.427972</td>\n",
       "      <td>0.0</td>\n",
       "    </tr>\n",
       "  </tbody>\n",
       "</table>\n",
       "<p>480 rows × 5 columns</p>\n",
       "</div>"
      ],
      "text/plain": [
       "                     PLANT_ID       SOURCE_KEY  AMBIENT_TEMPERATURE  \\\n",
       "DATE_TIME                                                             \n",
       "2020-06-13 00:00:00   4135001  HmiyD2TTLFNqkNe            21.771613   \n",
       "2020-06-13 00:15:00   4135001  HmiyD2TTLFNqkNe            21.730046   \n",
       "2020-06-13 00:30:00   4135001  HmiyD2TTLFNqkNe            21.687068   \n",
       "2020-06-13 00:45:00   4135001  HmiyD2TTLFNqkNe            21.619232   \n",
       "2020-06-13 01:00:00   4135001  HmiyD2TTLFNqkNe            21.625968   \n",
       "...                       ...              ...                  ...   \n",
       "2020-06-17 22:45:00   4135001  HmiyD2TTLFNqkNe            22.150570   \n",
       "2020-06-17 23:00:00   4135001  HmiyD2TTLFNqkNe            22.129816   \n",
       "2020-06-17 23:15:00   4135001  HmiyD2TTLFNqkNe            22.008275   \n",
       "2020-06-17 23:30:00   4135001  HmiyD2TTLFNqkNe            21.969495   \n",
       "2020-06-17 23:45:00   4135001  HmiyD2TTLFNqkNe            21.909288   \n",
       "\n",
       "                     MODULE_TEMPERATURE  IRRADIATION  \n",
       "DATE_TIME                                             \n",
       "2020-06-13 00:00:00           19.357530          0.0  \n",
       "2020-06-13 00:15:00           19.504081          0.0  \n",
       "2020-06-13 00:30:00           19.562803          0.0  \n",
       "2020-06-13 00:45:00           19.559182          0.0  \n",
       "2020-06-13 01:00:00           19.787058          0.0  \n",
       "...                                 ...          ...  \n",
       "2020-06-17 22:45:00           21.480377          0.0  \n",
       "2020-06-17 23:00:00           21.389024          0.0  \n",
       "2020-06-17 23:15:00           20.709211          0.0  \n",
       "2020-06-17 23:30:00           20.734963          0.0  \n",
       "2020-06-17 23:45:00           20.427972          0.0  \n",
       "\n",
       "[480 rows x 5 columns]"
      ]
     },
     "execution_count": 48,
     "metadata": {},
     "output_type": "execute_result"
    }
   ],
   "source": [
    "pred_wthr = p1_wthr[(p1_wthr.index.month == 6) & \n",
    "                    (p1_wthr.index.day >= 13) & \n",
    "                    (p1_wthr.index.day <= 17)]\n",
    "pred_wthr"
   ]
  },
  {
   "cell_type": "markdown",
   "metadata": {},
   "source": [
    "Here we can see that our weather sensor data has 2 extra rows (480 vs 478), meaning our power output data is missing those 2 rows.\n",
    "\n",
    "#### **FILLING IN MISSING ROWS**"
   ]
  },
  {
   "cell_type": "markdown",
   "metadata": {},
   "source": [
    "Creating a merged df with an indicator column (_merge) letting us know which df the row came from:"
   ]
  },
  {
   "cell_type": "code",
   "execution_count": 50,
   "metadata": {},
   "outputs": [
    {
     "data": {
      "text/html": [
       "<div>\n",
       "<style scoped>\n",
       "    .dataframe tbody tr th:only-of-type {\n",
       "        vertical-align: middle;\n",
       "    }\n",
       "\n",
       "    .dataframe tbody tr th {\n",
       "        vertical-align: top;\n",
       "    }\n",
       "\n",
       "    .dataframe thead th {\n",
       "        text-align: right;\n",
       "    }\n",
       "</style>\n",
       "<table border=\"1\" class=\"dataframe\">\n",
       "  <thead>\n",
       "    <tr style=\"text-align: right;\">\n",
       "      <th></th>\n",
       "      <th>PLANT_ID</th>\n",
       "      <th>SOURCE_KEY</th>\n",
       "      <th>AMBIENT_TEMPERATURE</th>\n",
       "      <th>MODULE_TEMPERATURE</th>\n",
       "      <th>IRRADIATION</th>\n",
       "      <th>DAILY_YIELD</th>\n",
       "      <th>_merge</th>\n",
       "    </tr>\n",
       "    <tr>\n",
       "      <th>DATE_TIME</th>\n",
       "      <th></th>\n",
       "      <th></th>\n",
       "      <th></th>\n",
       "      <th></th>\n",
       "      <th></th>\n",
       "      <th></th>\n",
       "      <th></th>\n",
       "    </tr>\n",
       "  </thead>\n",
       "  <tbody>\n",
       "    <tr>\n",
       "      <th>2020-06-13 00:00:00</th>\n",
       "      <td>4135001</td>\n",
       "      <td>HmiyD2TTLFNqkNe</td>\n",
       "      <td>21.771613</td>\n",
       "      <td>19.357530</td>\n",
       "      <td>0.0</td>\n",
       "      <td>5683.214286</td>\n",
       "      <td>both</td>\n",
       "    </tr>\n",
       "    <tr>\n",
       "      <th>2020-06-13 00:15:00</th>\n",
       "      <td>4135001</td>\n",
       "      <td>HmiyD2TTLFNqkNe</td>\n",
       "      <td>21.730046</td>\n",
       "      <td>19.504081</td>\n",
       "      <td>0.0</td>\n",
       "      <td>0.000000</td>\n",
       "      <td>both</td>\n",
       "    </tr>\n",
       "    <tr>\n",
       "      <th>2020-06-13 00:30:00</th>\n",
       "      <td>4135001</td>\n",
       "      <td>HmiyD2TTLFNqkNe</td>\n",
       "      <td>21.687068</td>\n",
       "      <td>19.562803</td>\n",
       "      <td>0.0</td>\n",
       "      <td>0.000000</td>\n",
       "      <td>both</td>\n",
       "    </tr>\n",
       "    <tr>\n",
       "      <th>2020-06-13 00:45:00</th>\n",
       "      <td>4135001</td>\n",
       "      <td>HmiyD2TTLFNqkNe</td>\n",
       "      <td>21.619232</td>\n",
       "      <td>19.559182</td>\n",
       "      <td>0.0</td>\n",
       "      <td>0.000000</td>\n",
       "      <td>both</td>\n",
       "    </tr>\n",
       "    <tr>\n",
       "      <th>2020-06-13 01:00:00</th>\n",
       "      <td>4135001</td>\n",
       "      <td>HmiyD2TTLFNqkNe</td>\n",
       "      <td>21.625968</td>\n",
       "      <td>19.787058</td>\n",
       "      <td>0.0</td>\n",
       "      <td>0.000000</td>\n",
       "      <td>both</td>\n",
       "    </tr>\n",
       "    <tr>\n",
       "      <th>...</th>\n",
       "      <td>...</td>\n",
       "      <td>...</td>\n",
       "      <td>...</td>\n",
       "      <td>...</td>\n",
       "      <td>...</td>\n",
       "      <td>...</td>\n",
       "      <td>...</td>\n",
       "    </tr>\n",
       "    <tr>\n",
       "      <th>2020-06-17 22:45:00</th>\n",
       "      <td>4135001</td>\n",
       "      <td>HmiyD2TTLFNqkNe</td>\n",
       "      <td>22.150570</td>\n",
       "      <td>21.480377</td>\n",
       "      <td>0.0</td>\n",
       "      <td>129571.000000</td>\n",
       "      <td>both</td>\n",
       "    </tr>\n",
       "    <tr>\n",
       "      <th>2020-06-17 23:00:00</th>\n",
       "      <td>4135001</td>\n",
       "      <td>HmiyD2TTLFNqkNe</td>\n",
       "      <td>22.129816</td>\n",
       "      <td>21.389024</td>\n",
       "      <td>0.0</td>\n",
       "      <td>129571.000000</td>\n",
       "      <td>both</td>\n",
       "    </tr>\n",
       "    <tr>\n",
       "      <th>2020-06-17 23:15:00</th>\n",
       "      <td>4135001</td>\n",
       "      <td>HmiyD2TTLFNqkNe</td>\n",
       "      <td>22.008275</td>\n",
       "      <td>20.709211</td>\n",
       "      <td>0.0</td>\n",
       "      <td>129571.000000</td>\n",
       "      <td>both</td>\n",
       "    </tr>\n",
       "    <tr>\n",
       "      <th>2020-06-17 23:30:00</th>\n",
       "      <td>4135001</td>\n",
       "      <td>HmiyD2TTLFNqkNe</td>\n",
       "      <td>21.969495</td>\n",
       "      <td>20.734963</td>\n",
       "      <td>0.0</td>\n",
       "      <td>129571.000000</td>\n",
       "      <td>both</td>\n",
       "    </tr>\n",
       "    <tr>\n",
       "      <th>2020-06-17 23:45:00</th>\n",
       "      <td>4135001</td>\n",
       "      <td>HmiyD2TTLFNqkNe</td>\n",
       "      <td>21.909288</td>\n",
       "      <td>20.427972</td>\n",
       "      <td>0.0</td>\n",
       "      <td>127962.767857</td>\n",
       "      <td>both</td>\n",
       "    </tr>\n",
       "  </tbody>\n",
       "</table>\n",
       "<p>480 rows × 7 columns</p>\n",
       "</div>"
      ],
      "text/plain": [
       "                     PLANT_ID       SOURCE_KEY  AMBIENT_TEMPERATURE  \\\n",
       "DATE_TIME                                                             \n",
       "2020-06-13 00:00:00   4135001  HmiyD2TTLFNqkNe            21.771613   \n",
       "2020-06-13 00:15:00   4135001  HmiyD2TTLFNqkNe            21.730046   \n",
       "2020-06-13 00:30:00   4135001  HmiyD2TTLFNqkNe            21.687068   \n",
       "2020-06-13 00:45:00   4135001  HmiyD2TTLFNqkNe            21.619232   \n",
       "2020-06-13 01:00:00   4135001  HmiyD2TTLFNqkNe            21.625968   \n",
       "...                       ...              ...                  ...   \n",
       "2020-06-17 22:45:00   4135001  HmiyD2TTLFNqkNe            22.150570   \n",
       "2020-06-17 23:00:00   4135001  HmiyD2TTLFNqkNe            22.129816   \n",
       "2020-06-17 23:15:00   4135001  HmiyD2TTLFNqkNe            22.008275   \n",
       "2020-06-17 23:30:00   4135001  HmiyD2TTLFNqkNe            21.969495   \n",
       "2020-06-17 23:45:00   4135001  HmiyD2TTLFNqkNe            21.909288   \n",
       "\n",
       "                     MODULE_TEMPERATURE  IRRADIATION    DAILY_YIELD _merge  \n",
       "DATE_TIME                                                                   \n",
       "2020-06-13 00:00:00           19.357530          0.0    5683.214286   both  \n",
       "2020-06-13 00:15:00           19.504081          0.0       0.000000   both  \n",
       "2020-06-13 00:30:00           19.562803          0.0       0.000000   both  \n",
       "2020-06-13 00:45:00           19.559182          0.0       0.000000   both  \n",
       "2020-06-13 01:00:00           19.787058          0.0       0.000000   both  \n",
       "...                                 ...          ...            ...    ...  \n",
       "2020-06-17 22:45:00           21.480377          0.0  129571.000000   both  \n",
       "2020-06-17 23:00:00           21.389024          0.0  129571.000000   both  \n",
       "2020-06-17 23:15:00           20.709211          0.0  129571.000000   both  \n",
       "2020-06-17 23:30:00           20.734963          0.0  129571.000000   both  \n",
       "2020-06-17 23:45:00           20.427972          0.0  127962.767857   both  \n",
       "\n",
       "[480 rows x 7 columns]"
      ]
     },
     "execution_count": 50,
     "metadata": {},
     "output_type": "execute_result"
    }
   ],
   "source": [
    "df_with_indicator = pd.merge(pred_wthr, pred_gen, \n",
    "                           left_index=True, right_index=True, \n",
    "                           how='outer', suffixes=('','_y'), indicator=True)\n",
    "df_with_indicator"
   ]
  },
  {
   "cell_type": "markdown",
   "metadata": {},
   "source": [
    "Isolating rows where the merge column = 'left only', indicating it came from p1_wthr: "
   ]
  },
  {
   "cell_type": "code",
   "execution_count": 53,
   "metadata": {},
   "outputs": [
    {
     "data": {
      "text/html": [
       "<div>\n",
       "<style scoped>\n",
       "    .dataframe tbody tr th:only-of-type {\n",
       "        vertical-align: middle;\n",
       "    }\n",
       "\n",
       "    .dataframe tbody tr th {\n",
       "        vertical-align: top;\n",
       "    }\n",
       "\n",
       "    .dataframe thead th {\n",
       "        text-align: right;\n",
       "    }\n",
       "</style>\n",
       "<table border=\"1\" class=\"dataframe\">\n",
       "  <thead>\n",
       "    <tr style=\"text-align: right;\">\n",
       "      <th></th>\n",
       "      <th>PLANT_ID</th>\n",
       "      <th>SOURCE_KEY</th>\n",
       "      <th>AMBIENT_TEMPERATURE</th>\n",
       "      <th>MODULE_TEMPERATURE</th>\n",
       "      <th>IRRADIATION</th>\n",
       "    </tr>\n",
       "    <tr>\n",
       "      <th>DATE_TIME</th>\n",
       "      <th></th>\n",
       "      <th></th>\n",
       "      <th></th>\n",
       "      <th></th>\n",
       "      <th></th>\n",
       "    </tr>\n",
       "  </thead>\n",
       "  <tbody>\n",
       "    <tr>\n",
       "      <th>2020-06-17 06:15:00</th>\n",
       "      <td>4135001</td>\n",
       "      <td>HmiyD2TTLFNqkNe</td>\n",
       "      <td>22.093398</td>\n",
       "      <td>20.822978</td>\n",
       "      <td>0.019175</td>\n",
       "    </tr>\n",
       "    <tr>\n",
       "      <th>2020-06-17 06:30:00</th>\n",
       "      <td>4135001</td>\n",
       "      <td>HmiyD2TTLFNqkNe</td>\n",
       "      <td>22.275627</td>\n",
       "      <td>21.973568</td>\n",
       "      <td>0.034624</td>\n",
       "    </tr>\n",
       "  </tbody>\n",
       "</table>\n",
       "</div>"
      ],
      "text/plain": [
       "                     PLANT_ID       SOURCE_KEY  AMBIENT_TEMPERATURE  \\\n",
       "DATE_TIME                                                             \n",
       "2020-06-17 06:15:00   4135001  HmiyD2TTLFNqkNe            22.093398   \n",
       "2020-06-17 06:30:00   4135001  HmiyD2TTLFNqkNe            22.275627   \n",
       "\n",
       "                     MODULE_TEMPERATURE  IRRADIATION  \n",
       "DATE_TIME                                             \n",
       "2020-06-17 06:15:00           20.822978     0.019175  \n",
       "2020-06-17 06:30:00           21.973568     0.034624  "
      ]
     },
     "execution_count": 53,
     "metadata": {},
     "output_type": "execute_result"
    }
   ],
   "source": [
    "rows_in_df1_not_in_df2 = df_with_indicator[df_with_indicator['_merge']=='left_only'][pred_wthr.columns]\n",
    "\n",
    "rows_in_df1_not_in_df2"
   ]
  },
  {
   "cell_type": "markdown",
   "metadata": {},
   "source": [
    "Below we see that that we're missing records for 6:15am & 6:30am on 6/17/2020.\n",
    "\n",
    "It also looks like, due to the time of day, no power was generated.\n",
    "\n",
    "So we're going to add these date_time records with a daily yield of 0 to the power output data."
   ]
  },
  {
   "cell_type": "code",
   "execution_count": 28,
   "metadata": {},
   "outputs": [
    {
     "data": {
      "text/html": [
       "<div>\n",
       "<style scoped>\n",
       "    .dataframe tbody tr th:only-of-type {\n",
       "        vertical-align: middle;\n",
       "    }\n",
       "\n",
       "    .dataframe tbody tr th {\n",
       "        vertical-align: top;\n",
       "    }\n",
       "\n",
       "    .dataframe thead th {\n",
       "        text-align: right;\n",
       "    }\n",
       "</style>\n",
       "<table border=\"1\" class=\"dataframe\">\n",
       "  <thead>\n",
       "    <tr style=\"text-align: right;\">\n",
       "      <th></th>\n",
       "      <th>DAILY_YIELD</th>\n",
       "    </tr>\n",
       "    <tr>\n",
       "      <th>DATE_TIME</th>\n",
       "      <th></th>\n",
       "    </tr>\n",
       "  </thead>\n",
       "  <tbody>\n",
       "    <tr>\n",
       "      <th>2020-06-17 06:00:00</th>\n",
       "      <td>0.000000</td>\n",
       "    </tr>\n",
       "    <tr>\n",
       "      <th>2020-06-17 06:45:00</th>\n",
       "      <td>0.500000</td>\n",
       "    </tr>\n",
       "    <tr>\n",
       "      <th>2020-06-17 07:00:00</th>\n",
       "      <td>362.660714</td>\n",
       "    </tr>\n",
       "  </tbody>\n",
       "</table>\n",
       "</div>"
      ],
      "text/plain": [
       "                     DAILY_YIELD\n",
       "DATE_TIME                       \n",
       "2020-06-17 06:00:00     0.000000\n",
       "2020-06-17 06:45:00     0.500000\n",
       "2020-06-17 07:00:00   362.660714"
      ]
     },
     "execution_count": 28,
     "metadata": {},
     "output_type": "execute_result"
    }
   ],
   "source": [
    "# Confirming the above data is missing from power output data: \n",
    "\n",
    "pred_6_13[(pred_6_13.index >= '2020-06-17 06:00:00') & (pred_6_13.index <= '2020-06-17 07:00:00')]\n",
    "\n",
    "# looks like it's just missing. the daily yield here was most likely 0 for both time stamps"
   ]
  },
  {
   "cell_type": "code",
   "execution_count": 56,
   "metadata": {},
   "outputs": [
    {
     "data": {
      "text/html": [
       "<div>\n",
       "<style scoped>\n",
       "    .dataframe tbody tr th:only-of-type {\n",
       "        vertical-align: middle;\n",
       "    }\n",
       "\n",
       "    .dataframe tbody tr th {\n",
       "        vertical-align: top;\n",
       "    }\n",
       "\n",
       "    .dataframe thead th {\n",
       "        text-align: right;\n",
       "    }\n",
       "</style>\n",
       "<table border=\"1\" class=\"dataframe\">\n",
       "  <thead>\n",
       "    <tr style=\"text-align: right;\">\n",
       "      <th></th>\n",
       "      <th>DAILY_YIELD</th>\n",
       "    </tr>\n",
       "    <tr>\n",
       "      <th>DATE_TIME</th>\n",
       "      <th></th>\n",
       "    </tr>\n",
       "  </thead>\n",
       "  <tbody>\n",
       "    <tr>\n",
       "      <th>2020-06-17 06:00:00</th>\n",
       "      <td>0.000000</td>\n",
       "    </tr>\n",
       "    <tr>\n",
       "      <th>2020-06-17 06:15:00</th>\n",
       "      <td>0.000000</td>\n",
       "    </tr>\n",
       "    <tr>\n",
       "      <th>2020-06-17 06:30:00</th>\n",
       "      <td>0.000000</td>\n",
       "    </tr>\n",
       "    <tr>\n",
       "      <th>2020-06-17 06:45:00</th>\n",
       "      <td>0.500000</td>\n",
       "    </tr>\n",
       "    <tr>\n",
       "      <th>2020-06-17 07:00:00</th>\n",
       "      <td>362.660714</td>\n",
       "    </tr>\n",
       "  </tbody>\n",
       "</table>\n",
       "</div>"
      ],
      "text/plain": [
       "                     DAILY_YIELD\n",
       "DATE_TIME                       \n",
       "2020-06-17 06:00:00     0.000000\n",
       "2020-06-17 06:15:00     0.000000\n",
       "2020-06-17 06:30:00     0.000000\n",
       "2020-06-17 06:45:00     0.500000\n",
       "2020-06-17 07:00:00   362.660714"
      ]
     },
     "execution_count": 56,
     "metadata": {},
     "output_type": "execute_result"
    }
   ],
   "source": [
    "# adding rows with index '2020-06-17 06:15:00' & '2020-06-17 06:30:00', with col val of 0, to end of df\n",
    "pred_gen.loc[pd.to_datetime('2020-06-17 06:15:00')] = 0\n",
    "pred_gen.loc[pd.to_datetime('2020-06-17 06:30:00')] = 0\n",
    "\n",
    "# sorting df by index and setting in place\n",
    "pred_gen.sort_index(inplace=True)\n",
    "\n",
    "# confirming row was inserted correctly\n",
    "pred_gen[(pred_gen.index >= '2020-06-17 06:00:00') & (pred_gen.index <= '2020-06-17 07:00:00')]"
   ]
  },
  {
   "cell_type": "code",
   "execution_count": 57,
   "metadata": {},
   "outputs": [
    {
     "name": "stdout",
     "output_type": "stream",
     "text": [
      "pred_gen records:  480\n",
      "pred_wthr records:  480\n"
     ]
    }
   ],
   "source": [
    "print('pred_gen records: ', len(pred_gen))\n",
    "print('pred_wthr records: ', len(pred_wthr))"
   ]
  },
  {
   "cell_type": "markdown",
   "metadata": {},
   "source": [
    "#### **FINAL COMBINED DATAFRAME FOR OUR MODEL**\n",
    "\n",
    "We're only going to use ambient temperature from our weather sensor data in this project, so that is the only column we're going to add to our final dataframe here."
   ]
  },
  {
   "cell_type": "code",
   "execution_count": 60,
   "metadata": {},
   "outputs": [
    {
     "data": {
      "text/html": [
       "<div>\n",
       "<style scoped>\n",
       "    .dataframe tbody tr th:only-of-type {\n",
       "        vertical-align: middle;\n",
       "    }\n",
       "\n",
       "    .dataframe tbody tr th {\n",
       "        vertical-align: top;\n",
       "    }\n",
       "\n",
       "    .dataframe thead th {\n",
       "        text-align: right;\n",
       "    }\n",
       "</style>\n",
       "<table border=\"1\" class=\"dataframe\">\n",
       "  <thead>\n",
       "    <tr style=\"text-align: right;\">\n",
       "      <th></th>\n",
       "      <th>DAILY_YIELD</th>\n",
       "      <th>AMBIENT_TEMPERATURE</th>\n",
       "    </tr>\n",
       "    <tr>\n",
       "      <th>DATE_TIME</th>\n",
       "      <th></th>\n",
       "      <th></th>\n",
       "    </tr>\n",
       "  </thead>\n",
       "  <tbody>\n",
       "    <tr>\n",
       "      <th>2020-06-13 00:00:00</th>\n",
       "      <td>5683.214286</td>\n",
       "      <td>21.771613</td>\n",
       "    </tr>\n",
       "    <tr>\n",
       "      <th>2020-06-13 00:15:00</th>\n",
       "      <td>0.000000</td>\n",
       "      <td>21.730046</td>\n",
       "    </tr>\n",
       "    <tr>\n",
       "      <th>2020-06-13 00:30:00</th>\n",
       "      <td>0.000000</td>\n",
       "      <td>21.687068</td>\n",
       "    </tr>\n",
       "    <tr>\n",
       "      <th>2020-06-13 00:45:00</th>\n",
       "      <td>0.000000</td>\n",
       "      <td>21.619232</td>\n",
       "    </tr>\n",
       "    <tr>\n",
       "      <th>2020-06-13 01:00:00</th>\n",
       "      <td>0.000000</td>\n",
       "      <td>21.625968</td>\n",
       "    </tr>\n",
       "    <tr>\n",
       "      <th>...</th>\n",
       "      <td>...</td>\n",
       "      <td>...</td>\n",
       "    </tr>\n",
       "    <tr>\n",
       "      <th>2020-06-17 22:45:00</th>\n",
       "      <td>129571.000000</td>\n",
       "      <td>22.150570</td>\n",
       "    </tr>\n",
       "    <tr>\n",
       "      <th>2020-06-17 23:00:00</th>\n",
       "      <td>129571.000000</td>\n",
       "      <td>22.129816</td>\n",
       "    </tr>\n",
       "    <tr>\n",
       "      <th>2020-06-17 23:15:00</th>\n",
       "      <td>129571.000000</td>\n",
       "      <td>22.008275</td>\n",
       "    </tr>\n",
       "    <tr>\n",
       "      <th>2020-06-17 23:30:00</th>\n",
       "      <td>129571.000000</td>\n",
       "      <td>21.969495</td>\n",
       "    </tr>\n",
       "    <tr>\n",
       "      <th>2020-06-17 23:45:00</th>\n",
       "      <td>127962.767857</td>\n",
       "      <td>21.909288</td>\n",
       "    </tr>\n",
       "  </tbody>\n",
       "</table>\n",
       "<p>480 rows × 2 columns</p>\n",
       "</div>"
      ],
      "text/plain": [
       "                       DAILY_YIELD  AMBIENT_TEMPERATURE\n",
       "DATE_TIME                                              \n",
       "2020-06-13 00:00:00    5683.214286            21.771613\n",
       "2020-06-13 00:15:00       0.000000            21.730046\n",
       "2020-06-13 00:30:00       0.000000            21.687068\n",
       "2020-06-13 00:45:00       0.000000            21.619232\n",
       "2020-06-13 01:00:00       0.000000            21.625968\n",
       "...                            ...                  ...\n",
       "2020-06-17 22:45:00  129571.000000            22.150570\n",
       "2020-06-17 23:00:00  129571.000000            22.129816\n",
       "2020-06-17 23:15:00  129571.000000            22.008275\n",
       "2020-06-17 23:30:00  129571.000000            21.969495\n",
       "2020-06-17 23:45:00  127962.767857            21.909288\n",
       "\n",
       "[480 rows x 2 columns]"
      ]
     },
     "execution_count": 60,
     "metadata": {},
     "output_type": "execute_result"
    }
   ],
   "source": [
    "pred_final = pred_gen.merge(pred_wthr[['AMBIENT_TEMPERATURE']], \n",
    "                left_index=True, right_index=True)\n",
    "pred_final"
   ]
  },
  {
   "cell_type": "markdown",
   "metadata": {},
   "source": [
    "#### **TRAIN/TEST SPLIT**"
   ]
  },
  {
   "cell_type": "code",
   "execution_count": 61,
   "metadata": {},
   "outputs": [
    {
     "name": "stdout",
     "output_type": "stream",
     "text": [
      "(384, 2) (96, 2)\n"
     ]
    }
   ],
   "source": [
    "eotri = round(pred_final.shape[0] * .8)\n",
    "\n",
    "train_pred_fin = pred_final[:eotri]\n",
    "\n",
    "test_pred_fin = pred_final[eotri:]\n",
    "\n",
    "print(train_pred_fin.shape, test_pred_fin.shape)"
   ]
  },
  {
   "cell_type": "code",
   "execution_count": 70,
   "metadata": {},
   "outputs": [
    {
     "data": {
      "image/png": "[encoded data removed]",
      "text/plain": [
       "<Figure size 1080x360 with 1 Axes>"
      ]
     },
     "metadata": {},
     "output_type": "display_data"
    }
   ],
   "source": [
    "fig,ax = plt.subplots(figsize=(15,5))\n",
    "ax.plot(train_pred_fin.DAILY_YIELD, label='Train Daily_Yield', color='navy')\n",
    "ax.plot(test_pred_fin.DAILY_YIELD, label='Test Daily_Yield', color='green')\n",
    "ax.set_title('Last 5 days of daily yield \\n (6/13 - 6/17) \\n train = 4 days \\n test = 1 day', fontsize=17)\n",
    "ax.legend(loc='upper left')\n",
    "plt.show()"
   ]
  },
  {
   "cell_type": "markdown",
   "metadata": {},
   "source": [
    "---\n",
    "\n",
    "# Modeling 1: SARIMA\n",
    "\n",
    "--> **ENTER EXPLANATION OF SEASONAL, AR, I, & MA, AND WHAT THE ALGORITHM IS IN GENERAL** <--\n",
    "\n",
    "For our first model, we're only going to use the DAILY_YIELD to forecast forward:"
   ]
  },
  {
   "cell_type": "code",
   "execution_count": 62,
   "metadata": {},
   "outputs": [],
   "source": [
    "train_sarima = train_pred_fin[['DAILY_YIELD']]\n",
    "test_sarima = test_pred_fin[['DAILY_YIELD']]"
   ]
  },
  {
   "cell_type": "code",
   "execution_count": 65,
   "metadata": {},
   "outputs": [
    {
     "data": {
      "text/html": [
       "<div>\n",
       "<style scoped>\n",
       "    .dataframe tbody tr th:only-of-type {\n",
       "        vertical-align: middle;\n",
       "    }\n",
       "\n",
       "    .dataframe tbody tr th {\n",
       "        vertical-align: top;\n",
       "    }\n",
       "\n",
       "    .dataframe thead th {\n",
       "        text-align: right;\n",
       "    }\n",
       "</style>\n",
       "<table border=\"1\" class=\"dataframe\">\n",
       "  <thead>\n",
       "    <tr style=\"text-align: right;\">\n",
       "      <th></th>\n",
       "      <th>DAILY_YIELD</th>\n",
       "    </tr>\n",
       "    <tr>\n",
       "      <th>DATE_TIME</th>\n",
       "      <th></th>\n",
       "    </tr>\n",
       "  </thead>\n",
       "  <tbody>\n",
       "    <tr>\n",
       "      <th>2020-06-13 00:00:00</th>\n",
       "      <td>5683.214286</td>\n",
       "    </tr>\n",
       "    <tr>\n",
       "      <th>2020-06-13 00:15:00</th>\n",
       "      <td>0.000000</td>\n",
       "    </tr>\n",
       "    <tr>\n",
       "      <th>2020-06-13 00:30:00</th>\n",
       "      <td>0.000000</td>\n",
       "    </tr>\n",
       "    <tr>\n",
       "      <th>2020-06-13 00:45:00</th>\n",
       "      <td>0.000000</td>\n",
       "    </tr>\n",
       "    <tr>\n",
       "      <th>2020-06-13 01:00:00</th>\n",
       "      <td>0.000000</td>\n",
       "    </tr>\n",
       "  </tbody>\n",
       "</table>\n",
       "</div>"
      ],
      "text/plain": [
       "                     DAILY_YIELD\n",
       "DATE_TIME                       \n",
       "2020-06-13 00:00:00  5683.214286\n",
       "2020-06-13 00:15:00     0.000000\n",
       "2020-06-13 00:30:00     0.000000\n",
       "2020-06-13 00:45:00     0.000000\n",
       "2020-06-13 01:00:00     0.000000"
      ]
     },
     "execution_count": 65,
     "metadata": {},
     "output_type": "execute_result"
    }
   ],
   "source": [
    "train_sarima.head()"
   ]
  },
  {
   "cell_type": "code",
   "execution_count": 66,
   "metadata": {},
   "outputs": [
    {
     "data": {
      "text/html": [
       "<div>\n",
       "<style scoped>\n",
       "    .dataframe tbody tr th:only-of-type {\n",
       "        vertical-align: middle;\n",
       "    }\n",
       "\n",
       "    .dataframe tbody tr th {\n",
       "        vertical-align: top;\n",
       "    }\n",
       "\n",
       "    .dataframe thead th {\n",
       "        text-align: right;\n",
       "    }\n",
       "</style>\n",
       "<table border=\"1\" class=\"dataframe\">\n",
       "  <thead>\n",
       "    <tr style=\"text-align: right;\">\n",
       "      <th></th>\n",
       "      <th>DAILY_YIELD</th>\n",
       "    </tr>\n",
       "    <tr>\n",
       "      <th>DATE_TIME</th>\n",
       "      <th></th>\n",
       "    </tr>\n",
       "  </thead>\n",
       "  <tbody>\n",
       "    <tr>\n",
       "      <th>2020-06-17 00:00:00</th>\n",
       "      <td>6955.232143</td>\n",
       "    </tr>\n",
       "    <tr>\n",
       "      <th>2020-06-17 00:15:00</th>\n",
       "      <td>0.000000</td>\n",
       "    </tr>\n",
       "    <tr>\n",
       "      <th>2020-06-17 00:30:00</th>\n",
       "      <td>0.000000</td>\n",
       "    </tr>\n",
       "    <tr>\n",
       "      <th>2020-06-17 00:45:00</th>\n",
       "      <td>0.000000</td>\n",
       "    </tr>\n",
       "    <tr>\n",
       "      <th>2020-06-17 01:00:00</th>\n",
       "      <td>0.000000</td>\n",
       "    </tr>\n",
       "  </tbody>\n",
       "</table>\n",
       "</div>"
      ],
      "text/plain": [
       "                     DAILY_YIELD\n",
       "DATE_TIME                       \n",
       "2020-06-17 00:00:00  6955.232143\n",
       "2020-06-17 00:15:00     0.000000\n",
       "2020-06-17 00:30:00     0.000000\n",
       "2020-06-17 00:45:00     0.000000\n",
       "2020-06-17 01:00:00     0.000000"
      ]
     },
     "execution_count": 66,
     "metadata": {},
     "output_type": "execute_result"
    }
   ],
   "source": [
    "test_sarima.head()"
   ]
  },
  {
   "cell_type": "markdown",
   "metadata": {},
   "source": [
    "#### **STATIONARITY**\n",
    "\n",
    "--> **ENTER EXPLANATION OF STATIONARITY AND DICKY-FULLER TEST HERE** <--"
   ]
  },
  {
   "cell_type": "code",
   "execution_count": 74,
   "metadata": {},
   "outputs": [
    {
     "name": "stdout",
     "output_type": "stream",
     "text": [
      "Augmented Dickey-Fuller Test:\n",
      "ADF Test Statistic : -2.600504520518708\n",
      "p-value : 0.09289303813548755\n",
      "#Lags Used : 1\n",
      "Number of Observations Used : 478\n",
      "weak evidence against null hypothesis, time series has a unit root, indicating it is non-stationary \n"
     ]
    }
   ],
   "source": [
    "result = adfuller(pred_final['DAILY_YIELD'])\n",
    "print('Augmented Dickey-Fuller Test:')\n",
    "labels = ['ADF Test Statistic','p-value','#Lags Used','Number of Observations Used']\n",
    "\n",
    "for value,label in zip(result,labels):\n",
    "    print(label+' : '+str(value) )\n",
    "    \n",
    "if result[1] <= 0.05:\n",
    "    print(\"strong evidence against the null hypothesis, reject the null hypothesis. Data has no unit root and is stationary\")\n",
    "else:\n",
    "    print(\"weak evidence against null hypothesis, time series has a unit root, indicating it is non-stationary \")"
   ]
  },
  {
   "cell_type": "code",
   "execution_count": 91,
   "metadata": {},
   "outputs": [],
   "source": [
    "import os\n",
    "import sys\n",
    "module_path = os.path.abspath(os.path.join(os.pardir, os.pardir))\n",
    "if module_path not in sys.path:\n",
    "    sys.path.append(module_path)\n",
    "\n",
    "from src import functions"
   ]
  },
  {
   "cell_type": "code",
   "execution_count": 92,
   "metadata": {},
   "outputs": [
    {
     "ename": "NameError",
     "evalue": "name 'adfuller' is not defined",
     "output_type": "error",
     "traceback": [
      "\u001b[0;31m---------------------------------------------------------------------------\u001b[0m",
      "\u001b[0;31mNameError\u001b[0m                                 Traceback (most recent call last)",
      "\u001b[0;32m<ipython-input-92-b085f65a2667>\u001b[0m in \u001b[0;36m<module>\u001b[0;34m\u001b[0m\n\u001b[0;32m----> 1\u001b[0;31m \u001b[0mfunctions\u001b[0m\u001b[0;34m.\u001b[0m\u001b[0mi_n\u001b[0m\u001b[0;34m(\u001b[0m\u001b[0mpred_final\u001b[0m\u001b[0;34m[\u001b[0m\u001b[0;34m'DAILY_YIELD'\u001b[0m\u001b[0;34m]\u001b[0m\u001b[0;34m)\u001b[0m\u001b[0;34m\u001b[0m\u001b[0;34m\u001b[0m\u001b[0m\n\u001b[0m",
      "\u001b[0;32m~/Documents/Flatiron/projects/capstone/src/functions.py\u001b[0m in \u001b[0;36mi_n\u001b[0;34m(series)\u001b[0m\n\u001b[1;32m      4\u001b[0m \u001b[0;32mdef\u001b[0m \u001b[0mi_n\u001b[0m\u001b[0;34m(\u001b[0m\u001b[0mseries\u001b[0m\u001b[0;34m)\u001b[0m\u001b[0;34m:\u001b[0m\u001b[0;34m\u001b[0m\u001b[0;34m\u001b[0m\u001b[0m\n\u001b[1;32m      5\u001b[0m     \u001b[0mi\u001b[0m \u001b[0;34m=\u001b[0m \u001b[0;36m0\u001b[0m\u001b[0;34m\u001b[0m\u001b[0;34m\u001b[0m\u001b[0m\n\u001b[0;32m----> 6\u001b[0;31m     \u001b[0mdftest\u001b[0m \u001b[0;34m=\u001b[0m \u001b[0madfuller\u001b[0m\u001b[0;34m(\u001b[0m\u001b[0mnp\u001b[0m\u001b[0;34m.\u001b[0m\u001b[0mdiff\u001b[0m\u001b[0;34m(\u001b[0m\u001b[0mseries\u001b[0m\u001b[0;34m,\u001b[0m\u001b[0mi\u001b[0m\u001b[0;34m)\u001b[0m\u001b[0;34m,\u001b[0m \u001b[0mautolag\u001b[0m\u001b[0;34m=\u001b[0m\u001b[0;34m'AIC'\u001b[0m\u001b[0;34m)\u001b[0m\u001b[0;34m\u001b[0m\u001b[0;34m\u001b[0m\u001b[0m\n\u001b[0m\u001b[1;32m      7\u001b[0m     \u001b[0mtest_stat\u001b[0m \u001b[0;34m=\u001b[0m \u001b[0mdftest\u001b[0m\u001b[0;34m[\u001b[0m\u001b[0;36m0\u001b[0m\u001b[0;34m]\u001b[0m\u001b[0;34m\u001b[0m\u001b[0;34m\u001b[0m\u001b[0m\n\u001b[1;32m      8\u001b[0m     \u001b[0mcritical_val_5\u001b[0m \u001b[0;34m=\u001b[0m \u001b[0mdftest\u001b[0m\u001b[0;34m[\u001b[0m\u001b[0;36m4\u001b[0m\u001b[0;34m]\u001b[0m\u001b[0;34m[\u001b[0m\u001b[0;34m'5%'\u001b[0m\u001b[0;34m]\u001b[0m\u001b[0;34m\u001b[0m\u001b[0;34m\u001b[0m\u001b[0m\n",
      "\u001b[0;31mNameError\u001b[0m: name 'adfuller' is not defined"
     ]
    }
   ],
   "source": [
    "functions.i_n(pred_final['DAILY_YIELD'])"
   ]
  },
  {
   "cell_type": "markdown",
   "metadata": {},
   "source": [
    "#### **AUTO-ARIMA**\n",
    "\n",
    "--> **ENTER EXPLANATION AIC (since that is what we're minimizing here)** <--"
   ]
  },
  {
   "cell_type": "code",
   "execution_count": 94,
   "metadata": {},
   "outputs": [
    {
     "name": "stdout",
     "output_type": "stream",
     "text": [
      "Performing stepwise search to minimize aic\n",
      " ARIMA(0,1,0)(0,1,0)[96]             : AIC=5102.205, Time=2.27 sec\n",
      " ARIMA(1,1,0)(1,1,0)[96]             : AIC=4821.779, Time=36.44 sec\n"
     ]
    },
    {
     "name": "stderr",
     "output_type": "stream",
     "text": [
      "/Users/oz/opt/anaconda3/lib/python3.8/site-packages/statsmodels/tsa/statespace/sarimax.py:866: UserWarning: Too few observations to estimate starting parameters for seasonal ARMA. All parameters except for variances will be set to zeros.\n",
      "  warn('Too few observations to estimate starting parameters%s.'\n"
     ]
    },
    {
     "name": "stdout",
     "output_type": "stream",
     "text": [
      " ARIMA(0,1,1)(0,1,1)[96]             : AIC=4895.577, Time=10.77 sec\n",
      " ARIMA(1,1,0)(0,1,0)[96]             : AIC=5088.074, Time=2.05 sec\n"
     ]
    },
    {
     "name": "stderr",
     "output_type": "stream",
     "text": [
      "/Users/oz/opt/anaconda3/lib/python3.8/site-packages/statsmodels/tsa/statespace/sarimax.py:866: UserWarning: Too few observations to estimate starting parameters for seasonal ARMA. All parameters except for variances will be set to zeros.\n",
      "  warn('Too few observations to estimate starting parameters%s.'\n"
     ]
    },
    {
     "name": "stdout",
     "output_type": "stream",
     "text": [
      " ARIMA(1,1,0)(1,1,1)[96]             : AIC=4811.024, Time=76.08 sec\n"
     ]
    },
    {
     "name": "stderr",
     "output_type": "stream",
     "text": [
      "/Users/oz/opt/anaconda3/lib/python3.8/site-packages/statsmodels/tsa/statespace/sarimax.py:866: UserWarning: Too few observations to estimate starting parameters for seasonal ARMA. All parameters except for variances will be set to zeros.\n",
      "  warn('Too few observations to estimate starting parameters%s.'\n"
     ]
    },
    {
     "name": "stdout",
     "output_type": "stream",
     "text": [
      " ARIMA(1,1,0)(0,1,1)[96]             : AIC=4894.495, Time=14.32 sec\n"
     ]
    },
    {
     "name": "stderr",
     "output_type": "stream",
     "text": [
      "/Users/oz/opt/anaconda3/lib/python3.8/site-packages/statsmodels/tsa/statespace/sarimax.py:866: UserWarning: Too few observations to estimate starting parameters for seasonal ARMA. All parameters except for variances will be set to zeros.\n",
      "  warn('Too few observations to estimate starting parameters%s.'\n"
     ]
    },
    {
     "name": "stdout",
     "output_type": "stream",
     "text": [
      " ARIMA(0,1,0)(1,1,1)[96]             : AIC=4934.987, Time=25.79 sec\n"
     ]
    },
    {
     "name": "stderr",
     "output_type": "stream",
     "text": [
      "/Users/oz/opt/anaconda3/lib/python3.8/site-packages/statsmodels/tsa/statespace/sarimax.py:866: UserWarning: Too few observations to estimate starting parameters for seasonal ARMA. All parameters except for variances will be set to zeros.\n",
      "  warn('Too few observations to estimate starting parameters%s.'\n"
     ]
    },
    {
     "name": "stdout",
     "output_type": "stream",
     "text": [
      " ARIMA(2,1,0)(1,1,1)[96]             : AIC=4897.523, Time=34.52 sec\n"
     ]
    },
    {
     "name": "stderr",
     "output_type": "stream",
     "text": [
      "/Users/oz/opt/anaconda3/lib/python3.8/site-packages/statsmodels/tsa/statespace/sarimax.py:866: UserWarning: Too few observations to estimate starting parameters for seasonal ARMA. All parameters except for variances will be set to zeros.\n",
      "  warn('Too few observations to estimate starting parameters%s.'\n"
     ]
    },
    {
     "name": "stdout",
     "output_type": "stream",
     "text": [
      " ARIMA(1,1,1)(1,1,1)[96]             : AIC=4898.438, Time=34.51 sec\n"
     ]
    },
    {
     "name": "stderr",
     "output_type": "stream",
     "text": [
      "/Users/oz/opt/anaconda3/lib/python3.8/site-packages/statsmodels/tsa/statespace/sarimax.py:866: UserWarning: Too few observations to estimate starting parameters for seasonal ARMA. All parameters except for variances will be set to zeros.\n",
      "  warn('Too few observations to estimate starting parameters%s.'\n"
     ]
    },
    {
     "name": "stdout",
     "output_type": "stream",
     "text": [
      " ARIMA(0,1,1)(1,1,1)[96]             : AIC=4897.373, Time=27.78 sec\n"
     ]
    },
    {
     "name": "stderr",
     "output_type": "stream",
     "text": [
      "/Users/oz/opt/anaconda3/lib/python3.8/site-packages/statsmodels/tsa/statespace/sarimax.py:963: UserWarning: Non-stationary starting autoregressive parameters found. Using zeros as starting parameters.\n",
      "  warn('Non-stationary starting autoregressive parameters'\n",
      "/Users/oz/opt/anaconda3/lib/python3.8/site-packages/statsmodels/tsa/statespace/sarimax.py:975: UserWarning: Non-invertible starting MA parameters found. Using zeros as starting parameters.\n",
      "  warn('Non-invertible starting MA parameters found.'\n",
      "/Users/oz/opt/anaconda3/lib/python3.8/site-packages/statsmodels/tsa/statespace/sarimax.py:866: UserWarning: Too few observations to estimate starting parameters for seasonal ARMA. All parameters except for variances will be set to zeros.\n",
      "  warn('Too few observations to estimate starting parameters%s.'\n"
     ]
    },
    {
     "name": "stdout",
     "output_type": "stream",
     "text": [
      " ARIMA(2,1,1)(1,1,1)[96]             : AIC=4899.901, Time=45.03 sec\n"
     ]
    },
    {
     "name": "stderr",
     "output_type": "stream",
     "text": [
      "/Users/oz/opt/anaconda3/lib/python3.8/site-packages/statsmodels/tsa/statespace/sarimax.py:866: UserWarning: Too few observations to estimate starting parameters for seasonal ARMA. All parameters except for variances will be set to zeros.\n",
      "  warn('Too few observations to estimate starting parameters%s.'\n"
     ]
    },
    {
     "name": "stdout",
     "output_type": "stream",
     "text": [
      " ARIMA(1,1,0)(1,1,1)[96] intercept   : AIC=4812.288, Time=67.98 sec\n",
      "\n",
      "Best model:  ARIMA(1,1,0)(1,1,1)[96]          \n",
      "Total fit time: 377.823 seconds\n"
     ]
    },
    {
     "data": {
      "text/plain": [
       "ARIMA(order=(1, 1, 0), scoring_args={}, seasonal_order=(1, 1, 1, 96),\n",
       "      with_intercept=False)"
      ]
     },
     "execution_count": 94,
     "metadata": {},
     "output_type": "execute_result"
    }
   ],
   "source": [
    "auto_arima(train_sarima,\n",
    "           start_p=0,d=1,start_q=0,\n",
    "           max_p=4,max_d=4,max_q=4,\n",
    "           start_P=0,D=1,start_Q=0,\n",
    "           max_P=1,max_D=1,max_Q=1,m=96,\n",
    "           seasonal=True,\n",
    "           error_action='warn',trace=True,\n",
    "           supress_warning=True,stepwise=True,\n",
    "           random_state=20,n_fits=1)"
   ]
  },
  {
   "cell_type": "markdown",
   "metadata": {},
   "source": [
    "#### **TRAIN/TEST MODEL, AND IN-SAMPLE PREDICTION**"
   ]
  },
  {
   "cell_type": "markdown",
   "metadata": {},
   "source": [
    "FITTING MODEL TO TRAIN DATA"
   ]
  },
  {
   "cell_type": "code",
   "execution_count": 212,
   "metadata": {},
   "outputs": [
    {
     "name": "stderr",
     "output_type": "stream",
     "text": [
      "/Users/oz/opt/anaconda3/lib/python3.8/site-packages/statsmodels/tsa/base/tsa_model.py:159: ValueWarning: No frequency information was provided, so inferred frequency 15T will be used.\n",
      "  warnings.warn('No frequency information was'\n",
      "/Users/oz/opt/anaconda3/lib/python3.8/site-packages/statsmodels/tsa/statespace/sarimax.py:866: UserWarning: Too few observations to estimate starting parameters for seasonal ARMA. All parameters except for variances will be set to zeros.\n",
      "  warn('Too few observations to estimate starting parameters%s.'\n"
     ]
    }
   ],
   "source": [
    "p,d,q = [1,1,0]\n",
    "P,D,Q,s = [1,1,1,96]\n",
    "\n",
    "sarima_model = SARIMAX(endog=train_sarima, \n",
    "                      order=(p,d,q),\n",
    "                      seasonal_order=(P,D,Q,s),\n",
    "                      freq='15T').fit()"
   ]
  },
  {
   "cell_type": "markdown",
   "metadata": {},
   "source": [
    "MAKING PREDICTIONS AGAINST TRAIN AND TEST DATA (y_hats)"
   ]
  },
  {
   "cell_type": "code",
   "execution_count": 213,
   "metadata": {},
   "outputs": [],
   "source": [
    "train_sarima_y_hat = pd.DataFrame(sarima_model.predict(typ='levels'), columns=['pred_daily_yld'])\n",
    "\n",
    "test_sarima_y_hat = pd.DataFrame(sarima_model.predict(start=test_sarima.index[0],\n",
    "                                                      end=test_sarima.index[-1],\n",
    "                                                      typ='levels'), columns=['pred_daily_yld'])\n",
    "\n",
    "# zero out negative predictions:\n",
    "train_sarima_y_hat[train_sarima_y_hat < 0] = 0\n",
    "\n",
    "test_sarima_y_hat[test_sarima_y_hat < 0] = 0"
   ]
  },
  {
   "cell_type": "code",
   "execution_count": 214,
   "metadata": {},
   "outputs": [
    {
     "data": {
      "text/html": [
       "<div>\n",
       "<style scoped>\n",
       "    .dataframe tbody tr th:only-of-type {\n",
       "        vertical-align: middle;\n",
       "    }\n",
       "\n",
       "    .dataframe tbody tr th {\n",
       "        vertical-align: top;\n",
       "    }\n",
       "\n",
       "    .dataframe thead th {\n",
       "        text-align: right;\n",
       "    }\n",
       "</style>\n",
       "<table border=\"1\" class=\"dataframe\">\n",
       "  <thead>\n",
       "    <tr style=\"text-align: right;\">\n",
       "      <th></th>\n",
       "      <th>pred_daily_yld</th>\n",
       "    </tr>\n",
       "  </thead>\n",
       "  <tbody>\n",
       "    <tr>\n",
       "      <th>2020-06-13 00:00:00</th>\n",
       "      <td>0.000000</td>\n",
       "    </tr>\n",
       "    <tr>\n",
       "      <th>2020-06-13 00:15:00</th>\n",
       "      <td>5811.320199</td>\n",
       "    </tr>\n",
       "    <tr>\n",
       "      <th>2020-06-13 00:30:00</th>\n",
       "      <td>0.000000</td>\n",
       "    </tr>\n",
       "    <tr>\n",
       "      <th>2020-06-13 00:45:00</th>\n",
       "      <td>0.000000</td>\n",
       "    </tr>\n",
       "    <tr>\n",
       "      <th>2020-06-13 01:00:00</th>\n",
       "      <td>0.000000</td>\n",
       "    </tr>\n",
       "  </tbody>\n",
       "</table>\n",
       "</div>"
      ],
      "text/plain": [
       "                     pred_daily_yld\n",
       "2020-06-13 00:00:00        0.000000\n",
       "2020-06-13 00:15:00     5811.320199\n",
       "2020-06-13 00:30:00        0.000000\n",
       "2020-06-13 00:45:00        0.000000\n",
       "2020-06-13 01:00:00        0.000000"
      ]
     },
     "execution_count": 214,
     "metadata": {},
     "output_type": "execute_result"
    }
   ],
   "source": [
    "train_sarima_y_hat.head()"
   ]
  },
  {
   "cell_type": "code",
   "execution_count": 215,
   "metadata": {},
   "outputs": [
    {
     "data": {
      "text/html": [
       "<div>\n",
       "<style scoped>\n",
       "    .dataframe tbody tr th:only-of-type {\n",
       "        vertical-align: middle;\n",
       "    }\n",
       "\n",
       "    .dataframe tbody tr th {\n",
       "        vertical-align: top;\n",
       "    }\n",
       "\n",
       "    .dataframe thead th {\n",
       "        text-align: right;\n",
       "    }\n",
       "</style>\n",
       "<table border=\"1\" class=\"dataframe\">\n",
       "  <thead>\n",
       "    <tr style=\"text-align: right;\">\n",
       "      <th></th>\n",
       "      <th>pred_daily_yld</th>\n",
       "    </tr>\n",
       "  </thead>\n",
       "  <tbody>\n",
       "    <tr>\n",
       "      <th>2020-06-17 00:00:00</th>\n",
       "      <td>0.0</td>\n",
       "    </tr>\n",
       "    <tr>\n",
       "      <th>2020-06-17 00:15:00</th>\n",
       "      <td>0.0</td>\n",
       "    </tr>\n",
       "    <tr>\n",
       "      <th>2020-06-17 00:30:00</th>\n",
       "      <td>0.0</td>\n",
       "    </tr>\n",
       "    <tr>\n",
       "      <th>2020-06-17 00:45:00</th>\n",
       "      <td>0.0</td>\n",
       "    </tr>\n",
       "    <tr>\n",
       "      <th>2020-06-17 01:00:00</th>\n",
       "      <td>0.0</td>\n",
       "    </tr>\n",
       "  </tbody>\n",
       "</table>\n",
       "</div>"
      ],
      "text/plain": [
       "                     pred_daily_yld\n",
       "2020-06-17 00:00:00             0.0\n",
       "2020-06-17 00:15:00             0.0\n",
       "2020-06-17 00:30:00             0.0\n",
       "2020-06-17 00:45:00             0.0\n",
       "2020-06-17 01:00:00             0.0"
      ]
     },
     "execution_count": 215,
     "metadata": {},
     "output_type": "execute_result"
    }
   ],
   "source": [
    "test_sarima_y_hat.head()"
   ]
  },
  {
   "cell_type": "markdown",
   "metadata": {},
   "source": [
    "PERFORMANCE METRICS; PLOTTING"
   ]
  },
  {
   "cell_type": "code",
   "execution_count": 216,
   "metadata": {},
   "outputs": [
    {
     "name": "stdout",
     "output_type": "stream",
     "text": [
      "SARIMA train R2 Score: 0.984636\n",
      "SARIMA test R2 Score: 0.992781\n",
      "---------------\n",
      "SARIMA train MAE Score: 1271.469147\n",
      "SARIMA test MAE Score: 3392.311740\n",
      "---------------\n",
      "SARIMA train RMSE Score: 8481.602910\n",
      "SARIMA test RMSE Score: 4836.309328\n",
      "--------------- \n",
      "\n",
      "                                      SARIMAX Results                                       \n",
      "============================================================================================\n",
      "Dep. Variable:                          DAILY_YIELD   No. Observations:                  384\n",
      "Model:             SARIMAX(1, 1, 0)x(1, 1, [1], 96)   Log Likelihood               -2401.512\n",
      "Date:                              Wed, 02 Dec 2020   AIC                           4811.024\n",
      "Time:                                      03:13:50   BIC                           4825.662\n",
      "Sample:                                  06-13-2020   HQIC                          4816.891\n",
      "                                       - 06-16-2020                                         \n",
      "Covariance Type:                                opg                                         \n",
      "==============================================================================\n",
      "                 coef    std err          z      P>|z|      [0.025      0.975]\n",
      "------------------------------------------------------------------------------\n",
      "ar.L1          0.0631      0.010      6.440      0.000       0.044       0.082\n",
      "ar.S.L96      -0.0396      0.035     -1.123      0.262      -0.109       0.030\n",
      "ma.S.L96      -0.1692      0.033     -5.100      0.000      -0.234      -0.104\n",
      "sigma2       1.06e+06    2.1e+04     50.453      0.000    1.02e+06     1.1e+06\n",
      "===================================================================================\n",
      "Ljung-Box (Q):                       55.11   Jarque-Bera (JB):             45550.01\n",
      "Prob(Q):                              0.06   Prob(JB):                         0.00\n",
      "Heteroskedasticity (H):               0.77   Skew:                             4.84\n",
      "Prob(H) (two-sided):                  0.21   Kurtosis:                        63.95\n",
      "===================================================================================\n",
      "\n",
      "Warnings:\n",
      "[1] Covariance matrix calculated using the outer product of gradients (complex-step).\n",
      "---------------\n"
     ]
    },
    {
     "data": {
      "image/png": "[encoded data removed]",
      "text/plain": [
       "<Figure size 864x288 with 1 Axes>"
      ]
     },
     "metadata": {},
     "output_type": "display_data"
    },
    {
     "data": {
      "image/png": "[encoded data removed]",
      "text/plain": [
       "<Figure size 864x288 with 1 Axes>"
      ]
     },
     "metadata": {},
     "output_type": "display_data"
    },
    {
     "data": {
      "image/png": "[encoded data removed]",
      "text/plain": [
       "<Figure size 864x288 with 1 Axes>"
      ]
     },
     "metadata": {},
     "output_type": "display_data"
    }
   ],
   "source": [
    "print('SARIMA train R2 Score: %f' % (r2_score(train_sarima.DAILY_YIELD,\n",
    "                                              train_sarima_y_hat.pred_daily_yld)))\n",
    "print('SARIMA test R2 Score: %f' % (r2_score(test_sarima.DAILY_YIELD,\n",
    "                                              test_sarima_y_hat.pred_daily_yld)))\n",
    "\n",
    "print('-'*15)\n",
    "\n",
    "\n",
    "print('SARIMA train MAE Score: %f' % (mean_absolute_error(train_sarima.DAILY_YIELD,\n",
    "                                                          train_sarima_y_hat.pred_daily_yld)))\n",
    "print('SARIMA test MAE Score: %f' % (mean_absolute_error(test_sarima.DAILY_YIELD,\n",
    "                                                          test_sarima_y_hat.pred_daily_yld)))\n",
    "\n",
    "print('-'*15)\n",
    "\n",
    "\n",
    "print('SARIMA train RMSE Score: %f' % (mean_squared_error(train_sarima.DAILY_YIELD,\n",
    "                                                          train_sarima_y_hat.pred_daily_yld,\n",
    "                                                          squared=False)))\n",
    "print('SARIMA test RMSE Score: %f' % (mean_squared_error(test_sarima.DAILY_YIELD,\n",
    "                                                          test_sarima_y_hat.pred_daily_yld,\n",
    "                                                          squared=False)))\n",
    "\n",
    "print('-'*15, '\\n')\n",
    "\n",
    "\n",
    "print(sarima_model.summary())\n",
    "\n",
    "\n",
    "print('-'*15)\n",
    "\n",
    "\n",
    "fig, ax1 = plt.subplots(figsize=(12,4))\n",
    "ax1.plot(train_sarima, label='train')\n",
    "ax1.plot(train_sarima_y_hat, label='predicted train', c='darkorange')\n",
    "ax1.legend(loc='upper left')\n",
    "ax1.set_title('Train vs Train_y_hat (6/13 - 6/16)', size=15)\n",
    "ax1.set_ylabel('Daily Yld (kW)', size=12)\n",
    "ax1.set_xlabel('Dates', size=12) \n",
    "\n",
    "fig, ax2 = plt.subplots(figsize=(12,4))\n",
    "ax2.plot(test_sarima, label='test', c='g')\n",
    "ax2.plot(test_sarima_y_hat, label='predicted test', c='darkorange')\n",
    "ax2.legend(loc='upper left')\n",
    "ax2.set_title('Test vs Test_y_hat (6/17)', size=15)\n",
    "ax2.set_ylabel('Daily Yld (kW)', size=12)\n",
    "ax2.set_xlabel('Dates', size=12) \n",
    "\n",
    "fig, ax3 = plt.subplots(figsize=(12,4))\n",
    "ax3.plot(train_sarima, label='train')\n",
    "ax3.plot(test_sarima, label='test', c='g')\n",
    "ax3.plot(test_sarima_y_hat, label='predicted test', c='darkorange')\n",
    "ax3.legend(loc='upper left')\n",
    "ax3.set_title('Train, Test, & Prediction \\n 6/13 - 6/17', size=15)\n",
    "ax3.set_ylabel('Daily Yld (kW)', size=12)\n",
    "ax3.set_xlabel('Dates', size=12);"
   ]
  },
  {
   "cell_type": "markdown",
   "metadata": {},
   "source": [
    "#### **FORECASTING**"
   ]
  },
  {
   "cell_type": "markdown",
   "metadata": {},
   "source": [
    "Fit the model to the entire train/test data:"
   ]
  },
  {
   "cell_type": "code",
   "execution_count": 145,
   "metadata": {},
   "outputs": [
    {
     "name": "stderr",
     "output_type": "stream",
     "text": [
      "/Users/oz/opt/anaconda3/lib/python3.8/site-packages/statsmodels/tsa/base/tsa_model.py:159: ValueWarning: No frequency information was provided, so inferred frequency 15T will be used.\n",
      "  warnings.warn('No frequency information was'\n",
      "/Users/oz/opt/anaconda3/lib/python3.8/site-packages/statsmodels/tsa/statespace/sarimax.py:1006: UserWarning: Non-invertible starting seasonal moving average Using zeros as starting parameters.\n",
      "  warn('Non-invertible starting seasonal moving average'\n",
      "/Users/oz/opt/anaconda3/lib/python3.8/site-packages/statsmodels/base/model.py:567: ConvergenceWarning: Maximum Likelihood optimization failed to converge. Check mle_retvals\n",
      "  warn(\"Maximum Likelihood optimization failed to converge. \"\n"
     ]
    }
   ],
   "source": [
    "sarima_f_model = SARIMAX(pred_final.DAILY_YIELD,\n",
    "                         order=(p,d,q),\n",
    "                         seasonal_order=(P,D,Q,s),\n",
    "                         freq='15T').fit()"
   ]
  },
  {
   "cell_type": "code",
   "execution_count": 154,
   "metadata": {},
   "outputs": [
    {
     "data": {
      "text/html": [
       "<div>\n",
       "<style scoped>\n",
       "    .dataframe tbody tr th:only-of-type {\n",
       "        vertical-align: middle;\n",
       "    }\n",
       "\n",
       "    .dataframe tbody tr th {\n",
       "        vertical-align: top;\n",
       "    }\n",
       "\n",
       "    .dataframe thead th {\n",
       "        text-align: right;\n",
       "    }\n",
       "</style>\n",
       "<table border=\"1\" class=\"dataframe\">\n",
       "  <thead>\n",
       "    <tr style=\"text-align: right;\">\n",
       "      <th>DAILY_YIELD</th>\n",
       "      <th>mean</th>\n",
       "      <th>mean_se</th>\n",
       "      <th>mean_ci_lower</th>\n",
       "      <th>mean_ci_upper</th>\n",
       "    </tr>\n",
       "  </thead>\n",
       "  <tbody>\n",
       "    <tr>\n",
       "      <th>2020-06-18 00:00:00</th>\n",
       "      <td>-240.062415</td>\n",
       "      <td>1136.566162</td>\n",
       "      <td>-2467.691159</td>\n",
       "      <td>1987.566328</td>\n",
       "    </tr>\n",
       "    <tr>\n",
       "      <th>2020-06-18 00:15:00</th>\n",
       "      <td>-7278.650324</td>\n",
       "      <td>1658.447592</td>\n",
       "      <td>-10529.147874</td>\n",
       "      <td>-4028.152774</td>\n",
       "    </tr>\n",
       "    <tr>\n",
       "      <th>2020-06-18 00:30:00</th>\n",
       "      <td>-7277.625865</td>\n",
       "      <td>2054.242470</td>\n",
       "      <td>-11303.867122</td>\n",
       "      <td>-3251.384608</td>\n",
       "    </tr>\n",
       "    <tr>\n",
       "      <th>2020-06-18 00:45:00</th>\n",
       "      <td>-7277.586392</td>\n",
       "      <td>2385.383343</td>\n",
       "      <td>-11952.851834</td>\n",
       "      <td>-2602.320950</td>\n",
       "    </tr>\n",
       "    <tr>\n",
       "      <th>2020-06-18 01:00:00</th>\n",
       "      <td>-7277.584594</td>\n",
       "      <td>2675.862055</td>\n",
       "      <td>-12522.177849</td>\n",
       "      <td>-2032.991339</td>\n",
       "    </tr>\n",
       "    <tr>\n",
       "      <th>...</th>\n",
       "      <td>...</td>\n",
       "      <td>...</td>\n",
       "      <td>...</td>\n",
       "      <td>...</td>\n",
       "    </tr>\n",
       "    <tr>\n",
       "      <th>2020-06-19 23:00:00</th>\n",
       "      <td>119370.674623</td>\n",
       "      <td>24256.803815</td>\n",
       "      <td>71828.212765</td>\n",
       "      <td>166913.136482</td>\n",
       "    </tr>\n",
       "    <tr>\n",
       "      <th>2020-06-19 23:15:00</th>\n",
       "      <td>119370.758341</td>\n",
       "      <td>24355.837577</td>\n",
       "      <td>71634.193876</td>\n",
       "      <td>167107.322806</td>\n",
       "    </tr>\n",
       "    <tr>\n",
       "      <th>2020-06-19 23:30:00</th>\n",
       "      <td>119373.248201</td>\n",
       "      <td>24454.470272</td>\n",
       "      <td>71443.367207</td>\n",
       "      <td>167303.129195</td>\n",
       "    </tr>\n",
       "    <tr>\n",
       "      <th>2020-06-19 23:45:00</th>\n",
       "      <td>117288.213091</td>\n",
       "      <td>24552.706455</td>\n",
       "      <td>69165.792716</td>\n",
       "      <td>165410.633466</td>\n",
       "    </tr>\n",
       "    <tr>\n",
       "      <th>2020-06-20 00:00:00</th>\n",
       "      <td>-11267.290953</td>\n",
       "      <td>24743.147071</td>\n",
       "      <td>-59762.968077</td>\n",
       "      <td>37228.386171</td>\n",
       "    </tr>\n",
       "  </tbody>\n",
       "</table>\n",
       "<p>193 rows × 4 columns</p>\n",
       "</div>"
      ],
      "text/plain": [
       "DAILY_YIELD                   mean       mean_se  mean_ci_lower  mean_ci_upper\n",
       "2020-06-18 00:00:00    -240.062415   1136.566162   -2467.691159    1987.566328\n",
       "2020-06-18 00:15:00   -7278.650324   1658.447592  -10529.147874   -4028.152774\n",
       "2020-06-18 00:30:00   -7277.625865   2054.242470  -11303.867122   -3251.384608\n",
       "2020-06-18 00:45:00   -7277.586392   2385.383343  -11952.851834   -2602.320950\n",
       "2020-06-18 01:00:00   -7277.584594   2675.862055  -12522.177849   -2032.991339\n",
       "...                            ...           ...            ...            ...\n",
       "2020-06-19 23:00:00  119370.674623  24256.803815   71828.212765  166913.136482\n",
       "2020-06-19 23:15:00  119370.758341  24355.837577   71634.193876  167107.322806\n",
       "2020-06-19 23:30:00  119373.248201  24454.470272   71443.367207  167303.129195\n",
       "2020-06-19 23:45:00  117288.213091  24552.706455   69165.792716  165410.633466\n",
       "2020-06-20 00:00:00  -11267.290953  24743.147071  -59762.968077   37228.386171\n",
       "\n",
       "[193 rows x 4 columns]"
      ]
     },
     "execution_count": 154,
     "metadata": {},
     "output_type": "execute_result"
    }
   ],
   "source": [
    "sarima_forecast = sarima_f_model.get_forecast(steps=193).summary_frame()\n",
    "sarima_forecast"
   ]
  },
  {
   "cell_type": "code",
   "execution_count": 155,
   "metadata": {},
   "outputs": [
    {
     "data": {
      "text/html": [
       "<div>\n",
       "<style scoped>\n",
       "    .dataframe tbody tr th:only-of-type {\n",
       "        vertical-align: middle;\n",
       "    }\n",
       "\n",
       "    .dataframe tbody tr th {\n",
       "        vertical-align: top;\n",
       "    }\n",
       "\n",
       "    .dataframe thead th {\n",
       "        text-align: right;\n",
       "    }\n",
       "</style>\n",
       "<table border=\"1\" class=\"dataframe\">\n",
       "  <thead>\n",
       "    <tr style=\"text-align: right;\">\n",
       "      <th>DAILY_YIELD</th>\n",
       "      <th>mean</th>\n",
       "      <th>mean_se</th>\n",
       "      <th>mean_ci_lower</th>\n",
       "      <th>mean_ci_upper</th>\n",
       "    </tr>\n",
       "  </thead>\n",
       "  <tbody>\n",
       "    <tr>\n",
       "      <th>2020-06-18 00:00:00</th>\n",
       "      <td>0.000000</td>\n",
       "      <td>1136.566162</td>\n",
       "      <td>0.000000</td>\n",
       "      <td>1987.566328</td>\n",
       "    </tr>\n",
       "    <tr>\n",
       "      <th>2020-06-18 00:15:00</th>\n",
       "      <td>0.000000</td>\n",
       "      <td>1658.447592</td>\n",
       "      <td>0.000000</td>\n",
       "      <td>0.000000</td>\n",
       "    </tr>\n",
       "    <tr>\n",
       "      <th>2020-06-18 00:30:00</th>\n",
       "      <td>0.000000</td>\n",
       "      <td>2054.242470</td>\n",
       "      <td>0.000000</td>\n",
       "      <td>0.000000</td>\n",
       "    </tr>\n",
       "    <tr>\n",
       "      <th>2020-06-18 00:45:00</th>\n",
       "      <td>0.000000</td>\n",
       "      <td>2385.383343</td>\n",
       "      <td>0.000000</td>\n",
       "      <td>0.000000</td>\n",
       "    </tr>\n",
       "    <tr>\n",
       "      <th>2020-06-18 01:00:00</th>\n",
       "      <td>0.000000</td>\n",
       "      <td>2675.862055</td>\n",
       "      <td>0.000000</td>\n",
       "      <td>0.000000</td>\n",
       "    </tr>\n",
       "    <tr>\n",
       "      <th>...</th>\n",
       "      <td>...</td>\n",
       "      <td>...</td>\n",
       "      <td>...</td>\n",
       "      <td>...</td>\n",
       "    </tr>\n",
       "    <tr>\n",
       "      <th>2020-06-19 23:00:00</th>\n",
       "      <td>119370.674623</td>\n",
       "      <td>24256.803815</td>\n",
       "      <td>71828.212765</td>\n",
       "      <td>166913.136482</td>\n",
       "    </tr>\n",
       "    <tr>\n",
       "      <th>2020-06-19 23:15:00</th>\n",
       "      <td>119370.758341</td>\n",
       "      <td>24355.837577</td>\n",
       "      <td>71634.193876</td>\n",
       "      <td>167107.322806</td>\n",
       "    </tr>\n",
       "    <tr>\n",
       "      <th>2020-06-19 23:30:00</th>\n",
       "      <td>119373.248201</td>\n",
       "      <td>24454.470272</td>\n",
       "      <td>71443.367207</td>\n",
       "      <td>167303.129195</td>\n",
       "    </tr>\n",
       "    <tr>\n",
       "      <th>2020-06-19 23:45:00</th>\n",
       "      <td>117288.213091</td>\n",
       "      <td>24552.706455</td>\n",
       "      <td>69165.792716</td>\n",
       "      <td>165410.633466</td>\n",
       "    </tr>\n",
       "    <tr>\n",
       "      <th>2020-06-20 00:00:00</th>\n",
       "      <td>0.000000</td>\n",
       "      <td>24743.147071</td>\n",
       "      <td>0.000000</td>\n",
       "      <td>37228.386171</td>\n",
       "    </tr>\n",
       "  </tbody>\n",
       "</table>\n",
       "<p>193 rows × 4 columns</p>\n",
       "</div>"
      ],
      "text/plain": [
       "DAILY_YIELD                   mean       mean_se  mean_ci_lower  mean_ci_upper\n",
       "2020-06-18 00:00:00       0.000000   1136.566162       0.000000    1987.566328\n",
       "2020-06-18 00:15:00       0.000000   1658.447592       0.000000       0.000000\n",
       "2020-06-18 00:30:00       0.000000   2054.242470       0.000000       0.000000\n",
       "2020-06-18 00:45:00       0.000000   2385.383343       0.000000       0.000000\n",
       "2020-06-18 01:00:00       0.000000   2675.862055       0.000000       0.000000\n",
       "...                            ...           ...            ...            ...\n",
       "2020-06-19 23:00:00  119370.674623  24256.803815   71828.212765  166913.136482\n",
       "2020-06-19 23:15:00  119370.758341  24355.837577   71634.193876  167107.322806\n",
       "2020-06-19 23:30:00  119373.248201  24454.470272   71443.367207  167303.129195\n",
       "2020-06-19 23:45:00  117288.213091  24552.706455   69165.792716  165410.633466\n",
       "2020-06-20 00:00:00       0.000000  24743.147071       0.000000   37228.386171\n",
       "\n",
       "[193 rows x 4 columns]"
      ]
     },
     "execution_count": 155,
     "metadata": {},
     "output_type": "execute_result"
    }
   ],
   "source": [
    "sarima_forecast[sarima_forecast < 0] = 0\n",
    "sarima_forecast"
   ]
  },
  {
   "cell_type": "code",
   "execution_count": 165,
   "metadata": {},
   "outputs": [
    {
     "data": {
      "image/png": "[encoded data removed]",
      "text/plain": [
       "<Figure size 1296x432 with 1 Axes>"
      ]
     },
     "metadata": {},
     "output_type": "display_data"
    }
   ],
   "source": [
    "fig, ax = plt.subplots(figsize=(18,6))\n",
    "ax.plot(pred_final.DAILY_YIELD, label='Original Daily Yld')\n",
    "ax.plot(sarima_forecast['mean'], label='18th & 19th June Forecast')\n",
    "ax.fill_between(sarima_forecast.index, \n",
    "                sarima_forecast.mean_ci_lower, sarima_forecast.mean_ci_upper, alpha=0.1)\n",
    "\n",
    "ax.legend(loc='upper left')\n",
    "ax.set_title('SARIMA Forecast \\n 18th & 19th June', size=19)\n",
    "ax.set_ylabel('Daily Yld (kW)', size=14)\n",
    "ax.set_xlabel('Dates', size=14);"
   ]
  },
  {
   "cell_type": "code",
   "execution_count": 170,
   "metadata": {},
   "outputs": [
    {
     "name": "stdout",
     "output_type": "stream",
     "text": [
      "18th Jun Forecasted Output:  124556.0 kW\n",
      "19th Jun Forecasted Output:  119373.0 kW\n"
     ]
    }
   ],
   "source": [
    "print('18th Jun Forecasted Output: ', \n",
    "     round(sarima_forecast[sarima_forecast.index.day == 18]['mean'].max(), 0),\n",
    "     'kW')\n",
    "\n",
    "print('19th Jun Forecasted Output: ', \n",
    "     round(sarima_forecast[sarima_forecast.index.day == 19]['mean'].max(), 0),\n",
    "     'kW')"
   ]
  },
  {
   "cell_type": "markdown",
   "metadata": {},
   "source": [
    "---\n",
    "\n",
    "# Modeling 3: SARIMAX\n",
    "\n",
    "--> **ENTER EXPLANATION OF X** <--\n",
    "\n",
    "We're going to now add ambient temperature as an exogenous variable to our SARIMAX model:"
   ]
  },
  {
   "cell_type": "code",
   "execution_count": 197,
   "metadata": {},
   "outputs": [],
   "source": [
    "train_sarimax = train_pred_fin[['DAILY_YIELD']]\n",
    "test_sarimax = test_pred_fin[['DAILY_YIELD']]\n",
    "\n",
    "# Exogenous Variable (Ambient Temperature)\n",
    "train_sarimax_exog = train_pred_fin[['AMBIENT_TEMPERATURE']]\n",
    "test_sarimax_exog = test_pred_fin[['AMBIENT_TEMPERATURE']]"
   ]
  },
  {
   "cell_type": "code",
   "execution_count": 193,
   "metadata": {},
   "outputs": [
    {
     "data": {
      "text/html": [
       "<div>\n",
       "<style scoped>\n",
       "    .dataframe tbody tr th:only-of-type {\n",
       "        vertical-align: middle;\n",
       "    }\n",
       "\n",
       "    .dataframe tbody tr th {\n",
       "        vertical-align: top;\n",
       "    }\n",
       "\n",
       "    .dataframe thead th {\n",
       "        text-align: right;\n",
       "    }\n",
       "</style>\n",
       "<table border=\"1\" class=\"dataframe\">\n",
       "  <thead>\n",
       "    <tr style=\"text-align: right;\">\n",
       "      <th></th>\n",
       "      <th>DAILY_YIELD</th>\n",
       "    </tr>\n",
       "    <tr>\n",
       "      <th>DATE_TIME</th>\n",
       "      <th></th>\n",
       "    </tr>\n",
       "  </thead>\n",
       "  <tbody>\n",
       "    <tr>\n",
       "      <th>2020-06-13 00:00:00</th>\n",
       "      <td>5683.214286</td>\n",
       "    </tr>\n",
       "    <tr>\n",
       "      <th>2020-06-13 00:15:00</th>\n",
       "      <td>0.000000</td>\n",
       "    </tr>\n",
       "    <tr>\n",
       "      <th>2020-06-13 00:30:00</th>\n",
       "      <td>0.000000</td>\n",
       "    </tr>\n",
       "    <tr>\n",
       "      <th>2020-06-13 00:45:00</th>\n",
       "      <td>0.000000</td>\n",
       "    </tr>\n",
       "    <tr>\n",
       "      <th>2020-06-13 01:00:00</th>\n",
       "      <td>0.000000</td>\n",
       "    </tr>\n",
       "  </tbody>\n",
       "</table>\n",
       "</div>"
      ],
      "text/plain": [
       "                     DAILY_YIELD\n",
       "DATE_TIME                       \n",
       "2020-06-13 00:00:00  5683.214286\n",
       "2020-06-13 00:15:00     0.000000\n",
       "2020-06-13 00:30:00     0.000000\n",
       "2020-06-13 00:45:00     0.000000\n",
       "2020-06-13 01:00:00     0.000000"
      ]
     },
     "execution_count": 193,
     "metadata": {},
     "output_type": "execute_result"
    }
   ],
   "source": [
    "train_sarimax.head()"
   ]
  },
  {
   "cell_type": "code",
   "execution_count": 194,
   "metadata": {},
   "outputs": [
    {
     "data": {
      "text/html": [
       "<div>\n",
       "<style scoped>\n",
       "    .dataframe tbody tr th:only-of-type {\n",
       "        vertical-align: middle;\n",
       "    }\n",
       "\n",
       "    .dataframe tbody tr th {\n",
       "        vertical-align: top;\n",
       "    }\n",
       "\n",
       "    .dataframe thead th {\n",
       "        text-align: right;\n",
       "    }\n",
       "</style>\n",
       "<table border=\"1\" class=\"dataframe\">\n",
       "  <thead>\n",
       "    <tr style=\"text-align: right;\">\n",
       "      <th></th>\n",
       "      <th>AMBIENT_TEMPERATURE</th>\n",
       "    </tr>\n",
       "    <tr>\n",
       "      <th>DATE_TIME</th>\n",
       "      <th></th>\n",
       "    </tr>\n",
       "  </thead>\n",
       "  <tbody>\n",
       "    <tr>\n",
       "      <th>2020-06-13 00:00:00</th>\n",
       "      <td>21.771613</td>\n",
       "    </tr>\n",
       "    <tr>\n",
       "      <th>2020-06-13 00:15:00</th>\n",
       "      <td>21.730046</td>\n",
       "    </tr>\n",
       "    <tr>\n",
       "      <th>2020-06-13 00:30:00</th>\n",
       "      <td>21.687068</td>\n",
       "    </tr>\n",
       "    <tr>\n",
       "      <th>2020-06-13 00:45:00</th>\n",
       "      <td>21.619232</td>\n",
       "    </tr>\n",
       "    <tr>\n",
       "      <th>2020-06-13 01:00:00</th>\n",
       "      <td>21.625968</td>\n",
       "    </tr>\n",
       "  </tbody>\n",
       "</table>\n",
       "</div>"
      ],
      "text/plain": [
       "                     AMBIENT_TEMPERATURE\n",
       "DATE_TIME                               \n",
       "2020-06-13 00:00:00            21.771613\n",
       "2020-06-13 00:15:00            21.730046\n",
       "2020-06-13 00:30:00            21.687068\n",
       "2020-06-13 00:45:00            21.619232\n",
       "2020-06-13 01:00:00            21.625968"
      ]
     },
     "execution_count": 194,
     "metadata": {},
     "output_type": "execute_result"
    }
   ],
   "source": [
    "train_sarimax_exog.head()"
   ]
  },
  {
   "cell_type": "code",
   "execution_count": 195,
   "metadata": {},
   "outputs": [
    {
     "data": {
      "text/html": [
       "<div>\n",
       "<style scoped>\n",
       "    .dataframe tbody tr th:only-of-type {\n",
       "        vertical-align: middle;\n",
       "    }\n",
       "\n",
       "    .dataframe tbody tr th {\n",
       "        vertical-align: top;\n",
       "    }\n",
       "\n",
       "    .dataframe thead th {\n",
       "        text-align: right;\n",
       "    }\n",
       "</style>\n",
       "<table border=\"1\" class=\"dataframe\">\n",
       "  <thead>\n",
       "    <tr style=\"text-align: right;\">\n",
       "      <th></th>\n",
       "      <th>DAILY_YIELD</th>\n",
       "    </tr>\n",
       "    <tr>\n",
       "      <th>DATE_TIME</th>\n",
       "      <th></th>\n",
       "    </tr>\n",
       "  </thead>\n",
       "  <tbody>\n",
       "    <tr>\n",
       "      <th>2020-06-17 00:00:00</th>\n",
       "      <td>6955.232143</td>\n",
       "    </tr>\n",
       "    <tr>\n",
       "      <th>2020-06-17 00:15:00</th>\n",
       "      <td>0.000000</td>\n",
       "    </tr>\n",
       "    <tr>\n",
       "      <th>2020-06-17 00:30:00</th>\n",
       "      <td>0.000000</td>\n",
       "    </tr>\n",
       "    <tr>\n",
       "      <th>2020-06-17 00:45:00</th>\n",
       "      <td>0.000000</td>\n",
       "    </tr>\n",
       "    <tr>\n",
       "      <th>2020-06-17 01:00:00</th>\n",
       "      <td>0.000000</td>\n",
       "    </tr>\n",
       "  </tbody>\n",
       "</table>\n",
       "</div>"
      ],
      "text/plain": [
       "                     DAILY_YIELD\n",
       "DATE_TIME                       \n",
       "2020-06-17 00:00:00  6955.232143\n",
       "2020-06-17 00:15:00     0.000000\n",
       "2020-06-17 00:30:00     0.000000\n",
       "2020-06-17 00:45:00     0.000000\n",
       "2020-06-17 01:00:00     0.000000"
      ]
     },
     "execution_count": 195,
     "metadata": {},
     "output_type": "execute_result"
    }
   ],
   "source": [
    "test_sarimax.head()"
   ]
  },
  {
   "cell_type": "code",
   "execution_count": 198,
   "metadata": {},
   "outputs": [
    {
     "data": {
      "text/html": [
       "<div>\n",
       "<style scoped>\n",
       "    .dataframe tbody tr th:only-of-type {\n",
       "        vertical-align: middle;\n",
       "    }\n",
       "\n",
       "    .dataframe tbody tr th {\n",
       "        vertical-align: top;\n",
       "    }\n",
       "\n",
       "    .dataframe thead th {\n",
       "        text-align: right;\n",
       "    }\n",
       "</style>\n",
       "<table border=\"1\" class=\"dataframe\">\n",
       "  <thead>\n",
       "    <tr style=\"text-align: right;\">\n",
       "      <th></th>\n",
       "      <th>AMBIENT_TEMPERATURE</th>\n",
       "    </tr>\n",
       "    <tr>\n",
       "      <th>DATE_TIME</th>\n",
       "      <th></th>\n",
       "    </tr>\n",
       "  </thead>\n",
       "  <tbody>\n",
       "    <tr>\n",
       "      <th>2020-06-17 00:00:00</th>\n",
       "      <td>22.895672</td>\n",
       "    </tr>\n",
       "    <tr>\n",
       "      <th>2020-06-17 00:15:00</th>\n",
       "      <td>22.868416</td>\n",
       "    </tr>\n",
       "    <tr>\n",
       "      <th>2020-06-17 00:30:00</th>\n",
       "      <td>22.826764</td>\n",
       "    </tr>\n",
       "    <tr>\n",
       "      <th>2020-06-17 00:45:00</th>\n",
       "      <td>22.795615</td>\n",
       "    </tr>\n",
       "    <tr>\n",
       "      <th>2020-06-17 01:00:00</th>\n",
       "      <td>22.771452</td>\n",
       "    </tr>\n",
       "  </tbody>\n",
       "</table>\n",
       "</div>"
      ],
      "text/plain": [
       "                     AMBIENT_TEMPERATURE\n",
       "DATE_TIME                               \n",
       "2020-06-17 00:00:00            22.895672\n",
       "2020-06-17 00:15:00            22.868416\n",
       "2020-06-17 00:30:00            22.826764\n",
       "2020-06-17 00:45:00            22.795615\n",
       "2020-06-17 01:00:00            22.771452"
      ]
     },
     "execution_count": 198,
     "metadata": {},
     "output_type": "execute_result"
    }
   ],
   "source": [
    "test_sarimax_exog.head()"
   ]
  },
  {
   "cell_type": "markdown",
   "metadata": {},
   "source": [
    "#### **AUTO-ARIMA**\n",
    "\n",
    "--> **ENTER EXPLANATION AIC (since that is what we're minimizing here)** <--"
   ]
  },
  {
   "cell_type": "code",
   "execution_count": 189,
   "metadata": {},
   "outputs": [
    {
     "name": "stdout",
     "output_type": "stream",
     "text": [
      "Performing stepwise search to minimize aic\n"
     ]
    },
    {
     "name": "stderr",
     "output_type": "stream",
     "text": [
      "/Users/oz/opt/anaconda3/lib/python3.8/site-packages/statsmodels/tsa/base/tsa_model.py:159: ValueWarning: No frequency information was provided, so inferred frequency 15T will be used.\n",
      "  warnings.warn('No frequency information was'\n",
      "/Users/oz/opt/anaconda3/lib/python3.8/site-packages/statsmodels/tsa/base/tsa_model.py:159: ValueWarning: No frequency information was provided, so inferred frequency 15T will be used.\n",
      "  warnings.warn('No frequency information was'\n"
     ]
    },
    {
     "name": "stdout",
     "output_type": "stream",
     "text": [
      " ARIMA(0,1,0)(0,1,0)[96]             : AIC=5087.452, Time=11.62 sec\n"
     ]
    },
    {
     "name": "stderr",
     "output_type": "stream",
     "text": [
      "/Users/oz/opt/anaconda3/lib/python3.8/site-packages/statsmodels/tsa/base/tsa_model.py:159: ValueWarning: No frequency information was provided, so inferred frequency 15T will be used.\n",
      "  warnings.warn('No frequency information was'\n",
      "/Users/oz/opt/anaconda3/lib/python3.8/site-packages/statsmodels/tsa/base/tsa_model.py:159: ValueWarning: No frequency information was provided, so inferred frequency 15T will be used.\n",
      "  warnings.warn('No frequency information was'\n"
     ]
    },
    {
     "name": "stdout",
     "output_type": "stream",
     "text": [
      " ARIMA(1,1,0)(1,1,0)[96]             : AIC=4787.500, Time=52.33 sec\n"
     ]
    },
    {
     "name": "stderr",
     "output_type": "stream",
     "text": [
      "/Users/oz/opt/anaconda3/lib/python3.8/site-packages/statsmodels/tsa/base/tsa_model.py:159: ValueWarning: No frequency information was provided, so inferred frequency 15T will be used.\n",
      "  warnings.warn('No frequency information was'\n",
      "/Users/oz/opt/anaconda3/lib/python3.8/site-packages/statsmodels/tsa/base/tsa_model.py:159: ValueWarning: No frequency information was provided, so inferred frequency 15T will be used.\n",
      "  warnings.warn('No frequency information was'\n",
      "/Users/oz/opt/anaconda3/lib/python3.8/site-packages/statsmodels/tsa/statespace/sarimax.py:866: UserWarning: Too few observations to estimate starting parameters for seasonal ARMA. All parameters except for variances will be set to zeros.\n",
      "  warn('Too few observations to estimate starting parameters%s.'\n"
     ]
    },
    {
     "name": "stdout",
     "output_type": "stream",
     "text": [
      " ARIMA(0,1,1)(0,1,1)[96]             : AIC=4866.556, Time=17.19 sec\n"
     ]
    },
    {
     "name": "stderr",
     "output_type": "stream",
     "text": [
      "/Users/oz/opt/anaconda3/lib/python3.8/site-packages/statsmodels/tsa/base/tsa_model.py:159: ValueWarning: No frequency information was provided, so inferred frequency 15T will be used.\n",
      "  warnings.warn('No frequency information was'\n",
      "/Users/oz/opt/anaconda3/lib/python3.8/site-packages/statsmodels/tsa/base/tsa_model.py:159: ValueWarning: No frequency information was provided, so inferred frequency 15T will be used.\n",
      "  warnings.warn('No frequency information was'\n"
     ]
    },
    {
     "name": "stdout",
     "output_type": "stream",
     "text": [
      " ARIMA(1,1,0)(0,1,0)[96]             : AIC=5071.438, Time=2.47 sec\n"
     ]
    },
    {
     "name": "stderr",
     "output_type": "stream",
     "text": [
      "/Users/oz/opt/anaconda3/lib/python3.8/site-packages/statsmodels/tsa/base/tsa_model.py:159: ValueWarning: No frequency information was provided, so inferred frequency 15T will be used.\n",
      "  warnings.warn('No frequency information was'\n",
      "/Users/oz/opt/anaconda3/lib/python3.8/site-packages/statsmodels/tsa/base/tsa_model.py:159: ValueWarning: No frequency information was provided, so inferred frequency 15T will be used.\n",
      "  warnings.warn('No frequency information was'\n",
      "/Users/oz/opt/anaconda3/lib/python3.8/site-packages/statsmodels/tsa/statespace/sarimax.py:866: UserWarning: Too few observations to estimate starting parameters for seasonal ARMA. All parameters except for variances will be set to zeros.\n",
      "  warn('Too few observations to estimate starting parameters%s.'\n"
     ]
    },
    {
     "name": "stdout",
     "output_type": "stream",
     "text": [
      " ARIMA(1,1,0)(1,1,1)[96]             : AIC=4764.205, Time=76.24 sec\n"
     ]
    },
    {
     "name": "stderr",
     "output_type": "stream",
     "text": [
      "/Users/oz/opt/anaconda3/lib/python3.8/site-packages/statsmodels/tsa/base/tsa_model.py:159: ValueWarning: No frequency information was provided, so inferred frequency 15T will be used.\n",
      "  warnings.warn('No frequency information was'\n",
      "/Users/oz/opt/anaconda3/lib/python3.8/site-packages/statsmodels/tsa/base/tsa_model.py:159: ValueWarning: No frequency information was provided, so inferred frequency 15T will be used.\n",
      "  warnings.warn('No frequency information was'\n",
      "/Users/oz/opt/anaconda3/lib/python3.8/site-packages/statsmodels/tsa/statespace/sarimax.py:866: UserWarning: Too few observations to estimate starting parameters for seasonal ARMA. All parameters except for variances will be set to zeros.\n",
      "  warn('Too few observations to estimate starting parameters%s.'\n"
     ]
    },
    {
     "name": "stdout",
     "output_type": "stream",
     "text": [
      " ARIMA(1,1,0)(0,1,1)[96]             : AIC=4865.263, Time=17.87 sec\n"
     ]
    },
    {
     "name": "stderr",
     "output_type": "stream",
     "text": [
      "/Users/oz/opt/anaconda3/lib/python3.8/site-packages/statsmodels/tsa/base/tsa_model.py:159: ValueWarning: No frequency information was provided, so inferred frequency 15T will be used.\n",
      "  warnings.warn('No frequency information was'\n",
      "/Users/oz/opt/anaconda3/lib/python3.8/site-packages/statsmodels/tsa/base/tsa_model.py:159: ValueWarning: No frequency information was provided, so inferred frequency 15T will be used.\n",
      "  warnings.warn('No frequency information was'\n",
      "/Users/oz/opt/anaconda3/lib/python3.8/site-packages/statsmodels/tsa/statespace/sarimax.py:866: UserWarning: Too few observations to estimate starting parameters for seasonal ARMA. All parameters except for variances will be set to zeros.\n",
      "  warn('Too few observations to estimate starting parameters%s.'\n"
     ]
    },
    {
     "name": "stdout",
     "output_type": "stream",
     "text": [
      " ARIMA(0,1,0)(1,1,1)[96]             : AIC=4910.129, Time=29.99 sec\n"
     ]
    },
    {
     "name": "stderr",
     "output_type": "stream",
     "text": [
      "/Users/oz/opt/anaconda3/lib/python3.8/site-packages/statsmodels/tsa/base/tsa_model.py:159: ValueWarning: No frequency information was provided, so inferred frequency 15T will be used.\n",
      "  warnings.warn('No frequency information was'\n",
      "/Users/oz/opt/anaconda3/lib/python3.8/site-packages/statsmodels/tsa/base/tsa_model.py:159: ValueWarning: No frequency information was provided, so inferred frequency 15T will be used.\n",
      "  warnings.warn('No frequency information was'\n",
      "/Users/oz/opt/anaconda3/lib/python3.8/site-packages/statsmodels/tsa/statespace/sarimax.py:866: UserWarning: Too few observations to estimate starting parameters for seasonal ARMA. All parameters except for variances will be set to zeros.\n",
      "  warn('Too few observations to estimate starting parameters%s.'\n"
     ]
    },
    {
     "name": "stdout",
     "output_type": "stream",
     "text": [
      " ARIMA(2,1,0)(1,1,1)[96]             : AIC=4766.203, Time=88.44 sec\n"
     ]
    },
    {
     "name": "stderr",
     "output_type": "stream",
     "text": [
      "/Users/oz/opt/anaconda3/lib/python3.8/site-packages/statsmodels/tsa/base/tsa_model.py:159: ValueWarning: No frequency information was provided, so inferred frequency 15T will be used.\n",
      "  warnings.warn('No frequency information was'\n",
      "/Users/oz/opt/anaconda3/lib/python3.8/site-packages/statsmodels/tsa/base/tsa_model.py:159: ValueWarning: No frequency information was provided, so inferred frequency 15T will be used.\n",
      "  warnings.warn('No frequency information was'\n",
      "/Users/oz/opt/anaconda3/lib/python3.8/site-packages/statsmodels/tsa/statespace/sarimax.py:866: UserWarning: Too few observations to estimate starting parameters for seasonal ARMA. All parameters except for variances will be set to zeros.\n",
      "  warn('Too few observations to estimate starting parameters%s.'\n"
     ]
    },
    {
     "name": "stdout",
     "output_type": "stream",
     "text": [
      " ARIMA(1,1,1)(1,1,1)[96]             : AIC=4869.406, Time=80.01 sec\n"
     ]
    },
    {
     "name": "stderr",
     "output_type": "stream",
     "text": [
      "/Users/oz/opt/anaconda3/lib/python3.8/site-packages/statsmodels/tsa/base/tsa_model.py:159: ValueWarning: No frequency information was provided, so inferred frequency 15T will be used.\n",
      "  warnings.warn('No frequency information was'\n",
      "/Users/oz/opt/anaconda3/lib/python3.8/site-packages/statsmodels/tsa/base/tsa_model.py:159: ValueWarning: No frequency information was provided, so inferred frequency 15T will be used.\n",
      "  warnings.warn('No frequency information was'\n",
      "/Users/oz/opt/anaconda3/lib/python3.8/site-packages/statsmodels/tsa/statespace/sarimax.py:866: UserWarning: Too few observations to estimate starting parameters for seasonal ARMA. All parameters except for variances will be set to zeros.\n",
      "  warn('Too few observations to estimate starting parameters%s.'\n"
     ]
    },
    {
     "name": "stdout",
     "output_type": "stream",
     "text": [
      " ARIMA(0,1,1)(1,1,1)[96]             : AIC=4764.404, Time=70.14 sec\n"
     ]
    },
    {
     "name": "stderr",
     "output_type": "stream",
     "text": [
      "/Users/oz/opt/anaconda3/lib/python3.8/site-packages/statsmodels/tsa/base/tsa_model.py:159: ValueWarning: No frequency information was provided, so inferred frequency 15T will be used.\n",
      "  warnings.warn('No frequency information was'\n",
      "/Users/oz/opt/anaconda3/lib/python3.8/site-packages/statsmodels/tsa/base/tsa_model.py:159: ValueWarning: No frequency information was provided, so inferred frequency 15T will be used.\n",
      "  warnings.warn('No frequency information was'\n",
      "/Users/oz/opt/anaconda3/lib/python3.8/site-packages/statsmodels/tsa/statespace/sarimax.py:963: UserWarning: Non-stationary starting autoregressive parameters found. Using zeros as starting parameters.\n",
      "  warn('Non-stationary starting autoregressive parameters'\n",
      "/Users/oz/opt/anaconda3/lib/python3.8/site-packages/statsmodels/tsa/statespace/sarimax.py:975: UserWarning: Non-invertible starting MA parameters found. Using zeros as starting parameters.\n",
      "  warn('Non-invertible starting MA parameters found.'\n",
      "/Users/oz/opt/anaconda3/lib/python3.8/site-packages/statsmodels/tsa/statespace/sarimax.py:866: UserWarning: Too few observations to estimate starting parameters for seasonal ARMA. All parameters except for variances will be set to zeros.\n",
      "  warn('Too few observations to estimate starting parameters%s.'\n"
     ]
    },
    {
     "name": "stdout",
     "output_type": "stream",
     "text": [
      " ARIMA(2,1,1)(1,1,1)[96]             : AIC=4870.545, Time=46.58 sec\n"
     ]
    },
    {
     "name": "stderr",
     "output_type": "stream",
     "text": [
      "/Users/oz/opt/anaconda3/lib/python3.8/site-packages/statsmodels/tsa/base/tsa_model.py:159: ValueWarning: No frequency information was provided, so inferred frequency 15T will be used.\n",
      "  warnings.warn('No frequency information was'\n",
      "/Users/oz/opt/anaconda3/lib/python3.8/site-packages/statsmodels/tsa/base/tsa_model.py:159: ValueWarning: No frequency information was provided, so inferred frequency 15T will be used.\n",
      "  warnings.warn('No frequency information was'\n",
      "/Users/oz/opt/anaconda3/lib/python3.8/site-packages/statsmodels/tsa/statespace/sarimax.py:866: UserWarning: Too few observations to estimate starting parameters for seasonal ARMA. All parameters except for variances will be set to zeros.\n",
      "  warn('Too few observations to estimate starting parameters%s.'\n"
     ]
    },
    {
     "name": "stdout",
     "output_type": "stream",
     "text": [
      " ARIMA(1,1,0)(1,1,1)[96] intercept   : AIC=4765.554, Time=93.48 sec\n",
      "\n",
      "Best model:  ARIMA(1,1,0)(1,1,1)[96]          \n",
      "Total fit time: 586.640 seconds\n"
     ]
    },
    {
     "data": {
      "text/plain": [
       "ARIMA(order=(1, 1, 0), scoring_args={}, seasonal_order=(1, 1, 1, 96),\n",
       "      with_intercept=False)"
      ]
     },
     "execution_count": 189,
     "metadata": {},
     "output_type": "execute_result"
    }
   ],
   "source": [
    "auto_arima(train_sarimax,\n",
    "           exogenous=train_sarimax_exog,\n",
    "           start_p=0,d=1,start_q=0,\n",
    "           max_p=4,max_d=4,max_q=4,\n",
    "           start_P=0,D=1,start_Q=0,\n",
    "           max_P=1,max_D=1,max_Q=1,m=96,\n",
    "           seasonal=True,\n",
    "           error_action='warn',trace=True,\n",
    "           supress_warning=True,stepwise=True,\n",
    "           random_state=20,n_fits=1)"
   ]
  },
  {
   "cell_type": "markdown",
   "metadata": {},
   "source": [
    "#### **TRAIN/TEST MODEL, AND IN-SAMPLE PREDICTION**"
   ]
  },
  {
   "cell_type": "markdown",
   "metadata": {},
   "source": [
    "FITTING MODEL TO TRAIN DATA"
   ]
  },
  {
   "cell_type": "code",
   "execution_count": 207,
   "metadata": {},
   "outputs": [
    {
     "name": "stderr",
     "output_type": "stream",
     "text": [
      "/Users/oz/opt/anaconda3/lib/python3.8/site-packages/statsmodels/tsa/base/tsa_model.py:159: ValueWarning: No frequency information was provided, so inferred frequency 15T will be used.\n",
      "  warnings.warn('No frequency information was'\n"
     ]
    }
   ],
   "source": [
    "p,d,q = [1,1,0]\n",
    "P,D,Q,s = [1,1,1,96]\n",
    "\n",
    "sarimax_model = SARIMAX(endog=train_sarimax,\n",
    "                        exog=train_sarimax_exog,\n",
    "                        order=(p,d,q),\n",
    "                        seasonal_order=(P,D,Q,s),\n",
    "                        freq='15T').fit()"
   ]
  },
  {
   "cell_type": "markdown",
   "metadata": {},
   "source": [
    "MAKING PREDICTIONS AGAINST TRAIN AND TEST DATA (y_hats)"
   ]
  },
  {
   "cell_type": "code",
   "execution_count": 209,
   "metadata": {},
   "outputs": [],
   "source": [
    "train_sarimax_y_hat = pd.DataFrame(sarimax_model.predict(typ='levels'), columns=['pred_daily_yld'])\n",
    "\n",
    "test_sarimax_y_hat = pd.DataFrame(sarimax_model.predict(start=test_sarimax.index[0],\n",
    "                                                        end=test_sarimax.index[-1],\n",
    "                                                        exog=test_sarimax_exog,\n",
    "                                                        typ='levels'), columns=['pred_daily_yld'])\n",
    "\n",
    "# zero out negative predictions:\n",
    "train_sarimax_y_hat[train_sarimax_y_hat < 0] = 0\n",
    "\n",
    "test_sarimax_y_hat[test_sarimax_y_hat < 0] = 0"
   ]
  },
  {
   "cell_type": "code",
   "execution_count": 210,
   "metadata": {},
   "outputs": [
    {
     "data": {
      "text/html": [
       "<div>\n",
       "<style scoped>\n",
       "    .dataframe tbody tr th:only-of-type {\n",
       "        vertical-align: middle;\n",
       "    }\n",
       "\n",
       "    .dataframe tbody tr th {\n",
       "        vertical-align: top;\n",
       "    }\n",
       "\n",
       "    .dataframe thead th {\n",
       "        text-align: right;\n",
       "    }\n",
       "</style>\n",
       "<table border=\"1\" class=\"dataframe\">\n",
       "  <thead>\n",
       "    <tr style=\"text-align: right;\">\n",
       "      <th></th>\n",
       "      <th>pred_daily_yld</th>\n",
       "    </tr>\n",
       "  </thead>\n",
       "  <tbody>\n",
       "    <tr>\n",
       "      <th>2020-06-13 00:00:00</th>\n",
       "      <td>20449.352895</td>\n",
       "    </tr>\n",
       "    <tr>\n",
       "      <th>2020-06-13 00:15:00</th>\n",
       "      <td>5291.924688</td>\n",
       "    </tr>\n",
       "    <tr>\n",
       "      <th>2020-06-13 00:30:00</th>\n",
       "      <td>0.000000</td>\n",
       "    </tr>\n",
       "    <tr>\n",
       "      <th>2020-06-13 00:45:00</th>\n",
       "      <td>0.000000</td>\n",
       "    </tr>\n",
       "    <tr>\n",
       "      <th>2020-06-13 01:00:00</th>\n",
       "      <td>8.365063</td>\n",
       "    </tr>\n",
       "  </tbody>\n",
       "</table>\n",
       "</div>"
      ],
      "text/plain": [
       "                     pred_daily_yld\n",
       "2020-06-13 00:00:00    20449.352895\n",
       "2020-06-13 00:15:00     5291.924688\n",
       "2020-06-13 00:30:00        0.000000\n",
       "2020-06-13 00:45:00        0.000000\n",
       "2020-06-13 01:00:00        8.365063"
      ]
     },
     "execution_count": 210,
     "metadata": {},
     "output_type": "execute_result"
    }
   ],
   "source": [
    "train_sarimax_y_hat.head()"
   ]
  },
  {
   "cell_type": "code",
   "execution_count": 211,
   "metadata": {},
   "outputs": [
    {
     "data": {
      "text/html": [
       "<div>\n",
       "<style scoped>\n",
       "    .dataframe tbody tr th:only-of-type {\n",
       "        vertical-align: middle;\n",
       "    }\n",
       "\n",
       "    .dataframe tbody tr th {\n",
       "        vertical-align: top;\n",
       "    }\n",
       "\n",
       "    .dataframe thead th {\n",
       "        text-align: right;\n",
       "    }\n",
       "</style>\n",
       "<table border=\"1\" class=\"dataframe\">\n",
       "  <thead>\n",
       "    <tr style=\"text-align: right;\">\n",
       "      <th></th>\n",
       "      <th>pred_daily_yld</th>\n",
       "    </tr>\n",
       "  </thead>\n",
       "  <tbody>\n",
       "    <tr>\n",
       "      <th>2020-06-17 00:00:00</th>\n",
       "      <td>0.0</td>\n",
       "    </tr>\n",
       "    <tr>\n",
       "      <th>2020-06-17 00:15:00</th>\n",
       "      <td>0.0</td>\n",
       "    </tr>\n",
       "    <tr>\n",
       "      <th>2020-06-17 00:30:00</th>\n",
       "      <td>0.0</td>\n",
       "    </tr>\n",
       "    <tr>\n",
       "      <th>2020-06-17 00:45:00</th>\n",
       "      <td>0.0</td>\n",
       "    </tr>\n",
       "    <tr>\n",
       "      <th>2020-06-17 01:00:00</th>\n",
       "      <td>0.0</td>\n",
       "    </tr>\n",
       "  </tbody>\n",
       "</table>\n",
       "</div>"
      ],
      "text/plain": [
       "                     pred_daily_yld\n",
       "2020-06-17 00:00:00             0.0\n",
       "2020-06-17 00:15:00             0.0\n",
       "2020-06-17 00:30:00             0.0\n",
       "2020-06-17 00:45:00             0.0\n",
       "2020-06-17 01:00:00             0.0"
      ]
     },
     "execution_count": 211,
     "metadata": {},
     "output_type": "execute_result"
    }
   ],
   "source": [
    "test_sarimax_y_hat.head()"
   ]
  },
  {
   "cell_type": "markdown",
   "metadata": {},
   "source": [
    "PERFORMANCE METRICS; PLOTTING"
   ]
  },
  {
   "cell_type": "code",
   "execution_count": 217,
   "metadata": {},
   "outputs": [
    {
     "name": "stdout",
     "output_type": "stream",
     "text": [
      "SARIMAX train R2 Score: 0.986672\n",
      "SARIMAX test R2 Score: 0.993385\n",
      "---------------\n",
      "SARIMAX train MAE Score: 1244.521925\n",
      "SARIMAX test MAE Score: 3282.352611\n",
      "---------------\n",
      "SARIMAX train RMSE Score: 7899.641976\n",
      "SARIMAX test RMSE Score: 4629.702527\n",
      "--------------- \n",
      "\n",
      "                                      SARIMAX Results                                       \n",
      "============================================================================================\n",
      "Dep. Variable:                          DAILY_YIELD   No. Observations:                  384\n",
      "Model:             SARIMAX(1, 1, 0)x(1, 1, [1], 96)   Log Likelihood               -2377.102\n",
      "Date:                              Wed, 02 Dec 2020   AIC                           4764.205\n",
      "Time:                                      03:15:32   BIC                           4782.502\n",
      "Sample:                                  06-13-2020   HQIC                          4771.538\n",
      "                                       - 06-16-2020                                         \n",
      "Covariance Type:                                opg                                         \n",
      "=======================================================================================\n",
      "                          coef    std err          z      P>|z|      [0.025      0.975]\n",
      "---------------------------------------------------------------------------------------\n",
      "AMBIENT_TEMPERATURE   939.2668    116.636      8.053      0.000     710.664    1167.869\n",
      "ar.L1                   0.0741      0.009      8.407      0.000       0.057       0.091\n",
      "ar.S.L96               -0.0120      0.034     -0.354      0.723      -0.078       0.054\n",
      "ma.S.L96               -0.2235      0.025     -8.994      0.000      -0.272      -0.175\n",
      "sigma2               8.951e+05   1.57e+04     57.155      0.000    8.64e+05    9.26e+05\n",
      "===================================================================================\n",
      "Ljung-Box (Q):                       47.49   Jarque-Bera (JB):             80945.48\n",
      "Prob(Q):                              0.19   Prob(JB):                         0.00\n",
      "Heteroskedasticity (H):               0.80   Skew:                             6.47\n",
      "Prob(H) (two-sided):                  0.27   Kurtosis:                        84.25\n",
      "===================================================================================\n",
      "\n",
      "Warnings:\n",
      "[1] Covariance matrix calculated using the outer product of gradients (complex-step).\n",
      "---------------\n"
     ]
    },
    {
     "data": {
      "image/png": "[encoded data removed]",
      "text/plain": [
       "<Figure size 864x288 with 1 Axes>"
      ]
     },
     "metadata": {},
     "output_type": "display_data"
    },
    {
     "data": {
      "image/png": "[encoded data removed]",
      "text/plain": [
       "<Figure size 864x288 with 1 Axes>"
      ]
     },
     "metadata": {},
     "output_type": "display_data"
    },
    {
     "data": {
      "image/png": "[encoded data removed]",
      "text/plain": [
       "<Figure size 864x288 with 1 Axes>"
      ]
     },
     "metadata": {},
     "output_type": "display_data"
    }
   ],
   "source": [
    "print('SARIMAX train R2 Score: %f' % (r2_score(train_sarimax.DAILY_YIELD,\n",
    "                                              train_sarimax_y_hat.pred_daily_yld)))\n",
    "print('SARIMAX test R2 Score: %f' % (r2_score(test_sarimax.DAILY_YIELD,\n",
    "                                              test_sarimax_y_hat.pred_daily_yld)))\n",
    "\n",
    "print('-'*15)\n",
    "\n",
    "\n",
    "print('SARIMAX train MAE Score: %f' % (mean_absolute_error(train_sarimax.DAILY_YIELD,\n",
    "                                                          train_sarimax_y_hat.pred_daily_yld)))\n",
    "print('SARIMAX test MAE Score: %f' % (mean_absolute_error(test_sarimax.DAILY_YIELD,\n",
    "                                                          test_sarimax_y_hat.pred_daily_yld)))\n",
    "\n",
    "print('-'*15)\n",
    "\n",
    "\n",
    "print('SARIMAX train RMSE Score: %f' % (mean_squared_error(train_sarimax.DAILY_YIELD,\n",
    "                                                          train_sarimax_y_hat.pred_daily_yld,\n",
    "                                                          squared=False)))\n",
    "print('SARIMAX test RMSE Score: %f' % (mean_squared_error(test_sarimax.DAILY_YIELD,\n",
    "                                                          test_sarimax_y_hat.pred_daily_yld,\n",
    "                                                          squared=False)))\n",
    "\n",
    "print('-'*15, '\\n')\n",
    "\n",
    "\n",
    "print(sarimax_model.summary())\n",
    "\n",
    "\n",
    "print('-'*15)\n",
    "\n",
    "\n",
    "fig, ax1 = plt.subplots(figsize=(12,4))\n",
    "ax1.plot(train_sarimax, label='train')\n",
    "ax1.plot(train_sarimax_y_hat, label='predicted train', c='darkorange')\n",
    "ax1.legend(loc='upper left')\n",
    "ax1.set_title('Train vs Train_y_hat (6/13 - 6/16)', size=15)\n",
    "ax1.set_ylabel('Daily Yld (kW)', size=12)\n",
    "ax1.set_xlabel('Dates', size=12) \n",
    "\n",
    "fig, ax2 = plt.subplots(figsize=(12,4))\n",
    "ax2.plot(test_sarimax, label='test', c='g')\n",
    "ax2.plot(test_sarimax_y_hat, label='predicted test', c='darkorange')\n",
    "ax2.legend(loc='upper left')\n",
    "ax2.set_title('Test vs Test_y_hat (6/17)', size=15)\n",
    "ax2.set_ylabel('Daily Yld (kW)', size=12)\n",
    "ax2.set_xlabel('Dates', size=12) \n",
    "\n",
    "fig, ax3 = plt.subplots(figsize=(12,4))\n",
    "ax3.plot(train_sarimax, label='train')\n",
    "ax3.plot(test_sarimax, label='test', c='g')\n",
    "ax3.plot(test_sarimax_y_hat, label='predicted test', c='darkorange')\n",
    "ax3.legend(loc='upper left')\n",
    "ax3.set_title('Train, Test, & Prediction \\n 6/13 - 6/17', size=15)\n",
    "ax3.set_ylabel('Daily Yld (kW)', size=12)\n",
    "ax3.set_xlabel('Dates', size=12);"
   ]
  },
  {
   "cell_type": "markdown",
   "metadata": {},
   "source": [
    "#### **RETRIEVING HISTORICAL WEATHER DATA- FOR FORECASTING**"
   ]
  },
  {
   "cell_type": "code",
   "execution_count": 232,
   "metadata": {},
   "outputs": [
    {
     "data": {
      "text/html": [
       "<div>\n",
       "<style scoped>\n",
       "    .dataframe tbody tr th:only-of-type {\n",
       "        vertical-align: middle;\n",
       "    }\n",
       "\n",
       "    .dataframe tbody tr th {\n",
       "        vertical-align: top;\n",
       "    }\n",
       "\n",
       "    .dataframe thead th {\n",
       "        text-align: right;\n",
       "    }\n",
       "</style>\n",
       "<table border=\"1\" class=\"dataframe\">\n",
       "  <thead>\n",
       "    <tr style=\"text-align: right;\">\n",
       "      <th></th>\n",
       "      <th>temp</th>\n",
       "      <th>maxt</th>\n",
       "      <th>visibility</th>\n",
       "      <th>wspd</th>\n",
       "      <th>datetimeStr</th>\n",
       "      <th>heatindex</th>\n",
       "      <th>cloudcover</th>\n",
       "      <th>mint</th>\n",
       "      <th>datetime</th>\n",
       "      <th>precip</th>\n",
       "      <th>weathertype</th>\n",
       "      <th>snowdepth</th>\n",
       "      <th>humidity</th>\n",
       "      <th>wgust</th>\n",
       "      <th>conditions</th>\n",
       "      <th>windchill</th>\n",
       "    </tr>\n",
       "  </thead>\n",
       "  <tbody>\n",
       "    <tr>\n",
       "      <th>0</th>\n",
       "      <td>NaN</td>\n",
       "      <td>NaN</td>\n",
       "      <td>NaN</td>\n",
       "      <td>NaN</td>\n",
       "      <td>2020-06-17T00:00:00+05:30</td>\n",
       "      <td>NaN</td>\n",
       "      <td>NaN</td>\n",
       "      <td>NaN</td>\n",
       "      <td>1592352000000</td>\n",
       "      <td>0.0</td>\n",
       "      <td>None</td>\n",
       "      <td>None</td>\n",
       "      <td>NaN</td>\n",
       "      <td>None</td>\n",
       "      <td></td>\n",
       "      <td>None</td>\n",
       "    </tr>\n",
       "    <tr>\n",
       "      <th>1</th>\n",
       "      <td>NaN</td>\n",
       "      <td>NaN</td>\n",
       "      <td>NaN</td>\n",
       "      <td>NaN</td>\n",
       "      <td>2020-06-17T00:15:00+05:30</td>\n",
       "      <td>NaN</td>\n",
       "      <td>NaN</td>\n",
       "      <td>NaN</td>\n",
       "      <td>1592352900000</td>\n",
       "      <td>0.0</td>\n",
       "      <td>None</td>\n",
       "      <td>None</td>\n",
       "      <td>NaN</td>\n",
       "      <td>None</td>\n",
       "      <td></td>\n",
       "      <td>None</td>\n",
       "    </tr>\n",
       "    <tr>\n",
       "      <th>2</th>\n",
       "      <td>NaN</td>\n",
       "      <td>NaN</td>\n",
       "      <td>NaN</td>\n",
       "      <td>NaN</td>\n",
       "      <td>2020-06-17T00:30:00+05:30</td>\n",
       "      <td>NaN</td>\n",
       "      <td>NaN</td>\n",
       "      <td>NaN</td>\n",
       "      <td>1592353800000</td>\n",
       "      <td>0.0</td>\n",
       "      <td>None</td>\n",
       "      <td>None</td>\n",
       "      <td>NaN</td>\n",
       "      <td>None</td>\n",
       "      <td></td>\n",
       "      <td>None</td>\n",
       "    </tr>\n",
       "    <tr>\n",
       "      <th>3</th>\n",
       "      <td>NaN</td>\n",
       "      <td>NaN</td>\n",
       "      <td>NaN</td>\n",
       "      <td>NaN</td>\n",
       "      <td>2020-06-17T00:45:00+05:30</td>\n",
       "      <td>NaN</td>\n",
       "      <td>NaN</td>\n",
       "      <td>NaN</td>\n",
       "      <td>1592354700000</td>\n",
       "      <td>0.0</td>\n",
       "      <td>None</td>\n",
       "      <td>None</td>\n",
       "      <td>NaN</td>\n",
       "      <td>None</td>\n",
       "      <td></td>\n",
       "      <td>None</td>\n",
       "    </tr>\n",
       "    <tr>\n",
       "      <th>4</th>\n",
       "      <td>NaN</td>\n",
       "      <td>NaN</td>\n",
       "      <td>NaN</td>\n",
       "      <td>NaN</td>\n",
       "      <td>2020-06-17T01:00:00+05:30</td>\n",
       "      <td>NaN</td>\n",
       "      <td>NaN</td>\n",
       "      <td>NaN</td>\n",
       "      <td>1592355600000</td>\n",
       "      <td>0.0</td>\n",
       "      <td>None</td>\n",
       "      <td>None</td>\n",
       "      <td>NaN</td>\n",
       "      <td>None</td>\n",
       "      <td></td>\n",
       "      <td>None</td>\n",
       "    </tr>\n",
       "  </tbody>\n",
       "</table>\n",
       "</div>"
      ],
      "text/plain": [
       "   temp  maxt  visibility  wspd                datetimeStr  heatindex  \\\n",
       "0   NaN   NaN         NaN   NaN  2020-06-17T00:00:00+05:30        NaN   \n",
       "1   NaN   NaN         NaN   NaN  2020-06-17T00:15:00+05:30        NaN   \n",
       "2   NaN   NaN         NaN   NaN  2020-06-17T00:30:00+05:30        NaN   \n",
       "3   NaN   NaN         NaN   NaN  2020-06-17T00:45:00+05:30        NaN   \n",
       "4   NaN   NaN         NaN   NaN  2020-06-17T01:00:00+05:30        NaN   \n",
       "\n",
       "   cloudcover  mint       datetime  precip weathertype snowdepth  humidity  \\\n",
       "0         NaN   NaN  1592352000000     0.0        None      None       NaN   \n",
       "1         NaN   NaN  1592352900000     0.0        None      None       NaN   \n",
       "2         NaN   NaN  1592353800000     0.0        None      None       NaN   \n",
       "3         NaN   NaN  1592354700000     0.0        None      None       NaN   \n",
       "4         NaN   NaN  1592355600000     0.0        None      None       NaN   \n",
       "\n",
       "  wgust conditions windchill  \n",
       "0  None                 None  \n",
       "1  None                 None  \n",
       "2  None                 None  \n",
       "3  None                 None  \n",
       "4  None                 None  "
      ]
     },
     "execution_count": 232,
     "metadata": {},
     "output_type": "execute_result"
    }
   ],
   "source": [
    "resp = requests.get('https://weather.visualcrossing.com/VisualCrossingWebServices/rest/services/weatherdata/history?aggregateHours=0&aggregateMinutes=15&combinationMethod=aggregate&startDateTime=2020-06-17T00%3A00%3A00&endDateTime=2020-06-22T00%3A00%3A00&maxStations=-1&maxDistance=-1&contentType=json&unitGroup=metric&locationMode=array&key=W9LFIRDB34JXS3E2KUHGX3RD9&dataElements=default&locations=Nashik%2C%20India')\n",
    "forecast_wthr_data_all = pd.DataFrame.from_dict(resp.json()['locations'][0]['values'])\n",
    "forecast_wthr_data_all.head()"
   ]
  },
  {
   "cell_type": "code",
   "execution_count": 233,
   "metadata": {},
   "outputs": [
    {
     "data": {
      "text/html": [
       "<div>\n",
       "<style scoped>\n",
       "    .dataframe tbody tr th:only-of-type {\n",
       "        vertical-align: middle;\n",
       "    }\n",
       "\n",
       "    .dataframe tbody tr th {\n",
       "        vertical-align: top;\n",
       "    }\n",
       "\n",
       "    .dataframe thead th {\n",
       "        text-align: right;\n",
       "    }\n",
       "</style>\n",
       "<table border=\"1\" class=\"dataframe\">\n",
       "  <thead>\n",
       "    <tr style=\"text-align: right;\">\n",
       "      <th></th>\n",
       "      <th>temp</th>\n",
       "      <th>maxt</th>\n",
       "      <th>visibility</th>\n",
       "      <th>wspd</th>\n",
       "      <th>heatindex</th>\n",
       "      <th>cloudcover</th>\n",
       "      <th>mint</th>\n",
       "      <th>datetime</th>\n",
       "      <th>precip</th>\n",
       "      <th>weathertype</th>\n",
       "      <th>snowdepth</th>\n",
       "      <th>humidity</th>\n",
       "      <th>wgust</th>\n",
       "      <th>conditions</th>\n",
       "      <th>windchill</th>\n",
       "    </tr>\n",
       "    <tr>\n",
       "      <th>datetimeStr</th>\n",
       "      <th></th>\n",
       "      <th></th>\n",
       "      <th></th>\n",
       "      <th></th>\n",
       "      <th></th>\n",
       "      <th></th>\n",
       "      <th></th>\n",
       "      <th></th>\n",
       "      <th></th>\n",
       "      <th></th>\n",
       "      <th></th>\n",
       "      <th></th>\n",
       "      <th></th>\n",
       "      <th></th>\n",
       "      <th></th>\n",
       "    </tr>\n",
       "  </thead>\n",
       "  <tbody>\n",
       "    <tr>\n",
       "      <th>2020-06-17 00:00:00</th>\n",
       "      <td>NaN</td>\n",
       "      <td>NaN</td>\n",
       "      <td>NaN</td>\n",
       "      <td>NaN</td>\n",
       "      <td>NaN</td>\n",
       "      <td>NaN</td>\n",
       "      <td>NaN</td>\n",
       "      <td>1592352000000</td>\n",
       "      <td>0.0</td>\n",
       "      <td>None</td>\n",
       "      <td>None</td>\n",
       "      <td>NaN</td>\n",
       "      <td>None</td>\n",
       "      <td></td>\n",
       "      <td>None</td>\n",
       "    </tr>\n",
       "    <tr>\n",
       "      <th>2020-06-17 00:15:00</th>\n",
       "      <td>NaN</td>\n",
       "      <td>NaN</td>\n",
       "      <td>NaN</td>\n",
       "      <td>NaN</td>\n",
       "      <td>NaN</td>\n",
       "      <td>NaN</td>\n",
       "      <td>NaN</td>\n",
       "      <td>1592352900000</td>\n",
       "      <td>0.0</td>\n",
       "      <td>None</td>\n",
       "      <td>None</td>\n",
       "      <td>NaN</td>\n",
       "      <td>None</td>\n",
       "      <td></td>\n",
       "      <td>None</td>\n",
       "    </tr>\n",
       "    <tr>\n",
       "      <th>2020-06-17 00:30:00</th>\n",
       "      <td>NaN</td>\n",
       "      <td>NaN</td>\n",
       "      <td>NaN</td>\n",
       "      <td>NaN</td>\n",
       "      <td>NaN</td>\n",
       "      <td>NaN</td>\n",
       "      <td>NaN</td>\n",
       "      <td>1592353800000</td>\n",
       "      <td>0.0</td>\n",
       "      <td>None</td>\n",
       "      <td>None</td>\n",
       "      <td>NaN</td>\n",
       "      <td>None</td>\n",
       "      <td></td>\n",
       "      <td>None</td>\n",
       "    </tr>\n",
       "    <tr>\n",
       "      <th>2020-06-17 00:45:00</th>\n",
       "      <td>NaN</td>\n",
       "      <td>NaN</td>\n",
       "      <td>NaN</td>\n",
       "      <td>NaN</td>\n",
       "      <td>NaN</td>\n",
       "      <td>NaN</td>\n",
       "      <td>NaN</td>\n",
       "      <td>1592354700000</td>\n",
       "      <td>0.0</td>\n",
       "      <td>None</td>\n",
       "      <td>None</td>\n",
       "      <td>NaN</td>\n",
       "      <td>None</td>\n",
       "      <td></td>\n",
       "      <td>None</td>\n",
       "    </tr>\n",
       "    <tr>\n",
       "      <th>2020-06-17 01:00:00</th>\n",
       "      <td>NaN</td>\n",
       "      <td>NaN</td>\n",
       "      <td>NaN</td>\n",
       "      <td>NaN</td>\n",
       "      <td>NaN</td>\n",
       "      <td>NaN</td>\n",
       "      <td>NaN</td>\n",
       "      <td>1592355600000</td>\n",
       "      <td>0.0</td>\n",
       "      <td>None</td>\n",
       "      <td>None</td>\n",
       "      <td>NaN</td>\n",
       "      <td>None</td>\n",
       "      <td></td>\n",
       "      <td>None</td>\n",
       "    </tr>\n",
       "  </tbody>\n",
       "</table>\n",
       "</div>"
      ],
      "text/plain": [
       "                     temp  maxt  visibility  wspd  heatindex  cloudcover  \\\n",
       "datetimeStr                                                                \n",
       "2020-06-17 00:00:00   NaN   NaN         NaN   NaN        NaN         NaN   \n",
       "2020-06-17 00:15:00   NaN   NaN         NaN   NaN        NaN         NaN   \n",
       "2020-06-17 00:30:00   NaN   NaN         NaN   NaN        NaN         NaN   \n",
       "2020-06-17 00:45:00   NaN   NaN         NaN   NaN        NaN         NaN   \n",
       "2020-06-17 01:00:00   NaN   NaN         NaN   NaN        NaN         NaN   \n",
       "\n",
       "                     mint       datetime  precip weathertype snowdepth  \\\n",
       "datetimeStr                                                              \n",
       "2020-06-17 00:00:00   NaN  1592352000000     0.0        None      None   \n",
       "2020-06-17 00:15:00   NaN  1592352900000     0.0        None      None   \n",
       "2020-06-17 00:30:00   NaN  1592353800000     0.0        None      None   \n",
       "2020-06-17 00:45:00   NaN  1592354700000     0.0        None      None   \n",
       "2020-06-17 01:00:00   NaN  1592355600000     0.0        None      None   \n",
       "\n",
       "                     humidity wgust conditions windchill  \n",
       "datetimeStr                                               \n",
       "2020-06-17 00:00:00       NaN  None                 None  \n",
       "2020-06-17 00:15:00       NaN  None                 None  \n",
       "2020-06-17 00:30:00       NaN  None                 None  \n",
       "2020-06-17 00:45:00       NaN  None                 None  \n",
       "2020-06-17 01:00:00       NaN  None                 None  "
      ]
     },
     "execution_count": 233,
     "metadata": {},
     "output_type": "execute_result"
    }
   ],
   "source": [
    "# removing '+05:30' from the string date time column\n",
    "\n",
    "forecast_wthr_data_all.datetimeStr = forecast_wthr_data_all.datetimeStr.map(lambda x: x[:-6])\n",
    "\n",
    "\n",
    "# changing date time column to datetime object, and then setting it as index\n",
    "\n",
    "forecast_wthr_data_all.datetimeStr = pd.to_datetime(forecast_wthr_data_all.datetimeStr, infer_datetime_format=True)\n",
    "forecast_wthr_data_all.set_index('datetimeStr', inplace=True)\n",
    "forecast_wthr_data_all.head()"
   ]
  },
  {
   "cell_type": "code",
   "execution_count": 234,
   "metadata": {},
   "outputs": [
    {
     "data": {
      "text/html": [
       "<div>\n",
       "<style scoped>\n",
       "    .dataframe tbody tr th:only-of-type {\n",
       "        vertical-align: middle;\n",
       "    }\n",
       "\n",
       "    .dataframe tbody tr th {\n",
       "        vertical-align: top;\n",
       "    }\n",
       "\n",
       "    .dataframe thead th {\n",
       "        text-align: right;\n",
       "    }\n",
       "</style>\n",
       "<table border=\"1\" class=\"dataframe\">\n",
       "  <thead>\n",
       "    <tr style=\"text-align: right;\">\n",
       "      <th></th>\n",
       "      <th>temp</th>\n",
       "    </tr>\n",
       "    <tr>\n",
       "      <th>datetimeStr</th>\n",
       "      <th></th>\n",
       "    </tr>\n",
       "  </thead>\n",
       "  <tbody>\n",
       "    <tr>\n",
       "      <th>2020-06-17 00:00:00</th>\n",
       "      <td>NaN</td>\n",
       "    </tr>\n",
       "    <tr>\n",
       "      <th>2020-06-17 00:15:00</th>\n",
       "      <td>NaN</td>\n",
       "    </tr>\n",
       "    <tr>\n",
       "      <th>2020-06-17 00:30:00</th>\n",
       "      <td>NaN</td>\n",
       "    </tr>\n",
       "    <tr>\n",
       "      <th>2020-06-17 00:45:00</th>\n",
       "      <td>NaN</td>\n",
       "    </tr>\n",
       "    <tr>\n",
       "      <th>2020-06-17 01:00:00</th>\n",
       "      <td>NaN</td>\n",
       "    </tr>\n",
       "  </tbody>\n",
       "</table>\n",
       "</div>"
      ],
      "text/plain": [
       "                     temp\n",
       "datetimeStr              \n",
       "2020-06-17 00:00:00   NaN\n",
       "2020-06-17 00:15:00   NaN\n",
       "2020-06-17 00:30:00   NaN\n",
       "2020-06-17 00:45:00   NaN\n",
       "2020-06-17 01:00:00   NaN"
      ]
     },
     "execution_count": 234,
     "metadata": {},
     "output_type": "execute_result"
    }
   ],
   "source": [
    "# Isolate temperature data\n",
    "\n",
    "forecast_wthr_temp = forecast_wthr_data_all[['temp']]\n",
    "forecast_wthr_temp.head()"
   ]
  },
  {
   "cell_type": "code",
   "execution_count": 235,
   "metadata": {},
   "outputs": [
    {
     "data": {
      "text/plain": [
       "temp    229\n",
       "dtype: int64"
      ]
     },
     "execution_count": 235,
     "metadata": {},
     "output_type": "execute_result"
    }
   ],
   "source": [
    "# checking for amount of nans\n",
    "\n",
    "forecast_wthr_temp.isna().sum()"
   ]
  },
  {
   "cell_type": "code",
   "execution_count": 236,
   "metadata": {},
   "outputs": [
    {
     "name": "stderr",
     "output_type": "stream",
     "text": [
      "<ipython-input-236-8f891af3e272>:3: SettingWithCopyWarning: \n",
      "A value is trying to be set on a copy of a slice from a DataFrame\n",
      "\n",
      "See the caveats in the documentation: https://pandas.pydata.org/pandas-docs/stable/user_guide/indexing.html#returning-a-view-versus-a-copy\n",
      "  forecast_wthr_temp.interpolate(inplace=True)\n"
     ]
    },
    {
     "data": {
      "text/html": [
       "<div>\n",
       "<style scoped>\n",
       "    .dataframe tbody tr th:only-of-type {\n",
       "        vertical-align: middle;\n",
       "    }\n",
       "\n",
       "    .dataframe tbody tr th {\n",
       "        vertical-align: top;\n",
       "    }\n",
       "\n",
       "    .dataframe thead th {\n",
       "        text-align: right;\n",
       "    }\n",
       "</style>\n",
       "<table border=\"1\" class=\"dataframe\">\n",
       "  <thead>\n",
       "    <tr style=\"text-align: right;\">\n",
       "      <th></th>\n",
       "      <th>temp</th>\n",
       "    </tr>\n",
       "    <tr>\n",
       "      <th>datetimeStr</th>\n",
       "      <th></th>\n",
       "    </tr>\n",
       "  </thead>\n",
       "  <tbody>\n",
       "    <tr>\n",
       "      <th>2020-06-17 00:00:00</th>\n",
       "      <td>NaN</td>\n",
       "    </tr>\n",
       "    <tr>\n",
       "      <th>2020-06-17 00:15:00</th>\n",
       "      <td>NaN</td>\n",
       "    </tr>\n",
       "    <tr>\n",
       "      <th>2020-06-17 00:30:00</th>\n",
       "      <td>NaN</td>\n",
       "    </tr>\n",
       "    <tr>\n",
       "      <th>2020-06-17 00:45:00</th>\n",
       "      <td>NaN</td>\n",
       "    </tr>\n",
       "    <tr>\n",
       "      <th>2020-06-17 01:00:00</th>\n",
       "      <td>NaN</td>\n",
       "    </tr>\n",
       "    <tr>\n",
       "      <th>...</th>\n",
       "      <td>...</td>\n",
       "    </tr>\n",
       "    <tr>\n",
       "      <th>2020-06-21 22:15:00</th>\n",
       "      <td>23.1</td>\n",
       "    </tr>\n",
       "    <tr>\n",
       "      <th>2020-06-21 22:30:00</th>\n",
       "      <td>23.1</td>\n",
       "    </tr>\n",
       "    <tr>\n",
       "      <th>2020-06-21 22:45:00</th>\n",
       "      <td>23.1</td>\n",
       "    </tr>\n",
       "    <tr>\n",
       "      <th>2020-06-21 23:00:00</th>\n",
       "      <td>23.1</td>\n",
       "    </tr>\n",
       "    <tr>\n",
       "      <th>2020-06-21 23:15:00</th>\n",
       "      <td>24.2</td>\n",
       "    </tr>\n",
       "  </tbody>\n",
       "</table>\n",
       "<p>478 rows × 1 columns</p>\n",
       "</div>"
      ],
      "text/plain": [
       "                     temp\n",
       "datetimeStr              \n",
       "2020-06-17 00:00:00   NaN\n",
       "2020-06-17 00:15:00   NaN\n",
       "2020-06-17 00:30:00   NaN\n",
       "2020-06-17 00:45:00   NaN\n",
       "2020-06-17 01:00:00   NaN\n",
       "...                   ...\n",
       "2020-06-21 22:15:00  23.1\n",
       "2020-06-21 22:30:00  23.1\n",
       "2020-06-21 22:45:00  23.1\n",
       "2020-06-21 23:00:00  23.1\n",
       "2020-06-21 23:15:00  24.2\n",
       "\n",
       "[478 rows x 1 columns]"
      ]
     },
     "execution_count": 236,
     "metadata": {},
     "output_type": "execute_result"
    }
   ],
   "source": [
    "# interpolate\n",
    "\n",
    "forecast_wthr_temp.interpolate(inplace=True)\n",
    "forecast_wthr_temp"
   ]
  },
  {
   "cell_type": "code",
   "execution_count": 237,
   "metadata": {},
   "outputs": [
    {
     "data": {
      "text/html": [
       "<div>\n",
       "<style scoped>\n",
       "    .dataframe tbody tr th:only-of-type {\n",
       "        vertical-align: middle;\n",
       "    }\n",
       "\n",
       "    .dataframe tbody tr th {\n",
       "        vertical-align: top;\n",
       "    }\n",
       "\n",
       "    .dataframe thead th {\n",
       "        text-align: right;\n",
       "    }\n",
       "</style>\n",
       "<table border=\"1\" class=\"dataframe\">\n",
       "  <thead>\n",
       "    <tr style=\"text-align: right;\">\n",
       "      <th></th>\n",
       "      <th>temp</th>\n",
       "    </tr>\n",
       "    <tr>\n",
       "      <th>datetimeStr</th>\n",
       "      <th></th>\n",
       "    </tr>\n",
       "  </thead>\n",
       "  <tbody>\n",
       "    <tr>\n",
       "      <th>2020-06-18 00:00:00</th>\n",
       "      <td>24.609091</td>\n",
       "    </tr>\n",
       "    <tr>\n",
       "      <th>2020-06-18 00:15:00</th>\n",
       "      <td>24.563636</td>\n",
       "    </tr>\n",
       "    <tr>\n",
       "      <th>2020-06-18 00:30:00</th>\n",
       "      <td>24.518182</td>\n",
       "    </tr>\n",
       "    <tr>\n",
       "      <th>2020-06-18 00:45:00</th>\n",
       "      <td>24.472727</td>\n",
       "    </tr>\n",
       "    <tr>\n",
       "      <th>2020-06-18 01:00:00</th>\n",
       "      <td>24.427273</td>\n",
       "    </tr>\n",
       "    <tr>\n",
       "      <th>...</th>\n",
       "      <td>...</td>\n",
       "    </tr>\n",
       "    <tr>\n",
       "      <th>2020-06-19 23:00:00</th>\n",
       "      <td>25.645455</td>\n",
       "    </tr>\n",
       "    <tr>\n",
       "      <th>2020-06-19 23:15:00</th>\n",
       "      <td>25.600000</td>\n",
       "    </tr>\n",
       "    <tr>\n",
       "      <th>2020-06-19 23:30:00</th>\n",
       "      <td>25.600000</td>\n",
       "    </tr>\n",
       "    <tr>\n",
       "      <th>2020-06-19 23:45:00</th>\n",
       "      <td>25.554545</td>\n",
       "    </tr>\n",
       "    <tr>\n",
       "      <th>2020-06-20 00:00:00</th>\n",
       "      <td>25.509091</td>\n",
       "    </tr>\n",
       "  </tbody>\n",
       "</table>\n",
       "<p>193 rows × 1 columns</p>\n",
       "</div>"
      ],
      "text/plain": [
       "                          temp\n",
       "datetimeStr                   \n",
       "2020-06-18 00:00:00  24.609091\n",
       "2020-06-18 00:15:00  24.563636\n",
       "2020-06-18 00:30:00  24.518182\n",
       "2020-06-18 00:45:00  24.472727\n",
       "2020-06-18 01:00:00  24.427273\n",
       "...                        ...\n",
       "2020-06-19 23:00:00  25.645455\n",
       "2020-06-19 23:15:00  25.600000\n",
       "2020-06-19 23:30:00  25.600000\n",
       "2020-06-19 23:45:00  25.554545\n",
       "2020-06-20 00:00:00  25.509091\n",
       "\n",
       "[193 rows x 1 columns]"
      ]
     },
     "execution_count": 237,
     "metadata": {},
     "output_type": "execute_result"
    }
   ],
   "source": [
    "# Isolate historical temp data for forecasting period (6/18 and 6/19)\n",
    "\n",
    "forecast_wthr_temp = forecast_wthr_temp[(forecast_wthr_temp.index >= '2020-06-18 00:00:00') & (forecast_wthr_temp.index <= '2020-06-20 00:00:00')]\n",
    "forecast_wthr_temp"
   ]
  },
  {
   "cell_type": "markdown",
   "metadata": {},
   "source": [
    "#### **FORECASTING**"
   ]
  },
  {
   "cell_type": "markdown",
   "metadata": {},
   "source": [
    "Fit the model to the entire train/test data:"
   ]
  },
  {
   "cell_type": "code",
   "execution_count": 239,
   "metadata": {},
   "outputs": [
    {
     "name": "stderr",
     "output_type": "stream",
     "text": [
      "/Users/oz/opt/anaconda3/lib/python3.8/site-packages/statsmodels/tsa/base/tsa_model.py:159: ValueWarning: No frequency information was provided, so inferred frequency 15T will be used.\n",
      "  warnings.warn('No frequency information was'\n",
      "/Users/oz/opt/anaconda3/lib/python3.8/site-packages/statsmodels/tsa/statespace/sarimax.py:1006: UserWarning: Non-invertible starting seasonal moving average Using zeros as starting parameters.\n",
      "  warn('Non-invertible starting seasonal moving average'\n"
     ]
    }
   ],
   "source": [
    "sarimax_f_model = SARIMAX(endog=pred_final.DAILY_YIELD,\n",
    "                          exog=pred_final.AMBIENT_TEMPERATURE,\n",
    "                          order=(p,d,q),\n",
    "                          seasonal_order=(P,D,Q,s),\n",
    "                          freq='15T').fit()"
   ]
  },
  {
   "cell_type": "markdown",
   "metadata": {},
   "source": [
    "Get Forecast- 2 days ahead"
   ]
  },
  {
   "cell_type": "code",
   "execution_count": 241,
   "metadata": {},
   "outputs": [
    {
     "data": {
      "text/html": [
       "<div>\n",
       "<style scoped>\n",
       "    .dataframe tbody tr th:only-of-type {\n",
       "        vertical-align: middle;\n",
       "    }\n",
       "\n",
       "    .dataframe tbody tr th {\n",
       "        vertical-align: top;\n",
       "    }\n",
       "\n",
       "    .dataframe thead th {\n",
       "        text-align: right;\n",
       "    }\n",
       "</style>\n",
       "<table border=\"1\" class=\"dataframe\">\n",
       "  <thead>\n",
       "    <tr style=\"text-align: right;\">\n",
       "      <th>DAILY_YIELD</th>\n",
       "      <th>mean</th>\n",
       "      <th>mean_se</th>\n",
       "      <th>mean_ci_lower</th>\n",
       "      <th>mean_ci_upper</th>\n",
       "    </tr>\n",
       "  </thead>\n",
       "  <tbody>\n",
       "    <tr>\n",
       "      <th>2020-06-18 00:00:00</th>\n",
       "      <td>2900.877472</td>\n",
       "      <td>1513.535719</td>\n",
       "      <td>-65.598027</td>\n",
       "      <td>5867.352970</td>\n",
       "    </tr>\n",
       "    <tr>\n",
       "      <th>2020-06-18 00:15:00</th>\n",
       "      <td>-4115.861118</td>\n",
       "      <td>2203.376783</td>\n",
       "      <td>-8434.400257</td>\n",
       "      <td>202.678020</td>\n",
       "    </tr>\n",
       "    <tr>\n",
       "      <th>2020-06-18 00:30:00</th>\n",
       "      <td>-4108.961410</td>\n",
       "      <td>2726.769316</td>\n",
       "      <td>-9453.331064</td>\n",
       "      <td>1235.408244</td>\n",
       "    </tr>\n",
       "    <tr>\n",
       "      <th>2020-06-18 00:45:00</th>\n",
       "      <td>-4117.784166</td>\n",
       "      <td>3164.904513</td>\n",
       "      <td>-10320.883025</td>\n",
       "      <td>2085.314694</td>\n",
       "    </tr>\n",
       "    <tr>\n",
       "      <th>2020-06-18 01:00:00</th>\n",
       "      <td>-4138.134078</td>\n",
       "      <td>3549.369693</td>\n",
       "      <td>-11094.770844</td>\n",
       "      <td>2818.502689</td>\n",
       "    </tr>\n",
       "    <tr>\n",
       "      <th>...</th>\n",
       "      <td>...</td>\n",
       "      <td>...</td>\n",
       "      <td>...</td>\n",
       "      <td>...</td>\n",
       "    </tr>\n",
       "    <tr>\n",
       "      <th>2020-06-19 23:00:00</th>\n",
       "      <td>124902.771096</td>\n",
       "      <td>32275.700700</td>\n",
       "      <td>61643.560149</td>\n",
       "      <td>188161.982043</td>\n",
       "    </tr>\n",
       "    <tr>\n",
       "      <th>2020-06-19 23:15:00</th>\n",
       "      <td>124957.950535</td>\n",
       "      <td>32407.805039</td>\n",
       "      <td>61439.819841</td>\n",
       "      <td>188476.081230</td>\n",
       "    </tr>\n",
       "    <tr>\n",
       "      <th>2020-06-19 23:30:00</th>\n",
       "      <td>124991.943048</td>\n",
       "      <td>32539.373050</td>\n",
       "      <td>61215.943790</td>\n",
       "      <td>188767.942305</td>\n",
       "    </tr>\n",
       "    <tr>\n",
       "      <th>2020-06-19 23:45:00</th>\n",
       "      <td>122929.699314</td>\n",
       "      <td>32670.410892</td>\n",
       "      <td>58896.870606</td>\n",
       "      <td>186962.528021</td>\n",
       "    </tr>\n",
       "    <tr>\n",
       "      <th>2020-06-20 00:00:00</th>\n",
       "      <td>-5376.503635</td>\n",
       "      <td>32926.083679</td>\n",
       "      <td>-69910.441798</td>\n",
       "      <td>59157.434529</td>\n",
       "    </tr>\n",
       "  </tbody>\n",
       "</table>\n",
       "<p>193 rows × 4 columns</p>\n",
       "</div>"
      ],
      "text/plain": [
       "DAILY_YIELD                   mean       mean_se  mean_ci_lower  mean_ci_upper\n",
       "2020-06-18 00:00:00    2900.877472   1513.535719     -65.598027    5867.352970\n",
       "2020-06-18 00:15:00   -4115.861118   2203.376783   -8434.400257     202.678020\n",
       "2020-06-18 00:30:00   -4108.961410   2726.769316   -9453.331064    1235.408244\n",
       "2020-06-18 00:45:00   -4117.784166   3164.904513  -10320.883025    2085.314694\n",
       "2020-06-18 01:00:00   -4138.134078   3549.369693  -11094.770844    2818.502689\n",
       "...                            ...           ...            ...            ...\n",
       "2020-06-19 23:00:00  124902.771096  32275.700700   61643.560149  188161.982043\n",
       "2020-06-19 23:15:00  124957.950535  32407.805039   61439.819841  188476.081230\n",
       "2020-06-19 23:30:00  124991.943048  32539.373050   61215.943790  188767.942305\n",
       "2020-06-19 23:45:00  122929.699314  32670.410892   58896.870606  186962.528021\n",
       "2020-06-20 00:00:00   -5376.503635  32926.083679  -69910.441798   59157.434529\n",
       "\n",
       "[193 rows x 4 columns]"
      ]
     },
     "execution_count": 241,
     "metadata": {},
     "output_type": "execute_result"
    }
   ],
   "source": [
    "sarimax_forecast = sarimax_f_model.get_forecast(steps=193, exog=forecast_wthr_temp).summary_frame()\n",
    "sarimax_forecast"
   ]
  },
  {
   "cell_type": "code",
   "execution_count": 247,
   "metadata": {},
   "outputs": [
    {
     "data": {
      "text/html": [
       "<div>\n",
       "<style scoped>\n",
       "    .dataframe tbody tr th:only-of-type {\n",
       "        vertical-align: middle;\n",
       "    }\n",
       "\n",
       "    .dataframe tbody tr th {\n",
       "        vertical-align: top;\n",
       "    }\n",
       "\n",
       "    .dataframe thead th {\n",
       "        text-align: right;\n",
       "    }\n",
       "</style>\n",
       "<table border=\"1\" class=\"dataframe\">\n",
       "  <thead>\n",
       "    <tr style=\"text-align: right;\">\n",
       "      <th>DAILY_YIELD</th>\n",
       "      <th>mean</th>\n",
       "      <th>mean_se</th>\n",
       "      <th>mean_ci_lower</th>\n",
       "      <th>mean_ci_upper</th>\n",
       "    </tr>\n",
       "  </thead>\n",
       "  <tbody>\n",
       "    <tr>\n",
       "      <th>2020-06-18 00:00:00</th>\n",
       "      <td>2900.877472</td>\n",
       "      <td>1513.535719</td>\n",
       "      <td>0.000000</td>\n",
       "      <td>5867.352970</td>\n",
       "    </tr>\n",
       "    <tr>\n",
       "      <th>2020-06-18 00:15:00</th>\n",
       "      <td>0.000000</td>\n",
       "      <td>2203.376783</td>\n",
       "      <td>0.000000</td>\n",
       "      <td>202.678020</td>\n",
       "    </tr>\n",
       "    <tr>\n",
       "      <th>2020-06-18 00:30:00</th>\n",
       "      <td>0.000000</td>\n",
       "      <td>2726.769316</td>\n",
       "      <td>0.000000</td>\n",
       "      <td>1235.408244</td>\n",
       "    </tr>\n",
       "    <tr>\n",
       "      <th>2020-06-18 00:45:00</th>\n",
       "      <td>0.000000</td>\n",
       "      <td>3164.904513</td>\n",
       "      <td>0.000000</td>\n",
       "      <td>2085.314694</td>\n",
       "    </tr>\n",
       "    <tr>\n",
       "      <th>2020-06-18 01:00:00</th>\n",
       "      <td>0.000000</td>\n",
       "      <td>3549.369693</td>\n",
       "      <td>0.000000</td>\n",
       "      <td>2818.502689</td>\n",
       "    </tr>\n",
       "    <tr>\n",
       "      <th>...</th>\n",
       "      <td>...</td>\n",
       "      <td>...</td>\n",
       "      <td>...</td>\n",
       "      <td>...</td>\n",
       "    </tr>\n",
       "    <tr>\n",
       "      <th>2020-06-19 23:00:00</th>\n",
       "      <td>124902.771096</td>\n",
       "      <td>32275.700700</td>\n",
       "      <td>61643.560149</td>\n",
       "      <td>188161.982043</td>\n",
       "    </tr>\n",
       "    <tr>\n",
       "      <th>2020-06-19 23:15:00</th>\n",
       "      <td>124957.950535</td>\n",
       "      <td>32407.805039</td>\n",
       "      <td>61439.819841</td>\n",
       "      <td>188476.081230</td>\n",
       "    </tr>\n",
       "    <tr>\n",
       "      <th>2020-06-19 23:30:00</th>\n",
       "      <td>124991.943048</td>\n",
       "      <td>32539.373050</td>\n",
       "      <td>61215.943790</td>\n",
       "      <td>188767.942305</td>\n",
       "    </tr>\n",
       "    <tr>\n",
       "      <th>2020-06-19 23:45:00</th>\n",
       "      <td>122929.699314</td>\n",
       "      <td>32670.410892</td>\n",
       "      <td>58896.870606</td>\n",
       "      <td>186962.528021</td>\n",
       "    </tr>\n",
       "    <tr>\n",
       "      <th>2020-06-20 00:00:00</th>\n",
       "      <td>0.000000</td>\n",
       "      <td>32926.083679</td>\n",
       "      <td>0.000000</td>\n",
       "      <td>59157.434529</td>\n",
       "    </tr>\n",
       "  </tbody>\n",
       "</table>\n",
       "<p>193 rows × 4 columns</p>\n",
       "</div>"
      ],
      "text/plain": [
       "DAILY_YIELD                   mean       mean_se  mean_ci_lower  mean_ci_upper\n",
       "2020-06-18 00:00:00    2900.877472   1513.535719       0.000000    5867.352970\n",
       "2020-06-18 00:15:00       0.000000   2203.376783       0.000000     202.678020\n",
       "2020-06-18 00:30:00       0.000000   2726.769316       0.000000    1235.408244\n",
       "2020-06-18 00:45:00       0.000000   3164.904513       0.000000    2085.314694\n",
       "2020-06-18 01:00:00       0.000000   3549.369693       0.000000    2818.502689\n",
       "...                            ...           ...            ...            ...\n",
       "2020-06-19 23:00:00  124902.771096  32275.700700   61643.560149  188161.982043\n",
       "2020-06-19 23:15:00  124957.950535  32407.805039   61439.819841  188476.081230\n",
       "2020-06-19 23:30:00  124991.943048  32539.373050   61215.943790  188767.942305\n",
       "2020-06-19 23:45:00  122929.699314  32670.410892   58896.870606  186962.528021\n",
       "2020-06-20 00:00:00       0.000000  32926.083679       0.000000   59157.434529\n",
       "\n",
       "[193 rows x 4 columns]"
      ]
     },
     "execution_count": 247,
     "metadata": {},
     "output_type": "execute_result"
    }
   ],
   "source": [
    "# zero out negative predictions\n",
    "\n",
    "sarimax_forecast[sarimax_forecast < 0] = 0\n",
    "sarimax_forecast"
   ]
  },
  {
   "cell_type": "markdown",
   "metadata": {},
   "source": [
    "Plotting"
   ]
  },
  {
   "cell_type": "code",
   "execution_count": 248,
   "metadata": {},
   "outputs": [
    {
     "data": {
      "image/png": "[encoded data removed]",
      "text/plain": [
       "<Figure size 1296x432 with 1 Axes>"
      ]
     },
     "metadata": {},
     "output_type": "display_data"
    }
   ],
   "source": [
    "fig, ax = plt.subplots(figsize=(18,6))\n",
    "ax.plot(pred_final.DAILY_YIELD, label='Original Daily Yld')\n",
    "ax.plot(sarimax_forecast['mean'], label='18th & 19th June Forecast')\n",
    "ax.fill_between(sarimax_forecast.index, \n",
    "                sarimax_forecast.mean_ci_lower, sarimax_forecast.mean_ci_upper, alpha=0.1)\n",
    "\n",
    "ax.legend(loc='upper left')\n",
    "ax.set_title('SARIMAX Forecast \\n 18th & 19th June', size=19)\n",
    "ax.set_ylabel('Daily Yld (kW)', size=14)\n",
    "ax.set_xlabel('Dates', size=14);"
   ]
  },
  {
   "cell_type": "code",
   "execution_count": 249,
   "metadata": {},
   "outputs": [
    {
     "name": "stdout",
     "output_type": "stream",
     "text": [
      "18th Jun Forecasted Output:  128946.0 kW\n",
      "19th Jun Forecasted Output:  125548.0 kW\n"
     ]
    }
   ],
   "source": [
    "print('18th Jun Forecasted Output: ', \n",
    "     round(sarimax_forecast[sarimax_forecast.index.day == 18]['mean'].max(), 0),\n",
    "     'kW')\n",
    "\n",
    "print('19th Jun Forecasted Output: ', \n",
    "     round(sarimax_forecast[sarimax_forecast.index.day == 19]['mean'].max(), 0),\n",
    "     'kW')"
   ]
  },
  {
   "cell_type": "code",
   "execution_count": null,
   "metadata": {},
   "outputs": [],
   "source": []
  }
 ],
 "metadata": {
  "kernelspec": {
   "display_name": "Python 3",
   "language": "python",
   "name": "python3"
  },
  "language_info": {
   "codemirror_mode": {
    "name": "ipython",
    "version": 3
   },
   "file_extension": ".py",
   "mimetype": "text/x-python",
   "name": "python",
   "nbconvert_exporter": "python",
   "pygments_lexer": "ipython3",
   "version": "3.8.3"
  }
 },
 "nbformat": 4,
 "nbformat_minor": 4
}
